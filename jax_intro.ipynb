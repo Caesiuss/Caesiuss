{
  "cells": [
    {
      "cell_type": "markdown",
      "id": "18e24c04",
      "metadata": {
        "id": "18e24c04"
      },
      "source": [
        "# An Introduction to JAX"
      ]
    },
    {
      "cell_type": "markdown",
      "id": "8775d121",
      "metadata": {
        "id": "8775d121"
      },
      "source": [
        "# GPU\n",
        "\n",
        "This lecture was built using a machine with JAX installed and access to a GPU.\n",
        "\n",
        "To run this lecture on [Google Colab](https://colab.research.google.com/), click on the “play” icon top right, select Colab, and set the runtime environment to include a GPU.\n",
        "\n",
        "To run this lecture on your own machine, you need to install [Google JAX](https://github.com/google/jax).\n",
        "\n",
        "This lecture provides a short introduction to [Google JAX](https://github.com/google/jax).\n",
        "\n",
        "Let’s see if we have an active GPU:"
      ]
    },
    {
      "cell_type": "code",
      "execution_count": 1,
      "id": "027744a9",
      "metadata": {
        "hide-output": false,
        "colab": {
          "base_uri": "https://localhost:8080/"
        },
        "id": "027744a9",
        "outputId": "644ab7e5-af6c-4bb3-ca08-699c6a177dee"
      },
      "outputs": [
        {
          "output_type": "stream",
          "name": "stdout",
          "text": [
            "Wed Feb 26 08:55:08 2025       \n",
            "+-----------------------------------------------------------------------------------------+\n",
            "| NVIDIA-SMI 550.54.15              Driver Version: 550.54.15      CUDA Version: 12.4     |\n",
            "|-----------------------------------------+------------------------+----------------------+\n",
            "| GPU  Name                 Persistence-M | Bus-Id          Disp.A | Volatile Uncorr. ECC |\n",
            "| Fan  Temp   Perf          Pwr:Usage/Cap |           Memory-Usage | GPU-Util  Compute M. |\n",
            "|                                         |                        |               MIG M. |\n",
            "|=========================================+========================+======================|\n",
            "|   0  Tesla T4                       Off |   00000000:00:04.0 Off |                    0 |\n",
            "| N/A   49C    P8             10W /   70W |       0MiB /  15360MiB |      0%      Default |\n",
            "|                                         |                        |                  N/A |\n",
            "+-----------------------------------------+------------------------+----------------------+\n",
            "                                                                                         \n",
            "+-----------------------------------------------------------------------------------------+\n",
            "| Processes:                                                                              |\n",
            "|  GPU   GI   CI        PID   Type   Process name                              GPU Memory |\n",
            "|        ID   ID                                                               Usage      |\n",
            "|=========================================================================================|\n",
            "|  No running processes found                                                             |\n",
            "+-----------------------------------------------------------------------------------------+\n"
          ]
        }
      ],
      "source": [
        "!nvidia-smi"
      ]
    },
    {
      "cell_type": "markdown",
      "id": "001b2b63",
      "metadata": {
        "id": "001b2b63"
      },
      "source": [
        "## JAX as a NumPy Replacement\n",
        "\n",
        "One way to use JAX is as a plug-in NumPy replacement. Let’s look at the\n",
        "similarities and differences."
      ]
    },
    {
      "cell_type": "markdown",
      "id": "87ecb5bf",
      "metadata": {
        "id": "87ecb5bf"
      },
      "source": [
        "### Similarities\n",
        "\n",
        "The following import is standard, replacing `import numpy as np`:"
      ]
    },
    {
      "cell_type": "code",
      "execution_count": 2,
      "id": "577bacfc",
      "metadata": {
        "hide-output": false,
        "id": "577bacfc"
      },
      "outputs": [],
      "source": [
        "import jax\n",
        "import jax.numpy as jnp"
      ]
    },
    {
      "cell_type": "markdown",
      "id": "190a1444",
      "metadata": {
        "id": "190a1444"
      },
      "source": [
        "Now we can use `jnp` in place of `np` for the usual array operations:"
      ]
    },
    {
      "cell_type": "code",
      "execution_count": 3,
      "id": "721bfbca",
      "metadata": {
        "hide-output": false,
        "id": "721bfbca"
      },
      "outputs": [],
      "source": [
        "a = jnp.asarray((1.0, 3.2, -1.5))"
      ]
    },
    {
      "cell_type": "code",
      "execution_count": 4,
      "id": "3f56cd9d",
      "metadata": {
        "hide-output": false,
        "colab": {
          "base_uri": "https://localhost:8080/"
        },
        "id": "3f56cd9d",
        "outputId": "0058683a-fe0d-4659-b290-29e9d663f030"
      },
      "outputs": [
        {
          "output_type": "stream",
          "name": "stdout",
          "text": [
            "[ 1.   3.2 -1.5]\n"
          ]
        }
      ],
      "source": [
        "print(a)"
      ]
    },
    {
      "cell_type": "code",
      "execution_count": 5,
      "id": "c74ce72a",
      "metadata": {
        "hide-output": false,
        "colab": {
          "base_uri": "https://localhost:8080/"
        },
        "id": "c74ce72a",
        "outputId": "54f083f1-ba52-47a2-9870-fed66112d0fb"
      },
      "outputs": [
        {
          "output_type": "stream",
          "name": "stdout",
          "text": [
            "2.6999998\n"
          ]
        }
      ],
      "source": [
        "print(jnp.sum(a))"
      ]
    },
    {
      "cell_type": "code",
      "execution_count": 6,
      "id": "212843a6",
      "metadata": {
        "hide-output": false,
        "colab": {
          "base_uri": "https://localhost:8080/"
        },
        "id": "212843a6",
        "outputId": "05d697d9-d667-422b-c6bc-4305e8a8e11b"
      },
      "outputs": [
        {
          "output_type": "stream",
          "name": "stdout",
          "text": [
            "0.9\n"
          ]
        }
      ],
      "source": [
        "print(jnp.mean(a))"
      ]
    },
    {
      "cell_type": "code",
      "execution_count": 7,
      "id": "bf84021c",
      "metadata": {
        "hide-output": false,
        "colab": {
          "base_uri": "https://localhost:8080/"
        },
        "id": "bf84021c",
        "outputId": "ea43790b-e1f7-448d-962a-a2c77f85b9e6"
      },
      "outputs": [
        {
          "output_type": "stream",
          "name": "stdout",
          "text": [
            "13.490001\n"
          ]
        }
      ],
      "source": [
        "print(jnp.dot(a, a))\n",
        "# calculate Dot Product 1*1+ 3.2*3.2 + 1.5*1.5"
      ]
    },
    {
      "cell_type": "markdown",
      "id": "e9d5670d",
      "metadata": {
        "id": "e9d5670d"
      },
      "source": [
        "However, the array object `a` is not a NumPy array:"
      ]
    },
    {
      "cell_type": "code",
      "execution_count": null,
      "id": "762035df",
      "metadata": {
        "hide-output": false,
        "id": "762035df"
      },
      "outputs": [],
      "source": [
        "a"
      ]
    },
    {
      "cell_type": "code",
      "execution_count": 8,
      "id": "f44a06f9",
      "metadata": {
        "hide-output": false,
        "colab": {
          "base_uri": "https://localhost:8080/"
        },
        "id": "f44a06f9",
        "outputId": "8aea344c-c4b2-495b-ef13-1f9aaf48a242"
      },
      "outputs": [
        {
          "output_type": "execute_result",
          "data": {
            "text/plain": [
              "jaxlib.xla_extension.ArrayImpl"
            ]
          },
          "metadata": {},
          "execution_count": 8
        }
      ],
      "source": [
        "type(a)"
      ]
    },
    {
      "cell_type": "markdown",
      "id": "4568b443",
      "metadata": {
        "id": "4568b443"
      },
      "source": [
        "Even scalar-valued maps on arrays return JAX arrays."
      ]
    },
    {
      "cell_type": "code",
      "execution_count": 9,
      "id": "8675608b",
      "metadata": {
        "hide-output": false,
        "colab": {
          "base_uri": "https://localhost:8080/"
        },
        "id": "8675608b",
        "outputId": "b452c091-f07b-441c-dfd0-7ebc14f859da"
      },
      "outputs": [
        {
          "output_type": "execute_result",
          "data": {
            "text/plain": [
              "Array(2.6999998, dtype=float32)"
            ]
          },
          "metadata": {},
          "execution_count": 9
        }
      ],
      "source": [
        "jnp.sum(a)"
      ]
    },
    {
      "cell_type": "markdown",
      "id": "95ab294d",
      "metadata": {
        "id": "95ab294d"
      },
      "source": [
        "JAX arrays are also called “device arrays,” where term “device” refers to a\n",
        "hardware accelerator (GPU or TPU).\n",
        "\n",
        "(In the terminology of GPUs, the “host” is the machine that launches GPU operations, while the “device” is the GPU itself.)\n",
        "\n",
        "Operations on higher dimensional arrays are also similar to NumPy:"
      ]
    },
    {
      "cell_type": "code",
      "execution_count": 10,
      "id": "000b7f88",
      "metadata": {
        "hide-output": false,
        "colab": {
          "base_uri": "https://localhost:8080/"
        },
        "id": "000b7f88",
        "outputId": "ff91013f-47a8-40f7-88f5-81c4e6637162"
      },
      "outputs": [
        {
          "output_type": "execute_result",
          "data": {
            "text/plain": [
              "Array([[1., 1.],\n",
              "       [1., 1.]], dtype=float32)"
            ]
          },
          "metadata": {},
          "execution_count": 10
        }
      ],
      "source": [
        "A = jnp.ones((2, 2))\n",
        "# ones 是一个创建数组的函数，它会生成一个所有元素都为 1 的数组。生成了2*2的1\n",
        "B = jnp.identity(2)\n",
        "# 这个就是1，0；0，1，1的对角矩阵\n",
        "A @ B"
      ]
    },
    {
      "cell_type": "code",
      "execution_count": 11,
      "id": "d3c7d637",
      "metadata": {
        "hide-output": false,
        "id": "d3c7d637"
      },
      "outputs": [],
      "source": [
        "from jax.numpy import linalg"
      ]
    },
    {
      "cell_type": "code",
      "execution_count": 12,
      "id": "dfa411f0",
      "metadata": {
        "hide-output": false,
        "colab": {
          "base_uri": "https://localhost:8080/"
        },
        "id": "dfa411f0",
        "outputId": "76456063-9804-4076-e06c-7a3ce9887a17"
      },
      "outputs": [
        {
          "output_type": "execute_result",
          "data": {
            "text/plain": [
              "Array([[1., 0.],\n",
              "       [0., 1.]], dtype=float32)"
            ]
          },
          "metadata": {},
          "execution_count": 12
        }
      ],
      "source": [
        "linalg.inv(B)   # Inverse of identity is identity"
      ]
    },
    {
      "cell_type": "code",
      "execution_count": 13,
      "id": "989394f1",
      "metadata": {
        "hide-output": false,
        "colab": {
          "base_uri": "https://localhost:8080/"
        },
        "id": "989394f1",
        "outputId": "c3487f7b-014c-4e92-b740-7ad4610c013e"
      },
      "outputs": [
        {
          "output_type": "execute_result",
          "data": {
            "text/plain": [
              "EighResult(eigenvalues=Array([0.99999994, 0.99999994], dtype=float32), eigenvectors=Array([[1., 0.],\n",
              "       [0., 1.]], dtype=float32))"
            ]
          },
          "metadata": {},
          "execution_count": 13
        }
      ],
      "source": [
        "linalg.eigh(B)  # Computes eigenvalues and eigenvectors"
      ]
    },
    {
      "cell_type": "markdown",
      "id": "a9c9577d",
      "metadata": {
        "id": "a9c9577d"
      },
      "source": [
        "### Differences\n",
        "\n",
        "One difference between NumPy and JAX is that JAX currently uses 32 bit floats by default.\n",
        "\n",
        "This is standard for GPU computing and can lead to significant speed gains with small loss of precision.\n",
        "\n",
        "However, for some calculations precision matters.  In these cases 64 bit floats can be enforced via the command"
      ]
    },
    {
      "cell_type": "code",
      "execution_count": 14,
      "id": "2ccaf3dc",
      "metadata": {
        "hide-output": false,
        "id": "2ccaf3dc"
      },
      "outputs": [],
      "source": [
        "jax.config.update(\"jax_enable_x64\", True)"
      ]
    },
    {
      "cell_type": "markdown",
      "id": "d30c22ca",
      "metadata": {
        "id": "d30c22ca"
      },
      "source": [
        "Let’s check this works:"
      ]
    },
    {
      "cell_type": "code",
      "execution_count": 15,
      "id": "815c0125",
      "metadata": {
        "hide-output": false,
        "colab": {
          "base_uri": "https://localhost:8080/"
        },
        "id": "815c0125",
        "outputId": "a7483c01-b877-4f72-9680-828de30ce1b2"
      },
      "outputs": [
        {
          "output_type": "execute_result",
          "data": {
            "text/plain": [
              "Array([1., 1., 1.], dtype=float64)"
            ]
          },
          "metadata": {},
          "execution_count": 15
        }
      ],
      "source": [
        "jnp.ones(3)"
      ]
    },
    {
      "cell_type": "markdown",
      "id": "ce5c023e",
      "metadata": {
        "id": "ce5c023e"
      },
      "source": [
        "As a NumPy replacement, a more significant difference is that arrays are treated as **immutable**.\n",
        "\n",
        "For example, with NumPy we can write"
      ]
    },
    {
      "cell_type": "code",
      "execution_count": 16,
      "id": "96ed67fa",
      "metadata": {
        "hide-output": false,
        "colab": {
          "base_uri": "https://localhost:8080/"
        },
        "id": "96ed67fa",
        "outputId": "210f43ef-3559-49df-978a-bcd83c3f5e3d"
      },
      "outputs": [
        {
          "output_type": "execute_result",
          "data": {
            "text/plain": [
              "array([0. , 0.5, 1. ])"
            ]
          },
          "metadata": {},
          "execution_count": 16
        }
      ],
      "source": [
        "import numpy as np\n",
        "a = np.linspace(0, 1, 3)\n",
        "a"
      ]
    },
    {
      "cell_type": "markdown",
      "id": "db097109",
      "metadata": {
        "id": "db097109"
      },
      "source": [
        "and then mutate the data in memory:"
      ]
    },
    {
      "cell_type": "code",
      "execution_count": 17,
      "id": "ea8cfee1",
      "metadata": {
        "hide-output": false,
        "colab": {
          "base_uri": "https://localhost:8080/"
        },
        "id": "ea8cfee1",
        "outputId": "c72c12f2-2e07-4125-95a3-ca6f10883292"
      },
      "outputs": [
        {
          "output_type": "execute_result",
          "data": {
            "text/plain": [
              "array([1. , 0.5, 1. ])"
            ]
          },
          "metadata": {},
          "execution_count": 17
        }
      ],
      "source": [
        "a[0] = 1\n",
        "a"
      ]
    },
    {
      "cell_type": "markdown",
      "id": "f1b094e3",
      "metadata": {
        "id": "f1b094e3"
      },
      "source": [
        "In JAX this fails:"
      ]
    },
    {
      "cell_type": "code",
      "execution_count": 18,
      "id": "8f4ef5ea",
      "metadata": {
        "hide-output": false,
        "colab": {
          "base_uri": "https://localhost:8080/"
        },
        "id": "8f4ef5ea",
        "outputId": "27dfba2d-a42a-40a9-99a2-c33488585cf3"
      },
      "outputs": [
        {
          "output_type": "execute_result",
          "data": {
            "text/plain": [
              "Array([0. , 0.5, 1. ], dtype=float64)"
            ]
          },
          "metadata": {},
          "execution_count": 18
        }
      ],
      "source": [
        "a = jnp.linspace(0, 1, 3)\n",
        "a"
      ]
    },
    {
      "cell_type": "code",
      "execution_count": 19,
      "id": "77a6f3c5",
      "metadata": {
        "hide-output": false,
        "colab": {
          "base_uri": "https://localhost:8080/",
          "height": 289
        },
        "id": "77a6f3c5",
        "outputId": "092642b1-409c-4e7f-fccb-3e948509ddbc"
      },
      "outputs": [
        {
          "output_type": "error",
          "ename": "TypeError",
          "evalue": "'<class 'jaxlib.xla_extension.ArrayImpl'>' object does not support item assignment. JAX arrays are immutable. Instead of ``x[idx] = y``, use ``x = x.at[idx].set(y)`` or another .at[] method: https://jax.readthedocs.io/en/latest/_autosummary/jax.numpy.ndarray.at.html",
          "traceback": [
            "\u001b[0;31m---------------------------------------------------------------------------\u001b[0m",
            "\u001b[0;31mTypeError\u001b[0m                                 Traceback (most recent call last)",
            "\u001b[0;32m<ipython-input-19-c8548dbc0a7e>\u001b[0m in \u001b[0;36m<cell line: 0>\u001b[0;34m()\u001b[0m\n\u001b[0;32m----> 1\u001b[0;31m \u001b[0ma\u001b[0m\u001b[0;34m[\u001b[0m\u001b[0;36m0\u001b[0m\u001b[0;34m]\u001b[0m \u001b[0;34m=\u001b[0m \u001b[0;36m1\u001b[0m\u001b[0;34m\u001b[0m\u001b[0;34m\u001b[0m\u001b[0m\n\u001b[0m",
            "\u001b[0;32m/usr/local/lib/python3.11/dist-packages/jax/_src/numpy/array_methods.py\u001b[0m in \u001b[0;36m_unimplemented_setitem\u001b[0;34m(self, i, x)\u001b[0m\n\u001b[1;32m    585\u001b[0m          \u001b[0;34m\"or another .at[] method: \"\u001b[0m\u001b[0;34m\u001b[0m\u001b[0;34m\u001b[0m\u001b[0m\n\u001b[1;32m    586\u001b[0m          \"https://jax.readthedocs.io/en/latest/_autosummary/jax.numpy.ndarray.at.html\")\n\u001b[0;32m--> 587\u001b[0;31m   \u001b[0;32mraise\u001b[0m \u001b[0mTypeError\u001b[0m\u001b[0;34m(\u001b[0m\u001b[0mmsg\u001b[0m\u001b[0;34m.\u001b[0m\u001b[0mformat\u001b[0m\u001b[0;34m(\u001b[0m\u001b[0mtype\u001b[0m\u001b[0;34m(\u001b[0m\u001b[0mself\u001b[0m\u001b[0;34m)\u001b[0m\u001b[0;34m)\u001b[0m\u001b[0;34m)\u001b[0m\u001b[0;34m\u001b[0m\u001b[0;34m\u001b[0m\u001b[0m\n\u001b[0m\u001b[1;32m    588\u001b[0m \u001b[0;34m\u001b[0m\u001b[0m\n\u001b[1;32m    589\u001b[0m \u001b[0;32mdef\u001b[0m \u001b[0m_operator_round\u001b[0m\u001b[0;34m(\u001b[0m\u001b[0mnumber\u001b[0m\u001b[0;34m:\u001b[0m \u001b[0mArrayLike\u001b[0m\u001b[0;34m,\u001b[0m \u001b[0mndigits\u001b[0m\u001b[0;34m:\u001b[0m \u001b[0mint\u001b[0m \u001b[0;34m|\u001b[0m \u001b[0;32mNone\u001b[0m \u001b[0;34m=\u001b[0m \u001b[0;32mNone\u001b[0m\u001b[0;34m)\u001b[0m \u001b[0;34m->\u001b[0m \u001b[0mArray\u001b[0m\u001b[0;34m:\u001b[0m\u001b[0;34m\u001b[0m\u001b[0;34m\u001b[0m\u001b[0m\n",
            "\u001b[0;31mTypeError\u001b[0m: '<class 'jaxlib.xla_extension.ArrayImpl'>' object does not support item assignment. JAX arrays are immutable. Instead of ``x[idx] = y``, use ``x = x.at[idx].set(y)`` or another .at[] method: https://jax.readthedocs.io/en/latest/_autosummary/jax.numpy.ndarray.at.html"
          ]
        }
      ],
      "source": [
        "a[0] = 1"
      ]
    },
    {
      "cell_type": "markdown",
      "id": "4418e3a2",
      "metadata": {
        "id": "4418e3a2"
      },
      "source": [
        "In line with immutability, JAX does not support inplace operations:"
      ]
    },
    {
      "cell_type": "code",
      "execution_count": 20,
      "id": "4aa7b533",
      "metadata": {
        "hide-output": false,
        "colab": {
          "base_uri": "https://localhost:8080/"
        },
        "id": "4aa7b533",
        "outputId": "4b42ae8c-6c6f-43ab-c242-27fe6a52e86a"
      },
      "outputs": [
        {
          "output_type": "execute_result",
          "data": {
            "text/plain": [
              "array([1, 2])"
            ]
          },
          "metadata": {},
          "execution_count": 20
        }
      ],
      "source": [
        "a = np.array((2, 1))\n",
        "a.sort()\n",
        "a"
      ]
    },
    {
      "cell_type": "code",
      "execution_count": 21,
      "id": "1f469ba2",
      "metadata": {
        "hide-output": false,
        "colab": {
          "base_uri": "https://localhost:8080/"
        },
        "id": "1f469ba2",
        "outputId": "be3ef15a-0d3a-4c70-a709-ccdacd133034"
      },
      "outputs": [
        {
          "output_type": "execute_result",
          "data": {
            "text/plain": [
              "(Array([2, 1], dtype=int64), Array([1, 2], dtype=int64))"
            ]
          },
          "metadata": {},
          "execution_count": 21
        }
      ],
      "source": [
        "a = jnp.array((2, 1))\n",
        "a_new = a.sort()\n",
        "a, a_new"
      ]
    },
    {
      "cell_type": "markdown",
      "id": "29e38f44",
      "metadata": {
        "id": "29e38f44"
      },
      "source": [
        "The designers of JAX chose to make arrays immutable because JAX uses a\n",
        "functional programming style.  More on this below.\n",
        "\n",
        "Note that, while mutation is discouraged, it is in fact possible with `at`, as in"
      ]
    },
    {
      "cell_type": "code",
      "execution_count": 22,
      "id": "480aaee6",
      "metadata": {
        "hide-output": false,
        "colab": {
          "base_uri": "https://localhost:8080/"
        },
        "id": "480aaee6",
        "outputId": "30cc817f-b949-49b7-ee7d-66eacd584f31"
      },
      "outputs": [
        {
          "output_type": "execute_result",
          "data": {
            "text/plain": [
              "162676368"
            ]
          },
          "metadata": {},
          "execution_count": 22
        }
      ],
      "source": [
        "a = jnp.linspace(0, 1, 3)\n",
        "id(a)"
      ]
    },
    {
      "cell_type": "code",
      "execution_count": 23,
      "id": "b5851609",
      "metadata": {
        "hide-output": false,
        "colab": {
          "base_uri": "https://localhost:8080/"
        },
        "id": "b5851609",
        "outputId": "1268d13a-b043-4bea-c8ae-a8a49fd2f6ed"
      },
      "outputs": [
        {
          "output_type": "execute_result",
          "data": {
            "text/plain": [
              "Array([0. , 0.5, 1. ], dtype=float64)"
            ]
          },
          "metadata": {},
          "execution_count": 23
        }
      ],
      "source": [
        "a"
      ]
    },
    {
      "cell_type": "code",
      "execution_count": 24,
      "id": "176e8f72",
      "metadata": {
        "hide-output": false,
        "colab": {
          "base_uri": "https://localhost:8080/"
        },
        "id": "176e8f72",
        "outputId": "88ec754d-0422-4cf7-a833-bdd4b2bbef04"
      },
      "outputs": [
        {
          "output_type": "execute_result",
          "data": {
            "text/plain": [
              "Array([1. , 0.5, 1. ], dtype=float64)"
            ]
          },
          "metadata": {},
          "execution_count": 24
        }
      ],
      "source": [
        "a.at[0].set(1)"
      ]
    },
    {
      "cell_type": "markdown",
      "id": "1e4934bf",
      "metadata": {
        "id": "1e4934bf"
      },
      "source": [
        "We can check that the array is mutated by verifying its identity is unchanged:"
      ]
    },
    {
      "cell_type": "code",
      "execution_count": 25,
      "id": "83191c3b",
      "metadata": {
        "hide-output": false,
        "colab": {
          "base_uri": "https://localhost:8080/"
        },
        "id": "83191c3b",
        "outputId": "56142232-381b-4357-d6d7-875bd8189d89"
      },
      "outputs": [
        {
          "output_type": "execute_result",
          "data": {
            "text/plain": [
              "162676368"
            ]
          },
          "metadata": {},
          "execution_count": 25
        }
      ],
      "source": [
        "id(a)"
      ]
    },
    {
      "cell_type": "markdown",
      "id": "baaa48a3",
      "metadata": {
        "id": "baaa48a3"
      },
      "source": [
        "## Random Numbers\n",
        "\n",
        "Random numbers are also a bit different in JAX, relative to NumPy.  Typically, in JAX, the state of the random number generator needs to be controlled explicitly."
      ]
    },
    {
      "cell_type": "code",
      "execution_count": 26,
      "id": "0d705e80",
      "metadata": {
        "hide-output": false,
        "id": "0d705e80"
      },
      "outputs": [],
      "source": [
        "import jax.random as random"
      ]
    },
    {
      "cell_type": "markdown",
      "id": "096e3be7",
      "metadata": {
        "id": "096e3be7"
      },
      "source": [
        "First we produce a key, which seeds the random number generator."
      ]
    },
    {
      "cell_type": "code",
      "execution_count": 27,
      "id": "f54d3e77",
      "metadata": {
        "hide-output": false,
        "id": "f54d3e77"
      },
      "outputs": [],
      "source": [
        "key = random.PRNGKey(1)\n",
        "# 这里，1 是生成随机数的种子。random.PRNGKey 函数返回一个包含伪随机数种子的 key。每个 key 是一个数组，JAX 使用这个密钥来生成随机数。"
      ]
    },
    {
      "cell_type": "code",
      "execution_count": 28,
      "id": "d0d8f1d8",
      "metadata": {
        "hide-output": false,
        "colab": {
          "base_uri": "https://localhost:8080/"
        },
        "id": "d0d8f1d8",
        "outputId": "cce3383b-f31b-4633-b6a6-e657186d68bf"
      },
      "outputs": [
        {
          "output_type": "execute_result",
          "data": {
            "text/plain": [
              "jaxlib.xla_extension.ArrayImpl"
            ]
          },
          "metadata": {},
          "execution_count": 28
        }
      ],
      "source": [
        "type(key)"
      ]
    },
    {
      "cell_type": "code",
      "execution_count": 29,
      "id": "ed3eabf0",
      "metadata": {
        "hide-output": false,
        "colab": {
          "base_uri": "https://localhost:8080/"
        },
        "id": "ed3eabf0",
        "outputId": "69b0a256-db0b-4fbd-c44e-53c90320825c"
      },
      "outputs": [
        {
          "output_type": "stream",
          "name": "stdout",
          "text": [
            "[0 1]\n"
          ]
        }
      ],
      "source": [
        "print(key)"
      ]
    },
    {
      "cell_type": "markdown",
      "id": "212ab45c",
      "metadata": {
        "id": "212ab45c"
      },
      "source": [
        "Now we can use the key to generate some random numbers:"
      ]
    },
    {
      "cell_type": "code",
      "execution_count": 30,
      "id": "fdf2ed0f",
      "metadata": {
        "hide-output": false,
        "colab": {
          "base_uri": "https://localhost:8080/"
        },
        "id": "fdf2ed0f",
        "outputId": "e057cfdc-faae-4067-ce2e-269cf31ec79a"
      },
      "outputs": [
        {
          "output_type": "execute_result",
          "data": {
            "text/plain": [
              "Array([[-1.35247421, -0.2712502 , -0.02920518],\n",
              "       [ 0.34706456,  0.5464053 , -1.52325812],\n",
              "       [ 0.41677264, -0.59710138, -0.5678208 ]], dtype=float64)"
            ]
          },
          "metadata": {},
          "execution_count": 30
        }
      ],
      "source": [
        "x = random.normal(key, (3, 3))\n",
        "x"
      ]
    },
    {
      "cell_type": "markdown",
      "id": "a0b5bddb",
      "metadata": {
        "id": "a0b5bddb"
      },
      "source": [
        "If we use the same key again, we initialize at the same seed, so the random numbers are the same:"
      ]
    },
    {
      "cell_type": "code",
      "execution_count": 31,
      "id": "1ede427d",
      "metadata": {
        "hide-output": false,
        "colab": {
          "base_uri": "https://localhost:8080/"
        },
        "id": "1ede427d",
        "outputId": "38acc40d-185b-4603-febf-fee4aa893041"
      },
      "outputs": [
        {
          "output_type": "execute_result",
          "data": {
            "text/plain": [
              "Array([[-1.35247421, -0.2712502 , -0.02920518],\n",
              "       [ 0.34706456,  0.5464053 , -1.52325812],\n",
              "       [ 0.41677264, -0.59710138, -0.5678208 ]], dtype=float64)"
            ]
          },
          "metadata": {},
          "execution_count": 31
        }
      ],
      "source": [
        "random.normal(key, (3, 3))"
      ]
    },
    {
      "cell_type": "markdown",
      "id": "b7eed012",
      "metadata": {
        "id": "b7eed012"
      },
      "source": [
        "To produce a (quasi-) independent draw, best practice is to “split” the existing key:"
      ]
    },
    {
      "cell_type": "code",
      "execution_count": 32,
      "id": "03fe2ed5",
      "metadata": {
        "hide-output": false,
        "id": "03fe2ed5"
      },
      "outputs": [],
      "source": [
        "key, subkey = random.split(key)\n",
        "# 避免重复：直接使用同一个密钥生成多个随机数会导致它们在计算过程中相互依赖，可能会引发不希望出现的结果。使用 split 可以避免这种情况，使得每个子密钥生成的随机数序列是独立的。"
      ]
    },
    {
      "cell_type": "code",
      "execution_count": 33,
      "id": "570d9c7f",
      "metadata": {
        "hide-output": false,
        "colab": {
          "base_uri": "https://localhost:8080/"
        },
        "id": "570d9c7f",
        "outputId": "e29e2217-9049-4438-b92c-53e5dea95c9f"
      },
      "outputs": [
        {
          "output_type": "execute_result",
          "data": {
            "text/plain": [
              "Array([[ 1.85374374, -0.37683949, -0.61276867],\n",
              "       [-1.91829718,  0.27219409,  0.54922246],\n",
              "       [ 0.40451442, -0.58726839, -0.63967753]], dtype=float64)"
            ]
          },
          "metadata": {},
          "execution_count": 33
        }
      ],
      "source": [
        "random.normal(key, (3, 3))"
      ]
    },
    {
      "cell_type": "code",
      "execution_count": 34,
      "id": "7637f0a5",
      "metadata": {
        "hide-output": false,
        "colab": {
          "base_uri": "https://localhost:8080/"
        },
        "id": "7637f0a5",
        "outputId": "309d2353-05c1-4c68-9c10-6ca694fdfd75"
      },
      "outputs": [
        {
          "output_type": "execute_result",
          "data": {
            "text/plain": [
              "Array([[-0.4300635 ,  0.22778552,  0.57241269],\n",
              "       [-0.15969178,  0.46719192,  0.21165091],\n",
              "       [ 0.84118631,  1.18671326, -0.16607783]], dtype=float64)"
            ]
          },
          "metadata": {},
          "execution_count": 34
        }
      ],
      "source": [
        "random.normal(subkey, (3, 3))"
      ]
    },
    {
      "cell_type": "markdown",
      "id": "db90e831",
      "metadata": {
        "id": "db90e831"
      },
      "source": [
        "The function below produces `k` (quasi-) independent random `n x n` matrices using this procedure."
      ]
    },
    {
      "cell_type": "code",
      "execution_count": 35,
      "id": "b6c113f7",
      "metadata": {
        "hide-output": false,
        "id": "b6c113f7"
      },
      "outputs": [],
      "source": [
        "def gen_random_matrices(key, n, k):\n",
        "    matrices = []\n",
        "    for _ in range(k):\n",
        "        key, subkey = random.split(key)\n",
        "        matrices.append(random.uniform(subkey, (n, n)))\n",
        "    return matrices"
      ]
    },
    {
      "cell_type": "code",
      "execution_count": 36,
      "id": "6f4e08d6",
      "metadata": {
        "hide-output": false,
        "colab": {
          "base_uri": "https://localhost:8080/"
        },
        "id": "6f4e08d6",
        "outputId": "90dd40c7-7b65-49b5-c746-ff66d3f76c5e"
      },
      "outputs": [
        {
          "output_type": "stream",
          "name": "stdout",
          "text": [
            "[[0.97440813 0.3838544 ]\n",
            " [0.9790686  0.99981046]]\n",
            "[[0.3473302  0.17157842]\n",
            " [0.89346686 0.01403153]]\n"
          ]
        }
      ],
      "source": [
        "matrices = gen_random_matrices(key, 2, 2)\n",
        "for A in matrices:\n",
        "    print(A)"
      ]
    },
    {
      "cell_type": "markdown",
      "id": "e2969547",
      "metadata": {
        "id": "e2969547"
      },
      "source": [
        "One point to remember is that JAX expects tuples to describe array shapes, even for flat arrays.  Hence, to get a one-dimensional array of normal random draws we use `(len, )` for the shape, as in"
      ]
    },
    {
      "cell_type": "code",
      "execution_count": 37,
      "id": "4a1a057f",
      "metadata": {
        "hide-output": false,
        "colab": {
          "base_uri": "https://localhost:8080/"
        },
        "id": "4a1a057f",
        "outputId": "d62f40ba-d441-4324-8000-b97351296d57"
      },
      "outputs": [
        {
          "output_type": "execute_result",
          "data": {
            "text/plain": [
              "Array([-0.64377279,  0.76961857, -0.29809604,  0.47858776, -2.00591299],      dtype=float64)"
            ]
          },
          "metadata": {},
          "execution_count": 37
        }
      ],
      "source": [
        "random.normal(key, (5, ))\n",
        "# (5,) 表示一维数组，包含 5 个元素。"
      ]
    },
    {
      "cell_type": "code",
      "source": [
        "random.normal(key, (5, 1))"
      ],
      "metadata": {
        "id": "TvKzV3YlnbOS",
        "outputId": "202fde49-2c06-40dc-9138-a581d774397c",
        "colab": {
          "base_uri": "https://localhost:8080/"
        }
      },
      "id": "TvKzV3YlnbOS",
      "execution_count": 38,
      "outputs": [
        {
          "output_type": "execute_result",
          "data": {
            "text/plain": [
              "Array([[-0.64377279],\n",
              "       [ 0.76961857],\n",
              "       [-0.29809604],\n",
              "       [ 0.47858776],\n",
              "       [-2.00591299]], dtype=float64)"
            ]
          },
          "metadata": {},
          "execution_count": 38
        }
      ]
    },
    {
      "cell_type": "markdown",
      "id": "6f692ecc",
      "metadata": {
        "id": "6f692ecc"
      },
      "source": [
        "## JIT compilation\n",
        "\n",
        "The JAX just-in-time (JIT) compiler accelerates logic within functions by fusing linear\n",
        "algebra operations into a single optimized kernel that the host can\n",
        "launch on the GPU / TPU (or CPU if no accelerator is detected)."
      ]
    },
    {
      "cell_type": "markdown",
      "id": "68e7a4ab",
      "metadata": {
        "id": "68e7a4ab"
      },
      "source": [
        "### A first example\n",
        "\n",
        "To see the JIT compiler in action, consider the following function."
      ]
    },
    {
      "cell_type": "code",
      "execution_count": 39,
      "id": "433092fb",
      "metadata": {
        "hide-output": false,
        "id": "433092fb"
      },
      "outputs": [],
      "source": [
        "def f(x):\n",
        "    a = 3*x + jnp.sin(x) + jnp.cos(x**2) - jnp.cos(2*x) - x**2 * 0.4 * x**1.5\n",
        "    return jnp.sum(a)"
      ]
    },
    {
      "cell_type": "markdown",
      "id": "883432e8",
      "metadata": {
        "id": "883432e8"
      },
      "source": [
        "Let’s build an array to call the function on."
      ]
    },
    {
      "cell_type": "code",
      "execution_count": 40,
      "id": "fec36bfa",
      "metadata": {
        "hide-output": false,
        "id": "fec36bfa"
      },
      "outputs": [],
      "source": [
        "n = 50_000_000\n",
        "x = jnp.ones(n)"
      ]
    },
    {
      "cell_type": "markdown",
      "id": "9727938e",
      "metadata": {
        "id": "9727938e"
      },
      "source": [
        "How long does the function take to execute?"
      ]
    },
    {
      "cell_type": "code",
      "execution_count": 41,
      "id": "c99c45de",
      "metadata": {
        "hide-output": false,
        "colab": {
          "base_uri": "https://localhost:8080/"
        },
        "id": "c99c45de",
        "outputId": "667f33fe-c997-4ff4-efad-a0b5d8a2188b"
      },
      "outputs": [
        {
          "output_type": "stream",
          "name": "stdout",
          "text": [
            "CPU times: user 386 ms, sys: 9.36 ms, total: 396 ms\n",
            "Wall time: 618 ms\n"
          ]
        },
        {
          "output_type": "execute_result",
          "data": {
            "text/plain": [
              "Array(2.19896006e+08, dtype=float64)"
            ]
          },
          "metadata": {},
          "execution_count": 41
        }
      ],
      "source": [
        "%time f(x).block_until_ready()"
      ]
    },
    {
      "cell_type": "markdown",
      "id": "f9938910",
      "metadata": {
        "id": "f9938910"
      },
      "source": [
        ">**Note**\n",
        ">\n",
        ">Here, in order to measure actual speed, we use the `block_until_ready()` method\n",
        "to hold the interpreter until the results of the computation are returned from\n",
        "the device. This is necessary because JAX uses asynchronous dispatch, which\n",
        "allows the Python interpreter to run ahead of GPU computations.\n",
        "\n",
        "The code doesn’t run as fast as we might hope, given that it’s running on a GPU.\n",
        "\n",
        "But if we run it a second time it becomes much faster:"
      ]
    },
    {
      "cell_type": "code",
      "execution_count": null,
      "id": "23395691",
      "metadata": {
        "hide-output": false,
        "id": "23395691"
      },
      "outputs": [],
      "source": [
        "%time f(x).block_until_ready()"
      ]
    },
    {
      "cell_type": "markdown",
      "id": "be7eac0d",
      "metadata": {
        "id": "be7eac0d"
      },
      "source": [
        "This is because the built in functions like `jnp.cos` are JIT compiled and the\n",
        "first run includes compile time.\n",
        "\n",
        "Why would JAX want to JIT-compile built in functions like `jnp.cos` instead of\n",
        "just providing pre-compiled versions, like NumPy?\n",
        "\n",
        "The reason is that the JIT compiler can specialize on the *size* of the array\n",
        "being used, which is helpful for parallelization.\n",
        "\n",
        "For example, in running the code above, the JIT compiler produced a version of `jnp.cos` that is\n",
        "specialized to floating point arrays of size `n = 50_000_000`.\n",
        "\n",
        "We can check this by calling `f` with a new array of different size."
      ]
    },
    {
      "cell_type": "code",
      "execution_count": null,
      "id": "86215fb4",
      "metadata": {
        "hide-output": false,
        "id": "86215fb4"
      },
      "outputs": [],
      "source": [
        "m = 50_000_001\n",
        "y = jnp.ones(m)"
      ]
    },
    {
      "cell_type": "code",
      "execution_count": null,
      "id": "608662b0",
      "metadata": {
        "hide-output": false,
        "id": "608662b0"
      },
      "outputs": [],
      "source": [
        "%time f(y).block_until_ready()"
      ]
    },
    {
      "cell_type": "markdown",
      "id": "b8299d9a",
      "metadata": {
        "id": "b8299d9a"
      },
      "source": [
        "Notice that the execution time increases, because now new versions of\n",
        "the built-ins like `jnp.cos` are being compiled, specialized to the new array\n",
        "size.\n",
        "\n",
        "If we run again, the code is dispatched to the correct compiled version and we\n",
        "get faster execution."
      ]
    },
    {
      "cell_type": "code",
      "execution_count": null,
      "id": "9bf77add",
      "metadata": {
        "hide-output": false,
        "id": "9bf77add"
      },
      "outputs": [],
      "source": [
        "%time f(y).block_until_ready()"
      ]
    },
    {
      "cell_type": "markdown",
      "id": "1cef5bb6",
      "metadata": {
        "id": "1cef5bb6"
      },
      "source": [
        "The compiled versions for the previous array size are still available in memory\n",
        "too, and the following call is dispatched to the correct compiled code."
      ]
    },
    {
      "cell_type": "code",
      "execution_count": null,
      "id": "536c4a7c",
      "metadata": {
        "hide-output": false,
        "id": "536c4a7c"
      },
      "outputs": [],
      "source": [
        "%time f(x).block_until_ready()"
      ]
    },
    {
      "cell_type": "markdown",
      "id": "34fa6094",
      "metadata": {
        "id": "34fa6094"
      },
      "source": [
        "### Compiling the outer function\n",
        "\n",
        "We can do even better if we manually JIT-compile the outer function."
      ]
    },
    {
      "cell_type": "code",
      "execution_count": null,
      "id": "ead87f3f",
      "metadata": {
        "hide-output": false,
        "id": "ead87f3f"
      },
      "outputs": [],
      "source": [
        "f_jit = jax.jit(f)   # target for JIT compilation"
      ]
    },
    {
      "cell_type": "markdown",
      "id": "edca1595",
      "metadata": {
        "id": "edca1595"
      },
      "source": [
        "Let’s run once to compile it:"
      ]
    },
    {
      "cell_type": "code",
      "execution_count": null,
      "id": "899d3fb4",
      "metadata": {
        "hide-output": false,
        "id": "899d3fb4"
      },
      "outputs": [],
      "source": [
        "f_jit(x)"
      ]
    },
    {
      "cell_type": "markdown",
      "id": "93771a50",
      "metadata": {
        "id": "93771a50"
      },
      "source": [
        "And now let’s time it."
      ]
    },
    {
      "cell_type": "code",
      "execution_count": null,
      "id": "45aa93fb",
      "metadata": {
        "hide-output": false,
        "id": "45aa93fb"
      },
      "outputs": [],
      "source": [
        "%time f_jit(x).block_until_ready()"
      ]
    },
    {
      "cell_type": "markdown",
      "id": "48c4105d",
      "metadata": {
        "id": "48c4105d"
      },
      "source": [
        "Note the speed gain.\n",
        "\n",
        "This is because the array operations are fused and no intermediate arrays are created.\n",
        "\n",
        "Incidentally, a more common syntax when targetting a function for the JIT\n",
        "compiler is"
      ]
    },
    {
      "cell_type": "code",
      "execution_count": null,
      "id": "9aa8c2af",
      "metadata": {
        "hide-output": false,
        "id": "9aa8c2af"
      },
      "outputs": [],
      "source": [
        "@jax.jit\n",
        "def f(x):\n",
        "    a = 3*x + jnp.sin(x) + jnp.cos(x**2) - jnp.cos(2*x) - x**2 * 0.4 * x**1.5\n",
        "    return jnp.sum(a)"
      ]
    },
    {
      "cell_type": "markdown",
      "id": "9386decd",
      "metadata": {
        "id": "9386decd"
      },
      "source": [
        "## Functional Programming\n",
        "\n",
        "From JAX’s documentation:\n",
        "\n",
        "*When walking about the countryside of Italy, the people will not hesitate to tell you that JAX has “una anima di pura programmazione funzionale”.*\n",
        "\n",
        "In other words, JAX assumes a functional programming style.\n",
        "\n",
        "The major implication is that JAX functions should be pure.\n",
        "\n",
        "A pure function will always return the same result if invoked with the same inputs.\n",
        "\n",
        "In particular, a pure function has\n",
        "\n",
        "- no dependence on global variables and  \n",
        "- no side effects  \n",
        "\n",
        "\n",
        "JAX will not usually throw errors when compiling impure functions but execution becomes unpredictable.\n",
        "\n",
        "Here’s an illustration of this fact, using global variables:"
      ]
    },
    {
      "cell_type": "code",
      "execution_count": null,
      "id": "37e51dc8",
      "metadata": {
        "hide-output": false,
        "id": "37e51dc8"
      },
      "outputs": [],
      "source": [
        "a = 1  # global\n",
        "\n",
        "@jax.jit\n",
        "def f(x):\n",
        "    return a + x"
      ]
    },
    {
      "cell_type": "code",
      "execution_count": null,
      "id": "11680742",
      "metadata": {
        "hide-output": false,
        "id": "11680742"
      },
      "outputs": [],
      "source": [
        "x = jnp.ones(2)"
      ]
    },
    {
      "cell_type": "code",
      "execution_count": null,
      "id": "558ab306",
      "metadata": {
        "hide-output": false,
        "id": "558ab306"
      },
      "outputs": [],
      "source": [
        "f(x)"
      ]
    },
    {
      "cell_type": "markdown",
      "id": "7f5498ff",
      "metadata": {
        "id": "7f5498ff"
      },
      "source": [
        "In the code above, the global value `a=1` is fused into the jitted function.\n",
        "\n",
        "Even if we change `a`, the output of `f` will not be affected — as long as the same compiled version is called."
      ]
    },
    {
      "cell_type": "code",
      "execution_count": null,
      "id": "d993478d",
      "metadata": {
        "hide-output": false,
        "id": "d993478d"
      },
      "outputs": [],
      "source": [
        "a = 42"
      ]
    },
    {
      "cell_type": "code",
      "execution_count": null,
      "id": "3764313a",
      "metadata": {
        "hide-output": false,
        "id": "3764313a"
      },
      "outputs": [],
      "source": [
        "f(x)"
      ]
    },
    {
      "cell_type": "markdown",
      "id": "2582b1e9",
      "metadata": {
        "id": "2582b1e9"
      },
      "source": [
        "Changing the dimension of the input triggers a fresh compilation of the function, at which time the change in the value of `a` takes effect:"
      ]
    },
    {
      "cell_type": "code",
      "execution_count": null,
      "id": "615447e8",
      "metadata": {
        "hide-output": false,
        "id": "615447e8"
      },
      "outputs": [],
      "source": [
        "x = jnp.ones(3)"
      ]
    },
    {
      "cell_type": "code",
      "execution_count": null,
      "id": "cf238e66",
      "metadata": {
        "hide-output": false,
        "id": "cf238e66"
      },
      "outputs": [],
      "source": [
        "f(x)"
      ]
    },
    {
      "cell_type": "markdown",
      "id": "090fcca9",
      "metadata": {
        "id": "090fcca9"
      },
      "source": [
        "Moral of the story: write pure functions when using JAX!"
      ]
    },
    {
      "cell_type": "markdown",
      "id": "1dacda17",
      "metadata": {
        "id": "1dacda17"
      },
      "source": [
        "## Gradients\n",
        "\n",
        "JAX can use automatic differentiation to compute gradients.\n",
        "\n",
        "This can be extremely useful for optimization and solving nonlinear systems.\n",
        "\n",
        "We will see significant applications later in this lecture series.\n",
        "\n",
        "For now, here’s a very simple illustration involving the function"
      ]
    },
    {
      "cell_type": "code",
      "execution_count": null,
      "id": "b0bc0280",
      "metadata": {
        "hide-output": false,
        "id": "b0bc0280"
      },
      "outputs": [],
      "source": [
        "def f(x):\n",
        "    return (x**2) / 2"
      ]
    },
    {
      "cell_type": "markdown",
      "id": "33f11e9f",
      "metadata": {
        "id": "33f11e9f"
      },
      "source": [
        "Let’s take the derivative:"
      ]
    },
    {
      "cell_type": "code",
      "execution_count": null,
      "id": "73a77c40",
      "metadata": {
        "hide-output": false,
        "id": "73a77c40"
      },
      "outputs": [],
      "source": [
        "f_prime = jax.grad(f)"
      ]
    },
    {
      "cell_type": "code",
      "execution_count": null,
      "id": "4d59d57a",
      "metadata": {
        "hide-output": false,
        "id": "4d59d57a"
      },
      "outputs": [],
      "source": [
        "f_prime(10.0)"
      ]
    },
    {
      "cell_type": "markdown",
      "id": "be4e8a8c",
      "metadata": {
        "id": "be4e8a8c"
      },
      "source": [
        "Let’s plot the function and derivative, noting that $ f'(x) = x $."
      ]
    },
    {
      "cell_type": "code",
      "execution_count": null,
      "id": "dd50b368",
      "metadata": {
        "hide-output": false,
        "id": "dd50b368"
      },
      "outputs": [],
      "source": [
        "import matplotlib.pyplot as plt\n",
        "\n",
        "fig, ax = plt.subplots()\n",
        "x_grid = jnp.linspace(-4, 4, 200)\n",
        "ax.plot(x_grid, f(x_grid), label=\"$f$\")\n",
        "ax.plot(x_grid, [f_prime(x) for x in x_grid], label=\"$f'$\")\n",
        "ax.legend(loc='upper center')\n",
        "plt.show()"
      ]
    },
    {
      "cell_type": "markdown",
      "id": "f660acd7",
      "metadata": {
        "id": "f660acd7"
      },
      "source": [
        "We defer further exploration of automatic differentiation with JAX until [Adventures with Autodiff](https://jax.quantecon.org/autodiff.html)."
      ]
    },
    {
      "cell_type": "markdown",
      "id": "763b450d",
      "metadata": {
        "id": "763b450d"
      },
      "source": [
        "## Writing vectorized code\n",
        "\n",
        "Writing fast JAX code requires shifting repetitive tasks from loops to array processing operations, so that the JAX compiler can easily understand the whole operation and generate more efficient machine code.\n",
        "\n",
        "This procedure is called **vectorization** or **array programming**, and will be familiar to anyone who has used NumPy or MATLAB.\n",
        "\n",
        "In most ways, vectorization is the same in JAX as it is in NumPy.\n",
        "\n",
        "But there are also some differences, which we highlight here.\n",
        "\n",
        "As a running example, consider the function\n",
        "\n",
        "$$\n",
        "f(x,y) = \\frac{\\cos(x^2 + y^2)}{1 + x^2 + y^2}\n",
        "$$\n",
        "\n",
        "Suppose that we want to evaluate this function on a square grid of $ x $ and $ y $ points and then plot it.\n",
        "\n",
        "To clarify, here is the slow `for` loop version."
      ]
    },
    {
      "cell_type": "code",
      "execution_count": null,
      "id": "fb641606",
      "metadata": {
        "hide-output": false,
        "id": "fb641606"
      },
      "outputs": [],
      "source": [
        "@jax.jit\n",
        "def f(x, y):\n",
        "    return jnp.cos(x**2 + y**2) / (1 + x**2 + y**2)\n",
        "\n",
        "n = 80\n",
        "x = jnp.linspace(-2, 2, n)\n",
        "y = x\n",
        "\n",
        "z_loops = np.empty((n, n))"
      ]
    },
    {
      "cell_type": "code",
      "execution_count": null,
      "id": "e6cb5298",
      "metadata": {
        "hide-output": false,
        "id": "e6cb5298"
      },
      "outputs": [],
      "source": [
        "%%time\n",
        "for i in range(n):\n",
        "    for j in range(n):\n",
        "        z_loops[i, j] = f(x[i], y[j])"
      ]
    },
    {
      "cell_type": "markdown",
      "id": "4fda4dc0",
      "metadata": {
        "id": "4fda4dc0"
      },
      "source": [
        "Even for this very small grid, the run time is extremely slow.\n",
        "\n",
        "(Notice that we used a NumPy array for `z_loops` because we wanted to write to it.)\n",
        "\n",
        "OK, so how can we do the same operation in vectorized form?\n",
        "\n",
        "If you are new to vectorization, you might guess that we can simply write"
      ]
    },
    {
      "cell_type": "code",
      "execution_count": null,
      "id": "ad806db0",
      "metadata": {
        "hide-output": false,
        "id": "ad806db0"
      },
      "outputs": [],
      "source": [
        "z_bad = f(x, y)"
      ]
    },
    {
      "cell_type": "markdown",
      "id": "da8f3667",
      "metadata": {
        "id": "da8f3667"
      },
      "source": [
        "But this gives us the wrong result because JAX doesn’t understand the nested for loop."
      ]
    },
    {
      "cell_type": "code",
      "execution_count": null,
      "id": "8a245bc7",
      "metadata": {
        "hide-output": false,
        "id": "8a245bc7"
      },
      "outputs": [],
      "source": [
        "z_bad.shape"
      ]
    },
    {
      "cell_type": "markdown",
      "id": "b012edc0",
      "metadata": {
        "id": "b012edc0"
      },
      "source": [
        "Here is what we actually wanted:"
      ]
    },
    {
      "cell_type": "code",
      "execution_count": null,
      "id": "2ffd4b65",
      "metadata": {
        "hide-output": false,
        "id": "2ffd4b65"
      },
      "outputs": [],
      "source": [
        "z_loops.shape"
      ]
    },
    {
      "cell_type": "markdown",
      "id": "1ba0419f",
      "metadata": {
        "id": "1ba0419f"
      },
      "source": [
        "To get the right shape and the correct nested for loop calculation, we can use a `meshgrid` operation designed for this purpose:"
      ]
    },
    {
      "cell_type": "code",
      "execution_count": null,
      "id": "50d0856f",
      "metadata": {
        "hide-output": false,
        "id": "50d0856f"
      },
      "outputs": [],
      "source": [
        "x_mesh, y_mesh = jnp.meshgrid(x, y)"
      ]
    },
    {
      "cell_type": "markdown",
      "id": "531ea7cf",
      "metadata": {
        "id": "531ea7cf"
      },
      "source": [
        "Now we get what we want and the execution time is very fast."
      ]
    },
    {
      "cell_type": "code",
      "execution_count": null,
      "id": "aef7bac3",
      "metadata": {
        "hide-output": false,
        "id": "aef7bac3"
      },
      "outputs": [],
      "source": [
        "%%time\n",
        "z_mesh = f(x_mesh, y_mesh).block_until_ready()"
      ]
    },
    {
      "cell_type": "markdown",
      "id": "2e8051b1",
      "metadata": {
        "id": "2e8051b1"
      },
      "source": [
        "Let’s run again to eliminate compile time."
      ]
    },
    {
      "cell_type": "code",
      "execution_count": null,
      "id": "a2c82cba",
      "metadata": {
        "hide-output": false,
        "id": "a2c82cba"
      },
      "outputs": [],
      "source": [
        "%%time\n",
        "z_mesh = f(x_mesh, y_mesh).block_until_ready()"
      ]
    },
    {
      "cell_type": "markdown",
      "id": "06358b25",
      "metadata": {
        "id": "06358b25"
      },
      "source": [
        "Let’s confirm that we got the right answer."
      ]
    },
    {
      "cell_type": "code",
      "execution_count": null,
      "id": "00adefe3",
      "metadata": {
        "hide-output": false,
        "id": "00adefe3"
      },
      "outputs": [],
      "source": [
        "jnp.allclose(z_mesh, z_loops)"
      ]
    },
    {
      "cell_type": "markdown",
      "id": "b5b50471",
      "metadata": {
        "id": "b5b50471"
      },
      "source": [
        "Now we can set up a serious grid and run the same calculation (on the larger grid) in a short amount of time."
      ]
    },
    {
      "cell_type": "code",
      "execution_count": null,
      "id": "e037a871",
      "metadata": {
        "hide-output": false,
        "id": "e037a871"
      },
      "outputs": [],
      "source": [
        "n = 6000\n",
        "x = jnp.linspace(-2, 2, n)\n",
        "y = x\n",
        "x_mesh, y_mesh = jnp.meshgrid(x, y)"
      ]
    },
    {
      "cell_type": "code",
      "execution_count": null,
      "id": "02030563",
      "metadata": {
        "hide-output": false,
        "id": "02030563"
      },
      "outputs": [],
      "source": [
        "%%time\n",
        "z_mesh = f(x_mesh, y_mesh).block_until_ready()"
      ]
    },
    {
      "cell_type": "markdown",
      "id": "fb7c89bf",
      "metadata": {
        "id": "fb7c89bf"
      },
      "source": [
        "Let’s run again to get rid of compile time."
      ]
    },
    {
      "cell_type": "code",
      "execution_count": null,
      "id": "45135240",
      "metadata": {
        "hide-output": false,
        "id": "45135240"
      },
      "outputs": [],
      "source": [
        "%%time\n",
        "z_mesh = f(x_mesh, y_mesh).block_until_ready()"
      ]
    },
    {
      "cell_type": "markdown",
      "id": "d735cd54",
      "metadata": {
        "id": "d735cd54"
      },
      "source": [
        "But there is one problem here: the mesh grids use a lot of memory."
      ]
    },
    {
      "cell_type": "code",
      "execution_count": null,
      "id": "db8dc471",
      "metadata": {
        "hide-output": false,
        "id": "db8dc471"
      },
      "outputs": [],
      "source": [
        "x_mesh.nbytes + y_mesh.nbytes"
      ]
    },
    {
      "cell_type": "markdown",
      "id": "a28cea35",
      "metadata": {
        "id": "a28cea35"
      },
      "source": [
        "By comparison, the flat array `x` is just"
      ]
    },
    {
      "cell_type": "code",
      "execution_count": null,
      "id": "a7eb7d41",
      "metadata": {
        "hide-output": false,
        "id": "a7eb7d41"
      },
      "outputs": [],
      "source": [
        "x.nbytes  # and y is just a pointer to x"
      ]
    },
    {
      "cell_type": "markdown",
      "id": "3f32dfcb",
      "metadata": {
        "id": "3f32dfcb"
      },
      "source": [
        "This extra memory usage can be a big problem in actual research calculations.\n",
        "\n",
        "So let’s try a different approach using [jax.vmap](https://jax.readthedocs.io/en/latest/_autosummary/jax.vmap.html)\n",
        "\n",
        "First we vectorize `f` in `y`."
      ]
    },
    {
      "cell_type": "code",
      "execution_count": null,
      "id": "a20f1233",
      "metadata": {
        "hide-output": false,
        "id": "a20f1233"
      },
      "outputs": [],
      "source": [
        "f_vec_y = jax.vmap(f, in_axes=(None, 0))"
      ]
    },
    {
      "cell_type": "markdown",
      "id": "48e94b0b",
      "metadata": {
        "id": "48e94b0b"
      },
      "source": [
        "In the line above, `(None, 0)` indicates that we are vectorizing in the second argument, which is `y`.\n",
        "\n",
        "Next, we vectorize in the first argument, which is `x`."
      ]
    },
    {
      "cell_type": "code",
      "execution_count": null,
      "id": "0c3738c6",
      "metadata": {
        "hide-output": false,
        "id": "0c3738c6"
      },
      "outputs": [],
      "source": [
        "f_vec = jax.vmap(f_vec_y, in_axes=(0, None))"
      ]
    },
    {
      "cell_type": "markdown",
      "id": "e73e5c73",
      "metadata": {
        "id": "e73e5c73"
      },
      "source": [
        "With this construction, we can now call the function $ f $ on flat (low memory) arrays."
      ]
    },
    {
      "cell_type": "code",
      "execution_count": null,
      "id": "1ce1fa0f",
      "metadata": {
        "hide-output": false,
        "id": "1ce1fa0f"
      },
      "outputs": [],
      "source": [
        "%%time\n",
        "z_vmap = f_vec(x, y).block_until_ready()"
      ]
    },
    {
      "cell_type": "markdown",
      "id": "94fd15ec",
      "metadata": {
        "id": "94fd15ec"
      },
      "source": [
        "We run it again to eliminate compile time."
      ]
    },
    {
      "cell_type": "code",
      "execution_count": null,
      "id": "0192f1ab",
      "metadata": {
        "hide-output": false,
        "id": "0192f1ab"
      },
      "outputs": [],
      "source": [
        "%%time\n",
        "z_vmap = f_vec(x, y).block_until_ready()"
      ]
    },
    {
      "cell_type": "markdown",
      "id": "29a9abe2",
      "metadata": {
        "id": "29a9abe2"
      },
      "source": [
        "The execution time is essentially the same as the mesh operation but we are using much less memory.\n",
        "\n",
        "And we produce the correct answer:"
      ]
    },
    {
      "cell_type": "code",
      "execution_count": null,
      "id": "93d45bb8",
      "metadata": {
        "hide-output": false,
        "id": "93d45bb8"
      },
      "outputs": [],
      "source": [
        "jnp.allclose(z_vmap, z_mesh)"
      ]
    },
    {
      "cell_type": "markdown",
      "id": "1d522703",
      "metadata": {
        "id": "1d522703"
      },
      "source": [
        "## Exercises"
      ]
    },
    {
      "cell_type": "markdown",
      "id": "a93a05e2",
      "metadata": {
        "id": "a93a05e2"
      },
      "source": [
        "## Exercise 2.1\n",
        "\n",
        "In the Exercise section of [a lecture on Numba and parallelization](https://python-programming.quantecon.org/parallelization.html), we used Monte Carlo to price a European call option.\n",
        "\n",
        "The code was accelerated by Numba-based multithreading.\n",
        "\n",
        "Try writing a version of this operation for JAX, using all the same\n",
        "parameters.\n",
        "\n",
        "If you are running your code on a GPU, you should be able to achieve\n",
        "significantly faster execution."
      ]
    },
    {
      "cell_type": "markdown",
      "id": "273d56b9",
      "metadata": {
        "id": "273d56b9"
      },
      "source": [
        "## Solution to[ Exercise 2.1](https://jax.quantecon.org/#jax_intro_ex2)\n",
        "\n",
        "Here is one solution:"
      ]
    },
    {
      "cell_type": "code",
      "execution_count": null,
      "id": "0703ecfb",
      "metadata": {
        "hide-output": false,
        "id": "0703ecfb"
      },
      "outputs": [],
      "source": [
        "M = 10_000_000\n",
        "\n",
        "n, β, K = 20, 0.99, 100\n",
        "μ, ρ, ν, S0, h0 = 0.0001, 0.1, 0.001, 10, 0\n",
        "\n",
        "@jax.jit\n",
        "def compute_call_price_jax(β=β,\n",
        "                           μ=μ,\n",
        "                           S0=S0,\n",
        "                           h0=h0,\n",
        "                           K=K,\n",
        "                           n=n,\n",
        "                           ρ=ρ,\n",
        "                           ν=ν,\n",
        "                           M=M,\n",
        "                           key=jax.random.PRNGKey(1)):\n",
        "\n",
        "    s = jnp.full(M, np.log(S0))\n",
        "    h = jnp.full(M, h0)\n",
        "    for t in range(n):\n",
        "        key, subkey = jax.random.split(key)\n",
        "        Z = jax.random.normal(subkey, (2, M))\n",
        "        s = s + μ + jnp.exp(h) * Z[0, :]\n",
        "        h = ρ * h + ν * Z[1, :]\n",
        "    expectation = jnp.mean(jnp.maximum(jnp.exp(s) - K, 0))\n",
        "\n",
        "    return β**n * expectation"
      ]
    },
    {
      "cell_type": "markdown",
      "id": "ec0b1cee",
      "metadata": {
        "id": "ec0b1cee"
      },
      "source": [
        "Let’s run it once to compile it:"
      ]
    },
    {
      "cell_type": "code",
      "execution_count": null,
      "id": "0f145479",
      "metadata": {
        "hide-output": false,
        "id": "0f145479"
      },
      "outputs": [],
      "source": [
        "%%time\n",
        "compute_call_price_jax().block_until_ready()"
      ]
    },
    {
      "cell_type": "markdown",
      "id": "57662dd9",
      "metadata": {
        "id": "57662dd9"
      },
      "source": [
        "And now let’s time it:"
      ]
    },
    {
      "cell_type": "code",
      "execution_count": null,
      "id": "fb3c3e41",
      "metadata": {
        "hide-output": false,
        "id": "fb3c3e41"
      },
      "outputs": [],
      "source": [
        "%%time\n",
        "compute_call_price_jax().block_until_ready()"
      ]
    }
  ],
  "metadata": {
    "date": 1732064317.8440175,
    "filename": "jax_intro.md",
    "kernelspec": {
      "display_name": "Python 3",
      "name": "python3"
    },
    "title": "An Introduction to JAX",
    "colab": {
      "provenance": [],
      "toc_visible": true,
      "gpuType": "T4"
    },
    "accelerator": "GPU"
  },
  "nbformat": 4,
  "nbformat_minor": 5
}