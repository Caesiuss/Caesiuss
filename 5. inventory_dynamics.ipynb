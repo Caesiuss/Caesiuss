{
  "cells": [
    {
      "cell_type": "markdown",
      "id": "9be7f948",
      "metadata": {
        "id": "9be7f948"
      },
      "source": [
        "# Inventory Dynamics"
      ]
    },
    {
      "cell_type": "markdown",
      "id": "51379c67",
      "metadata": {
        "id": "51379c67"
      },
      "source": [
        "# GPU\n",
        "\n",
        "This lecture was built using a machine with JAX installed and access to a GPU.\n",
        "\n",
        "To run this lecture on [Google Colab](https://colab.research.google.com/), click on the “play” icon top right, select Colab, and set the runtime environment to include a GPU.\n",
        "\n",
        "To run this lecture on your own machine, you need to install [Google JAX](https://github.com/google/jax).\n",
        "\n",
        "\n",
        "<a id='index-0'></a>"
      ]
    },
    {
      "cell_type": "markdown",
      "id": "340566db",
      "metadata": {
        "id": "340566db"
      },
      "source": [
        "## Overview\n",
        "\n",
        "This lecture explores the inventory dynamics of a firm using so-called s-S inventory control.\n",
        "\n",
        "Loosely speaking, this means that the firm\n",
        "\n",
        "- waits until inventory falls below some value $ s $  \n",
        "- and then restocks with a bulk order of $ S $ units (or, in some models, restocks up to level $ S $).  \n",
        "\n",
        "\n",
        "We will be interested in the distribution of the associated Markov process,\n",
        "which can be thought of as cross-sectional distributions of inventory levels\n",
        "across a large number of firms, all of which\n",
        "\n",
        "1. evolve independently and  \n",
        "1. have the same dynamics.  \n",
        "\n",
        "\n",
        "Note that we also studied this model in a [separate\n",
        "lecture](https://python.quantecon.org/inventory_dynamics.html), using Numba.\n",
        "\n",
        "Here we study the same problem using JAX.\n",
        "\n",
        "We will use the following imports:"
      ]
    },
    {
      "cell_type": "code",
      "execution_count": 1,
      "id": "6ad433ac",
      "metadata": {
        "hide-output": false,
        "id": "6ad433ac"
      },
      "outputs": [],
      "source": [
        "import matplotlib.pyplot as plt\n",
        "import numpy as np\n",
        "import jax\n",
        "import jax.numpy as jnp\n",
        "from jax import random, lax\n",
        "from collections import namedtuple"
      ]
    },
    {
      "cell_type": "markdown",
      "id": "b58d006f",
      "metadata": {
        "id": "b58d006f"
      },
      "source": [
        "Here’s a description of our GPU:"
      ]
    },
    {
      "cell_type": "code",
      "execution_count": 2,
      "id": "e1e5c7f5",
      "metadata": {
        "hide-output": false,
        "id": "e1e5c7f5",
        "outputId": "33764851-53ac-4a05-9ded-dc1c505e185a",
        "colab": {
          "base_uri": "https://localhost:8080/"
        }
      },
      "outputs": [
        {
          "output_type": "stream",
          "name": "stdout",
          "text": [
            "Wed Mar 12 10:31:24 2025       \n",
            "+-----------------------------------------------------------------------------------------+\n",
            "| NVIDIA-SMI 550.54.15              Driver Version: 550.54.15      CUDA Version: 12.4     |\n",
            "|-----------------------------------------+------------------------+----------------------+\n",
            "| GPU  Name                 Persistence-M | Bus-Id          Disp.A | Volatile Uncorr. ECC |\n",
            "| Fan  Temp   Perf          Pwr:Usage/Cap |           Memory-Usage | GPU-Util  Compute M. |\n",
            "|                                         |                        |               MIG M. |\n",
            "|=========================================+========================+======================|\n",
            "|   0  Tesla T4                       Off |   00000000:00:04.0 Off |                    0 |\n",
            "| N/A   47C    P8             10W /   70W |       0MiB /  15360MiB |      0%      Default |\n",
            "|                                         |                        |                  N/A |\n",
            "+-----------------------------------------+------------------------+----------------------+\n",
            "                                                                                         \n",
            "+-----------------------------------------------------------------------------------------+\n",
            "| Processes:                                                                              |\n",
            "|  GPU   GI   CI        PID   Type   Process name                              GPU Memory |\n",
            "|        ID   ID                                                               Usage      |\n",
            "|=========================================================================================|\n",
            "|  No running processes found                                                             |\n",
            "+-----------------------------------------------------------------------------------------+\n"
          ]
        }
      ],
      "source": [
        "!nvidia-smi"
      ]
    },
    {
      "cell_type": "markdown",
      "id": "e03e05fb",
      "metadata": {
        "id": "e03e05fb"
      },
      "source": [
        "## Sample paths\n",
        "\n",
        "Consider a firm with inventory $ X_t $.\n",
        "\n",
        "The firm waits until $ X_t \\leq s $ and then restocks up to $ S $ units.\n",
        "\n",
        "It faces stochastic demand $ \\{ D_t \\} $, which we assume is IID across time and\n",
        "firms.\n",
        "\n",
        "With notation $ a^+ := \\max\\{a, 0\\} $, inventory dynamics can be written\n",
        "as\n",
        "\n",
        "$$\n",
        "X_{t+1} =\n",
        "    \\begin{cases}\n",
        "      ( S - D_{t+1})^+ & \\quad \\text{if } X_t \\leq s \\\\\n",
        "      ( X_t - D_{t+1} )^+ &  \\quad \\text{if } X_t > s\n",
        "    \\end{cases}\n",
        "$$\n",
        "\n",
        "In what follows, we will assume that each $ D_t $ is lognormal, so that\n",
        "\n",
        "$$\n",
        "D_t = \\exp(\\mu + \\sigma Z_t)\n",
        "$$\n",
        "\n",
        "where $ \\mu $ and $ \\sigma $ are parameters and $ \\{Z_t\\} $ is IID\n",
        "and standard normal.\n",
        "\n",
        "Here’s a `namedtuple` that stores parameters."
      ]
    },
    {
      "cell_type": "code",
      "execution_count": 3,
      "id": "7234cb4f",
      "metadata": {
        "hide-output": false,
        "id": "7234cb4f"
      },
      "outputs": [],
      "source": [
        "Parameters = namedtuple('Parameters', ['s', 'S', 'μ', 'σ'])\n",
        "\n",
        "# Create a default instance\n",
        "params = Parameters(s=10, S=100, μ=1.0, σ=0.5)"
      ]
    },
    {
      "cell_type": "markdown",
      "id": "ea263c77",
      "metadata": {
        "id": "ea263c77"
      },
      "source": [
        "## Cross-sectional distributions\n",
        "\n",
        "Now let’s look at the marginal distribution $ \\psi_T $ of $ X_T $ for some fixed $ T $.\n",
        "\n",
        "The probability distribution $ \\psi_T $ is the time $ T $ distribution of firm\n",
        "inventory levels implied by the model.\n",
        "\n",
        "We will approximate this distribution by\n",
        "\n",
        "1. fixing $ n $ to be some large number, indicating the number of firms in the\n",
        "  simulation,  \n",
        "1. fixing $ T $, the time period we are interested in,  \n",
        "1. generating $ n $ independent draws from some fixed distribution $ \\psi_0 $ that gives the\n",
        "  initial cross-section of inventories for the $ n $ firms, and  \n",
        "1. shifting this distribution forward in time $ T $ periods, updating each firm\n",
        "  $ T $ times via the dynamics described above (independent of other firms).  \n",
        "\n",
        "\n",
        "We will then visualize $ \\psi_T $ by histogramming the cross-section.\n",
        "\n",
        "We will use the following code to update the cross-section of firms by one period."
      ]
    },
    {
      "cell_type": "code",
      "execution_count": 4,
      "id": "f39f1333",
      "metadata": {
        "hide-output": false,
        "id": "f39f1333"
      },
      "outputs": [],
      "source": [
        "@jax.jit\n",
        "def update_cross_section(params, X_vec, D):\n",
        "    \"\"\"\n",
        "    Update by one period a cross-section of firms with inventory levels given by\n",
        "    X_vec, given the vector of demand shocks in D.\n",
        "\n",
        "       * D[i] is the demand shock for firm i with current inventory X_vec[i]\n",
        "\n",
        "    \"\"\"\n",
        "    # Unpack\n",
        "    s, S = params.s, params.S\n",
        "    # Restock if the inventory is below the threshold\n",
        "    X_new = jnp.where(X_vec <= s,\n",
        "                      jnp.maximum(S - D, 0), jnp.maximum(X_vec - D, 0))\n",
        "    return X_new"
      ]
    },
    {
      "cell_type": "markdown",
      "id": "4ddd0f84",
      "metadata": {
        "id": "4ddd0f84"
      },
      "source": [
        "### For loop version\n",
        "\n",
        "Now we provide code to compute the cross-sectional distribution $ \\psi_T $ given some\n",
        "initial distribution $ \\psi_0 $ and a positive integer $ T $.\n",
        "\n",
        "In this code we use an ordinary Python `for` loop to step forward through time\n",
        "\n",
        "While Python loops are slow, this approach is reasonable here because\n",
        "efficiency of outer loops has far less influence on runtime than efficiency of inner loops.\n",
        "\n",
        "(Below we will squeeze out more speed by compiling the outer loop as well as the\n",
        "update rule.)\n",
        "\n",
        "In the code below, the initial distribution $ \\psi_0 $ takes all firms to have\n",
        "initial inventory `x_init`."
      ]
    },
    {
      "cell_type": "code",
      "execution_count": 5,
      "id": "d68d01be",
      "metadata": {
        "hide-output": false,
        "id": "d68d01be"
      },
      "outputs": [],
      "source": [
        "def compute_cross_section(params, x_init, T, key, num_firms=50_000):\n",
        "    # Set up initial distribution\n",
        "    X_vec = jnp.full((num_firms, ), x_init)\n",
        "      # 生成一个大小为 (50,000,) 的数组 X_vec，所有值为 x_init。\n",
        "      # 代表 50,000 家公司的初始库存都设为 x_init。\n",
        "    # Loop\n",
        "    for i in range(T):\n",
        "        Z = random.normal(key, shape=(num_firms, ))  # 生成 50,000 个标准正态随机数\n",
        "        D = jnp.exp(params.μ + params.σ * Z)\n",
        "\n",
        "        X_vec = update_cross_section(params, X_vec, D)\n",
        "        _, key = random.split(key)\n",
        "          # JAX 不支持 in-place 生成随机数，所以每次循环都需要手动更新随机种子。\n",
        "          # random.split(key) 返回新的随机种子，确保每期的 Z 生成不同的随机数。\n",
        "\n",
        "    return X_vec"
      ]
    },
    {
      "cell_type": "markdown",
      "id": "9579c5da",
      "metadata": {
        "id": "9579c5da"
      },
      "source": [
        "We’ll use the following specification"
      ]
    },
    {
      "cell_type": "code",
      "execution_count": 6,
      "id": "b99a4ea3",
      "metadata": {
        "hide-output": false,
        "id": "b99a4ea3"
      },
      "outputs": [],
      "source": [
        "x_init = 50\n",
        "T = 500\n",
        "# Initialize random number generator\n",
        "key = random.PRNGKey(10)"
      ]
    },
    {
      "cell_type": "markdown",
      "id": "2f5cd1e4",
      "metadata": {
        "id": "2f5cd1e4"
      },
      "source": [
        "Let’s look at the timing."
      ]
    },
    {
      "cell_type": "code",
      "execution_count": 7,
      "id": "f0d3a93e",
      "metadata": {
        "hide-output": false,
        "id": "f0d3a93e",
        "outputId": "0eed83bb-0325-43b0-b1b3-043cbae6b528",
        "colab": {
          "base_uri": "https://localhost:8080/"
        }
      },
      "outputs": [
        {
          "output_type": "stream",
          "name": "stdout",
          "text": [
            "CPU times: user 1.72 s, sys: 282 ms, total: 2.01 s\n",
            "Wall time: 1.6 s\n"
          ]
        }
      ],
      "source": [
        "%time X_vec = compute_cross_section(params, \\\n",
        "        x_init, T, key).block_until_ready()"
      ]
    },
    {
      "cell_type": "markdown",
      "id": "6fffeec5",
      "metadata": {
        "id": "6fffeec5"
      },
      "source": [
        "Let’s run again to eliminate compile time."
      ]
    },
    {
      "cell_type": "code",
      "execution_count": 8,
      "id": "b117e80d",
      "metadata": {
        "hide-output": false,
        "id": "b117e80d",
        "outputId": "c17e47ca-4840-4e9a-d704-381d670a4b72",
        "colab": {
          "base_uri": "https://localhost:8080/"
        }
      },
      "outputs": [
        {
          "output_type": "stream",
          "name": "stdout",
          "text": [
            "CPU times: user 934 ms, sys: 277 ms, total: 1.21 s\n",
            "Wall time: 714 ms\n"
          ]
        }
      ],
      "source": [
        "%time X_vec = compute_cross_section(params, \\\n",
        "        x_init, T, key).block_until_ready()"
      ]
    },
    {
      "cell_type": "markdown",
      "id": "fe0b98ad",
      "metadata": {
        "id": "fe0b98ad"
      },
      "source": [
        "Here’s a histogram of inventory levels at time $ T $."
      ]
    },
    {
      "cell_type": "code",
      "execution_count": 9,
      "id": "7d7c4809",
      "metadata": {
        "hide-output": false,
        "id": "7d7c4809",
        "outputId": "90e92008-4d92-4b2b-b9d5-a68b833d67ab",
        "colab": {
          "base_uri": "https://localhost:8080/",
          "height": 449
        }
      },
      "outputs": [
        {
          "output_type": "display_data",
          "data": {
            "text/plain": [
              "<Figure size 640x480 with 1 Axes>"
            ],
            "image/png": "[encoded data removed]"
          },
          "metadata": {}
        }
      ],
      "source": [
        "fig, ax = plt.subplots()\n",
        "ax.hist(X_vec, bins=50,\n",
        "        density=True,\n",
        "        histtype='step',\n",
        "        label=f'cross-section when $t = {T}$')\n",
        "ax.set_xlabel('inventory')\n",
        "ax.set_ylabel('probability')\n",
        "ax.legend()\n",
        "plt.show()"
      ]
    },
    {
      "cell_type": "markdown",
      "id": "31608829",
      "metadata": {
        "id": "31608829"
      },
      "source": [
        "### Compiling the outer loop\n",
        "\n",
        "Now let’s see if we can gain some speed by compiling the outer loop, which steps\n",
        "through the time dimension.\n",
        "\n",
        "We will do this using `jax.jit` and a `fori_loop`, which is a compiler-ready version of a `for` loop provided by JAX."
      ]
    },
    {
      "cell_type": "code",
      "execution_count": 10,
      "id": "1e78449a",
      "metadata": {
        "hide-output": false,
        "id": "1e78449a"
      },
      "outputs": [],
      "source": [
        "def compute_cross_section_fori(params, x_init, T, key, num_firms=50_000):\n",
        "\n",
        "    s, S, μ, σ = params.s, params.S, params.μ, params.σ\n",
        "    X = jnp.full((num_firms, ), x_init)\n",
        "\n",
        "    # Define the function for each update\n",
        "    def fori_update(t, inputs):\n",
        "        # Unpack\n",
        "        X, key = inputs\n",
        "        # Draw shocks using key\n",
        "        Z = random.normal(key, shape=(num_firms,))\n",
        "        D = jnp.exp(μ + σ * Z)\n",
        "        # Update X\n",
        "        X = jnp.where(X <= s,\n",
        "                  jnp.maximum(S - D, 0),\n",
        "                  jnp.maximum(X - D, 0))\n",
        "        # Refresh the key\n",
        "        key, subkey = random.split(key)\n",
        "        return X, subkey\n",
        "\n",
        "    # Loop t from 0 to T, applying fori_update each time.\n",
        "    # The initial condition for fori_update is (X, key).\n",
        "    X, key = lax.fori_loop(0, T, fori_update, (X, key))\n",
        "      # 高效地执行 T 期循环，替代 Python for。\n",
        "      # fori_update() 处理每个时间步的库存更新。\n",
        "      # X, key 是 初始状态，fori_update() 反复作用在它们上。\n",
        "\n",
        "    return X\n",
        "\n",
        "# Compile taking T and num_firms as static (changes trigger recompile)\n",
        "compute_cross_section_fori = jax.jit(\n",
        "    compute_cross_section_fori, static_argnums=(2, 4))"
      ]
    },
    {
      "cell_type": "markdown",
      "id": "58e67799",
      "metadata": {
        "id": "58e67799"
      },
      "source": [
        "Let’s see how fast this runs with compile time."
      ]
    },
    {
      "cell_type": "code",
      "execution_count": 11,
      "id": "7886905a",
      "metadata": {
        "hide-output": false,
        "id": "7886905a",
        "outputId": "d6172b67-2fa9-4408-cace-33acb8b10c11",
        "colab": {
          "base_uri": "https://localhost:8080/"
        }
      },
      "outputs": [
        {
          "output_type": "stream",
          "name": "stdout",
          "text": [
            "CPU times: user 655 ms, sys: 23.7 ms, total: 679 ms\n",
            "Wall time: 616 ms\n"
          ]
        }
      ],
      "source": [
        "%time X_vec = compute_cross_section_fori(params, \\\n",
        "                x_init, T, key).block_until_ready()"
      ]
    },
    {
      "cell_type": "markdown",
      "id": "63c82058",
      "metadata": {
        "id": "63c82058"
      },
      "source": [
        "And let’s see how fast it runs without compile time."
      ]
    },
    {
      "cell_type": "code",
      "execution_count": 12,
      "id": "571c4b0f",
      "metadata": {
        "hide-output": false,
        "id": "571c4b0f",
        "outputId": "32b6e7b6-d2af-48e7-89fa-4d10cd72d9a8",
        "colab": {
          "base_uri": "https://localhost:8080/"
        }
      },
      "outputs": [
        {
          "output_type": "stream",
          "name": "stdout",
          "text": [
            "CPU times: user 8.09 ms, sys: 1.79 ms, total: 9.88 ms\n",
            "Wall time: 11.5 ms\n"
          ]
        }
      ],
      "source": [
        "%time X_vec = compute_cross_section_fori(params, \\\n",
        "                x_init, T, key).block_until_ready()"
      ]
    },
    {
      "cell_type": "markdown",
      "id": "90c71bda",
      "metadata": {
        "id": "90c71bda"
      },
      "source": [
        "Compared to the original version with a pure Python outer loop, we have\n",
        "produced a nontrivial speed gain.\n",
        "\n",
        "This is due to the fact that we have compiled the whole operation."
      ]
    },
    {
      "cell_type": "markdown",
      "source": [
        "#### lax.fori_loop\n",
        "## **1. `lax.fori_loop()` 是什么？**\n",
        "`lax.fori_loop()` 是 **JAX 的一个高效循环函数**，用于 **替代 Python 的 `for` 循环**。  \n",
        "它在 JAX 计算图（computation graph）中 **将整个循环优化为一个整体操作**，**避免 Python 解释器的逐步执行**，从而在 CPU/GPU/TPU 上运行更快。\n",
        "\n",
        "在 JAX 中，`lax.fori_loop()` 的基本语法是：\n",
        "```python\n",
        "lax.fori_loop(lower, upper, body_fun, init_val)\n",
        "```\n",
        "- `lower`：循环起始值（相当于 `for i in range(lower, ...)`）。\n",
        "- `upper`：循环终止值（不包含 `upper`）。\n",
        "- `body_fun`：每次循环的计算函数（相当于 `for` 循环的循环体）。\n",
        "- `init_val`：初始状态（循环开始时的变量）。\n",
        "\n",
        "---\n",
        "\n",
        "## **2. 为什么 `lax.fori_loop()` 比 Python `for` 快？**\n",
        "### **🔹 (1) Python `for` 解释执行**\n",
        "Python 的 `for` 循环 **每次迭代都会触发解释器运行代码**：\n",
        "```python\n",
        "for i in range(T):\n",
        "    X = update(X)  # 逐步执行\n",
        "```\n",
        "- Python 是**逐行解释**，每次循环都要解析 `X = update(X)`。\n",
        "- 在 `T=1000` 这样的多次迭代中，**解释器的开销很大**，导致运行慢。\n",
        "\n",
        "---\n",
        "\n",
        "### **🔹 (2) `lax.fori_loop()` 计算优化**\n",
        "JAX 的 `lax.fori_loop()` **在编译时（JIT 编译）优化整个循环**：\n",
        "```python\n",
        "X_final = lax.fori_loop(0, T, update_function, X_init)\n",
        "```\n",
        "- **JAX 直接在计算图（computation graph）中展开整个循环**，**避免 Python 解释器的开销**。\n",
        "- 计算图会**融合（fusion）所有循环操作**，让 GPU/TPU **批量计算**，**减少内存访问开销**。\n",
        "\n",
        "---\n",
        "\n",
        "## **3. `lax.fori_loop()` 例子**\n",
        "### **🔹 (1) 普通 Python `for` 循环**\n",
        "```python\n",
        "import jax.numpy as jnp\n",
        "\n",
        "X = jnp.array(0.0)  # 初始值\n",
        "\n",
        "for i in range(10):\n",
        "    X += 1\n",
        "```\n",
        "**问题**：\n",
        "- **Python 解释器逐步执行**，每次循环都调用 `X += 1`，开销大。\n",
        "- **JAX 需要 tracing `for` 循环**，无法完全优化。\n",
        "\n",
        "---\n",
        "\n",
        "### **🔹 (2) 用 `lax.fori_loop()` 计算相同的循环**\n",
        "```python\n",
        "from jax import lax\n",
        "\n",
        "X_init = jnp.array(0.0)\n",
        "\n",
        "def body_fun(i, X):\n",
        "    return X + 1\n",
        "\n",
        "X_final = lax.fori_loop(0, 10, body_fun, X_init)\n",
        "```\n",
        "**优化点**：\n",
        "✅ **JAX 计算图优化**，整个 `fori_loop()` **被视为一个整体运算**。  \n",
        "✅ **避免 Python 解释器干预**，执行更快。  \n",
        "✅ **适用于 GPU/TPU**，提升大规模计算效率。  \n",
        "\n",
        "---\n",
        "\n",
        "## **4. 为什么 `lax.fori_loop()` 更适合大规模计算？**\n",
        "### **🔹 (1) 支持 JAX 的 JIT 编译**\n",
        "`lax.fori_loop()` 能和 `jax.jit()` 结合：\n",
        "```python\n",
        "@jax.jit\n",
        "def compute():\n",
        "    return lax.fori_loop(0, 1000, lambda i, x: x + 1, 0.0)\n",
        "```\n",
        "✅ **在编译时直接展开 `1000` 次循环**，计算更快。  \n",
        "✅ **Python `for` 需要解释 `1000` 次，而 `fori_loop()` 直接在计算图上优化**。\n",
        "\n",
        "---\n",
        "\n",
        "### **🔹 (2) 避免 Python 的控制流**\n",
        "**Python 的 `for` 循环无法完全 JIT 编译**，但 `lax.fori_loop()` 可以：\n",
        "```python\n",
        "@jax.jit\n",
        "def slow_loop():\n",
        "    X = jnp.array(0.0)\n",
        "    for i in range(1000):  # 解释器逐步执行\n",
        "        X += 1\n",
        "    return X\n",
        "```\n",
        "**⚠️ Python `for` 不能高效 JIT 编译，影响速度**。\n",
        "\n",
        "改用 `lax.fori_loop()`：\n",
        "```python\n",
        "@jax.jit\n",
        "def fast_loop():\n",
        "    return lax.fori_loop(0, 1000, lambda i, x: x + 1, 0.0)\n",
        "```\n",
        "**🚀 `lax.fori_loop()` 能被完全优化，速度更快！**\n",
        "\n"
      ],
      "metadata": {
        "id": "aXexWp-J9fKx"
      },
      "id": "aXexWp-J9fKx"
    },
    {
      "cell_type": "markdown",
      "id": "c9a13798",
      "metadata": {
        "id": "c9a13798"
      },
      "source": [
        "### Further vectorization\n",
        "\n",
        "For relatively small problems, we can make this code run even faster by generating\n",
        "all random variables at once.\n",
        "\n",
        "This improves efficiency because we are taking more operations out of the loop."
      ]
    },
    {
      "cell_type": "code",
      "execution_count": 13,
      "id": "c47a6f80",
      "metadata": {
        "hide-output": false,
        "id": "c47a6f80"
      },
      "outputs": [],
      "source": [
        "def compute_cross_section_fori(params, x_init, T, key, num_firms=50_000):\n",
        "\n",
        "    s, S, μ, σ = params.s, params.S, params.μ, params.σ\n",
        "    X = jnp.full((num_firms, ), x_init)\n",
        "    Z = random.normal(key, shape=(T, num_firms))\n",
        "    D = jnp.exp(μ + σ * Z)\n",
        "#       预先生成 所有时间步 T 期的随机数 Z，并一次性计算所有 D[i, :]。\n",
        "      # 好处：\n",
        "      # 避免在 fori_loop 内部反复调用 random.normal()，减少 random.split() 的开销。\n",
        "      # 计算 D 时，可以用 jnp.exp(μ + σ * Z) 并行计算，提升性能。\n",
        "      # 潜在问题：\n",
        "      # 由于所有随机数都是一次性生成的，如果 T 很大，可能会占用大量内存。\n",
        "    def update_cross_section(i, X):\n",
        "        X = jnp.where(X <= s,\n",
        "                  jnp.maximum(S - D[i, :], 0),\n",
        "                  jnp.maximum(X - D[i, :], 0))\n",
        "        return X\n",
        "\n",
        "    X = lax.fori_loop(0, T, update_cross_section, X)\n",
        "      # fori_loop 仅作用于 X，每次迭代更新 X，不涉及 key 的变化。\n",
        "\n",
        "    return X\n",
        "\n",
        "# Compile taking T and num_firms as static (changes trigger recompile)\n",
        "compute_cross_section_fori = jax.jit(\n",
        "    compute_cross_section_fori, static_argnums=(2, 4))"
      ]
    },
    {
      "cell_type": "markdown",
      "id": "961d3eef",
      "metadata": {
        "id": "961d3eef"
      },
      "source": [
        "Let’s test it with compile time included."
      ]
    },
    {
      "cell_type": "code",
      "execution_count": 14,
      "id": "3c3088cf",
      "metadata": {
        "hide-output": false,
        "id": "3c3088cf",
        "outputId": "24923d84-b45e-4a6a-b32d-956205a92ae3",
        "colab": {
          "base_uri": "https://localhost:8080/"
        }
      },
      "outputs": [
        {
          "output_type": "stream",
          "name": "stdout",
          "text": [
            "CPU times: user 464 ms, sys: 10.4 ms, total: 475 ms\n",
            "Wall time: 461 ms\n"
          ]
        }
      ],
      "source": [
        "%time X_vec = compute_cross_section_fori(params, \\\n",
        "                x_init, T, key).block_until_ready()"
      ]
    },
    {
      "cell_type": "markdown",
      "id": "5d8ee59a",
      "metadata": {
        "id": "5d8ee59a"
      },
      "source": [
        "Let’s run again to eliminate compile time."
      ]
    },
    {
      "cell_type": "code",
      "execution_count": 15,
      "id": "86e10ac3",
      "metadata": {
        "hide-output": false,
        "id": "86e10ac3",
        "outputId": "e83997c5-b251-4a3f-f4be-3856ee1d387c",
        "colab": {
          "base_uri": "https://localhost:8080/"
        }
      },
      "outputs": [
        {
          "output_type": "stream",
          "name": "stdout",
          "text": [
            "CPU times: user 5.9 ms, sys: 728 µs, total: 6.63 ms\n",
            "Wall time: 6.82 ms\n"
          ]
        }
      ],
      "source": [
        "%time X_vec = compute_cross_section_fori(params, \\\n",
        "                x_init, T, key).block_until_ready()"
      ]
    },
    {
      "cell_type": "markdown",
      "id": "f803463a",
      "metadata": {
        "id": "f803463a"
      },
      "source": [
        "On one hand, this version is faster than the previous one, where random variables were\n",
        "generated inside the loop.\n",
        "\n",
        "On the other hand, this implementation consumes far more memory, as we need to\n",
        "store large arrays of random draws.\n",
        "\n",
        "The high memory consumption becomes problematic for large problems."
      ]
    },
    {
      "cell_type": "markdown",
      "id": "9c2c21cf",
      "metadata": {
        "id": "9c2c21cf"
      },
      "source": [
        "## Distribution dynamics\n",
        "\n",
        "Next let’s take a look at how the distribution sequence evolves over time.\n",
        "\n",
        "We will go back to using ordinary Python `for` loops.\n",
        "\n",
        "Here is code that repeatedly shifts the cross-section forward while\n",
        "recording the cross-section at the dates in `sample_dates`."
      ]
    },
    {
      "cell_type": "code",
      "execution_count": 16,
      "id": "dd636681",
      "metadata": {
        "hide-output": false,
        "id": "dd636681"
      },
      "outputs": [],
      "source": [
        "def shift_forward_and_sample(x_init, params, sample_dates,\n",
        "                        key, num_firms=50_000, sim_length=750):\n",
        "\n",
        "    X = res = jnp.full((num_firms, ), x_init)\n",
        "\n",
        "    # Use for loop to update X and collect samples\n",
        "    for i in range(sim_length):\n",
        "        Z = random.normal(key, shape=(num_firms, ))\n",
        "        D = jnp.exp(params.μ + params.σ * Z)\n",
        "\n",
        "        X = update_cross_section(params, X, D)\n",
        "        _, key = random.split(key)\n",
        "\n",
        "        # draw a sample at the sample dates\n",
        "        if (i+1 in sample_dates):\n",
        "          res = jnp.vstack((res, X))\n",
        "            # i+1（即当前时间步，从 1 开始计数）如果在 sample_dates 中：\n",
        "            # 追加 X 到 res（行方向堆叠）\n",
        "            # jnp.vstack() 生成新的数组，将 X 作为新的一行添加到 res\n",
        "\n",
        "    return res[1:]\n",
        "      # res 的第一行是 x_init，去掉它，只返回采样点数据\n"
      ]
    },
    {
      "cell_type": "markdown",
      "id": "1b47db51",
      "metadata": {
        "id": "1b47db51"
      },
      "source": [
        "Let’s test it"
      ]
    },
    {
      "cell_type": "code",
      "execution_count": 17,
      "id": "852b95bf",
      "metadata": {
        "hide-output": false,
        "id": "852b95bf",
        "outputId": "dbdb4fcb-205f-47bd-db08-54e9cf065df7",
        "colab": {
          "base_uri": "https://localhost:8080/"
        }
      },
      "outputs": [
        {
          "output_type": "stream",
          "name": "stdout",
          "text": [
            "CPU times: user 1.81 s, sys: 324 ms, total: 2.14 s\n",
            "Wall time: 1.47 s\n"
          ]
        }
      ],
      "source": [
        "x_init = 50\n",
        "num_firms = 10_000\n",
        "sample_dates = 10, 50, 250, 500, 750\n",
        "key = random.PRNGKey(10)\n",
        "\n",
        "\n",
        "%time X = shift_forward_and_sample(x_init, params, \\\n",
        "                    sample_dates, key).block_until_ready()"
      ]
    },
    {
      "cell_type": "markdown",
      "id": "0dc1d2c5",
      "metadata": {
        "id": "0dc1d2c5"
      },
      "source": [
        "We run the code again to eliminate compile time."
      ]
    },
    {
      "cell_type": "code",
      "execution_count": 18,
      "id": "b59590e1",
      "metadata": {
        "hide-output": false,
        "id": "b59590e1",
        "outputId": "9d6df6e6-6314-4b4e-beca-99bf69eca4c1",
        "colab": {
          "base_uri": "https://localhost:8080/"
        }
      },
      "outputs": [
        {
          "output_type": "stream",
          "name": "stdout",
          "text": [
            "CPU times: user 1.63 s, sys: 326 ms, total: 1.96 s\n",
            "Wall time: 1.55 s\n"
          ]
        }
      ],
      "source": [
        "%time X = shift_forward_and_sample(x_init, params, \\\n",
        "                    sample_dates, key).block_until_ready()"
      ]
    },
    {
      "cell_type": "markdown",
      "id": "c27ebd48",
      "metadata": {
        "id": "c27ebd48"
      },
      "source": [
        "Let’s plot the output."
      ]
    },
    {
      "cell_type": "code",
      "execution_count": 19,
      "id": "123cd6bd",
      "metadata": {
        "hide-output": false,
        "id": "123cd6bd",
        "outputId": "90e284d7-6e4e-4e0a-8055-75d5d0f3bffe",
        "colab": {
          "base_uri": "https://localhost:8080/",
          "height": 449
        }
      },
      "outputs": [
        {
          "output_type": "display_data",
          "data": {
            "text/plain": [
              "<Figure size 640x480 with 1 Axes>"
            ],
            "image/png": "[encoded data removed]"
          },
          "metadata": {}
        }
      ],
      "source": [
        "fig, ax = plt.subplots()\n",
        "\n",
        "for i, date in enumerate(sample_dates):\n",
        "    ax.hist(X[i, :], bins=50,\n",
        "            density=True,\n",
        "            histtype='step',\n",
        "            label=f'cross-section when $t = {date}$')\n",
        "\n",
        "ax.set_xlabel('inventory')\n",
        "ax.set_ylabel('probability')\n",
        "ax.legend()\n",
        "plt.show()"
      ]
    },
    {
      "cell_type": "markdown",
      "id": "7cee1a4e",
      "metadata": {
        "id": "7cee1a4e"
      },
      "source": [
        "This model for inventory dynamics is asymptotically stationary, with a unique\n",
        "stationary distribution.\n",
        "\n",
        "In particular, the sequence of marginal distributions $ \\{\\psi_t\\} $\n",
        "converges to a unique limiting distribution that does not depend on\n",
        "initial conditions.\n",
        "\n",
        "Although we will not prove this here, we can see it in the simulation above.\n",
        "\n",
        "By $ t=500 $ or $ t=750 $ the distributions are barely changing.\n",
        "\n",
        "If you test a few different initial conditions, you will see that they do not affect long-run outcomes."
      ]
    },
    {
      "cell_type": "markdown",
      "id": "9ea66fb0",
      "metadata": {
        "id": "9ea66fb0"
      },
      "source": [
        "## Restock frequency\n",
        "\n",
        "As an exercise, let’s study the probability that firms need to restock over a given time period.\n",
        "\n",
        "In the exercise, we will\n",
        "\n",
        "- set the starting stock level to $ X_0 = 70 $ and  \n",
        "- calculate the proportion of firms that need to order twice or more in the first 50 periods.  \n",
        "\n",
        "\n",
        "This proportion approximates the probability of the event when the sample size\n",
        "is large."
      ]
    },
    {
      "cell_type": "markdown",
      "id": "aa1511d4",
      "metadata": {
        "id": "aa1511d4"
      },
      "source": [
        "### For loop version\n",
        "\n",
        "We start with an easier `for` loop implementation"
      ]
    },
    {
      "cell_type": "code",
      "execution_count": 20,
      "id": "9b1f19bb",
      "metadata": {
        "hide-output": false,
        "id": "9b1f19bb"
      },
      "outputs": [],
      "source": [
        "# Define a jitted function for each update\n",
        "@jax.jit\n",
        "def update_stock(n_restock, X, params, D):\n",
        "    n_restock = jnp.where(X <= params.s,\n",
        "                          n_restock + 1,\n",
        "                          n_restock)\n",
        "    X = jnp.where(X <= params.s,\n",
        "                  jnp.maximum(params.S - D, 0),\n",
        "                  jnp.maximum(X - D, 0))\n",
        "    return n_restock, X, key\n",
        "\n",
        "def compute_freq(params, key,\n",
        "                 x_init=70,\n",
        "                 sim_length=50,\n",
        "                 num_firms=1_000_000):\n",
        "\n",
        "    # Prepare initial arrays\n",
        "    X = jnp.full((num_firms, ), x_init)\n",
        "\n",
        "    # Stack the restock counter on top of the inventory\n",
        "    n_restock = jnp.zeros((num_firms, ))\n",
        "\n",
        "    # Use a for loop to perform the calculations on all states\n",
        "    for i in range(sim_length):\n",
        "        Z = random.normal(key, shape=(num_firms, ))\n",
        "        D = jnp.exp(params.μ + params.σ * Z)\n",
        "        n_restock, X, key = update_stock(\n",
        "            n_restock, X, params, D)\n",
        "        key = random.fold_in(key, i)\n",
        "\n",
        "    return jnp.mean(n_restock > 1, axis=0)"
      ]
    },
    {
      "cell_type": "code",
      "execution_count": 21,
      "id": "9709b422",
      "metadata": {
        "hide-output": false,
        "id": "9709b422",
        "outputId": "7a2ba18a-d830-454e-a0fa-138d11b24702",
        "colab": {
          "base_uri": "https://localhost:8080/"
        }
      },
      "outputs": [
        {
          "output_type": "stream",
          "name": "stdout",
          "text": [
            "CPU times: user 988 ms, sys: 58.8 ms, total: 1.05 s\n",
            "Wall time: 1.11 s\n"
          ]
        }
      ],
      "source": [
        "key = random.PRNGKey(27)\n",
        "\n",
        "%time freq = compute_freq(params, key).block_until_ready()"
      ]
    },
    {
      "cell_type": "markdown",
      "id": "ea1b2e1a",
      "metadata": {
        "id": "ea1b2e1a"
      },
      "source": [
        "We run the code again to get rid of compile time."
      ]
    },
    {
      "cell_type": "code",
      "execution_count": 23,
      "id": "4ed7d8eb",
      "metadata": {
        "hide-output": false,
        "id": "4ed7d8eb",
        "outputId": "71f457d4-9797-4fd1-9f11-e84e0f8c9996",
        "colab": {
          "base_uri": "https://localhost:8080/"
        }
      },
      "outputs": [
        {
          "output_type": "stream",
          "name": "stdout",
          "text": [
            "CPU times: user 138 ms, sys: 29.1 ms, total: 167 ms\n",
            "Wall time: 102 ms\n"
          ]
        }
      ],
      "source": [
        "%time freq = compute_freq(params, key).block_until_ready()"
      ]
    },
    {
      "cell_type": "code",
      "execution_count": 22,
      "id": "07c200d4",
      "metadata": {
        "hide-output": false,
        "id": "07c200d4",
        "outputId": "b8869d46-6027-45d1-88a5-2ba2eda895c5",
        "colab": {
          "base_uri": "https://localhost:8080/"
        }
      },
      "outputs": [
        {
          "output_type": "stream",
          "name": "stdout",
          "text": [
            "Frequency of at least two stock outs = 0.44772300124168396\n"
          ]
        }
      ],
      "source": [
        "print(f\"Frequency of at least two stock outs = {freq}\")"
      ]
    },
    {
      "cell_type": "markdown",
      "id": "2cc9899d",
      "metadata": {
        "id": "2cc9899d"
      },
      "source": [
        "### Exercise 5.1\n",
        "\n",
        "Write a `fori_loop` version of the last function.  See if you can increase the\n",
        "speed while generating a similar answer."
      ]
    },
    {
      "cell_type": "markdown",
      "id": "cf94eaed",
      "metadata": {
        "id": "cf94eaed"
      },
      "source": [
        "### Solution to[ Exercise 5.1](https://jax.quantecon.org/#inventory_dynamics_ex1)\n",
        "\n",
        "Here is a `lax.fori_loop` version that JIT compiles the whole function"
      ]
    },
    {
      "cell_type": "code",
      "execution_count": 24,
      "id": "ab8a298d",
      "metadata": {
        "hide-output": false,
        "id": "ab8a298d"
      },
      "outputs": [],
      "source": [
        "@jax.jit\n",
        "def compute_freq(params, key,\n",
        "                 x_init=70,\n",
        "                 sim_length=50,\n",
        "                 num_firms=1_000_000):\n",
        "\n",
        "    s, S, μ, σ = params.s, params.S, params.μ, params.σ\n",
        "    # Prepare initial arrays\n",
        "    X = jnp.full((num_firms, ), x_init)\n",
        "    Z = random.normal(key, shape=(sim_length, num_firms)) #预先生成 T × num_firms 个 Z 并计算 D\n",
        "    D = jnp.exp(μ + σ * Z)\n",
        "\n",
        "    # Stack the restock counter on top of the inventory\n",
        "    restock_count = jnp.zeros((num_firms, ))\n",
        "    Xs = (X, restock_count)\n",
        "\n",
        "    # Define the function for each update\n",
        "    def update_cross_section(i, Xs):\n",
        "        # Separate the inventory and restock counter\n",
        "        x, restock_count = Xs[0], Xs[1]\n",
        "        restock_count = jnp.where(x <= s,\n",
        "                                restock_count + 1,\n",
        "                                restock_count)\n",
        "        x = jnp.where(x <= s,\n",
        "                      jnp.maximum(S - D[i], 0),\n",
        "                      jnp.maximum(x - D[i], 0))\n",
        "\n",
        "        Xs = (x, restock_count)\n",
        "        return Xs\n",
        "\n",
        "    # Use lax.fori_loop to perform the calculations on all states\n",
        "    X_final = lax.fori_loop(0, sim_length, update_cross_section, Xs)\n",
        "\n",
        "    return jnp.mean(X_final[1] > 1)"
      ]
    },
    {
      "cell_type": "markdown",
      "id": "f0e004b1",
      "metadata": {
        "id": "f0e004b1"
      },
      "source": [
        "Note the time the routine takes to run, as well as the output"
      ]
    },
    {
      "cell_type": "code",
      "execution_count": 25,
      "id": "30c6c61c",
      "metadata": {
        "hide-output": false,
        "id": "30c6c61c",
        "outputId": "d643d4ab-6342-43bb-ad16-72cb4a37bc6c",
        "colab": {
          "base_uri": "https://localhost:8080/"
        }
      },
      "outputs": [
        {
          "output_type": "stream",
          "name": "stdout",
          "text": [
            "CPU times: user 533 ms, sys: 14.7 ms, total: 548 ms\n",
            "Wall time: 529 ms\n"
          ]
        }
      ],
      "source": [
        "%time freq = compute_freq(params, key).block_until_ready()"
      ]
    },
    {
      "cell_type": "markdown",
      "id": "8f6e06bc",
      "metadata": {
        "id": "8f6e06bc"
      },
      "source": [
        "We run the code again to eliminate the compile time."
      ]
    },
    {
      "cell_type": "code",
      "execution_count": 26,
      "id": "b608be6c",
      "metadata": {
        "hide-output": false,
        "id": "b608be6c",
        "outputId": "b45817e3-a862-4497-89ce-314f5bd095b8",
        "colab": {
          "base_uri": "https://localhost:8080/"
        }
      },
      "outputs": [
        {
          "output_type": "stream",
          "name": "stdout",
          "text": [
            "CPU times: user 1.82 ms, sys: 987 µs, total: 2.81 ms\n",
            "Wall time: 9.51 ms\n"
          ]
        }
      ],
      "source": [
        "%time freq = compute_freq(params, key).block_until_ready()"
      ]
    },
    {
      "cell_type": "code",
      "execution_count": 27,
      "id": "3585c3d5",
      "metadata": {
        "hide-output": false,
        "id": "3585c3d5",
        "outputId": "30888e89-20ad-4dc2-ac74-eb6478158ebc",
        "colab": {
          "base_uri": "https://localhost:8080/"
        }
      },
      "outputs": [
        {
          "output_type": "stream",
          "name": "stdout",
          "text": [
            "Frequency of at least two stock outs = 0.4476909935474396\n"
          ]
        }
      ],
      "source": [
        "print(f\"Frequency of at least two stock outs = {freq}\")"
      ]
    }
  ],
  "metadata": {
    "date": 1741730300.060878,
    "filename": "inventory_dynamics.md",
    "kernelspec": {
      "display_name": "Python 3",
      "name": "python3"
    },
    "title": "Inventory Dynamics",
    "colab": {
      "provenance": [],
      "toc_visible": true,
      "gpuType": "T4"
    },
    "accelerator": "GPU"
  },
  "nbformat": 4,
  "nbformat_minor": 5
}