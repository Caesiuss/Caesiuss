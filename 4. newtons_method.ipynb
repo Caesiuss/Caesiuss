{
  "cells": [
    {
      "cell_type": "markdown",
      "id": "4005d535",
      "metadata": {
        "id": "4005d535"
      },
      "source": [
        "# Newton’s Method via JAX"
      ]
    },
    {
      "cell_type": "markdown",
      "id": "2662436b",
      "metadata": {
        "id": "2662436b"
      },
      "source": [
        "# GPU\n",
        "\n",
        "This lecture was built using a machine with JAX installed and access to a GPU.\n",
        "\n",
        "To run this lecture on [Google Colab](https://colab.research.google.com/), click on the “play” icon top right, select Colab, and set the runtime environment to include a GPU.\n",
        "\n",
        "To run this lecture on your own machine, you need to install [Google JAX](https://github.com/google/jax)."
      ]
    },
    {
      "cell_type": "markdown",
      "id": "ef0e2bd3",
      "metadata": {
        "id": "ef0e2bd3"
      },
      "source": [
        "## Overview\n",
        "\n",
        "One of the key features of JAX is automatic differentiation.\n",
        "\n",
        "We introduced this feature in [Adventures with Autodiff](https://jax.quantecon.org/autodiff.html).\n",
        "\n",
        "In this lecture we apply automatic differentiation to the problem of computing economic equilibria via Newton’s method.\n",
        "\n",
        "Newton’s method is a relatively simple root and fixed point solution algorithm, which we discussed\n",
        "in [a more elementary QuantEcon lecture](https://python.quantecon.org/newton_method.html).\n",
        "\n",
        "JAX is ideally suited to implementing Newton’s method efficiently, even in high dimensions.\n",
        "\n",
        "We use the following imports in this lecture"
      ]
    },
    {
      "cell_type": "code",
      "execution_count": 1,
      "id": "668ba582",
      "metadata": {
        "hide-output": false,
        "id": "668ba582"
      },
      "outputs": [],
      "source": [
        "import jax\n",
        "import jax.numpy as jnp\n",
        "from scipy.optimize import root\n",
        "import matplotlib.pyplot as plt"
      ]
    },
    {
      "cell_type": "markdown",
      "id": "a3f52a98",
      "metadata": {
        "id": "a3f52a98"
      },
      "source": [
        "Let’s check the GPU we are running"
      ]
    },
    {
      "cell_type": "code",
      "execution_count": 2,
      "id": "251740da",
      "metadata": {
        "hide-output": false,
        "id": "251740da",
        "outputId": "79d13cca-26f9-4879-84ec-b90502d86ea9",
        "colab": {
          "base_uri": "https://localhost:8080/"
        }
      },
      "outputs": [
        {
          "output_type": "stream",
          "name": "stdout",
          "text": [
            "Sun Mar  9 14:11:47 2025       \n",
            "+-----------------------------------------------------------------------------------------+\n",
            "| NVIDIA-SMI 550.54.15              Driver Version: 550.54.15      CUDA Version: 12.4     |\n",
            "|-----------------------------------------+------------------------+----------------------+\n",
            "| GPU  Name                 Persistence-M | Bus-Id          Disp.A | Volatile Uncorr. ECC |\n",
            "| Fan  Temp   Perf          Pwr:Usage/Cap |           Memory-Usage | GPU-Util  Compute M. |\n",
            "|                                         |                        |               MIG M. |\n",
            "|=========================================+========================+======================|\n",
            "|   0  Tesla T4                       Off |   00000000:00:04.0 Off |                    0 |\n",
            "| N/A   54C    P8             10W /   70W |       0MiB /  15360MiB |      0%      Default |\n",
            "|                                         |                        |                  N/A |\n",
            "+-----------------------------------------+------------------------+----------------------+\n",
            "                                                                                         \n",
            "+-----------------------------------------------------------------------------------------+\n",
            "| Processes:                                                                              |\n",
            "|  GPU   GI   CI        PID   Type   Process name                              GPU Memory |\n",
            "|        ID   ID                                                               Usage      |\n",
            "|=========================================================================================|\n",
            "|  No running processes found                                                             |\n",
            "+-----------------------------------------------------------------------------------------+\n"
          ]
        }
      ],
      "source": [
        "!nvidia-smi"
      ]
    },
    {
      "cell_type": "markdown",
      "source": [
        "牛顿法类似用泰勒展开近似 + 收敛速度很快（二次收敛），三五次就能得到解"
      ],
      "metadata": {
        "id": "donpwnxHLkW1"
      },
      "id": "donpwnxHLkW1"
    },
    {
      "cell_type": "markdown",
      "id": "26f2e33d",
      "metadata": {
        "id": "26f2e33d"
      },
      "source": [
        "## Newton in one dimension\n",
        "\n",
        "As a warm up, let’s implement Newton’s method in JAX for a simple\n",
        "one-dimensional root-finding problem.\n",
        "\n",
        "Let $ f $ be a function from $ \\mathbb R $ to itself.\n",
        "\n",
        "A **root** of $ f $ is an $ x \\in \\mathbb R $ such that $ f(x)=0 $.\n",
        "\n",
        "[Recall](https://python.quantecon.org/newton_method.html) that Newton’s method for solving for the root of $ f $ involves iterating with the map $ q $ defined by\n",
        "\n",
        "$$\n",
        "q(x) = x - \\frac{f(x)}{f'(x)}\n",
        "$$\n",
        "\n",
        "Here is a function called `newton` that takes a function $ f $ plus a scalar value $ x_0 $,\n",
        "iterates with $ q $ starting from $ x_0 $, and returns an approximate fixed point."
      ]
    },
    {
      "cell_type": "code",
      "execution_count": 3,
      "id": "c523f19e",
      "metadata": {
        "hide-output": false,
        "id": "c523f19e"
      },
      "outputs": [],
      "source": [
        "def newton(f, x_0, tol=1e-5):\n",
        "    f_prime = jax.grad(f)\n",
        "    def q(x):\n",
        "        return x - f(x) / f_prime(x) #迭代法的解\n",
        "\n",
        "    error = tol + 1\n",
        "    x = x_0\n",
        "    while error > tol:\n",
        "        y = q(x)\n",
        "        error = abs(x - y)\n",
        "        x = y\n",
        "\n",
        "    return x"
      ]
    },
    {
      "cell_type": "markdown",
      "id": "1a087518",
      "metadata": {
        "id": "1a087518"
      },
      "source": [
        "The code above uses automatic differentiation to calculate $ f' $ via the call to `jax.grad`.\n",
        "\n",
        "Let’s test our `newton` routine on the function shown below."
      ]
    },
    {
      "cell_type": "code",
      "execution_count": 4,
      "id": "d3685817",
      "metadata": {
        "hide-output": false,
        "id": "d3685817",
        "outputId": "c2e6a17a-48e9-4ee6-8070-07a22a009e36",
        "colab": {
          "base_uri": "https://localhost:8080/",
          "height": 453
        }
      },
      "outputs": [
        {
          "output_type": "display_data",
          "data": {
            "text/plain": [
              "<Figure size 640x480 with 1 Axes>"
            ],
            "image/png": "[encoded data removed]"
          },
          "metadata": {}
        }
      ],
      "source": [
        "f = lambda x: jnp.sin(4 * (x - 1/4)) + x + x**20 - 1\n",
        "x = jnp.linspace(0, 1, 100)\n",
        "\n",
        "fig, ax = plt.subplots()\n",
        "ax.plot(x, f(x), label='$f(x)$')\n",
        "ax.axhline(ls='--', c='k')\n",
        "ax.set_xlabel('$x$', fontsize=12)\n",
        "ax.set_ylabel('$f(x)$', fontsize=12)\n",
        "ax.legend(fontsize=12)\n",
        "plt.show()"
      ]
    },
    {
      "cell_type": "markdown",
      "id": "345b2a88",
      "metadata": {
        "id": "345b2a88"
      },
      "source": [
        "Here we go"
      ]
    },
    {
      "cell_type": "code",
      "execution_count": 5,
      "id": "6db46e4c",
      "metadata": {
        "hide-output": false,
        "id": "6db46e4c",
        "outputId": "c13fd396-31d8-411b-c7d6-9449f4446258",
        "colab": {
          "base_uri": "https://localhost:8080/"
        }
      },
      "outputs": [
        {
          "output_type": "execute_result",
          "data": {
            "text/plain": [
              "Array(0.4082935, dtype=float32, weak_type=True)"
            ]
          },
          "metadata": {},
          "execution_count": 5
        }
      ],
      "source": [
        "newton(f, 0.2)"
      ]
    },
    {
      "cell_type": "markdown",
      "id": "10ef19af",
      "metadata": {
        "id": "10ef19af"
      },
      "source": [
        "This number looks to be close to the root, given the figure."
      ]
    },
    {
      "cell_type": "markdown",
      "id": "e30ddc71",
      "metadata": {
        "id": "e30ddc71"
      },
      "source": [
        "## An Equilibrium Problem\n",
        "\n",
        "Now let’s move up to higher dimensions.\n",
        "\n",
        "First we describe a market equilibrium problem we will solve with JAX via root-finding.\n",
        "\n",
        "The market is for $ n $ goods.\n",
        "\n",
        "(We are extending a two-good version of the market from [an earlier lecture](https://python.quantecon.org/newton_method.html).)\n",
        "\n",
        "The supply function for the $ i $-th good is\n",
        "\n",
        "$$\n",
        "q^s_i (p) = b_i \\sqrt{p_i}\n",
        "$$\n",
        "\n",
        "which we write in vector form as\n",
        "\n",
        "$$\n",
        "q^s (p) =b \\sqrt{p}\n",
        "$$\n",
        "\n",
        "(Here $ \\sqrt{p} $ is the square root of each $ p_i $ and $ b \\sqrt{p} $ is the vector\n",
        "formed by taking the pointwise product $ b_i \\sqrt{p_i} $ at each $ i $.)\n",
        "\n",
        "The demand function is\n",
        "\n",
        "$$\n",
        "q^d (p) = \\exp(- A p) + c\n",
        "$$\n",
        "\n",
        "(Here $ A $ is an $ n \\times n $ matrix containing parameters, $ c $ is an $ n \\times\n",
        "1 $ vector and the $ \\exp $ function acts pointwise (element-by-element) on the\n",
        "vector $ - A p $.)\n",
        "\n",
        "The excess demand function is\n",
        "\n",
        "$$\n",
        "e(p) = \\exp(- A p) + c - b \\sqrt{p}\n",
        "$$\n",
        "\n",
        "An **equilibrium price** vector is an $ n $-vector $ p $ such that $ e(p) = 0 $.\n",
        "\n",
        "The function below calculates the excess demand for given parameters"
      ]
    },
    {
      "cell_type": "code",
      "execution_count": 6,
      "id": "bb4ce1de",
      "metadata": {
        "hide-output": false,
        "id": "bb4ce1de"
      },
      "outputs": [],
      "source": [
        "def e(p, A, b, c):\n",
        "    return jnp.exp(- A @ p) + c - b * jnp.sqrt(p)"
      ]
    },
    {
      "cell_type": "markdown",
      "id": "8ffdd7a2",
      "metadata": {
        "id": "8ffdd7a2"
      },
      "source": [
        "## Computation\n",
        "\n",
        "In this section we describe and then implement the solution method."
      ]
    },
    {
      "cell_type": "markdown",
      "id": "4ae5c4fd",
      "metadata": {
        "id": "4ae5c4fd"
      },
      "source": [
        "### Newton’s Method\n",
        "\n",
        "We use a multivariate version of Newton’s method to compute the equilibrium price.\n",
        "\n",
        "The rule for updating a guess $ p_n $ of the equilibrium price vector is\n",
        "\n",
        "\n",
        "<a id='equation-multi-newton'></a>\n",
        "$$\n",
        "p_{n+1} = p_n - J_e(p_n)^{-1} e(p_n) \\tag{4.1}\n",
        "$$\n",
        "\n",
        "Here $ J_e(p_n) $ is the Jacobian of $ e $ evaluated at $ p_n $.\n",
        "\n",
        "Iteration starts from initial guess $ p_0 $.\n",
        "\n",
        "Instead of coding the Jacobian by hand, we use automatic differentiation via `jax.jacobian()`."
      ]
    },
    {
      "cell_type": "code",
      "execution_count": 7,
      "id": "f613f8d8",
      "metadata": {
        "hide-output": false,
        "id": "f613f8d8"
      },
      "outputs": [],
      "source": [
        "def newton(f, x_0, tol=1e-5, max_iter=15):\n",
        "    \"\"\"\n",
        "    A multivariate Newton root-finding routine.\n",
        "\n",
        "    \"\"\"\n",
        "    x = x_0\n",
        "    f_jac = jax.jacobian(f)\n",
        "    @jax.jit\n",
        "    def q(x):\n",
        "        \" Updates the current guess. \"\n",
        "        return x - jnp.linalg.solve(f_jac(x), f(x)) #就相当于是f(x)/f'(x),避免求inverse\n",
        "    error = tol + 1\n",
        "    n = 0\n",
        "    while error > tol:\n",
        "        n += 1\n",
        "        if(n > max_iter):\n",
        "            raise Exception('Max iteration reached without convergence')\n",
        "        y = q(x)\n",
        "        error = jnp.linalg.norm(x - y)\n",
        "        x = y\n",
        "        print(f'iteration {n}, error = {error}')\n",
        "    return x"
      ]
    },
    {
      "cell_type": "markdown",
      "id": "166acbef",
      "metadata": {
        "id": "166acbef"
      },
      "source": [
        "### Application\n",
        "\n",
        "Let’s now apply the method just described to investigate a large market with 5,000 goods.\n",
        "\n",
        "We randomly generate the matrix $ A $ and set the parameter vectors $ b, c $ to $ 1 $."
      ]
    },
    {
      "cell_type": "code",
      "source": [
        "dim = 5_000  # 设定维度，即 5000 维市场\n",
        "seed = 32  # 设定随机数种子，保证可复现\n",
        "\n",
        "# Create a random matrix A and normalize the rows to sum to one\n",
        "key = jax.random.PRNGKey(seed)\n",
        "A = jax.random.uniform(key, [dim, dim])  # 生成 [0,1] 均匀分布的 5000x5000 矩阵\n",
        "\n",
        "s = jnp.sum(A, axis=0)  # 计算每一列的总和\n",
        "A = A / s  # 归一化，使得每一列的元素和为 1\n",
        "\n",
        "# 设定 b 和 c 向量\n",
        "b = jnp.ones(dim)  # 5000 维的全 1 向量\n",
        "c = jnp.ones(dim)  # 5000 维的全 1 向量\n"
      ],
      "metadata": {
        "id": "SyNePVLuQ7IA"
      },
      "id": "SyNePVLuQ7IA",
      "execution_count": 9,
      "outputs": []
    },
    {
      "cell_type": "markdown",
      "id": "84a3e300",
      "metadata": {
        "id": "84a3e300"
      },
      "source": [
        "Here’s our initial condition $ p_0 $"
      ]
    },
    {
      "cell_type": "code",
      "execution_count": 10,
      "id": "33b74838",
      "metadata": {
        "hide-output": false,
        "id": "33b74838"
      },
      "outputs": [],
      "source": [
        "init_p = jnp.ones(dim)"
      ]
    },
    {
      "cell_type": "markdown",
      "id": "1431c944",
      "metadata": {
        "id": "1431c944"
      },
      "source": [
        "By combining the power of Newton’s method, JAX accelerated linear algebra,\n",
        "automatic differentiation, and a GPU, we obtain a relatively small error for\n",
        "this high-dimensional problem in just a few seconds:"
      ]
    },
    {
      "cell_type": "code",
      "execution_count": 11,
      "id": "b665353e",
      "metadata": {
        "hide-output": false,
        "id": "b665353e",
        "outputId": "3dd82181-17e8-434f-f8ef-7634eb97256b",
        "colab": {
          "base_uri": "https://localhost:8080/"
        }
      },
      "outputs": [
        {
          "output_type": "stream",
          "name": "stdout",
          "text": [
            "iteration 1, error = 29.977458953857422\n",
            "iteration 2, error = 5.092828750610352\n",
            "iteration 3, error = 0.10971637070178986\n",
            "iteration 4, error = 5.167595372768119e-05\n",
            "iteration 5, error = 1.1732883649528958e-05\n",
            "iteration 6, error = 4.191016159893479e-06\n",
            "CPU times: user 7.66 s, sys: 2 s, total: 9.66 s\n",
            "Wall time: 10.6 s\n"
          ]
        }
      ],
      "source": [
        "%%time\n",
        "p = newton(lambda p: e(p, A, b, c), init_p).block_until_ready()"
      ]
    },
    {
      "cell_type": "markdown",
      "id": "009b4a36",
      "metadata": {
        "id": "009b4a36"
      },
      "source": [
        "We run it again to eliminate compile time."
      ]
    },
    {
      "cell_type": "code",
      "execution_count": 12,
      "id": "f345424d",
      "metadata": {
        "hide-output": false,
        "id": "f345424d",
        "outputId": "dac8e0e5-6ce4-459c-ceca-a449af013831",
        "colab": {
          "base_uri": "https://localhost:8080/"
        }
      },
      "outputs": [
        {
          "output_type": "stream",
          "name": "stdout",
          "text": [
            "iteration 1, error = 29.977458953857422\n",
            "iteration 2, error = 5.092828750610352\n",
            "iteration 3, error = 0.10971637070178986\n",
            "iteration 4, error = 5.167595372768119e-05\n",
            "iteration 5, error = 1.1732883649528958e-05\n",
            "iteration 6, error = 4.191016159893479e-06\n",
            "CPU times: user 3.04 s, sys: 1.93 s, total: 4.97 s\n",
            "Wall time: 4.84 s\n"
          ]
        }
      ],
      "source": [
        "%%time\n",
        "p = newton(lambda p: e(p, A, b, c), init_p).block_until_ready()"
      ]
    },
    {
      "cell_type": "markdown",
      "id": "51ca3821",
      "metadata": {
        "id": "51ca3821"
      },
      "source": [
        "Here’s the size of the error:"
      ]
    },
    {
      "cell_type": "code",
      "execution_count": 13,
      "id": "1b5fd4dd",
      "metadata": {
        "hide-output": false,
        "id": "1b5fd4dd",
        "outputId": "0cadef19-8747-4bf2-c48e-9987bcd25a2d",
        "colab": {
          "base_uri": "https://localhost:8080/"
        }
      },
      "outputs": [
        {
          "output_type": "execute_result",
          "data": {
            "text/plain": [
              "Array(1.1920929e-07, dtype=float32)"
            ]
          },
          "metadata": {},
          "execution_count": 13
        }
      ],
      "source": [
        "jnp.max(jnp.abs(e(p, A, b, c)))"
      ]
    },
    {
      "cell_type": "markdown",
      "id": "a10887aa",
      "metadata": {
        "id": "a10887aa"
      },
      "source": [
        "With the same tolerance, SciPy’s `root` function takes much longer to run,\n",
        "even with the Jacobian supplied."
      ]
    },
    {
      "cell_type": "code",
      "execution_count": null,
      "id": "faa1514f",
      "metadata": {
        "hide-output": false,
        "id": "faa1514f"
      },
      "outputs": [],
      "source": [
        "%%time\n",
        "solution = root(lambda p: e(p, A, b, c),\n",
        "                init_p,\n",
        "                jac=lambda p: jax.jacobian(e)(p, A, b, c),\n",
        "                method='hybr',\n",
        "                tol=1e-5)"
      ]
    },
    {
      "cell_type": "markdown",
      "source": [
        "solution = root(fun, x0, jac=jac_fun, method='hybr', tol=1e-5)\n",
        "\n",
        "root() 主要用于 求解非线性方程组：\n",
        "\n",
        "- fun=lambda p: e(p, A, b, c)：目标函数 e(p)，即超额需求函数。\n",
        "- x0=init_p：初始价格向量 p0 。\n",
        "- jac=lambda p: jax.jacobian(e)(p, A, b, c)：\n",
        "计算 雅可比矩阵 J(p)，加快收敛速度。\n",
        "- method='hybr'：\n",
        "Hybrid Powell 方法，结合牛顿法与信赖域方法，提高收敛稳定性。\n",
        "- tol=1e-5：\n",
        "设定收敛阈值，即当误差小于 10**(−5)  时，认为找到均衡价格。"
      ],
      "metadata": {
        "id": "ccP2pMiUSSoA"
      },
      "id": "ccP2pMiUSSoA"
    },
    {
      "cell_type": "markdown",
      "id": "c4c36420",
      "metadata": {
        "id": "c4c36420"
      },
      "source": [
        "The result is also slightly less accurate:"
      ]
    },
    {
      "cell_type": "code",
      "execution_count": null,
      "id": "41139f3f",
      "metadata": {
        "hide-output": false,
        "id": "41139f3f"
      },
      "outputs": [],
      "source": [
        "p = solution.x\n",
        "jnp.max(jnp.abs(e(p, A, b, c)))"
      ]
    },
    {
      "cell_type": "markdown",
      "id": "d2f7ccb5",
      "metadata": {
        "id": "d2f7ccb5"
      },
      "source": [
        "## Exercises"
      ]
    },
    {
      "cell_type": "markdown",
      "id": "7fc7ed2f",
      "metadata": {
        "id": "7fc7ed2f"
      },
      "source": [
        "## Exercise 4.1\n",
        "\n",
        "Consider a three-dimensional extension of [the Solow fixed point\n",
        "problem](https://python.quantecon.org/newton_method.html#the-solow-model) with\n",
        "\n",
        "$$\n",
        "A = \\begin{pmatrix}\n",
        "            2 & 3 & 3 \\\\\n",
        "            2 & 4 & 2 \\\\\n",
        "            1 & 5 & 1 \\\\\n",
        "        \\end{pmatrix},\n",
        "            \\quad\n",
        "s = 0.2, \\quad α = 0.5, \\quad δ = 0.8\n",
        "$$\n",
        "\n",
        "As before the law of motion is\n",
        "\n",
        "$$\n",
        "k_{t+1} = g(k_t) \\quad \\text{where} \\quad\n",
        "    g(k) := sAk^\\alpha + (1-\\delta) k\n",
        "$$\n",
        "\n",
        "However $ k_t $ is now a $ 3 \\times 1 $ vector.\n",
        "\n",
        "Solve for the fixed point using Newton’s method with the following initial values:\n",
        "\n",
        "$$\n",
        "\\begin{aligned}\n",
        "    k1_{0} &= (1, 1, 1) \\\\\n",
        "    k2_{0} &= (3, 5, 5) \\\\\n",
        "    k3_{0} &= (50, 50, 50)\n",
        "\\end{aligned}\n",
        "$$\n",
        "\n",
        "- The computation of the fixed point is equivalent to computing $ k^* $ such that $ f(k^*) - k^* = 0 $.  \n",
        "- If you are unsure about your solution, you can start with the solved example:  \n",
        "\n",
        "\n",
        "$$\n",
        "A = \\begin{pmatrix}\n",
        "            2 & 0 & 0 \\\\\n",
        "            0 & 2 & 0 \\\\\n",
        "            0 & 0 & 2 \\\\\n",
        "        \\end{pmatrix}\n",
        "$$\n",
        "\n",
        "with $ s = 0.3 $, $ α = 0.3 $, and $ δ = 0.4 $ and starting value:\n",
        "\n",
        "$$\n",
        "k_0 = (1, 1, 1)\n",
        "$$\n",
        "\n",
        "The result should converge to the [analytical solution](https://python.quantecon.org/newton_method.html#solved-k)."
      ]
    },
    {
      "cell_type": "markdown",
      "id": "a236b007",
      "metadata": {
        "id": "a236b007"
      },
      "source": [
        "## Solution to[ Exercise 4.1](https://jax.quantecon.org/#newton_ex1)\n",
        "\n",
        "Let’s first define the parameters for this problem"
      ]
    },
    {
      "cell_type": "code",
      "execution_count": 14,
      "id": "2164f903",
      "metadata": {
        "hide-output": false,
        "id": "2164f903"
      },
      "outputs": [],
      "source": [
        "A = jnp.array([[2.0, 3.0, 3.0],\n",
        "               [2.0, 4.0, 2.0],\n",
        "               [1.0, 5.0, 1.0]])\n",
        "s = 0.2\n",
        "α = 0.5\n",
        "δ = 0.8\n",
        "initLs = [jnp.ones(3),\n",
        "          jnp.array([3.0, 5.0, 5.0]),\n",
        "          jnp.repeat(50.0, 3)]"
      ]
    },
    {
      "cell_type": "markdown",
      "id": "48c131a5",
      "metadata": {
        "id": "48c131a5"
      },
      "source": [
        "Then we define the multivariate version of the formula for the [law of motion of capital](https://python.quantecon.org/newton_method.html#solow)"
      ]
    },
    {
      "cell_type": "code",
      "execution_count": 15,
      "id": "65e065f4",
      "metadata": {
        "hide-output": false,
        "id": "65e065f4"
      },
      "outputs": [],
      "source": [
        "def multivariate_solow(k, A=A, s=s, α=α, δ=δ):\n",
        "    return s * jnp.dot(A, k**α) + (1 - δ) * k"
      ]
    },
    {
      "cell_type": "markdown",
      "id": "9e9a19b1",
      "metadata": {
        "id": "9e9a19b1"
      },
      "source": [
        "Let’s run through each starting value and see the output"
      ]
    },
    {
      "cell_type": "code",
      "execution_count": 16,
      "id": "a9ab70b4",
      "metadata": {
        "hide-output": false,
        "id": "a9ab70b4",
        "outputId": "40e6e4ef-dc7b-4da3-bdcf-278937652742",
        "colab": {
          "base_uri": "https://localhost:8080/"
        }
      },
      "outputs": [
        {
          "output_type": "stream",
          "name": "stdout",
          "text": [
            "Attempt 1: Starting value is [1. 1. 1.] \n",
            "\n",
            "iteration 1, error = 50.496315002441406\n",
            "iteration 2, error = 41.1093864440918\n",
            "iteration 3, error = 4.294127464294434\n",
            "iteration 4, error = 0.3854290544986725\n",
            "iteration 5, error = 0.0054382034577429295\n",
            "iteration 6, error = 8.92080606718082e-07\n",
            "CPU times: user 216 ms, sys: 17.2 ms, total: 233 ms\n",
            "Wall time: 280 ms\n",
            "----------------------------------------------------------------\n",
            "Attempt 2: Starting value is [3. 5. 5.] \n",
            "\n",
            "iteration 1, error = 2.0701100826263428\n",
            "iteration 2, error = 0.12642373144626617\n",
            "iteration 3, error = 0.0006017307168804109\n",
            "iteration 4, error = 3.3717478231665154e-07\n",
            "CPU times: user 84.5 ms, sys: 4.97 ms, total: 89.4 ms\n",
            "Wall time: 85.3 ms\n",
            "----------------------------------------------------------------\n",
            "Attempt 3: Starting value is [50. 50. 50.] \n",
            "\n",
            "iteration 1, error = 73.00942993164062\n",
            "iteration 2, error = 6.493789196014404\n",
            "iteration 3, error = 0.6806989312171936\n",
            "iteration 4, error = 0.016202213242650032\n",
            "iteration 5, error = 1.0600916539260652e-05\n",
            "iteration 6, error = 9.830249609876773e-07\n",
            "CPU times: user 210 ms, sys: 15 ms, total: 225 ms\n",
            "Wall time: 212 ms\n",
            "----------------------------------------------------------------\n"
          ]
        }
      ],
      "source": [
        "attempt = 1\n",
        "for init in initLs:\n",
        "    print(f'Attempt {attempt}: Starting value is {init} \\n')\n",
        "    %time k = newton(lambda k: multivariate_solow(k) - k, \\\n",
        "                     init).block_until_ready()\n",
        "    print('-'*64)\n",
        "    attempt += 1"
      ]
    },
    {
      "cell_type": "markdown",
      "id": "6ec1a4b5",
      "metadata": {
        "id": "6ec1a4b5"
      },
      "source": [
        "We find that the results are invariant to the starting values.\n",
        "\n",
        "But the number of iterations it takes to converge is dependent on the starting values.\n",
        "\n",
        "Let substitute the output back into the formulate to check our last result"
      ]
    },
    {
      "cell_type": "code",
      "execution_count": 17,
      "id": "9a7fb80f",
      "metadata": {
        "hide-output": false,
        "id": "9a7fb80f",
        "outputId": "133624a0-2d72-41bc-f63c-4c035eace6ed",
        "colab": {
          "base_uri": "https://localhost:8080/"
        }
      },
      "outputs": [
        {
          "output_type": "execute_result",
          "data": {
            "text/plain": [
              "Array([ 4.7683716e-07,  0.0000000e+00, -2.3841858e-07], dtype=float32)"
            ]
          },
          "metadata": {},
          "execution_count": 17
        }
      ],
      "source": [
        "multivariate_solow(k) - k"
      ]
    },
    {
      "cell_type": "markdown",
      "id": "c63d2678",
      "metadata": {
        "id": "c63d2678"
      },
      "source": [
        "Note the error is very small.\n",
        "\n",
        "We can also test our results on the known solution"
      ]
    },
    {
      "cell_type": "code",
      "execution_count": null,
      "id": "3069adc8",
      "metadata": {
        "hide-output": false,
        "id": "3069adc8"
      },
      "outputs": [],
      "source": [
        "A = jnp.array([[2.0, 0.0, 0.0],\n",
        "               [0.0, 2.0, 0.0],\n",
        "               [0.0, 0.0, 2.0]])\n",
        "s = 0.3\n",
        "α = 0.3\n",
        "δ = 0.4\n",
        "init = jnp.repeat(1.0, 3)\n",
        "%time k = newton(lambda k: multivariate_solow(k, A=A, s=s, α=α, δ=δ) - k, \\\n",
        "                 init).block_until_ready()"
      ]
    },
    {
      "cell_type": "code",
      "execution_count": null,
      "id": "b804acbf",
      "metadata": {
        "hide-output": false,
        "id": "b804acbf"
      },
      "outputs": [],
      "source": [
        "# Now we time it without compile\n",
        "%time k = newton(lambda k: multivariate_solow(k, A=A, s=s, α=α, δ=δ) - k, \\\n",
        "                 init).block_until_ready()"
      ]
    },
    {
      "cell_type": "markdown",
      "id": "a8377690",
      "metadata": {
        "id": "a8377690"
      },
      "source": [
        "The result is very close to the true solution but still slightly different.\n",
        "\n",
        "We can increase the precision of the floating point numbers and restrict the tolerance to obtain a more accurate approximation (see detailed discussion in the [lecture on JAX](https://python-programming.quantecon.org/jax_intro.html#differences))"
      ]
    },
    {
      "cell_type": "code",
      "execution_count": 18,
      "id": "9ca33ecb",
      "metadata": {
        "hide-output": false,
        "id": "9ca33ecb",
        "outputId": "eb7744e3-3bd4-44c7-b250-42952d3ec6da",
        "colab": {
          "base_uri": "https://localhost:8080/"
        }
      },
      "outputs": [
        {
          "output_type": "stream",
          "name": "stdout",
          "text": [
            "iteration 1, error = 73.00942865736772\n",
            "iteration 2, error = 6.493790240268519\n",
            "iteration 3, error = 0.6806981462275397\n",
            "iteration 4, error = 0.01620284198001301\n",
            "iteration 5, error = 1.01788625560847e-05\n",
            "iteration 6, error = 4.02641276801186e-12\n",
            "CPU times: user 196 ms, sys: 16.2 ms, total: 213 ms\n",
            "Wall time: 359 ms\n"
          ]
        }
      ],
      "source": [
        "# We will use 64 bit floats with JAX in order to increase the precision.\n",
        "jax.config.update(\"jax_enable_x64\", True)\n",
        "init = init.astype('float64')\n",
        "\n",
        "%time k = newton(lambda k: multivariate_solow(k, A=A, s=s, α=α, δ=δ) - k,\\\n",
        "                 init, tol=1e-7).block_until_ready()"
      ]
    },
    {
      "cell_type": "code",
      "execution_count": 19,
      "id": "1d94394e",
      "metadata": {
        "hide-output": false,
        "id": "1d94394e",
        "outputId": "8b5eeec4-6d8c-4ad7-f60a-db56768c1dc2",
        "colab": {
          "base_uri": "https://localhost:8080/"
        }
      },
      "outputs": [
        {
          "output_type": "stream",
          "name": "stdout",
          "text": [
            "iteration 1, error = 73.00942865736772\n",
            "iteration 2, error = 6.493790240268519\n",
            "iteration 3, error = 0.6806981462275397\n",
            "iteration 4, error = 0.01620284198001301\n",
            "iteration 5, error = 1.01788625560847e-05\n",
            "iteration 6, error = 4.02641276801186e-12\n",
            "CPU times: user 96.1 ms, sys: 8.81 ms, total: 105 ms\n",
            "Wall time: 127 ms\n"
          ]
        }
      ],
      "source": [
        "# Now we time it without compile\n",
        "%time k = newton(lambda k: multivariate_solow(k, A=A, s=s, α=α, δ=δ) - k,\\\n",
        "                 init, tol=1e-7).block_until_ready()"
      ]
    },
    {
      "cell_type": "markdown",
      "id": "e964597b",
      "metadata": {
        "id": "e964597b"
      },
      "source": [
        "We can see it steps towards a more accurate solution."
      ]
    },
    {
      "cell_type": "markdown",
      "id": "40f00955",
      "metadata": {
        "id": "40f00955"
      },
      "source": [
        "## Exercise 4.2\n",
        "\n",
        "In this exercise, let’s try different initial values and check how Newton’s method responds to different starting points.\n",
        "\n",
        "Let’s define a three-good problem with the following default values:\n",
        "\n",
        "$$\n",
        "A = \\begin{pmatrix}\n",
        "            0.2 & 0.1 & 0.7 \\\\\n",
        "            0.3 & 0.2 & 0.5 \\\\\n",
        "            0.1 & 0.8 & 0.1 \\\\\n",
        "        \\end{pmatrix},\n",
        "            \\qquad\n",
        "b = \\begin{pmatrix}\n",
        "            1 \\\\\n",
        "            1 \\\\\n",
        "            1\n",
        "        \\end{pmatrix}\n",
        "    \\qquad \\text{and} \\qquad\n",
        "c = \\begin{pmatrix}\n",
        "            1 \\\\\n",
        "            1 \\\\\n",
        "            1\n",
        "        \\end{pmatrix}\n",
        "$$\n",
        "\n",
        "For this exercise, use the following extreme price vectors as initial values:\n",
        "\n",
        "$$\n",
        "\\begin{aligned}\n",
        "    p1_{0} &= (5, 5, 5) \\\\\n",
        "    p2_{0} &= (1, 1, 1) \\\\\n",
        "    p3_{0} &= (4.5, 0.1, 4)\n",
        "\\end{aligned}\n",
        "$$\n",
        "\n",
        "Set the tolerance to $ 10^{-15} $ for more accurate output.\n",
        "\n",
        "Similar to [exercise 1](#newton_ex1), enabling `float64` for JAX can improve the precision of our results."
      ]
    },
    {
      "cell_type": "markdown",
      "id": "e93229b8",
      "metadata": {
        "id": "e93229b8"
      },
      "source": [
        "## Solution to[ Exercise 4.2](https://jax.quantecon.org/#newton_ex2)\n",
        "\n",
        "Define parameters and initial values"
      ]
    },
    {
      "cell_type": "code",
      "execution_count": 24,
      "id": "4aa3e6f6",
      "metadata": {
        "hide-output": false,
        "id": "4aa3e6f6"
      },
      "outputs": [],
      "source": [
        "A = jnp.array([\n",
        "    [0.2, 0.1, 0.7],\n",
        "    [0.3, 0.2, 0.5],\n",
        "    [0.1, 0.8, 0.1]\n",
        "])\n",
        "b = jnp.array([1.0, 1.0, 1.0])\n",
        "c = jnp.array([1.0, 1.0, 1.0])\n",
        "initLs = [jnp.repeat(5.0, 3),\n",
        "          jnp.ones(3), #似乎一开始漏了这一行\n",
        "          jnp.array([4.5, 0.1, 4.0])]"
      ]
    },
    {
      "cell_type": "markdown",
      "id": "98a50f99",
      "metadata": {
        "id": "98a50f99"
      },
      "source": [
        "Let’s run through each initial guess and check the output"
      ]
    },
    {
      "cell_type": "code",
      "execution_count": 25,
      "id": "f33a3ad3",
      "metadata": {
        "hide-output": false,
        "id": "f33a3ad3",
        "outputId": "f953bbe9-13d3-4744-bf3b-f28d33f567e9",
        "colab": {
          "base_uri": "https://localhost:8080/"
        }
      },
      "outputs": [
        {
          "output_type": "stream",
          "name": "stdout",
          "text": [
            "Attempt 1: Starting value is [5. 5. 5.] \n",
            "\n",
            "iteration 1, error = 9.243805733085065\n",
            "iteration 2, error = nan\n",
            "CPU times: user 80.8 ms, sys: 6.29 ms, total: 87 ms\n",
            "Wall time: 82.1 ms\n",
            "----------------------------------------------------------------\n",
            "Attempt 2: Starting value is [1. 1. 1.] \n",
            "\n",
            "iteration 1, error = 0.7341870920561572\n",
            "iteration 2, error = 0.12472401422714874\n",
            "iteration 3, error = 0.002686717504221668\n",
            "iteration 4, error = 1.18807443206464e-06\n",
            "iteration 5, error = 2.3229389251513455e-13\n",
            "iteration 6, error = 7.364386412590295e-16\n",
            "CPU times: user 78 ms, sys: 2.33 ms, total: 80.3 ms\n",
            "Wall time: 75.2 ms\n",
            "----------------------------------------------------------------\n",
            "Attempt 3: Starting value is [4.5 0.1 4. ] \n",
            "\n",
            "iteration 1, error = 4.892018895185869\n",
            "iteration 2, error = 1.2120550201694784\n",
            "iteration 3, error = 0.6942087122866175\n",
            "iteration 4, error = 0.168951089180319\n",
            "iteration 5, error = 0.005209730313222213\n",
            "iteration 6, error = 4.3632751705775364e-06\n",
            "iteration 7, error = 3.0460818773540415e-12\n",
            "iteration 8, error = 0.0\n",
            "CPU times: user 81 ms, sys: 6.4 ms, total: 87.4 ms\n",
            "Wall time: 81 ms\n",
            "----------------------------------------------------------------\n"
          ]
        }
      ],
      "source": [
        "attempt = 1\n",
        "for init in initLs:\n",
        "    print(f'Attempt {attempt}: Starting value is {init} \\n')\n",
        "    init = init.astype('float64')\n",
        "    %time p = newton(lambda p: e(p, A, b, c), \\\n",
        "                 init, \\\n",
        "                 tol=1e-15, max_iter=15).block_until_ready()\n",
        "    print('-'*64)\n",
        "    attempt +=1"
      ]
    },
    {
      "cell_type": "markdown",
      "id": "5286dcbf",
      "metadata": {
        "id": "5286dcbf"
      },
      "source": [
        "We can find that Newton’s method may fail for some starting values.\n",
        "\n",
        "Sometimes it may take a few initial guesses to achieve convergence.\n",
        "\n",
        "Substitute the result back to the formula to check our result"
      ]
    },
    {
      "cell_type": "code",
      "execution_count": 26,
      "id": "f79d6c55",
      "metadata": {
        "hide-output": false,
        "id": "f79d6c55",
        "outputId": "4ecc4cf7-2cb2-48f8-9084-48340278946a",
        "colab": {
          "base_uri": "https://localhost:8080/"
        }
      },
      "outputs": [
        {
          "output_type": "execute_result",
          "data": {
            "text/plain": [
              "Array([0., 0., 0.], dtype=float64)"
            ]
          },
          "metadata": {},
          "execution_count": 26
        }
      ],
      "source": [
        "e(p, A, b, c)"
      ]
    },
    {
      "cell_type": "markdown",
      "id": "6855143e",
      "metadata": {
        "id": "6855143e"
      },
      "source": [
        "We can see the result is very accurate."
      ]
    }
  ],
  "metadata": {
    "date": 1732064318.172324,
    "filename": "newtons_method.md",
    "kernelspec": {
      "display_name": "Python 3",
      "name": "python3"
    },
    "title": "Newton’s Method via JAX",
    "colab": {
      "provenance": [],
      "toc_visible": true,
      "gpuType": "T4"
    },
    "accelerator": "GPU"
  },
  "nbformat": 4,
  "nbformat_minor": 5
}
