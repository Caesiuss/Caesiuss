{
  "cells": [
    {
      "cell_type": "markdown",
      "id": "b645346b",
      "metadata": {
        "id": "b645346b"
      },
      "source": [
        "\n",
        "<a id='lucas-asset'></a>"
      ]
    },
    {
      "cell_type": "markdown",
      "id": "692680b5",
      "metadata": {
        "id": "692680b5"
      },
      "source": [
        "# Asset Pricing: The Lucas Asset Pricing Model"
      ]
    },
    {
      "cell_type": "markdown",
      "id": "d958d422",
      "metadata": {
        "id": "d958d422"
      },
      "source": [
        "# GPU\n",
        "\n",
        "This lecture was built using a machine with JAX installed and access to a GPU.\n",
        "\n",
        "To run this lecture on [Google Colab](https://colab.research.google.com/), click on the “play” icon top right, select Colab, and set the runtime environment to include a GPU.\n",
        "\n",
        "To run this lecture on your own machine, you need to install [Google JAX](https://github.com/google/jax).\n",
        "\n",
        "\n",
        "<a id='index-0'></a>"
      ]
    },
    {
      "cell_type": "markdown",
      "id": "ef374109",
      "metadata": {
        "id": "ef374109"
      },
      "source": [
        "## Overview\n",
        "\n",
        "An asset is a claim on a stream of prospective payments.\n",
        "\n",
        "What is the correct price to pay for such a claim?\n",
        "\n",
        "The asset pricing model of Lucas [[Lucas, 1978](https://jax.quantecon.org/zreferences.html#id184)] attempts to answer this\n",
        "question in an equilibrium setting with risk-averse agents.\n",
        "\n",
        "Lucas’ model provides a beautiful illustration of model building in general and\n",
        "equilibrium pricing in competitive models in particular.\n",
        "\n",
        "In this lecture we work through the Lucas model and show where the fundamental\n",
        "asset pricing equation comes from.\n",
        "\n",
        "We’ll write code in both Numba and JAX.\n",
        "\n",
        "Since the model is relatively small, the speed gain from using JAX is not as\n",
        "large as it is in some other lectures.\n",
        "\n",
        "Nonetheless, the gain is nontrivial.\n",
        "\n",
        "Let’s start with some imports:"
      ]
    },
    {
      "cell_type": "code",
      "execution_count": 1,
      "id": "9cc4a0a4",
      "metadata": {
        "hide-output": false,
        "id": "9cc4a0a4"
      },
      "outputs": [],
      "source": [
        "import jax.numpy as jnp\n",
        "import jax\n",
        "import numpy as np\n",
        "import numba\n",
        "from scipy.stats import lognorm\n",
        "import matplotlib.pyplot as plt\n",
        "from time import time"
      ]
    },
    {
      "cell_type": "markdown",
      "id": "d6c1d7c3",
      "metadata": {
        "id": "d6c1d7c3"
      },
      "source": [
        "## The Lucas Model\n",
        "\n",
        "\n",
        "<a id='index-1'></a>\n",
        "Lucas studied a pure exchange economy with a representative consumer (or household), where\n",
        "\n",
        "- *Pure exchange* means that all endowments are exogenous.  \n",
        "- *Representative* consumer means that either  \n",
        "  - there is a single consumer (sometimes also referred to as a household), or  \n",
        "  - all consumers have identical endowments and preferences  \n",
        "\n",
        "\n",
        "Either way, the assumption of a representative agent means that prices adjust to\n",
        "eradicate desires to trade.\n",
        "\n",
        "This makes it very easy to compute competitive equilibrium prices."
      ]
    },
    {
      "cell_type": "markdown",
      "id": "5556fae2",
      "metadata": {
        "id": "5556fae2"
      },
      "source": [
        "### Basic Setup\n",
        "\n",
        "Let’s review the setup."
      ]
    },
    {
      "cell_type": "markdown",
      "id": "806f3845",
      "metadata": {
        "id": "806f3845"
      },
      "source": [
        "#### Assets\n",
        "\n",
        "\n",
        "<a id='index-2'></a>\n",
        "There is a single “productive unit” that costlessly generates a sequence of consumption goods $ \\{y_t\\}_{t=0}^{\\infty} $.\n",
        "\n",
        "这个单位持续不断地产生消费品，就像一棵树不断结出果实。\n",
        "\n",
        "Another way to view $ \\{y_t\\}_{t=0}^{\\infty} $ is as a *consumption endowment* for this economy.\n",
        "\n",
        "We will assume that this endowment is Markovian, following the exogenous process\n",
        "\n",
        "$$\n",
        "y_{t+1} = G(y_t, \\xi_{t+1})\n",
        "$$\n",
        "\n",
        "Here $ \\{ \\xi_t \\} $ is an IID shock sequence with known distribution $ \\phi $ and $ y_t \\geq 0 $.\n",
        "\n",
        "我们假设这个消费禀赋序列遵循一个 马尔可夫过程，即未来的消费水平 $y_{t+1}$ 只依赖于当前的状态 $y_t$ 和一个外生冲击 $\\xi_{t+1}$，这个关系由函数 $G$ 决定。\n",
        "\n",
        "- $G$ 是状态转移函数。\n",
        "\n",
        "- ${\\xi_t}$ 是一组独立同分布（IID）的随机变量，反映了不确定性。\n",
        "\n",
        "- $\\phi$ 是这些冲击的已知分布。\n",
        "\n",
        "An asset is a claim on all or part of this endowment stream.\n",
        "\n",
        "The consumption goods $ \\{y_t\\}_{t=0}^{\\infty} $ are nonstorable, so holding assets is the only way to transfer wealth into the future.\n",
        "\n",
        "For the purposes of intuition, it’s common to think of the productive unit as a “tree” that produces fruit.\n",
        "\n",
        "Based on this idea, a “Lucas tree” is a claim on the consumption endowment."
      ]
    },
    {
      "cell_type": "markdown",
      "id": "0bb7dfe8",
      "metadata": {
        "id": "0bb7dfe8"
      },
      "source": [
        "#### Consumers\n",
        "\n",
        "\n",
        "<a id='index-3'></a>\n",
        "A representative consumer ranks consumption streams $ \\{c_t\\} $ according to the time separable utility functional\n",
        "\n",
        "\n",
        "<a id='equation-lt-uf'></a>\n",
        "$$\n",
        "\\mathbb{E} \\sum_{t=0}^\\infty \\beta^t u(c_t) \\tag{8.1}\n",
        "$$\n",
        "\n",
        "Here\n",
        "\n",
        "- $ \\beta \\in (0,1) $ is a fixed discount factor.  \n",
        "- $ u $ is a strictly increasing, strictly concave, continuously differentiable period utility function.  \n",
        "- $ \\mathbb{E} $ is a mathematical expectation.  \n",
        "\n",
        "这个模型中的代表性消费者：\n",
        "\n",
        "- 决策目标是最大化整个生命周期中期望效用的贴现和；\n",
        "\n",
        "- 每期的消费带来 $u(c_t)$ 的效用；\n",
        "\n",
        "- 使用贴现因子 $\\beta$ 来衡量对未来的耐心；\n",
        "\n",
        "- 消费路径的不确定性用数学期望 $\\mathbb{E}$ 来处理。"
      ]
    },
    {
      "cell_type": "markdown",
      "id": "32e2912c",
      "metadata": {
        "id": "32e2912c"
      },
      "source": [
        "### Pricing a Lucas Tree\n",
        "\n",
        "\n",
        "<a id='index-4'></a>\n",
        "What is an appropriate price for a claim on the consumption endowment?\n",
        "\n",
        "We’ll price an *ex-dividend* claim, meaning that\n",
        "\n",
        "- the seller retains this period’s dividend  \n",
        "- the buyer pays $ p_t $ today to purchase a claim on  \n",
        "  - $ y_{t+1} $ （是分红）and  \n",
        "  - the right to sell the claim tomorrow at price $ p_{t+1} $  \n",
        "\n",
        "\n",
        "Since this is a competitive model, the first step is to pin down consumer\n",
        "behavior, taking prices as given.\n",
        "\n",
        "Next, we’ll impose equilibrium constraints and try to back out prices.\n",
        "\n",
        "In the consumer problem, the consumer’s control variable is the share $ \\pi_t $ of the claim held in each period.\n",
        "\n",
        "Thus, the consumer problem is to maximize [(8.1)](#equation-lt-uf) subject to\n",
        "\n",
        "$$\n",
        "c_t + \\pi_{t+1} p_t \\leq \\pi_t y_t + \\pi_t p_t\n",
        "$$\n",
        "\n",
        "along with $ c_t \\geq 0 $ and $ 0 \\leq \\pi_t \\leq 1 $ at each $ t $.\n",
        "\n",
        "The decision to hold share $ \\pi_t $ is actually made at time $ t-1 $.\n",
        "\n",
        "But this value is inherited as a state variable at time $ t $, which explains the choice of subscript.\n",
        "\n",
        "- 实际上，$\\pi_t$ 是 在 $t-1$ 时就决定的；\n",
        "\n",
        "- 但是从第 $t$ 期的角度，它是既定的状态变量（已经决定好了，不能再改）；\n",
        "\n",
        "- 所以我们仍用 $\\pi_t$ 作为下标，而不是 $\\pi_{t-1}$，这样看起来也方便表达预算约束。"
      ]
    },
    {
      "cell_type": "markdown",
      "id": "c954238c",
      "metadata": {
        "id": "c954238c"
      },
      "source": [
        "#### The Dynamic Program\n",
        "\n",
        "\n",
        "<a id='index-5'></a>\n",
        "We can write the consumer problem as a dynamic programming problem.\n",
        "\n",
        "Our first observation is that prices depend on current information, and current information is really just the endowment process up until the current period.\n",
        "\n",
        "In fact, the endowment process is Markovian, so that the only relevant\n",
        "information is the current state $ y \\in \\mathbb R_+ $ (dropping the time subscript).\n",
        "\n",
        "- 虽然理论上价格可以依赖整个历史，但由于 $y_t$ 是马尔可夫过程，只取决于上期的 $y$ 和冲击 $\\xi$；\n",
        "\n",
        "- 因此，只需要用当前的 $y$ 作为状态变量就足够了；\n",
        "\n",
        "- 所以我们可以猜测价格是 $y$ 的函数，写作 $p(y)$。\n",
        "\n",
        "This leads us to guess an equilibrium where price is a function $ p $ of $ y $.\n",
        "\n",
        "Remarks on the solution method\n",
        "\n",
        "- Since this is a competitive (read: price taking) model, the consumer will take this function $ p $ as given.  \n",
        "- In this way, we determine consumer behavior given $ p $ and then use equilibrium conditions to recover $ p $.  \n",
        "- This is the standard way to solve competitive equilibrium models.  \n",
        "\n",
        "1. 猜一个价格函数 $p(y)$；\n",
        "\n",
        "2. 在这个价格函数下，求解消费者的最优行为（也就是 $\\pi'$ 和 $c$ 的选择）；\n",
        "\n",
        "3. 加上市场出清条件（比如所有资产都被持有 $\\pi=1$），倒推出价格函数 $p(y)$；\n",
        "\n",
        "4. 如果和猜的 $p(y)$ 一致，说明是均衡；否则更新再试。\n",
        "\n",
        "\n",
        "Using the assumption that price is a given function $ p $ of $ y $, we write the value function and constraint as\n",
        "\n",
        "$$\n",
        "v(\\pi, y) = \\max_{c, \\pi'}\n",
        "    \\left\\{\n",
        "        u(c) + \\beta \\int v(\\pi', G(y, z)) \\phi(dz)\n",
        "    \\right\\}\n",
        "$$\n",
        "\n",
        "subject to\n",
        "\n",
        "\n",
        "<a id='equation-preltbe'></a>\n",
        "$$\n",
        "c + \\pi' p(y) \\leq \\pi y + \\pi p(y) \\tag{8.2}\n",
        "$$\n",
        "\n",
        "We can invoke the fact that utility is increasing to claim equality in [(8.2)](#equation-preltbe) and hence eliminate the constraint, obtaining\n",
        "\n",
        "因为效用函数是严格递增的，消费者一定会用光所有预算，否则就是在浪费效用。\n",
        "\n",
        "\n",
        "<a id='equation-ltbe'></a>\n",
        "$$\n",
        "v(\\pi, y) = \\max_{\\pi'}\n",
        "    \\left\\{\n",
        "        u[\\pi (y + p(y)) - \\pi' p(y) ] + \\beta \\int v(\\pi', G(y, z)) \\phi(dz)\n",
        "    \\right\\} \\tag{8.3}\n",
        "$$\n",
        "\n",
        "The solution to this dynamic programming problem is an optimal policy expressing either $ \\pi' $ or $ c $ as a function of the state $ (\\pi, y) $.\n",
        "\n",
        "- Each one determines the other, since $ c(\\pi, y) = \\pi (y + p(y))- \\pi' (\\pi, y) p(y) $  "
      ]
    },
    {
      "cell_type": "markdown",
      "id": "3f4b4b00",
      "metadata": {
        "id": "3f4b4b00"
      },
      "source": [
        "#### Next Steps\n",
        "\n",
        "What we need to do now is determine equilibrium prices.\n",
        "\n",
        "It seems that to obtain these, we will have to\n",
        "\n",
        "1. Solve this two-dimensional dynamic programming problem for the optimal policy.  \n",
        "1. Impose equilibrium constraints.  \n",
        "1. Solve out for the price function $ p(y) $ directly.  \n",
        "\n",
        "\n",
        "However, as Lucas showed, there is a related but more straightforward way to do this."
      ]
    },
    {
      "cell_type": "markdown",
      "id": "e4b3c29e",
      "metadata": {
        "id": "e4b3c29e"
      },
      "source": [
        "#### Equilibrium Constraints\n",
        "\n",
        "\n",
        "<a id='index-6'></a>\n",
        "Since the consumption good is not storable, in equilibrium we must have $ c_t = y_t $ for all $ t $.\n",
        "\n",
        "In addition, since there is one representative consumer (alternatively, since\n",
        "all consumers are identical), there should be no trade in equilibrium.\n",
        "\n",
        "In particular, the representative consumer owns the whole tree in every period, so $ \\pi_t = 1 $ for all $ t $.\n",
        "\n",
        "Prices must adjust to satisfy these two constraints."
      ]
    },
    {
      "cell_type": "markdown",
      "id": "6060f148",
      "metadata": {
        "id": "6060f148"
      },
      "source": [
        "#### The Equilibrium Price Function\n",
        "\n",
        "\n",
        "<a id='index-7'></a>\n",
        "Now observe that the first-order condition for [(8.3)](#equation-ltbe) can be written as\n",
        "\n",
        "$$\n",
        "u'(c)  p(y) = \\beta \\int v_1'(\\pi', G(y, z)) \\phi(dz)\n",
        "$$\n",
        "\n",
        "where $ v'_1 $ is the derivative of $ v $ with respect to its first argument.\n",
        "\n",
        "\n",
        "这表示消费者做出最优选择 $\\pi'$ 的时候，贝尔曼方程中对 $\\pi'$ 的偏导数必须为零。 解释一下式子：\n",
        "- 左边是放弃当前一点消费（边际效用 $u'(c)$）换取一单位资产 $\\Rightarrow$ 成本是 $p(y)$；\n",
        "- 右边是你得到未来资产 $\\pi'$ 的边际价值 $\\Rightarrow$ 是 $v$ 对 $\\pi'$ 的偏导数（注意 $\\pi'$ 是下期的 $\\pi$）；\n",
        "- 所以，这是**“边际成本 = 边际收益”** 的一阶条件（optimality condition）。\n",
        "\n",
        "To obtain $ v'_1 $ we can simply differentiate the right-hand side of\n",
        "[(8.3)](#equation-ltbe) with respect to $ \\pi $, yielding\n",
        "\n",
        "$$\n",
        "v'_1(\\pi, y) = u'(c) (y + p(y))\n",
        "$$\n",
        "\n",
        "Next, we impose the equilibrium constraints while combining the last two\n",
        "equations to get\n",
        "\n",
        "\n",
        "<a id='equation-lteeq'></a>\n",
        "$$\n",
        "p(y)  = \\beta \\int \\frac{u'[G(y, z)]}{u'(y)} [G(y, z) + p(G(y, z))]  \\phi(dz) \\tag{8.4}\n",
        "$$\n",
        "\n",
        "- 在均衡中，$c_t = y_t$，$\\pi_t = 1$；\n",
        "\n",
        "- 所以 $c = y$，$\\pi = 1$，$\\pi' = 1$；\n",
        "\n",
        "- $u'(c) = u'(y)$，$G(y, z)$ 是下一期的禀赋 $y_{t+1}$；\n",
        "\n",
        "In sequential rather than functional notation, we can also write this as\n",
        "\n",
        "\n",
        "<a id='equation-lteeqs'></a>\n",
        "$$\n",
        "p_t = \\mathbb{E}_t \\left[ \\beta \\frac{u'(c_{t+1})}{u'(c_t)} ( y_{t+1} + p_{t+1} ) \\right] \\tag{8.5}\n",
        "$$\n",
        "\n",
        "- $y \\to y_t$\n",
        "\n",
        "- $G(y, z) \\to y_{t+1}$\n",
        "\n",
        "- $p(G(y, z)) \\to p_{t+1}$\n",
        "\n",
        "- $\\mathbb{E}t[\\cdot]$ 是对 $z$ 或 $\\xi{t+1}$ 的期望\n",
        "\n",
        "This is the famous consumption-based asset pricing equation.\n",
        "\n",
        "Before discussing it further we want to solve out for prices."
      ]
    },
    {
      "cell_type": "markdown",
      "id": "00ef5eeb",
      "metadata": {
        "id": "00ef5eeb"
      },
      "source": [
        "### Solving the Model\n",
        "\n",
        "\n",
        "<a id='index-8'></a>\n",
        "Equation [(8.4)](#equation-lteeq) is a *functional equation* in the unknown function $ p $.\n",
        "\n",
        "The solution is an equilibrium price function $ p^* $.\n",
        "\n",
        "Let’s look at how to obtain it."
      ]
    },
    {
      "cell_type": "markdown",
      "id": "25e4abed",
      "metadata": {
        "id": "25e4abed"
      },
      "source": [
        "#### Setting up the Problem\n",
        "\n",
        "Instead of solving for it directly we’ll follow Lucas’ indirect approach, first setting\n",
        "\n",
        "\n",
        "<a id='equation-ltffp'></a>\n",
        "$$\n",
        "f(y) := u'(y) p(y) \\tag{8.6}\n",
        "$$\n",
        "\n",
        "\n",
        "也就是说，把价格函数 $p(y)$ 乘上边际效用 $u'(y)$，定义一个新的函数 $f(y)$。 这是合理的，因为 $u'(y)$ 在模型中经常出现，特别是作为 **贴现权重**（SDF），现在我们把它整合进价格函数里了。\n",
        "\n",
        "so that [(8.4)](#equation-lteeq) becomes\n",
        "\n",
        "\n",
        "<a id='equation-lteeq2'></a>\n",
        "$$\n",
        "f(y) = h(y) + \\beta \\int f[G(y, z)] \\phi(dz) \\tag{8.7}\n",
        "$$\n",
        "\n",
        "Here $ h(y) := \\beta \\int u'[G(y, z)] G(y, z)  \\phi(dz) $ is a function that\n",
        "depends only on the primitives.\n",
        "\n",
        "\n",
        "\n",
        "\n",
        "Equation [(8.7)](#equation-lteeq2) is a functional equation in $ f $.\n",
        "\n",
        "The plan is to solve out for $ f $ and convert back to $ p $ via [(8.6)](#equation-ltffp).\n",
        "\n",
        "To solve [(8.7)](#equation-lteeq2) we’ll use a standard method: convert it to a fixed point problem.\n",
        "\n",
        "固定点问题就是：找一个输入，使得函数作用后仍然得到它自己。\n",
        "\n",
        "First, we introduce the operator $ T $ mapping $ f $ into $ Tf $ as defined by\n",
        "\n",
        "\n",
        "<a id='equation-lteeqt'></a>\n",
        "$$\n",
        "(Tf)(y) = h(y) + \\beta \\int f[G(y, z)] \\phi(dz) \\tag{8.8}\n",
        "$$\n",
        "\n",
        "In what follows, we refer to $ T $ as the Lucas operator.\n",
        "\n",
        "把右边视作一个操作 $T(f)$，变成 $f = T(f)$\n",
        "\n",
        "The reason we do this is that a solution to [(8.7)](#equation-lteeq2) now corresponds to a\n",
        "function $ f^* $ satisfying $ (Tf^*)(y) = f^*(y) $ for all $ y $.\n",
        "\n",
        "In other words, a solution is a *fixed point* of $ T $.\n",
        "\n",
        "This means that we can use fixed point theory to obtain and compute the solution."
      ]
    },
    {
      "cell_type": "markdown",
      "id": "34c96051",
      "metadata": {
        "id": "34c96051"
      },
      "source": [
        "#### A Little Fixed Point Theory\n",
        "\n",
        "\n",
        "<a id='index-9'></a>\n",
        "Let $ cb\\mathbb{R}_+ $ be the set of continuous bounded functions $ f \\colon \\mathbb{R}_+ \\to \\mathbb{R}_+ $.\n",
        "\n",
        "We now show that\n",
        "\n",
        "1. $ T $ has exactly one fixed point $ f^* $ in $ cb\\mathbb{R}_+ $.  \n",
        "1. For any $ f \\in cb\\mathbb{R}_+ $, the sequence $ T^k f $ converges\n",
        "  uniformly to $ f^* $.  \n",
        "\n",
        "\n",
        ">**Note**\n",
        ">\n",
        ">If you find the mathematics heavy going you can take 1–2 as given and skip to the [next section](#lt-comp-eg)\n",
        "\n",
        "Recall the [Banach contraction mapping theorem](https://en.wikipedia.org/wiki/Banach_fixed-point_theorem).\n",
        "\n",
        "如果一个函数 $T$ 把一个空间里的点映射到自身，并且它是一个“收缩映射”，\n",
        "那么就存在唯一的固定点 $x^$，使得 $T(x^) = x^$，\n",
        "而且从任意初始点 $x_0$ 出发不断迭代 $x_{n+1} = T(x_n)$，最终都收敛到 $x^$。\n",
        "\n",
        "\n",
        "\n",
        "\n",
        "It tells us that the previous statements will be true if we can find an\n",
        "$ \\alpha < 1 $ such that\n",
        "\n",
        "\n",
        "<a id='equation-ltbc'></a>\n",
        "$$\n",
        "\\| Tf - Tg \\| \\leq \\alpha \\| f - g \\|,\n",
        "\\qquad \\forall \\, f, g \\in cb\\mathbb{R}_+ \\tag{8.9}\n",
        "$$\n",
        "\n",
        "Here $ \\|h\\| := \\sup_{x \\in \\mathbb{R}_+} |h(x)| $.\n",
        "\n",
        "To see that [(8.9)](#equation-ltbc) is valid, pick any $ f,g \\in cb\\mathbb{R}_+ $ and any $ y \\in \\mathbb{R}_+ $.\n",
        "\n",
        "Observe that, since integrals get larger when absolute values are moved to the\n",
        "inside,\n",
        "\n",
        "$$\n",
        "\\begin{aligned}\n",
        "    |Tf(y) - Tg(y)|\n",
        "    & = \\left| \\beta \\int f[G(y, z)] \\phi(dz)\n",
        "        -\\beta \\int g[G(y, z)] \\phi(dz) \\right|\n",
        "    \\\\\n",
        "    & \\leq \\beta \\int \\left| f[G(y, z)] -  g[G(y, z)] \\right| \\phi(dz)\n",
        "    \\\\\n",
        "    & \\leq \\beta \\int \\| f -  g \\| \\phi(dz)\n",
        "    \\\\\n",
        "    & = \\beta  \\| f -  g \\|\n",
        "\\end{aligned}\n",
        "$$\n",
        "\n",
        "Since the right-hand side is an upper bound, taking the sup over all $ y $\n",
        "on the left-hand side gives [(8.9)](#equation-ltbc) with $ \\alpha := \\beta $.\n",
        "\n",
        "\n",
        "<a id='lt-comp-eg'></a>\n",
        "\n",
        "- $\\beta < 1$，所以 $T$ 是收缩映射；\n",
        "\n",
        "- 函数空间 $cb\\mathbb{R}_+$ 是完备的；\n",
        "\n",
        "- 所以 Banach 定理告诉我们：存在唯一的函数 $f^$ 满足 $Tf^ = f^*$；\n",
        "\n",
        "- 并且我们可以通过 $f_{n+1} = Tf_n$ 不断迭代逼近它；\n",
        "\n",
        "- 最终通过 $p(y) = \\frac{f^*(y)}{u'(y)}$ 得到价格函数。"
      ]
    },
    {
      "cell_type": "markdown",
      "id": "d12a68d0",
      "metadata": {
        "id": "d12a68d0"
      },
      "source": [
        "## Computation\n",
        "\n",
        "\n",
        "<a id='index-10'></a>\n",
        "The preceding discussion tells that we can compute $ f^* $ by picking any arbitrary $ f \\in cb\\mathbb{R}_+ $ and then iterating with $ T $.\n",
        "\n",
        "The equilibrium price function $ p^* $ can then be recovered by $ p^*(y) = f^*(y) / u'(y) $.\n",
        "\n",
        "Let’s try this when $ \\ln y_{t+1} = \\alpha \\ln y_t + \\sigma \\epsilon_{t+1} $ where $ \\{\\epsilon_t\\} $ is IID and standard normal.\n",
        "\n",
        "这是一种经典的**对数正态 AR(1) 过程**，也叫 **几何布朗运动离散版本**，表示消费禀赋 $y_t$ 的演化过程。\n",
        "- $\\epsilon_t \\sim \\mathcal{N}(0, 1)$ 是独立标准正态分布；\n",
        "- $\\alpha$ 控制“记忆性”或“均值回归”；\n",
        "- $\\sigma$ 控制波动性；\n",
        "- 换句话说，这是：\n",
        "$$\n",
        "y_{t+1} = \\exp(\\alpha \\ln y_t + \\sigma \\epsilon_{t+1}) = y_t^\\alpha \\cdot e^{\\sigma \\epsilon_{t+1}}\n",
        "$$\n",
        "\n",
        "Utility will take the isoelastic form $ u(c) = c^{1-\\gamma}/(1-\\gamma) $, where $ \\gamma > 0 $ is the coefficient of relative risk aversion.\n",
        "\n",
        "\n",
        "这是CRRA（恒定相对风险厌恶）效用函数，其中：\n",
        "\n",
        "- $\\gamma$ 是风险厌恶系数；\n",
        "\n",
        "- 特例：当 $\\gamma \\to 1$ 时，$u(c) \\to \\log c$。\n",
        "\n",
        "We’ll use Monte Carlo to compute the integral\n",
        "\n",
        "$$\n",
        "\\int f[G(y, z)] \\phi(dz)\n",
        "$$\n",
        "\n",
        "Monte Carlo is not always the fastest method for computing low-dimensional\n",
        "integrals, but it is extremely flexible (for example, it’s straightforward to\n",
        "change the underlying state process).\n",
        "\n",
        "Monte Carlo 方法就是用“随机抽样 + 平均”来估计一个期望或积分。\n",
        "\n",
        "- **灵活**：不管 $G(y, z)$ 的形式多复杂、分布 $\\phi$ 多奇怪，都可以用模拟来处理；\n",
        "- **方法**：从 $\\phi$（这里是标准正态）中抽 $N$ 个样本 $\\{z_i\\}$，近似计算积分为：\n",
        "$$\n",
        "\\int f[G(y, z)] \\phi(dz) \\approx \\frac{1}{N} \\sum_{i=1}^N f(G(y, z_i))\n",
        "$$\n",
        "\n",
        "虽然在维度较低时（比如一维积分），Monte Carlo 不是最快的（比如高斯求积更快），但它在更复杂的情形（多维状态变量、非正态分布）下非常方便，也更容易推广。"
      ]
    },
    {
      "cell_type": "markdown",
      "id": "c7aabba7",
      "metadata": {
        "id": "c7aabba7"
      },
      "source": [
        "### Numba Code\n",
        "\n",
        "Let’s start with code using NumPy / Numba (and then compare it to code using\n",
        "JAX).\n",
        "\n",
        "We create a function that returns tuples containing parameters and arrays needed\n",
        "for computation."
      ]
    },
    {
      "cell_type": "code",
      "execution_count": 2,
      "id": "b8e0f6bf",
      "metadata": {
        "hide-output": false,
        "id": "b8e0f6bf"
      },
      "outputs": [],
      "source": [
        "def create_lucas_tree_model(γ=2,            # CRRA utility parameter\n",
        "                            β=0.95,         # Discount factor\n",
        "                            α=0.90,         # Correlation coefficient\n",
        "                            σ=0.1,          # Volatility coefficient\n",
        "                            grid_size=500, #状态空间中 $y$ 的离散点数量；\n",
        "                            draw_size=1_000, #模拟蒙特卡洛样本数量\n",
        "                            seed=11):\n",
        "        # Set the grid interval to contain most of the mass of the\n",
        "        # stationary distribution of the consumption endowment\n",
        "        ssd = σ / np.sqrt(1 - α**2)\n",
        "        grid_min, grid_max = np.exp(-4 * ssd), np.exp(4 * ssd)\n",
        "        grid = np.linspace(grid_min, grid_max, grid_size)\n",
        "        # Set up distribution for shocks\n",
        "        np.random.seed(seed)\n",
        "        ϕ = lognorm(σ)\n",
        "        draws = ϕ.rvs(500)\n",
        "        # And the vector h\n",
        "        h = np.empty(grid_size)\n",
        "        for i, y in enumerate(grid):\n",
        "            h[i] = β * np.mean((y**α * draws)**(1 - γ))\n",
        "        # Pack and return\n",
        "        params = γ, β, α, σ\n",
        "        arrays = grid, draws, h\n",
        "        return params, arrays"
      ]
    },
    {
      "cell_type": "markdown",
      "source": [
        "```python\n",
        "ssd = σ / np.sqrt(1 - α**2)\n",
        "grid_min, grid_max = np.exp(-4 * ssd), np.exp(4 * ssd)\n",
        "grid = np.linspace(grid_min, grid_max, grid_size)\n",
        "```\n",
        "这是在为 $y_t$ 构造状态网格（grid）：\n",
        "\n",
        "- 原始的 log-$y$ 服从 AR(1)：$\\ln y_{t+1} = \\alpha \\ln y_t + \\sigma \\epsilon_{t+1}$；\n",
        "\n",
        "- 这个过程的平稳标准差是 $\\text{ssd} = \\sigma / \\sqrt{1 - \\alpha^2}$；\n",
        "\n",
        "- 所以 $\\ln y$ 的 95% 区间大概是 $[-4 \\cdot \\text{ssd}, +4 \\cdot \\text{ssd}]$；\n",
        "\n",
        "- 变回 $y$ 本身，用指数函数；\n",
        "\n",
        "- 然后用 np.linspace 把 $y$ 的取值区间等分为 grid_size 个点。\n",
        "\n",
        "✅ 得到的是一组 $y$ 值组成的网格 grid。\n",
        "\n",
        "在这个 Lucas Tree 模型中，grid 是一个对 $y$ 的状态空间的离散近似。也就是说：\n",
        "\n",
        "- $y_t$ 是一个连续变量（消费禀赋）；\n",
        "\n",
        "- 但计算机不能处理无穷多的连续值，所以我们要在一个区间内选取一组 代表性点，来近似整个连续空间；\n",
        "\n",
        "- 这些代表性点就构成了我们说的 grid（网格）。\n",
        "\n",
        "```python\n",
        "np.random.seed(seed)\n",
        "ϕ = lognorm(σ)\n",
        "draws = ϕ.rvs(500)\n",
        "\n",
        "```\n",
        "设置随机种子，确保结果可复现；\n",
        "\n",
        "- lognorm(σ) 表示 $e^{\\sigma \\epsilon}$ 的分布（$\\epsilon \\sim N(0, 1)$）；\n",
        "\n",
        "- 所以 $y_{t+1} = y_t^\\alpha \\cdot e^{\\sigma \\epsilon}$ 中的 $e^{\\sigma \\epsilon}$ 就可以直接用对数正态分布模拟；\n",
        "\n",
        "- draws 就是 500 个随机样本 ${e^{\\sigma \\epsilon_i}}$，用于 Monte Carlo 积分。\n",
        "```python\n",
        "h = np.empty(grid_size)\n",
        "for i, y in enumerate(grid):\n",
        "    h[i] = β * np.mean((y**α * draws)**(1 - γ))\n",
        "```\n",
        "这里计算的是 $h(y)$，也就是 Lucas operator 中不依赖于 $f$ 的那一项；\n",
        "\n",
        "$$ h(y) := \\beta \\int u'[G(y, z)] G(y, z)  \\phi(dz) $$\n",
        "\n",
        "$z := e^{\\sigma \\epsilon}$，因为 $G(y, z) = y^\\alpha \\cdot z$（其实就是yt+1,由yt的dynamic来的）\n",
        "\n",
        "$u'(c) \\cdot c = c^{1 - \\gamma}$ 以及y=c，所以 $h(y) = \\beta \\cdot \\mathbb{E}[(y^\\alpha \\cdot Z)^{1 - \\gamma}]$，其中 $Z = e^{\\sigma \\epsilon}$；\n",
        "\n",
        "使用蒙特卡洛方法估计期望，方法是对 $(y^\\alpha \\cdot \\text{draws})^{1 - \\gamma}$ 取平均再乘以 $\\beta$。\n",
        "\n"
      ],
      "metadata": {
        "id": "dbBSMiqjivv8"
      },
      "id": "dbBSMiqjivv8"
    },
    {
      "cell_type": "markdown",
      "id": "dbf878b9",
      "metadata": {
        "id": "dbf878b9"
      },
      "source": [
        "Here’s a Numba-jitted version of the Lucas operator"
      ]
    },
    {
      "cell_type": "code",
      "execution_count": 3,
      "id": "29e7ede0",
      "metadata": {
        "hide-output": false,
        "id": "29e7ede0"
      },
      "outputs": [],
      "source": [
        "@numba.jit\n",
        "def T(params, arrays, f):\n",
        "    \"\"\"\n",
        "    The Lucas pricing operator.\n",
        "    \"\"\"\n",
        "    # Unpack\n",
        "    γ, β, α, σ = params\n",
        "    grid, draws, h = arrays\n",
        "    # Turn f into a function\n",
        "    Af = lambda x: np.interp(x, grid, f)\n",
        "    # Compute Tf and return\n",
        "    Tf = np.empty_like(f) #Tf 是我们要返回的 $T(f)$，形状和输入 $f$ 一样。\n",
        "    # Apply the T operator to f using Monte Carlo integration\n",
        "    for i in range(len(grid)):\n",
        "        y = grid[i]\n",
        "        Tf[i] = h[i] + β * np.mean(Af(y**α * draws)) # 括号里面的是模拟出的 $y_{t+1}$ 值\n",
        "    return Tf"
      ]
    },
    {
      "cell_type": "markdown",
      "source": [
        "```python\n",
        "Af = lambda x: np.interp(x, grid, f)\n",
        "\n",
        "```\n",
        "\n",
        "这里定义了一个插值函数 Af(x)，它在状态网格 grid 上对 $f$ 做线性插值；\n",
        "\n",
        "因为 $y^\\alpha \\cdot z$ 可能不正好落在网格点上，我们要通过插值在 $f$ 上估值。\n",
        "```python\n",
        "Af(y**α * draws)\n",
        "```\n",
        "对模拟出来的 $y_{t+1}$ 值，用插值函数在 $f$ 上求值；\n",
        "\n",
        "相当于 $\\text{Evaluate } f(G(y, z))$。.\n",
        "\n",
        "最终计算：\n",
        "\n",
        "$$\n",
        "(Tf)(y) = h(y) + \\beta \\cdot \\mathbb{E}[f(G(y, z))] \\approx h[i] + \\beta \\cdot \\frac{1}{N} \\sum_{i=1}^N f(G(y, z_i))\n",
        "$$\n",
        "\n",
        "也就是我们之前的 Lucas operator 迭代式：\n",
        "\n",
        "$$\n",
        "(Tf)(y) = h(y) + \\beta \\int f(G(y, z)) \\, \\phi(dz)\n",
        "$$"
      ],
      "metadata": {
        "id": "QCZuuRK-m8dR"
      },
      "id": "QCZuuRK-m8dR"
    },
    {
      "cell_type": "markdown",
      "id": "fa333d8e",
      "metadata": {
        "id": "fa333d8e"
      },
      "source": [
        "To solve the model, we write a function that iterates using the Lucas operator\n",
        "to find the fixed point."
      ]
    },
    {
      "cell_type": "code",
      "execution_count": 4,
      "id": "dd23143f",
      "metadata": {
        "hide-output": false,
        "id": "dd23143f"
      },
      "outputs": [],
      "source": [
        "def solve_model(params, arrays, tol=1e-6, max_iter=500):\n",
        "    \"\"\"\n",
        "    Compute the equilibrium price function.\n",
        "\n",
        "    \"\"\"\n",
        "    # Unpack\n",
        "    γ, β, α, σ = params\n",
        "    grid, draws, h = arrays\n",
        "    # Set up and loop\n",
        "    i = 0\n",
        "    f = np.ones_like(grid)  # Initial guess of f，初始猜测函数 $f_0(y)$ 为全 1 向量；\n",
        "    error = tol + 1 # 初始化误差 error 大于 tol，确保循环开始。\n",
        "    while error > tol and i < max_iter:\n",
        "        Tf = T(params, arrays, f)\n",
        "        error = np.max(np.abs(Tf - f))\n",
        "        f = Tf\n",
        "        i += 1\n",
        "    price = f * grid**γ  # Back out price vector\n",
        "    return price"
      ]
    },
    {
      "cell_type": "markdown",
      "id": "c2f154d3",
      "metadata": {
        "id": "c2f154d3"
      },
      "source": [
        "Let’s solve the model and plot the resulting price function"
      ]
    },
    {
      "cell_type": "code",
      "execution_count": 5,
      "id": "0feea96a",
      "metadata": {
        "hide-output": false,
        "colab": {
          "base_uri": "https://localhost:8080/"
        },
        "id": "0feea96a",
        "outputId": "9c194799-0841-44cd-eb94-d7ac00324bbe"
      },
      "outputs": [
        {
          "output_type": "stream",
          "name": "stdout",
          "text": [
            "Numba compile plus execution time =  27.35041570663452\n"
          ]
        }
      ],
      "source": [
        "params, arrays = create_lucas_tree_model()\n",
        "γ, β, α, σ = params\n",
        "grid, draws, h = arrays\n",
        "\n",
        "# Solve once to compile\n",
        "start = time()\n",
        "price_vals = solve_model(params, arrays)\n",
        "numba_with_compile_time = time() - start\n",
        "print(\"Numba compile plus execution time = \", numba_with_compile_time)"
      ]
    },
    {
      "cell_type": "code",
      "execution_count": 6,
      "id": "52884645",
      "metadata": {
        "hide-output": false,
        "colab": {
          "base_uri": "https://localhost:8080/"
        },
        "id": "52884645",
        "outputId": "7f7d2961-d0d6-451a-fff7-733c1c443eba"
      },
      "outputs": [
        {
          "output_type": "stream",
          "name": "stdout",
          "text": [
            "Numba execution time =  5.255641937255859\n"
          ]
        }
      ],
      "source": [
        "# Now time execution without compile time\n",
        "start = time()\n",
        "price_vals = solve_model(params, arrays)\n",
        "numba_without_compile_time = time() - start\n",
        "print(\"Numba execution time = \", numba_without_compile_time)"
      ]
    },
    {
      "cell_type": "code",
      "execution_count": 7,
      "id": "d6699376",
      "metadata": {
        "hide-output": false,
        "colab": {
          "base_uri": "https://localhost:8080/",
          "height": 543
        },
        "id": "d6699376",
        "outputId": "dfe8b120-ef21-4a5f-fa86-a9ade4508c9e"
      },
      "outputs": [
        {
          "output_type": "display_data",
          "data": {
            "text/plain": [
              "<Figure size 1000x600 with 1 Axes>"
            ],
            "image/png": "[encoded data removed]"
          },
          "metadata": {}
        }
      ],
      "source": [
        "fig, ax = plt.subplots(figsize=(10, 6))\n",
        "ax.plot(grid, price_vals, label='$p*(y)$')\n",
        "ax.set_xlabel('$y$')\n",
        "ax.set_ylabel('price')\n",
        "ax.legend()\n",
        "plt.show()"
      ]
    },
    {
      "cell_type": "markdown",
      "id": "33c3cb5d",
      "metadata": {
        "id": "33c3cb5d"
      },
      "source": [
        "We see that the price is increasing, even if we remove all serial correlation\n",
        "from the endowment process.\n",
        "\n",
        "The reason is that a larger current endowment reduces current marginal utility.\n",
        "\n",
        "如果 $f(y)$ 没有随 $y$ 增加太快，那么由于 $y^\\gamma$ 是递增函数，$p(y)$ 会随着 $y$ 增加而上升。（因为p = f/u', 而边际效用递减）\n",
        "\n",
        "The price must therefore rise to induce the household to consume the entire endowment (and hence satisfy the resource constraint).\n",
        "\n",
        "在 Lucas 模型中，消费品是非可储存的；\n",
        "\n",
        "所以所有 $y_t$ 当期都必须被消费完，即资源约束：$c_t = y_t$ 必须成立；\n",
        "\n",
        "但是人有贴现因子 $\\beta < 1$，更喜欢把资源“储存在未来”；\n",
        "\n",
        "如果当前 $y_t$ 特别多，边际效用很低（$u'(y_t)$ 很小），人会想“我想少吃点，存着”；\n",
        "\n",
        "可是模型里不能存！那怎么办？\n",
        "\n",
        "唯一能调整的是价格 $p(y)$，它必须“变得更贵”，让你不愿买资产，被动地“消费完当期所有 $y_t$”；\n",
        "\n",
        "所以价格 $p(y)$ 必须随着 $y$ 上升而上升，才能让你别试图把资源存到未来，从而满足 $c_t = y_t$ 的资源约束。"
      ]
    },
    {
      "cell_type": "markdown",
      "id": "8b2ffbdd",
      "metadata": {
        "id": "8b2ffbdd"
      },
      "source": [
        "### JAX Code\n",
        "\n",
        "Here’s a JAX version of the same problem."
      ]
    },
    {
      "cell_type": "code",
      "execution_count": 8,
      "id": "f9bc5d0d",
      "metadata": {
        "hide-output": false,
        "id": "f9bc5d0d"
      },
      "outputs": [],
      "source": [
        "def create_lucas_tree_model(γ=2,            # CRRA utility parameter\n",
        "                            β=0.95,         # Discount factor\n",
        "                            α=0.90,         # Correlation coefficient\n",
        "                            σ=0.1,          # Volatility coefficient\n",
        "                            grid_size=500,\n",
        "                            draw_size=1_000,\n",
        "                            seed=11):\n",
        "        # Set the grid interval to contain most of the mass of the\n",
        "        # stationary distribution of the consumption endowment\n",
        "        ssd = σ / jnp.sqrt(1 - α**2)\n",
        "        grid_min, grid_max = jnp.exp(-4 * ssd), jnp.exp(4 * ssd)\n",
        "        grid = jnp.linspace(grid_min, grid_max, grid_size)\n",
        "\n",
        "        # Set up distribution for shocks\n",
        "        key = jax.random.key(seed)\n",
        "        draws = jax.random.lognormal(key, σ, shape=(draw_size,))\n",
        "        grid_reshaped = grid.reshape((grid_size, 1))\n",
        "        draws_reshaped = draws.reshape((-1, draw_size))\n",
        "        h = β * jnp.mean((grid_reshaped**α * draws_reshaped) ** (1-γ), axis=1)\n",
        "        params = γ, β, α, σ\n",
        "        arrays = grid, draws, h\n",
        "        return params, arrays"
      ]
    },
    {
      "cell_type": "markdown",
      "source": [
        "#### 对比\n",
        "---\n",
        "\n",
        "## 🔍 函数功能总体回顾\n",
        "\n",
        "这段函数是用来生成 Lucas Tree 模型的输入，包括：\n",
        "\n",
        "- 模型参数 $(\\gamma, \\beta, \\alpha, \\sigma)$；\n",
        "- 状态网格 `grid`；\n",
        "- 蒙特卡洛抽样 `draws`；\n",
        "- 用于 Lucas operator 的非递归项 $h(y)$，其形式为：\n",
        "\n",
        "  $$\n",
        "  h(y) = \\beta \\cdot \\mathbb{E}[(y^\\alpha \\cdot z)^{1 - \\gamma}]\n",
        "  $$\n",
        "\n",
        "---\n",
        "\n",
        "## 🧩 分段详解（JAX 版）\n",
        "\n",
        "### 📌 网格构建部分\n",
        "\n",
        "```python\n",
        "ssd = σ / jnp.sqrt(1 - α**2)\n",
        "grid_min, grid_max = jnp.exp(-4 * ssd), jnp.exp(4 * ssd)\n",
        "grid = jnp.linspace(grid_min, grid_max, grid_size)\n",
        "```\n",
        "\n",
        "- 和 NumPy 版本一样，先计算 $\\ln y$ 的稳态标准差 $\\text{ssd} = \\sigma / \\sqrt{1 - \\alpha^2}$；\n",
        "- 然后构造 $y$ 网格区间：$[\\exp(-4 \\cdot \\text{ssd}), \\exp(4 \\cdot \\text{ssd})]$；\n",
        "- 用 `jnp.linspace` 均分成 `grid_size` 个点，作为状态网格。\n",
        "\n",
        "---\n",
        "\n",
        "### 🎲 生成蒙特卡洛抽样\n",
        "\n",
        "```python\n",
        "key = jax.random.key(seed)\n",
        "draws = jax.random.lognormal(key, σ, shape=(draw_size,))\n",
        "```\n",
        "\n",
        "- JAX 的随机数生成方式和 NumPy 不一样，需要先手动创建“随机种子 key”；\n",
        "- `jax.random.lognormal(key, σ)` 会生成服从 $\\log \\mathcal{N}(0, \\sigma^2)$ 的样本（对应 $e^{\\sigma \\epsilon}$）；\n",
        "- 注意：JAX 中的随机函数是**纯函数**，必须显示传入和返回 `key`（这点和 NumPy 最大不同）。\n",
        "\n",
        "---\n",
        "\n",
        "### 🧮 批量计算 $h(y)$ 向量（重点）\n",
        "\n",
        "```python\n",
        "grid_reshaped = grid.reshape((grid_size, 1))\n",
        "draws_reshaped = draws.reshape((-1, draw_size))\n",
        "h = β * jnp.mean((grid_reshaped**α * draws_reshaped) ** (1-γ), axis=1)\n",
        "```\n",
        "\n",
        "这是在同时计算所有 $y$ 网格点对应的 $h(y)$ 值。核心逻辑：\n",
        "\n",
        "- `grid_reshaped`: 变成 `(grid_size, 1)`，方便广播；\n",
        "- `draws_reshaped`: 变成 `(1, draw_size)`，实现网格与样本的“外积”结构；\n",
        "- 广播后生成一个 $(grid\\_size, draw\\_size)$ 的大矩阵，其中每一行是一个特定 $y$ 值下对应的 Monte Carlo 样本；\n",
        "- 对每行取 $(y^\\alpha z)^{1 - \\gamma}$ 的平均，乘以 $\\beta$，就得到了 $h(y)$ 向量。\n",
        "\n",
        "这是 JAX 风格：**用向量化和广播**替代显式 for 循环，避免 Python 层级的慢操作，适合 JIT 编译和加速。\n",
        "\n",
        "---\n",
        "\n",
        "## 📦 返回结果\n",
        "\n",
        "```python\n",
        "params = γ, β, α, σ\n",
        "arrays = grid, draws, h\n",
        "return params, arrays\n",
        "```\n",
        "\n",
        "结构和 NumPy 版本完全一样，只是内部用的是 JAX 数组。\n"
      ],
      "metadata": {
        "id": "m075QVN-qj3l"
      },
      "id": "m075QVN-qj3l"
    },
    {
      "cell_type": "markdown",
      "id": "9cbf722a",
      "metadata": {
        "id": "9cbf722a"
      },
      "source": [
        "We’ll use the following function to simultaneously compute the expectation\n",
        "\n",
        "$$\n",
        "\\int f[G(y, z)] \\phi(dz)\n",
        "$$\n",
        "\n",
        "over all $ y $ in the grid, under the current specifications."
      ]
    },
    {
      "cell_type": "code",
      "execution_count": 9,
      "id": "aad464e3",
      "metadata": {
        "hide-output": false,
        "id": "aad464e3"
      },
      "outputs": [],
      "source": [
        "@jax.jit\n",
        "def compute_expectation(y, α, draws, grid, f):\n",
        "    return jnp.mean(jnp.interp(y**α * draws, grid, f))\n",
        "\n",
        "# Vectorize over y\n",
        "compute_expectation = jax.vmap(compute_expectation,\n",
        "                               in_axes=(0, None, None, None, None))"
      ]
    },
    {
      "cell_type": "markdown",
      "source": [
        "#### 解释\n",
        "\n",
        "## 🔁 背景回顾\n",
        "\n",
        "在 Lucas Tree 模型中，我们的 Lucas operator $T$ 定义如下：\n",
        "\n",
        "$$\n",
        "(Tf)(y) = h(y) + \\beta \\cdot \\mathbb{E}\\left[f(G(y, z))\\right]\n",
        "$$\n",
        "\n",
        "其中 $G(y, z) = y^\\alpha \\cdot z$，$z = e^{\\sigma \\epsilon}$ 是对数正态随机变量。\n",
        "\n",
        "我们要对每个 $y$，计算：\n",
        "\n",
        "$$\n",
        "\\mathbb{E}\\left[f(y^\\alpha \\cdot z)\\right] \\approx \\frac{1}{N} \\sum_{i=1}^N f(y^\\alpha \\cdot z_i)\n",
        "$$\n",
        "\n",
        "---\n",
        "\n",
        "## 🔧 函数定义：单个 $y$ 的期望计算\n",
        "\n",
        "```python\n",
        "@jax.jit\n",
        "def compute_expectation(y, α, draws, grid, f):\n",
        "    return jnp.mean(jnp.interp(y**α * draws, grid, f))\n",
        "```\n",
        "\n",
        "### 解释：\n",
        "\n",
        "- `y`: 单个 $y$ 值（标量）；\n",
        "- `α`: 模型参数；\n",
        "- `draws`: Monte Carlo 样本 $z_i = e^{\\sigma \\epsilon_i}$；\n",
        "- `grid`: 状态网格上定义的 $f$；\n",
        "- `f`: 当前 $f$ 值（在 `grid` 上的函数值）；\n",
        "- `y**α * draws`: 就是 $y^\\alpha \\cdot z_i$；\n",
        "- `jnp.interp(...)`: 对不在 grid 上的 $y^\\alpha z_i$ 用线性插值求 $f(y^\\alpha z_i)$；\n",
        "- `jnp.mean(...)`: 对这些值求平均，近似 $\\mathbb{E}[f(G(y, z))]$。\n",
        "\n",
        "### 所以这个函数的作用是：\n",
        "\n",
        "> 给定一个 $y$，返回 $\\mathbb{E}[f(G(y, z))]$ 的近似值。\n",
        "\n",
        "---\n",
        "\n",
        "## 🔁 向量化：一次处理所有 $y$\n",
        "\n",
        "```python\n",
        "compute_expectation = jax.vmap(compute_expectation,\n",
        "                               in_axes=(0, None, None, None, None))\n",
        "```\n",
        "\n",
        "### 含义：\n",
        "\n",
        "- `vmap` 相当于一个 **自动写 for 循环但不牺牲 JAX 加速特性** 的高阶函数；\n",
        "- `in_axes=(0, None, None, None, None)` 表示：\n",
        "  - 第一个参数 `y` 是一个数组，我们要对它的每一项分别应用 `compute_expectation`；\n",
        "  - 后面的参数（`α`, `draws`, `grid`, `f`）保持不变，对所有 $y$ 公用。\n",
        "\n",
        "### 等价操作（伪代码）：\n",
        "\n",
        "```python\n",
        "results = []\n",
        "for y_i in y_vec:\n",
        "    results.append(compute_expectation(y_i, α, draws, grid, f))\n",
        "```\n",
        "\n",
        "但这样写是 Python 级别的循环，**效率低**；而 `vmap` 是 **JAX 级别的批量并行计算**，**效率高**。\n",
        "\n",
        "---\n",
        "\n",
        "## ✅ 总结：这段代码做了什么？\n",
        "\n",
        "| 步骤 | 作用 |\n",
        "|------|------|\n",
        "| `compute_expectation(...)` | 计算单个 $y$ 的 $\\mathbb{E}[f(G(y, z))]$ |\n",
        "| `vmap(..., in_axes=(0,...))` | 对整个 $y$ 向量做并行计算，返回整个 $\\mathbb{E}[f(G(y, z))]$ 向量 |\n",
        "| `@jax.jit` | 加速整个函数，支持 GPU/TPU/CPU 编译执行 |\n",
        "\n",
        "\n"
      ],
      "metadata": {
        "id": "mYqPy5NkrCT6"
      },
      "id": "mYqPy5NkrCT6"
    },
    {
      "cell_type": "markdown",
      "id": "b73acabd",
      "metadata": {
        "id": "b73acabd"
      },
      "source": [
        "Here’s the Lucas operator"
      ]
    },
    {
      "cell_type": "code",
      "execution_count": 10,
      "id": "3bc2cdca",
      "metadata": {
        "hide-output": false,
        "id": "3bc2cdca"
      },
      "outputs": [],
      "source": [
        "@jax.jit\n",
        "def T(params, arrays, f):\n",
        "    \"\"\"\n",
        "    The Lucas operator\n",
        "\n",
        "    \"\"\"\n",
        "    grid, draws, h = arrays\n",
        "    γ, β, α, σ = params\n",
        "    mci = compute_expectation(grid, α, draws, grid, f)\n",
        "    return h + β * mci"
      ]
    },
    {
      "cell_type": "markdown",
      "id": "68668da1",
      "metadata": {
        "id": "68668da1"
      },
      "source": [
        "We’ll use successive approximation to compute the fixed point."
      ]
    },
    {
      "cell_type": "code",
      "execution_count": 11,
      "id": "7b154653",
      "metadata": {
        "hide-output": false,
        "id": "7b154653"
      },
      "outputs": [],
      "source": [
        "def successive_approx_jax(T,                     # Operator (callable)\n",
        "                          x_0,                   # Initial condition\n",
        "                          tol=1e-6      ,        # Error tolerance\n",
        "                          max_iter=10_000):      # Max iteration bound\n",
        "    def body_fun(k_x_err):\n",
        "        k, x, error = k_x_err\n",
        "        x_new = T(x)\n",
        "        error = jnp.max(jnp.abs(x_new - x))\n",
        "        return k + 1, x_new, error\n",
        "\n",
        "    def cond_fun(k_x_err):\n",
        "        k, x, error = k_x_err\n",
        "        return jnp.logical_and(error > tol, k < max_iter)\n",
        "\n",
        "    k, x, error = jax.lax.while_loop(cond_fun, body_fun,\n",
        "                                    (1, x_0, tol + 1))\n",
        "    return x\n",
        "\n",
        "successive_approx_jax = \\\n",
        "    jax.jit(successive_approx_jax, static_argnums=(0,)) #T 是一个 “静态参数”（也就是不能变化的函数对象）；"
      ]
    },
    {
      "cell_type": "markdown",
      "source": [
        "k, x, error = jax.lax.while_loop(cond_fun, body_fun, (1, x_0, tol + 1))\n",
        "\n",
        "jax.lax.while_loop 是 JAX 的低级循环结构，用于在 JIT 编译下执行循环（原生 Python 的 while 循环不能被 JIT 编译）；\n",
        "\n",
        "初始状态是 (k=1, x_0, error=tol+1)；\n",
        "\n",
        "在 cond_fun 满足条件时，不断调用 body_fun 更新状态；\n",
        "\n",
        "最终返回的是收敛后的 (k, x, error)，但这里只取 x 作为固定点近似解返回。\n",
        "\n"
      ],
      "metadata": {
        "id": "-XKfTOxVrpMm"
      },
      "id": "-XKfTOxVrpMm"
    },
    {
      "cell_type": "markdown",
      "id": "35f5d2c9",
      "metadata": {
        "id": "35f5d2c9"
      },
      "source": [
        "Here’s a function that solves the model"
      ]
    },
    {
      "cell_type": "code",
      "execution_count": 12,
      "id": "6957c184",
      "metadata": {
        "hide-output": false,
        "id": "6957c184"
      },
      "outputs": [],
      "source": [
        "def solve_model(params, arrays, tol=1e-6, max_iter=500):\n",
        "    \"\"\"\n",
        "    Compute the equilibrium price function.\n",
        "\n",
        "    \"\"\"\n",
        "    # Simplify notation\n",
        "    grid, draws, h = arrays\n",
        "    γ, β, α, σ = params\n",
        "    _T = lambda f: T(params, arrays, f)\n",
        "    f = jnp.ones_like(grid)  # Initial guess of f\n",
        "\n",
        "    f = successive_approx_jax(_T, f, tol=tol, max_iter=max_iter)\n",
        "\n",
        "    price = f * grid**γ  # Back out price vector\n",
        "\n",
        "    return price"
      ]
    },
    {
      "cell_type": "markdown",
      "id": "7916744e",
      "metadata": {
        "id": "7916744e"
      },
      "source": [
        "Now let’s solve the model again and compare timing"
      ]
    },
    {
      "cell_type": "code",
      "execution_count": 13,
      "id": "e8610016",
      "metadata": {
        "hide-output": false,
        "colab": {
          "base_uri": "https://localhost:8080/"
        },
        "id": "e8610016",
        "outputId": "186c97f1-f31e-4927-d5d5-e64bed07a63b"
      },
      "outputs": [
        {
          "output_type": "stream",
          "name": "stdout",
          "text": [
            "JAX compile plus execution time =  3.73040509223938\n"
          ]
        }
      ],
      "source": [
        "params, arrays = create_lucas_tree_model()\n",
        "grid, draws, h = arrays\n",
        "γ, β, α, σ = params\n",
        "\n",
        "# Solve once to compile\n",
        "start = time()\n",
        "price_vals = solve_model(params, arrays).block_until_ready()\n",
        "jax_with_compile_time = time() - start\n",
        "print(\"JAX compile plus execution time = \", jax_with_compile_time)"
      ]
    },
    {
      "cell_type": "code",
      "execution_count": 14,
      "id": "58d71727",
      "metadata": {
        "hide-output": false,
        "colab": {
          "base_uri": "https://localhost:8080/"
        },
        "id": "58d71727",
        "outputId": "addcb834-82c5-4a6f-b570-b63a10b60885"
      },
      "outputs": [
        {
          "output_type": "stream",
          "name": "stdout",
          "text": [
            "JAX execution time =  0.9183523654937744\n",
            "Speedup factor =  5.722903467918914\n"
          ]
        }
      ],
      "source": [
        "# Now time execution without compile time\n",
        "start = time()\n",
        "price_vals = solve_model(params, arrays).block_until_ready()\n",
        "jax_without_compile_time = time() - start\n",
        "print(\"JAX execution time = \", jax_without_compile_time)\n",
        "print(\"Speedup factor = \", numba_without_compile_time/jax_without_compile_time)"
      ]
    },
    {
      "cell_type": "markdown",
      "id": "9421bdc6",
      "metadata": {
        "id": "9421bdc6"
      },
      "source": [
        "Let’s check the solutions are similar"
      ]
    },
    {
      "cell_type": "code",
      "execution_count": 15,
      "id": "5ba46d5c",
      "metadata": {
        "hide-output": false,
        "colab": {
          "base_uri": "https://localhost:8080/",
          "height": 543
        },
        "id": "5ba46d5c",
        "outputId": "63dd939f-c209-47da-8a4b-e5b118f52f32"
      },
      "outputs": [
        {
          "output_type": "display_data",
          "data": {
            "text/plain": [
              "<Figure size 1000x600 with 1 Axes>"
            ],
            "image/png": "[encoded data removed]"
          },
          "metadata": {}
        }
      ],
      "source": [
        "fig, ax = plt.subplots(figsize=(10, 6))\n",
        "ax.plot(grid, price_vals, label='$p*(y)$')\n",
        "ax.set_xlabel('$y$')\n",
        "ax.set_ylabel('price')\n",
        "ax.legend()\n",
        "plt.show()"
      ]
    },
    {
      "cell_type": "markdown",
      "id": "7e6ffe9d",
      "metadata": {
        "id": "7e6ffe9d"
      },
      "source": [
        "## Exercises\n",
        "\n",
        "\n",
        "<a id='lucas-asset-ex1'></a>"
      ]
    },
    {
      "cell_type": "markdown",
      "id": "a468e406",
      "metadata": {
        "id": "a468e406"
      },
      "source": [
        "## Exercise 8.1\n",
        "\n",
        "When consumers are more patient the asset becomes more valuable, and the price of the Lucas tree shifts up.\n",
        "\n",
        "Show this by plotting the price function for the Lucas tree when $ \\beta = 0.95 $ and $ 0.98 $."
      ]
    },
    {
      "cell_type": "markdown",
      "id": "4c31c35a",
      "metadata": {
        "id": "4c31c35a"
      },
      "source": [
        "## Solution to[ Exercise 8.1](https://jax.quantecon.org/#lucas_ex1)"
      ]
    },
    {
      "cell_type": "code",
      "execution_count": 16,
      "id": "563ab87d",
      "metadata": {
        "hide-output": false,
        "colab": {
          "base_uri": "https://localhost:8080/",
          "height": 548
        },
        "id": "563ab87d",
        "outputId": "4bf0a4e1-13f4-4e77-cb9c-15d51a64d08e"
      },
      "outputs": [
        {
          "output_type": "display_data",
          "data": {
            "text/plain": [
              "<Figure size 1000x600 with 1 Axes>"
            ],
            "image/png": "[encoded data removed]"
          },
          "metadata": {}
        }
      ],
      "source": [
        "fig, ax = plt.subplots(figsize=(10, 6))\n",
        "\n",
        "for β in (.95, 0.98):\n",
        "    params, arrays = create_lucas_tree_model(β=β)\n",
        "    grid, draws, h = arrays\n",
        "    γ, beta, α, σ = params\n",
        "    price_vals = solve_model(params, arrays)\n",
        "    label = rf'$\\beta = {beta}$'\n",
        "    ax.plot(grid, price_vals, lw=2, alpha=0.7, label=label)\n",
        "\n",
        "ax.legend(loc='upper left')\n",
        "ax.set(xlabel='$y$', ylabel='price', xlim=(min(grid), max(grid)))\n",
        "plt.show()"
      ]
    }
  ],
  "metadata": {
    "date": 1741992967.2964258,
    "filename": "lucas_model.md",
    "kernelspec": {
      "display_name": "Python 3",
      "name": "python3"
    },
    "title": "Asset Pricing: The Lucas Asset Pricing Model",
    "colab": {
      "provenance": [],
      "toc_visible": true,
      "gpuType": "T4"
    },
    "accelerator": "GPU"
  },
  "nbformat": 4,
  "nbformat_minor": 5
}