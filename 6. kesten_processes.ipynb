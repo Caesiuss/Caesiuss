{
  "cells": [
    {
      "cell_type": "markdown",
      "id": "c4bf7e1e",
      "metadata": {
        "id": "c4bf7e1e"
      },
      "source": [
        "# Kesten Processes and Firm Dynamics\n",
        "\n",
        "\n",
        "<a id='index-0'></a>"
      ]
    },
    {
      "cell_type": "markdown",
      "id": "c9728cc6",
      "metadata": {
        "id": "c9728cc6"
      },
      "source": [
        "# GPU\n",
        "\n",
        "This lecture was built using a machine with JAX installed and access to a GPU.\n",
        "\n",
        "To run this lecture on [Google Colab](https://colab.research.google.com/), click on the “play” icon top right, select Colab, and set the runtime environment to include a GPU.\n",
        "\n",
        "To run this lecture on your own machine, you need to install [Google JAX](https://github.com/google/jax).\n",
        "\n",
        "In addition to JAX and Anaconda, this lecture will need the following libraries:"
      ]
    },
    {
      "cell_type": "code",
      "execution_count": 2,
      "id": "8b3a2465",
      "metadata": {
        "hide-output": false,
        "id": "8b3a2465",
        "outputId": "94d3acbc-d835-403b-e327-7ef5582dae4a",
        "colab": {
          "base_uri": "https://localhost:8080/"
        }
      },
      "outputs": [
        {
          "output_type": "stream",
          "name": "stdout",
          "text": [
            "Collecting quantecon\n",
            "  Downloading quantecon-0.8.0-py3-none-any.whl.metadata (5.2 kB)\n",
            "Requirement already satisfied: numba>=0.49.0 in /usr/local/lib/python3.11/dist-packages (from quantecon) (0.60.0)\n",
            "Requirement already satisfied: numpy>=1.17.0 in /usr/local/lib/python3.11/dist-packages (from quantecon) (1.26.4)\n",
            "Requirement already satisfied: requests in /usr/local/lib/python3.11/dist-packages (from quantecon) (2.32.3)\n",
            "Requirement already satisfied: scipy>=1.5.0 in /usr/local/lib/python3.11/dist-packages (from quantecon) (1.14.1)\n",
            "Requirement already satisfied: sympy in /usr/local/lib/python3.11/dist-packages (from quantecon) (1.13.1)\n",
            "Requirement already satisfied: llvmlite<0.44,>=0.43.0dev0 in /usr/local/lib/python3.11/dist-packages (from numba>=0.49.0->quantecon) (0.43.0)\n",
            "Requirement already satisfied: charset-normalizer<4,>=2 in /usr/local/lib/python3.11/dist-packages (from requests->quantecon) (3.4.1)\n",
            "Requirement already satisfied: idna<4,>=2.5 in /usr/local/lib/python3.11/dist-packages (from requests->quantecon) (3.10)\n",
            "Requirement already satisfied: urllib3<3,>=1.21.1 in /usr/local/lib/python3.11/dist-packages (from requests->quantecon) (2.3.0)\n",
            "Requirement already satisfied: certifi>=2017.4.17 in /usr/local/lib/python3.11/dist-packages (from requests->quantecon) (2025.1.31)\n",
            "Requirement already satisfied: mpmath<1.4,>=1.1.0 in /usr/local/lib/python3.11/dist-packages (from sympy->quantecon) (1.3.0)\n",
            "Downloading quantecon-0.8.0-py3-none-any.whl (322 kB)\n",
            "\u001b[?25l   \u001b[90m━━━━━━━━━━━━━━━━━━━━━━━━━━━━━━━━━━━━━━━━\u001b[0m \u001b[32m0.0/322.7 kB\u001b[0m \u001b[31m?\u001b[0m eta \u001b[36m-:--:--\u001b[0m\r\u001b[2K   \u001b[91m━━━━━━━━━━━━━━━━━━━━━━━━━━━━━━━━━━━━━━━\u001b[0m\u001b[90m╺\u001b[0m \u001b[32m317.4/322.7 kB\u001b[0m \u001b[31m11.4 MB/s\u001b[0m eta \u001b[36m0:00:01\u001b[0m\r\u001b[2K   \u001b[90m━━━━━━━━━━━━━━━━━━━━━━━━━━━━━━━━━━━━━━━━\u001b[0m \u001b[32m322.7/322.7 kB\u001b[0m \u001b[31m8.2 MB/s\u001b[0m eta \u001b[36m0:00:00\u001b[0m\n",
            "\u001b[?25hInstalling collected packages: quantecon\n",
            "Successfully installed quantecon-0.8.0\n"
          ]
        }
      ],
      "source": [
        "!pip install quantecon"
      ]
    },
    {
      "cell_type": "markdown",
      "id": "e0201605",
      "metadata": {
        "id": "e0201605"
      },
      "source": [
        "## Overview\n",
        "\n",
        "This lecture describes Kesten processes, which are an important class of\n",
        "stochastic processes, and an application of firm dynamics.\n",
        "\n",
        "The lecture draws on [an earlier QuantEcon\n",
        "lecture](https://python.quantecon.org/kesten_processes.html), which uses Numba\n",
        "to accelerate the computations.\n",
        "\n",
        "In that earlier lecture you can find a more detailed discussion of the concepts involved.\n",
        "\n",
        "This lecture focuses on implementing the same computations in JAX.\n",
        "\n",
        "Let’s start with some imports:"
      ]
    },
    {
      "cell_type": "code",
      "execution_count": 3,
      "id": "91276891",
      "metadata": {
        "hide-output": false,
        "id": "91276891"
      },
      "outputs": [],
      "source": [
        "import matplotlib.pyplot as plt\n",
        "import quantecon as qe\n",
        "import jax\n",
        "import jax.numpy as jnp\n",
        "from jax import random\n",
        "from jax import lax"
      ]
    },
    {
      "cell_type": "markdown",
      "id": "da305459",
      "metadata": {
        "id": "da305459"
      },
      "source": [
        "Let’s check the GPU we are running"
      ]
    },
    {
      "cell_type": "code",
      "execution_count": 4,
      "id": "ec7be738",
      "metadata": {
        "hide-output": false,
        "id": "ec7be738",
        "outputId": "2af01866-6162-4ade-9eda-5098a6d424d9",
        "colab": {
          "base_uri": "https://localhost:8080/"
        }
      },
      "outputs": [
        {
          "output_type": "stream",
          "name": "stdout",
          "text": [
            "Mon Mar 17 13:27:19 2025       \n",
            "+-----------------------------------------------------------------------------------------+\n",
            "| NVIDIA-SMI 550.54.15              Driver Version: 550.54.15      CUDA Version: 12.4     |\n",
            "|-----------------------------------------+------------------------+----------------------+\n",
            "| GPU  Name                 Persistence-M | Bus-Id          Disp.A | Volatile Uncorr. ECC |\n",
            "| Fan  Temp   Perf          Pwr:Usage/Cap |           Memory-Usage | GPU-Util  Compute M. |\n",
            "|                                         |                        |               MIG M. |\n",
            "|=========================================+========================+======================|\n",
            "|   0  Tesla T4                       Off |   00000000:00:04.0 Off |                    0 |\n",
            "| N/A   50C    P8             10W /   70W |       0MiB /  15360MiB |      0%      Default |\n",
            "|                                         |                        |                  N/A |\n",
            "+-----------------------------------------+------------------------+----------------------+\n",
            "                                                                                         \n",
            "+-----------------------------------------------------------------------------------------+\n",
            "| Processes:                                                                              |\n",
            "|  GPU   GI   CI        PID   Type   Process name                              GPU Memory |\n",
            "|        ID   ID                                                               Usage      |\n",
            "|=========================================================================================|\n",
            "|  No running processes found                                                             |\n",
            "+-----------------------------------------------------------------------------------------+\n"
          ]
        }
      ],
      "source": [
        "!nvidia-smi"
      ]
    },
    {
      "cell_type": "markdown",
      "id": "0cc45eae",
      "metadata": {
        "id": "0cc45eae"
      },
      "source": [
        "## Kesten processes\n",
        "\n",
        "\n",
        "<a id='index-1'></a>\n",
        "A **Kesten process** is a stochastic process of the form\n",
        "\n",
        "\n",
        "<a id='equation-kesproc'></a>\n",
        "$$\n",
        "X_{t+1} = a_{t+1} X_t + \\eta_{t+1} \\tag{6.1}\n",
        "$$\n",
        "\n",
        "where $ \\{a_t\\}_{t \\geq 1} $ and $ \\{\\eta_t\\}_{t \\geq 1} $ are IID\n",
        "sequences.\n",
        "\n",
        "We are interested in the dynamics of $ \\{X_t\\}_{t \\geq 0} $ when $ X_0 $ is given.\n",
        "\n",
        "We will focus on the nonnegative scalar case, where $ X_t $ takes values in $ \\mathbb R_+ $.\n",
        "\n",
        "In particular, we will assume that\n",
        "\n",
        "- the initial condition $ X_0 $ is nonnegative,  \n",
        "- $ \\{a_t\\}_{t \\geq 1} $ is a nonnegative IID stochastic process and  \n",
        "- $ \\{\\eta_t\\}_{t \\geq 1} $ is another nonnegative IID stochastic process, independent of the first.  "
      ]
    },
    {
      "cell_type": "markdown",
      "id": "b7a7fb7e",
      "metadata": {
        "id": "b7a7fb7e"
      },
      "source": [
        "### Application: firm dynamics\n",
        "\n",
        "In this section we apply Kesten process theory to the study of firm dynamics."
      ]
    },
    {
      "cell_type": "markdown",
      "id": "da84720d",
      "metadata": {
        "id": "da84720d"
      },
      "source": [
        "#### Gibrat’s law\n",
        "\n",
        "It was postulated many years ago by Robert Gibrat that firm size evolves\n",
        "according to a simple rule whereby size next period is proportional to current\n",
        "size.\n",
        "\n",
        "This is now known as [Gibrat’s law of proportional growth](https://en.wikipedia.org/wiki/Gibrat%27s_law).\n",
        "\n",
        "We can express this idea by stating that a suitably defined measure\n",
        "$ s_t $ of firm size obeys\n",
        "\n",
        "\n",
        "<a id='equation-firm-dynam-gb'></a>\n",
        "$$\n",
        "\\frac{s_{t+1}}{s_t} = a_{t+1} \\tag{6.2}\n",
        "$$\n",
        "\n",
        "for some positive IID sequence $ \\{a_t\\} $.\n",
        "\n",
        "Subsequent empirical research has shown that this specification is not accurate,\n",
        "particularly for small firms.\n",
        "\n",
        "However, we can get close to the data by modifying [(6.2)](#equation-firm-dynam-gb) to\n",
        "\n",
        "\n",
        "<a id='equation-firm-dynam'></a>\n",
        "$$\n",
        "s_{t+1} = a_{t+1} s_t + b_{t+1} \\tag{6.3}\n",
        "$$\n",
        "\n",
        "where $ \\{a_t\\} $ and $ \\{b_t\\} $ are both IID and independent of each\n",
        "other.\n",
        "\n",
        "We now study the implications of this specification."
      ]
    },
    {
      "cell_type": "markdown",
      "id": "31a5b2d7",
      "metadata": {
        "id": "31a5b2d7"
      },
      "source": [
        "#### Heavy tails\n",
        "\n",
        "If the conditions of the [Kesten–Goldie\n",
        "Theorem](https://python.quantecon.org/kesten_processes.html#the-kestengoldie-theorem)\n",
        "are satisfied, then [(6.3)](#equation-firm-dynam) implies that the firm size distribution\n",
        "will have Pareto tails.\n",
        "\n",
        "This matches empirical findings across many data sets.\n",
        "\n",
        "But there is another unrealistic aspect of the firm dynamics specified in [(6.3)](#equation-firm-dynam) that we need to address: it ignores **entry and exit**.\n",
        "\n",
        "In any given period and in any given market, we observe significant numbers of\n",
        "firms entering and exiting the market.\n",
        "\n",
        "In this setting, firm dynamics can be expressed as\n",
        "\n",
        "\n",
        "<a id='equation-firm-dynam-ee'></a>\n",
        "$$\n",
        "s_{t+1} = e_{t+1} \\mathbb{1}\\{s_t < \\bar s\\} +\n",
        "    (a_{t+1} s_t + b_{t+1}) \\mathbb{1}\\{s_t \\geq \\bar s\\} \\tag{6.4}\n",
        "$$\n",
        "\n",
        "The motivation behind and interpretation of [(6.4)](#equation-firm-dynam-ee) can be found in\n",
        "[our earlier Kesten process lecture](https://python.quantecon.org/kesten_processes.html).\n",
        "\n",
        "What can we say about dynamics?\n",
        "\n",
        "Although [(6.4)](#equation-firm-dynam-ee) is not a Kesten process, it does update in the\n",
        "same way as a Kesten process when $ s_t $ is large.\n",
        "\n",
        "So perhaps its stationary distribution still has Pareto tails?\n",
        "\n",
        "We can investigate this question via simulation and rank-size plots.\n",
        "\n",
        "The approach will be to\n",
        "\n",
        "1. generate $ M $ draws of $ s_T $ when $ M $ and $ T $ are\n",
        "  large and  \n",
        "1. plot the largest 1,000 of the resulting draws in a rank-size plot.  \n",
        "\n",
        "\n",
        "(The distribution of $ s_T $ will be close to the stationary distribution\n",
        "when $ T $ is large.)\n",
        "\n",
        "In the simulation, we assume that each of $ a_t, b_t $ and $ e_t $ is lognormal.\n",
        "\n",
        "Here’s code to update a cross-section of firms according to the dynamics in\n",
        "[(6.4)](#equation-firm-dynam-ee)."
      ]
    },
    {
      "cell_type": "code",
      "execution_count": 16,
      "id": "824a37b9",
      "metadata": {
        "hide-output": false,
        "id": "824a37b9"
      },
      "outputs": [],
      "source": [
        "@jax.jit\n",
        "def update_s(s, s_bar, a_random, b_random, e_random):\n",
        "    exp_a = jnp.exp(a_random)\n",
        "    exp_b = jnp.exp(b_random)\n",
        "    exp_e = jnp.exp(e_random)\n",
        "\n",
        "    s = jnp.where(s < s_bar,\n",
        "                  exp_e,\n",
        "                  exp_a * s + exp_b)\n",
        "\n",
        "    return s"
      ]
    },
    {
      "cell_type": "markdown",
      "id": "49439103",
      "metadata": {
        "id": "49439103"
      },
      "source": [
        "Now we write a for loop that repeatedly calls this function, to push a\n",
        "cross-section of firms forward in time.\n",
        "\n",
        "For sufficiently large `T`, the cross-section it returns (the cross-section at\n",
        "time `T`) corresponds to firm size distribution in (approximate) equilibrium."
      ]
    },
    {
      "cell_type": "code",
      "execution_count": 13,
      "id": "1d5e08ee",
      "metadata": {
        "hide-output": false,
        "id": "1d5e08ee",
        "outputId": "26f1d05b-e4b4-4ef9-9abd-8814ec95371c",
        "colab": {
          "base_uri": "https://localhost:8080/",
          "height": 253
        }
      },
      "outputs": [
        {
          "output_type": "error",
          "ename": "NameError",
          "evalue": "name 'update_s' is not defined",
          "traceback": [
            "\u001b[0;31m---------------------------------------------------------------------------\u001b[0m",
            "\u001b[0;31mNameError\u001b[0m                                 Traceback (most recent call last)",
            "\u001b[0;32m<timed exec>\u001b[0m in \u001b[0;36m<module>\u001b[0;34m\u001b[0m\n",
            "\u001b[0;32m<ipython-input-13-86eb479c3888>\u001b[0m in \u001b[0;36mgenerate_draws\u001b[0;34m(M, μ_a, σ_a, μ_b, σ_b, μ_e, σ_e, s_bar, T, s_init, seed)\u001b[0m\n\u001b[1;32m     25\u001b[0m         \u001b[0me_random\u001b[0m \u001b[0;34m=\u001b[0m \u001b[0mμ_e\u001b[0m \u001b[0;34m+\u001b[0m \u001b[0mσ_e\u001b[0m \u001b[0;34m*\u001b[0m \u001b[0mrandom\u001b[0m\u001b[0;34m.\u001b[0m\u001b[0mnormal\u001b[0m\u001b[0;34m(\u001b[0m\u001b[0mkeys\u001b[0m\u001b[0;34m[\u001b[0m\u001b[0;36m2\u001b[0m\u001b[0;34m]\u001b[0m\u001b[0;34m,\u001b[0m \u001b[0;34m(\u001b[0m\u001b[0mM\u001b[0m\u001b[0;34m,\u001b[0m \u001b[0;34m)\u001b[0m\u001b[0;34m)\u001b[0m\u001b[0;34m\u001b[0m\u001b[0;34m\u001b[0m\u001b[0m\n\u001b[1;32m     26\u001b[0m \u001b[0;34m\u001b[0m\u001b[0m\n\u001b[0;32m---> 27\u001b[0;31m         \u001b[0ms\u001b[0m \u001b[0;34m=\u001b[0m \u001b[0mupdate_s\u001b[0m\u001b[0;34m(\u001b[0m\u001b[0ms\u001b[0m\u001b[0;34m,\u001b[0m \u001b[0ms_bar\u001b[0m\u001b[0;34m,\u001b[0m \u001b[0ma_random\u001b[0m\u001b[0;34m,\u001b[0m \u001b[0mb_random\u001b[0m\u001b[0;34m,\u001b[0m \u001b[0me_random\u001b[0m\u001b[0;34m)\u001b[0m\u001b[0;34m\u001b[0m\u001b[0;34m\u001b[0m\u001b[0m\n\u001b[0m\u001b[1;32m     28\u001b[0m \u001b[0;34m\u001b[0m\u001b[0m\n\u001b[1;32m     29\u001b[0m         \u001b[0;31m# Generate new key for the next iteration\u001b[0m\u001b[0;34m\u001b[0m\u001b[0;34m\u001b[0m\u001b[0m\n",
            "\u001b[0;31mNameError\u001b[0m: name 'update_s' is not defined"
          ]
        }
      ],
      "source": [
        "def generate_draws(M=1_000_000,\n",
        "                   μ_a=-0.5,\n",
        "                   σ_a=0.1,\n",
        "                   μ_b=0.0,\n",
        "                   σ_b=0.5,\n",
        "                   μ_e=0.0,\n",
        "                   σ_e=0.5,\n",
        "                   s_bar=1.0,\n",
        "                   T=500,\n",
        "                   s_init=1.0,\n",
        "                   seed=123):\n",
        "\n",
        "    key = random.PRNGKey(seed)\n",
        "\n",
        "    # Initialize the array of s values with the initial value\n",
        "    s = jnp.full((M, ), s_init) #创建一个大小为 M 的数组，所有元素初始值为sint\n",
        "\n",
        "    # Perform updates on s for time t\n",
        "    for t in range(T):\n",
        "        keys = random.split(key, 3)\n",
        "          # JAX 不能像 NumPy 那样直接调用 randn()，必须通过 random.split() 生成新随机数种子。\n",
        "          # random.split(key, 3) 拆分当前 key，生成 3 个新的随机数种子\n",
        "        a_random = μ_a + σ_a * random.normal(keys[0], (M, ))\n",
        "        b_random = μ_b + σ_b * random.normal(keys[1], (M, ))\n",
        "        e_random = μ_e + σ_e * random.normal(keys[2], (M, ))\n",
        "\n",
        "        s = update_s(s, s_bar, a_random, b_random, e_random)\n",
        "\n",
        "        # Generate new key for the next iteration\n",
        "        key = random.fold_in(key, t)\n",
        "          # JAX 不允许 key 变量被多次使用，所以每次循环都要生成新的 key。\n",
        "          # random.fold_in(key, t) 保证每次循环的随机性，同时保持可复现性。\n",
        "\n",
        "    return s\n",
        "\n",
        "%time data = generate_draws().block_until_ready()"
      ]
    },
    {
      "cell_type": "markdown",
      "id": "4df7cabe",
      "metadata": {
        "id": "4df7cabe"
      },
      "source": [
        "Running the above function again so we can see the speed with and without compile time."
      ]
    },
    {
      "cell_type": "code",
      "execution_count": 6,
      "id": "eec74586",
      "metadata": {
        "hide-output": false,
        "id": "eec74586",
        "outputId": "99c7d49a-b197-4e24-e4a2-c775c3183e09",
        "colab": {
          "base_uri": "https://localhost:8080/"
        }
      },
      "outputs": [
        {
          "output_type": "stream",
          "name": "stdout",
          "text": [
            "CPU times: user 3.38 s, sys: 942 ms, total: 4.32 s\n",
            "Wall time: 2.89 s\n"
          ]
        }
      ],
      "source": [
        "%time data = generate_draws().block_until_ready()"
      ]
    },
    {
      "cell_type": "markdown",
      "id": "b0b45b3c",
      "metadata": {
        "id": "b0b45b3c"
      },
      "source": [
        "Notice that we do not JIT-compile the `for` loops, since\n",
        "\n",
        "1. acceleration of the outer loop makes little difference terms of compute\n",
        "  time and  \n",
        "1. compiling the outer loop is often very slow.  \n",
        "\n",
        "\n",
        "Let’s produce the rank-size plot and check the distribution:"
      ]
    },
    {
      "cell_type": "code",
      "execution_count": 7,
      "id": "5cdd96f0",
      "metadata": {
        "hide-output": false,
        "id": "5cdd96f0",
        "outputId": "20bd36b2-c719-4703-abc1-7886921d93cb",
        "colab": {
          "base_uri": "https://localhost:8080/",
          "height": 454
        }
      },
      "outputs": [
        {
          "output_type": "display_data",
          "data": {
            "text/plain": [
              "<Figure size 640x480 with 1 Axes>"
            ],
            "image/png": "[encoded data removed]"
          },
          "metadata": {}
        }
      ],
      "source": [
        "fig, ax = plt.subplots() #ax：表示 子图（axes）。\n",
        "\n",
        "rank_data, size_data = qe.rank_size(data, c=0.01)\n",
        "ax.loglog(rank_data, size_data, 'o', markersize=3.0, alpha=0.5)\n",
        "ax.set_xlabel(\"log rank\")\n",
        "ax.set_ylabel(\"log size\")\n",
        "\n",
        "plt.show()"
      ]
    },
    {
      "cell_type": "markdown",
      "source": [
        "如果公司规模分布 符合 Pareto 分布，则 Rank-Size 图在 log-log 坐标下应该近似为一条直线"
      ],
      "metadata": {
        "id": "Zs7oq7TaTBLS"
      },
      "id": "Zs7oq7TaTBLS"
    },
    {
      "cell_type": "markdown",
      "id": "b7290e6d",
      "metadata": {
        "id": "b7290e6d"
      },
      "source": [
        "The plot produces a straight line, consistent with a Pareto tail."
      ]
    },
    {
      "cell_type": "markdown",
      "id": "66b36112",
      "metadata": {
        "id": "66b36112"
      },
      "source": [
        "#### Alternative implementation with `lax.fori_loop`\n",
        "\n",
        "If the time horizon is not too large, we can try to further accelerate our code\n",
        "by replacing the `for` loop with\n",
        "[`lax.fori_loop`](https://jax.readthedocs.io/en/latest/_autosummary/jax.lax.fori_loop.html).\n",
        "\n",
        "Note, however, that\n",
        "\n",
        "1. as mentioned above, there is not much speed gain in accelerating outer loops,  \n",
        "1. `lax.fori_loop` has a more complicated syntax, and, most importantly,  \n",
        "1. the `lax.fori_loop` implementation consumes far more memory, as we need to have to\n",
        "  store large matrices of random draws  \n",
        "\n",
        "\n",
        "Hence the code below will fail due to out-of-memory errors when `T` and `M` are large.\n",
        "\n",
        "Here is the `lax.fori_loop` version:"
      ]
    },
    {
      "cell_type": "markdown",
      "source": [
        "jax.lax.fori_loop 是 JAX 的 函数式循环优化工具：\n",
        "\n",
        "\n",
        "\n",
        "lax.fori_loop(start, stop, body_fun, init_val)\n",
        "\n",
        "- start：循环开始值（类似 range(start, stop)）。\n",
        "- stop：循环结束值。\n",
        "- body_fun(i, carry)：\n",
        "- i 是当前迭代步。\n",
        "- carry 是累积变量，在每次循环时更新。\n",
        "- init_val：初始值。\n",
        "\n",
        "优点：\n",
        "\n",
        "适用于 GPU/TPU 计算，加速 for 循环。\n",
        "在 JIT 编译时优化性能。\n",
        "\n",
        "\n",
        "缺点：\n",
        "\n",
        "内存占用大，可能导致 OOM。\n",
        "代码复杂度增加。"
      ],
      "metadata": {
        "id": "J21aDXGCRsRN"
      },
      "id": "J21aDXGCRsRN"
    },
    {
      "cell_type": "code",
      "execution_count": 12,
      "id": "d2bd6d22",
      "metadata": {
        "hide-output": false,
        "id": "d2bd6d22",
        "outputId": "7626dd6a-3327-452a-f83a-52b2a04b73e8",
        "colab": {
          "base_uri": "https://localhost:8080/"
        }
      },
      "outputs": [
        {
          "output_type": "stream",
          "name": "stdout",
          "text": [
            "CPU times: user 1.13 s, sys: 45.2 ms, total: 1.18 s\n",
            "Wall time: 1.18 s\n"
          ]
        }
      ],
      "source": [
        "@jax.jit\n",
        "def generate_draws_lax(μ_a=-0.5,\n",
        "                       σ_a=0.1,\n",
        "                       μ_b=0.0,\n",
        "                       σ_b=0.5,\n",
        "                       μ_e=0.0,\n",
        "                       σ_e=0.5,\n",
        "                       s_bar=1.0,\n",
        "                       T=500,\n",
        "                       M=500_000,\n",
        "                       s_init=1.0,\n",
        "                       seed=123):\n",
        "\n",
        "    key = random.PRNGKey(seed)\n",
        "    keys = random.split(key, 3)\n",
        "\n",
        "    # Generate random draws and initial values\n",
        "    a_random = μ_a + σ_a * random.normal(keys[0], (T, M))\n",
        "    b_random = μ_b + σ_b * random.normal(keys[1], (T, M))\n",
        "    e_random = μ_e + σ_e * random.normal(keys[2], (T, M))\n",
        "    s = jnp.full((M, ), s_init)\n",
        "\n",
        "    # Define the function for each update\n",
        "    def update_s(i, s):\n",
        "        a, b, e = a_random[i], b_random[i], e_random[i]\n",
        "        s = jnp.where(s < s_bar,\n",
        "                      jnp.exp(e),\n",
        "                      jnp.exp(a) * s + jnp.exp(b))\n",
        "        return s\n",
        "\n",
        "    # Use lax.scan to perform the calculations on all states\n",
        "    s_final = lax.fori_loop(0, T, update_s, s)\n",
        "    return s_final\n",
        "\n",
        "%time data = generate_draws_lax().block_until_ready()"
      ]
    },
    {
      "cell_type": "markdown",
      "id": "206dcd6d",
      "metadata": {
        "id": "206dcd6d"
      },
      "source": [
        "In this case, `M` is small enough for the code to run and\n",
        "we see some speed gain over the for loop implementation:"
      ]
    },
    {
      "cell_type": "code",
      "execution_count": 6,
      "id": "5eab95c0",
      "metadata": {
        "hide-output": false,
        "id": "5eab95c0",
        "outputId": "ce4a0700-70d6-4769-c191-624b2670577f",
        "colab": {
          "base_uri": "https://localhost:8080/"
        }
      },
      "outputs": [
        {
          "output_type": "stream",
          "name": "stdout",
          "text": [
            "CPU times: user 5.73 ms, sys: 0 ns, total: 5.73 ms\n",
            "Wall time: 79 ms\n"
          ]
        }
      ],
      "source": [
        "%time data = generate_draws_lax().block_until_ready()"
      ]
    },
    {
      "cell_type": "markdown",
      "id": "6ebfd384",
      "metadata": {
        "id": "6ebfd384"
      },
      "source": [
        "Here we produce the same rank-size plot:"
      ]
    },
    {
      "cell_type": "code",
      "execution_count": 7,
      "id": "598fa04f",
      "metadata": {
        "hide-output": false,
        "id": "598fa04f",
        "outputId": "7fd9170b-24a3-427e-f3e5-ae146047934c",
        "colab": {
          "base_uri": "https://localhost:8080/",
          "height": 454
        }
      },
      "outputs": [
        {
          "output_type": "display_data",
          "data": {
            "text/plain": [
              "<Figure size 640x480 with 1 Axes>"
            ],
            "image/png": "[encoded data removed]"
          },
          "metadata": {}
        }
      ],
      "source": [
        "fig, ax = plt.subplots()\n",
        "\n",
        "rank_data, size_data = qe.rank_size(data, c=0.01)\n",
        "ax.loglog(rank_data, size_data, 'o', markersize=3.0, alpha=0.5)\n",
        "ax.set_xlabel(\"log rank\")\n",
        "ax.set_ylabel(\"log size\")\n",
        "\n",
        "plt.show()"
      ]
    },
    {
      "cell_type": "markdown",
      "id": "8a6c763e",
      "metadata": {
        "id": "8a6c763e"
      },
      "source": [
        "Let’s rerun the `for` loop version on smaller `M` to compare the speed"
      ]
    },
    {
      "cell_type": "code",
      "execution_count": 17,
      "id": "74868bb6",
      "metadata": {
        "hide-output": false,
        "id": "74868bb6",
        "outputId": "7ae08f09-7a04-49de-a1a9-f6a826267829",
        "colab": {
          "base_uri": "https://localhost:8080/"
        }
      },
      "outputs": [
        {
          "output_type": "stream",
          "name": "stdout",
          "text": [
            "CPU times: user 3.62 s, sys: 836 ms, total: 4.45 s\n",
            "Wall time: 2.85 s\n"
          ]
        },
        {
          "output_type": "execute_result",
          "data": {
            "text/plain": [
              "Array([1.8281046, 2.8847322, 2.3919296, ..., 2.9062161, 4.1978517,\n",
              "       2.1926358], dtype=float32)"
            ]
          },
          "metadata": {},
          "execution_count": 17
        }
      ],
      "source": [
        "%time generate_draws(M=500_000).block_until_ready()"
      ]
    },
    {
      "cell_type": "markdown",
      "id": "0fcb7a62",
      "metadata": {
        "id": "0fcb7a62"
      },
      "source": [
        "Let’s run it again to get rid of the compile time."
      ]
    },
    {
      "cell_type": "code",
      "execution_count": 18,
      "id": "74823fc2",
      "metadata": {
        "hide-output": false,
        "id": "74823fc2",
        "outputId": "d67f499e-285f-4bc5-8787-ed55925392a1",
        "colab": {
          "base_uri": "https://localhost:8080/"
        }
      },
      "outputs": [
        {
          "output_type": "stream",
          "name": "stdout",
          "text": [
            "CPU times: user 3.33 s, sys: 838 ms, total: 4.16 s\n",
            "Wall time: 2.57 s\n"
          ]
        },
        {
          "output_type": "execute_result",
          "data": {
            "text/plain": [
              "Array([1.8281046, 2.8847322, 2.3919296, ..., 2.9062161, 4.1978517,\n",
              "       2.1926358], dtype=float32)"
            ]
          },
          "metadata": {},
          "execution_count": 18
        }
      ],
      "source": [
        "%time generate_draws(M=500_000).block_until_ready()"
      ]
    },
    {
      "cell_type": "markdown",
      "id": "807bef1f",
      "metadata": {
        "id": "807bef1f"
      },
      "source": [
        "We see that the `lax.fori_loop` version is faster than the `for` loop version\n",
        "when memory is not an issue."
      ]
    }
  ],
  "metadata": {
    "date": 1741992967.262787,
    "filename": "kesten_processes.md",
    "kernelspec": {
      "display_name": "Python 3",
      "name": "python3"
    },
    "title": "Kesten Processes and Firm Dynamics",
    "colab": {
      "provenance": [],
      "toc_visible": true,
      "gpuType": "T4"
    },
    "accelerator": "GPU"
  },
  "nbformat": 4,
  "nbformat_minor": 5
}