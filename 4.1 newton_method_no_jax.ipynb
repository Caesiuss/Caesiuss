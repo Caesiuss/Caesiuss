{
  "cells": [
    {
      "cell_type": "markdown",
      "id": "ecf2387b",
      "metadata": {
        "id": "ecf2387b"
      },
      "source": [
        "\n",
        "<a id='newton-method'></a>\n",
        "<div id=\"qe-notebook-header\" align=\"right\" style=\"text-align:right;\">\n",
        "        <a href=\"https://quantecon.org/\" title=\"quantecon.org\">\n",
        "                <img style=\"width:250px;display:inline;\" width=\"250px\" src=\"https://assets.quantecon.org/img/qe-menubar-logo.svg\" alt=\"QuantEcon\">\n",
        "        </a>\n",
        "</div>\n",
        "\n",
        "\n",
        "<a id='index-0'></a>"
      ]
    },
    {
      "cell_type": "markdown",
      "id": "3b4d1da9",
      "metadata": {
        "id": "3b4d1da9"
      },
      "source": [
        "# Using Newton’s Method to Solve Economic Models"
      ]
    },
    {
      "cell_type": "markdown",
      "id": "ad22c3f6",
      "metadata": {
        "id": "ad22c3f6"
      },
      "source": [
        "## Contents\n",
        "\n",
        "- [Using Newton’s Method to Solve Economic Models](#Using-Newton’s-Method-to-Solve-Economic-Models)  \n",
        "  - [Overview](#Overview)  \n",
        "  - [Fixed Point Computation Using Newton’s Method](#Fixed-Point-Computation-Using-Newton’s-Method)  \n",
        "  - [Root-Finding in One Dimension](#Root-Finding-in-One-Dimension)  \n",
        "  - [Multivariate Newton’s Method](#Multivariate-Newton’s-Method)  \n",
        "  - [Exercises](#Exercises)  "
      ]
    },
    {
      "cell_type": "markdown",
      "id": "7de13ed2",
      "metadata": {
        "id": "7de13ed2"
      },
      "source": [
        "**GPU:** A version of this lecture which makes use of [jax](https://jax.readthedocs.io) to run the code\n",
        "on a `GPU` is [available here](https://jax.quantecon.org/newtons_method.html)"
      ]
    },
    {
      "cell_type": "markdown",
      "id": "f71de677",
      "metadata": {
        "id": "f71de677"
      },
      "source": [
        "## Overview\n",
        "\n",
        "Many economic problems involve finding [fixed\n",
        "points](https://en.wikipedia.org/wiki/Fixed_point_%28mathematics%29) or\n",
        "[zeros](https://en.wikipedia.org/wiki/Zero_of_a_function) (sometimes called\n",
        "“roots”) of functions.\n",
        "\n",
        "For example, in a simple supply and demand model, an equilibrium price is one\n",
        "that makes excess demand zero.\n",
        "\n",
        "In other words, an equilibrium is a zero of the excess demand function.\n",
        "\n",
        "There are various computational techniques for solving for fixed points and\n",
        "zeros.\n",
        "\n",
        "In this lecture we study an important gradient-based technique called [Newton’s\n",
        "method](https://en.wikipedia.org/wiki/Newton%27s_method).\n",
        "\n",
        "Newton’s method does not always work but, in situations where it does,\n",
        "convergence is often fast when compared to other methods.\n",
        "\n",
        "The lecture will apply Newton’s method in one-dimensional and\n",
        "multi-dimensional settings to solve fixed-point and zero-finding problems.\n",
        "\n",
        "- When finding the fixed point of a function $ f $, Newton’s method updates\n",
        "  an existing guess of the fixed point by solving for the fixed point of a\n",
        "  linear approximation to the function $ f $.  \n",
        "- When finding the zero of a function $ f $, Newton’s method updates\n",
        "  an existing guess by solving for the zero of a linear approximation to\n",
        "  the function $ f $.  \n",
        "\n",
        "\n",
        "To build intuition, we first consider an easy, one-dimensional fixed point\n",
        "problem where we know the solution and solve it using both successive\n",
        "approximation and Newton’s method.\n",
        "\n",
        "Then we apply Newton’s method to multi-dimensional settings to solve\n",
        "market for equilibria with multiple goods.\n",
        "\n",
        "At the end of the lecture we leverage the power of automatic\n",
        "differentiation in [`autograd`](https://github.com/HIPS/autograd) to solve a very high-dimensional equilibrium problem"
      ]
    },
    {
      "cell_type": "code",
      "execution_count": 1,
      "id": "a0f441d8",
      "metadata": {
        "hide-output": false,
        "id": "a0f441d8",
        "outputId": "943bf360-16c7-45f2-89ac-623ff00d3b48",
        "colab": {
          "base_uri": "https://localhost:8080/"
        }
      },
      "outputs": [
        {
          "output_type": "stream",
          "name": "stdout",
          "text": [
            "Requirement already satisfied: autograd in /usr/local/lib/python3.11/dist-packages (1.7.0)\n",
            "Requirement already satisfied: numpy in /usr/local/lib/python3.11/dist-packages (from autograd) (1.26.4)\n"
          ]
        }
      ],
      "source": [
        "!pip install autograd"
      ]
    },
    {
      "cell_type": "markdown",
      "id": "3669b720",
      "metadata": {
        "id": "3669b720"
      },
      "source": [
        "We use the following imports in this lecture"
      ]
    },
    {
      "cell_type": "code",
      "execution_count": 2,
      "id": "ca881e27",
      "metadata": {
        "hide-output": false,
        "id": "ca881e27"
      },
      "outputs": [],
      "source": [
        "import matplotlib.pyplot as plt\n",
        "from collections import namedtuple\n",
        "from scipy.optimize import root\n",
        "from autograd import jacobian\n",
        "# Thinly-wrapped numpy to enable automatic differentiation\n",
        "import autograd.numpy as np\n",
        "\n",
        "plt.rcParams[\"figure.figsize\"] = (10, 5.7)"
      ]
    },
    {
      "cell_type": "markdown",
      "id": "bf5fb0b4",
      "metadata": {
        "id": "bf5fb0b4"
      },
      "source": [
        "## Fixed Point Computation Using Newton’s Method\n",
        "\n",
        "In this section we solve the fixed point of the law of motion for capital in\n",
        "the setting of the [Solow growth\n",
        "model](https://en.wikipedia.org/wiki/Solow%E2%80%93Swan_model).\n",
        "\n",
        "We will inspect the fixed point visually, solve it by successive\n",
        "approximation, and then apply Newton’s method to achieve faster convergence.\n",
        "\n",
        "\n",
        "<a id='solow'></a>"
      ]
    },
    {
      "cell_type": "markdown",
      "id": "4eb9a458",
      "metadata": {
        "id": "4eb9a458"
      },
      "source": [
        "### The Solow Model\n",
        "\n",
        "In the Solow growth model, assuming Cobb-Douglas production technology and\n",
        "zero population growth, the law of motion for capital is\n",
        "\n",
        "\n",
        "<a id='equation-motion-law'></a>\n",
        "$$\n",
        "k_{t+1} = g(k_t) \\quad \\text{where} \\quad\n",
        "    g(k) := sAk^\\alpha + (1-\\delta) k \\tag{7.1}\n",
        "$$\n",
        "\n",
        "Here\n",
        "\n",
        "- $ k_t $ is capital stock per worker,  \n",
        "- $ A, \\alpha>0 $ are production parameters, $ \\alpha<1 $  \n",
        "- $ s>0 $ is a savings rate, and  \n",
        "- $ \\delta \\in(0,1) $ is a rate of depreciation  \n",
        "\n",
        "\n",
        "In this example, we wish to calculate the unique strictly positive fixed point\n",
        "of $ g $, the law of motion for capital.\n",
        "\n",
        "In other words, we seek a $ k^* > 0 $ such that $ g(k^*)=k^* $.\n",
        "\n",
        "- such a $ k^* $ is called a [steady state](https://en.wikipedia.org/wiki/Steady_state),\n",
        "  since $ k_t = k^* $ implies $ k_{t+1} = k^* $.  \n",
        "\n",
        "\n",
        "Using pencil and paper to solve $ g(k)=k $, you will be able to confirm that\n",
        "\n",
        "$$\n",
        "k^* = \\left(\\frac{s A}{δ}\\right)^{1/(1 - α)}\n",
        "$$"
      ]
    },
    {
      "cell_type": "markdown",
      "id": "5a6641a4",
      "metadata": {
        "id": "5a6641a4"
      },
      "source": [
        "### Implementation\n",
        "\n",
        "Let’s store our parameters in [`namedtuple`](https://docs.python.org/3/library/collections.html#collections.namedtuple) to help us keep our code clean and concise."
      ]
    },
    {
      "cell_type": "code",
      "execution_count": 3,
      "id": "f4c3eb2a",
      "metadata": {
        "hide-output": false,
        "id": "f4c3eb2a"
      },
      "outputs": [],
      "source": [
        "SolowParameters = namedtuple(\"SolowParameters\", ('A', 's', 'α', 'δ'))"
      ]
    },
    {
      "cell_type": "markdown",
      "source": [
        "namedtuple 是 Python collections 模块中的一个工厂方法，它创建类似于普通 tuple 但具有 字段名称 的数据结构。这样可以：\n",
        "\n",
        "- 提高代码可读性：字段可以用名称访问，而不是使用索引 tuple[i]。\n",
        "- 保持轻量级：不像 class 那样占用额外的内存。\n",
        "\n",
        "存储 A、s、α 和 δ 之后，可以用 params 直接代入公式计算：\n",
        "\n",
        "\n",
        "k_star = (params.s * params.A / params.δ) ** (1 / (1 - params.α))\n",
        "\n",
        "print(f\"Steady state capital: {k_star}\")"
      ],
      "metadata": {
        "id": "dqqA6d6kO7sU"
      },
      "id": "dqqA6d6kO7sU"
    },
    {
      "cell_type": "markdown",
      "id": "55b646be",
      "metadata": {
        "id": "55b646be"
      },
      "source": [
        "This function creates a suitable `namedtuple` with default parameter values."
      ]
    },
    {
      "cell_type": "code",
      "execution_count": 4,
      "id": "72876117",
      "metadata": {
        "hide-output": false,
        "id": "72876117"
      },
      "outputs": [],
      "source": [
        "def create_solow_params(A=2.0, s=0.3, α=0.3, δ=0.4):\n",
        "    \"Creates a Solow model parameterization with default values.\"\n",
        "    return SolowParameters(A=A, s=s, α=α, δ=δ)"
      ]
    },
    {
      "cell_type": "markdown",
      "id": "ae237cfd",
      "metadata": {
        "id": "ae237cfd"
      },
      "source": [
        "The next two functions implement the law of motion [(7.1)](#equation-motion-law) and store the true fixed point $ k^* $."
      ]
    },
    {
      "cell_type": "code",
      "execution_count": 5,
      "id": "66c94376",
      "metadata": {
        "hide-output": false,
        "id": "66c94376"
      },
      "outputs": [],
      "source": [
        "def g(k, params):\n",
        "    A, s, α, δ = params\n",
        "    return A * s * k**α + (1 - δ) * k\n",
        "\n",
        "def exact_fixed_point(params):\n",
        "    A, s, α, δ = params\n",
        "    return ((s * A) / δ)**(1/(1 - α))"
      ]
    },
    {
      "cell_type": "markdown",
      "id": "23625339",
      "metadata": {
        "id": "23625339"
      },
      "source": [
        "Here is a function to provide a 45 degree plot of the dynamics."
      ]
    },
    {
      "cell_type": "code",
      "execution_count": 6,
      "id": "9f3d62ba",
      "metadata": {
        "hide-output": false,
        "id": "9f3d62ba"
      },
      "outputs": [],
      "source": [
        "def plot_45(params, ax, fontsize=14):\n",
        "\n",
        "    k_min, k_max = 0.0, 3.0\n",
        "    k_grid = np.linspace(k_min, k_max, 1200)\n",
        "\n",
        "    # Plot the functions\n",
        "    lb = r\"$g(k) = sAk^{\\alpha} + (1 - \\delta)k$\"\n",
        "    ax.plot(k_grid, g(k_grid, params),  lw=2, alpha=0.6, label=lb)\n",
        "    ax.plot(k_grid, k_grid, \"k--\", lw=1, alpha=0.7, label=\"45\")\n",
        "\n",
        "    # Show and annotate the fixed point\n",
        "    kstar = exact_fixed_point(params)\n",
        "    fps = (kstar,)\n",
        "    ax.plot(fps, fps, \"go\", ms=10, alpha=0.6)\n",
        "    ax.annotate(r\"$k^* = (sA / \\delta)^{\\frac{1}{1-\\alpha}}$\",\n",
        "             xy=(kstar, kstar),\n",
        "             xycoords=\"data\",\n",
        "             xytext=(20, -20),\n",
        "             textcoords=\"offset points\",\n",
        "             fontsize=fontsize)\n",
        "\n",
        "    ax.legend(loc=\"upper left\", frameon=False, fontsize=fontsize)\n",
        "\n",
        "    ax.set_yticks((0, 1, 2, 3))\n",
        "    ax.set_yticklabels((0.0, 1.0, 2.0, 3.0), fontsize=fontsize)\n",
        "    ax.set_ylim(0, 3)\n",
        "    ax.set_xlabel(\"$k_t$\", fontsize=fontsize)\n",
        "    ax.set_ylabel(\"$k_{t+1}$\", fontsize=fontsize)"
      ]
    },
    {
      "cell_type": "markdown",
      "id": "089b1868",
      "metadata": {
        "id": "089b1868"
      },
      "source": [
        "Let’s look at the 45 degree diagram for two parameterizations."
      ]
    },
    {
      "cell_type": "code",
      "execution_count": 7,
      "id": "62f29787",
      "metadata": {
        "hide-output": false,
        "id": "62f29787",
        "outputId": "88f49276-8280-4b56-d6dc-7468dc48c902",
        "colab": {
          "base_uri": "https://localhost:8080/",
          "height": 712
        }
      },
      "outputs": [
        {
          "output_type": "display_data",
          "data": {
            "text/plain": [
              "<Figure size 800x800 with 1 Axes>"
            ],
            "image/png": "[encoded data removed]"
          },
          "metadata": {}
        }
      ],
      "source": [
        "params = create_solow_params()\n",
        "fig, ax = plt.subplots(figsize=(8, 8))\n",
        "plot_45(params, ax)\n",
        "plt.show()"
      ]
    },
    {
      "cell_type": "code",
      "execution_count": 8,
      "id": "f8ab55c3",
      "metadata": {
        "hide-output": false,
        "id": "f8ab55c3",
        "outputId": "9484ab63-1cf1-46c3-c227-e1e5fc5a29ce",
        "colab": {
          "base_uri": "https://localhost:8080/",
          "height": 712
        }
      },
      "outputs": [
        {
          "output_type": "display_data",
          "data": {
            "text/plain": [
              "<Figure size 800x800 with 1 Axes>"
            ],
            "image/png": "[encoded data removed]"
          },
          "metadata": {}
        }
      ],
      "source": [
        "params = create_solow_params(α=0.05, δ=0.5)\n",
        "fig, ax = plt.subplots(figsize=(8, 8))\n",
        "plot_45(params, ax)\n",
        "plt.show()"
      ]
    },
    {
      "cell_type": "markdown",
      "id": "3c191e23",
      "metadata": {
        "id": "3c191e23"
      },
      "source": [
        "We see that $ k^* $ is indeed the unique positive fixed point."
      ]
    },
    {
      "cell_type": "markdown",
      "id": "d1c1322c",
      "metadata": {
        "id": "d1c1322c"
      },
      "source": [
        "#### Successive Approximation\n",
        "\n",
        "First let’s compute the fixed point using successive approximation.\n",
        "\n",
        "In this case, successive approximation means repeatedly updating capital\n",
        "from some initial state $ k_0 $ using the law of motion.\n",
        "\n",
        "Here’s a time series from a particular choice of $ k_0 $."
      ]
    },
    {
      "cell_type": "code",
      "execution_count": 9,
      "id": "8f224a36",
      "metadata": {
        "hide-output": false,
        "id": "8f224a36"
      },
      "outputs": [],
      "source": [
        "def compute_iterates(k_0, f, params, n=25):\n",
        "    \"Compute time series of length n generated by arbitrary function f.\"\n",
        "    k = k_0\n",
        "    k_iterates = []\n",
        "    for t in range(n):\n",
        "        k_iterates.append(k)\n",
        "        k = f(k, params)\n",
        "    return k_iterates"
      ]
    },
    {
      "cell_type": "code",
      "execution_count": 10,
      "id": "e4ffac87",
      "metadata": {
        "hide-output": false,
        "id": "e4ffac87",
        "outputId": "b50fec6c-3db6-4c36-98da-6cf229e211ac",
        "colab": {
          "base_uri": "https://localhost:8080/",
          "height": 505
        }
      },
      "outputs": [
        {
          "output_type": "display_data",
          "data": {
            "text/plain": [
              "<Figure size 1000x570 with 1 Axes>"
            ],
            "image/png": "[encoded data removed]"
          },
          "metadata": {}
        }
      ],
      "source": [
        "params = create_solow_params()\n",
        "k_0 = 0.25\n",
        "k_series = compute_iterates(k_0, g, params)\n",
        "k_star = exact_fixed_point(params)\n",
        "\n",
        "fig, ax = plt.subplots()\n",
        "ax.plot(k_series, 'o')\n",
        "ax.plot([k_star] * len(k_series), 'k--')\n",
        "ax.set_ylim(0, 3)\n",
        "plt.show()"
      ]
    },
    {
      "cell_type": "markdown",
      "id": "a78332e1",
      "metadata": {
        "id": "a78332e1"
      },
      "source": [
        "Let’s see the output for a long time series."
      ]
    },
    {
      "cell_type": "code",
      "execution_count": 11,
      "id": "8e63f469",
      "metadata": {
        "hide-output": false,
        "id": "8e63f469",
        "outputId": "a1661bde-9a41-4d56-f836-54637f5feefb",
        "colab": {
          "base_uri": "https://localhost:8080/"
        }
      },
      "outputs": [
        {
          "output_type": "execute_result",
          "data": {
            "text/plain": [
              "1.7846741842265788"
            ]
          },
          "metadata": {},
          "execution_count": 11
        }
      ],
      "source": [
        "k_series = compute_iterates(k_0, g, params, n=10_000)\n",
        "k_star_approx = k_series[-1]\n",
        "k_star_approx"
      ]
    },
    {
      "cell_type": "markdown",
      "id": "ccdd5d5e",
      "metadata": {
        "id": "ccdd5d5e"
      },
      "source": [
        "This is close to the true value.\n",
        "\n",
        "\n",
        "<a id='solved-k'></a>"
      ]
    },
    {
      "cell_type": "code",
      "execution_count": 12,
      "id": "f96d20bc",
      "metadata": {
        "hide-output": false,
        "id": "f96d20bc",
        "outputId": "e49d4eda-3195-4231-f755-fe01f30d9355",
        "colab": {
          "base_uri": "https://localhost:8080/"
        }
      },
      "outputs": [
        {
          "output_type": "execute_result",
          "data": {
            "text/plain": [
              "1.7846741842265788"
            ]
          },
          "metadata": {},
          "execution_count": 12
        }
      ],
      "source": [
        "k_star"
      ]
    },
    {
      "cell_type": "markdown",
      "id": "85bbc869",
      "metadata": {
        "id": "85bbc869"
      },
      "source": [
        "#### Newton’s Method\n",
        "\n",
        "In general, when applying Newton’s fixed point method to some function $ g $,\n",
        "we start with a guess $ x_0 $ of the fixed\n",
        "point and then update by solving for the fixed point of a tangent line at\n",
        "$ x_0 $.\n",
        "\n",
        "To begin with, we recall that the first-order approximation of $ g $ at $ x_0 $\n",
        "(i.e., the first order Taylor approximation of $ g $ at $ x_0 $) is\n",
        "the function\n",
        "\n",
        "\n",
        "<a id='equation-motivation'></a>\n",
        "$$\n",
        "\\hat g(x) \\approx g(x_0)+g'(x_0)(x-x_0) \\tag{7.2}\n",
        "$$\n",
        "\n",
        "We solve for the fixed point of $ \\hat g $ by calculating the $ x_1 $ that solves\n",
        "\n",
        "$$\n",
        "x_1=\\frac{g(x_0)-g'(x_0) x_0}{1-g'(x_0)}\n",
        "$$\n",
        "\n",
        "Generalising the process above, Newton’s fixed point method iterates on\n",
        "\n",
        "\n",
        "<a id='equation-newtons-method'></a>\n",
        "$$\n",
        "x_{t+1} = \\frac{g(x_t) - g'(x_t) x_t}{ 1 - g'(x_t) },\n",
        "\\quad x_0 \\text{ given} \\tag{7.3}\n",
        "$$\n",
        "\n",
        "To implement Newton’s method we observe that the derivative of the law of motion for capital [(7.1)](#equation-motion-law) is\n",
        "\n",
        "\n",
        "<a id='equation-newton-method2'></a>\n",
        "$$\n",
        "g'(k) = \\alpha s A k^{\\alpha-1} + (1-\\delta) \\tag{7.4}\n",
        "$$\n",
        "\n",
        "Let’s define this:"
      ]
    },
    {
      "cell_type": "markdown",
      "source": [
        "fix point就是让g(x) = x"
      ],
      "metadata": {
        "id": "ppi1H08qNlMi"
      },
      "id": "ppi1H08qNlMi"
    },
    {
      "cell_type": "code",
      "execution_count": 13,
      "id": "8826343d",
      "metadata": {
        "hide-output": false,
        "id": "8826343d"
      },
      "outputs": [],
      "source": [
        "def Dg(k, params):\n",
        "    A, s, α, δ = params\n",
        "    return α * A * s * k**(α-1) + (1 - δ)"
      ]
    },
    {
      "cell_type": "markdown",
      "source": [
        "和jax的区别应该是，直接算的话求导要自己求，JAX可以程序求导"
      ],
      "metadata": {
        "id": "z15N3hngRRiM"
      },
      "id": "z15N3hngRRiM"
    },
    {
      "cell_type": "markdown",
      "id": "bff72a82",
      "metadata": {
        "id": "bff72a82"
      },
      "source": [
        "Here’s a function $ q $ representing [(7.3)](#equation-newtons-method)."
      ]
    },
    {
      "cell_type": "code",
      "execution_count": 14,
      "id": "ba675570",
      "metadata": {
        "hide-output": false,
        "id": "ba675570"
      },
      "outputs": [],
      "source": [
        "def q(k, params):\n",
        "    return (g(k, params) - Dg(k, params) * k) / (1 - Dg(k, params))"
      ]
    },
    {
      "cell_type": "markdown",
      "id": "96355f8f",
      "metadata": {
        "id": "96355f8f"
      },
      "source": [
        "Now let’s plot some trajectories."
      ]
    },
    {
      "cell_type": "code",
      "execution_count": 15,
      "id": "27c463d3",
      "metadata": {
        "hide-output": false,
        "id": "27c463d3"
      },
      "outputs": [],
      "source": [
        "def plot_trajectories(params,\n",
        "                      k0_a=0.8,  # first initial condition\n",
        "                      k0_b=3.1,  # second initial condition\n",
        "                      n=20,      # length of time series\n",
        "                      fs=14):    # fontsize\n",
        "\n",
        "    fig, axes = plt.subplots(2, 1, figsize=(10, 6))\n",
        "    ax1, ax2 = axes\n",
        "\n",
        "    ks1 = compute_iterates(k0_a, g, params, n)\n",
        "    ax1.plot(ks1, \"-o\", label=\"successive approximation\")\n",
        "\n",
        "    ks2 = compute_iterates(k0_b, g, params, n)\n",
        "    ax2.plot(ks2, \"-o\", label=\"successive approximation\")\n",
        "\n",
        "    ks3 = compute_iterates(k0_a, q, params, n)\n",
        "    ax1.plot(ks3, \"-o\", label=\"newton steps\")\n",
        "\n",
        "    ks4 = compute_iterates(k0_b, q, params, n)\n",
        "    ax2.plot(ks4, \"-o\", label=\"newton steps\")\n",
        "\n",
        "    for ax in axes:\n",
        "        ax.plot(k_star * np.ones(n), \"k--\")\n",
        "        ax.legend(fontsize=fs, frameon=False)\n",
        "        ax.set_ylim(0.6, 3.2)\n",
        "        ax.set_yticks((k_star,))\n",
        "        ax.set_yticklabels((\"$k^*$\",), fontsize=fs)\n",
        "        ax.set_xticks(np.linspace(0, 19, 20))\n",
        "\n",
        "    plt.show()"
      ]
    },
    {
      "cell_type": "code",
      "execution_count": 16,
      "id": "2c43bbcd",
      "metadata": {
        "hide-output": false,
        "id": "2c43bbcd",
        "outputId": "134c8b76-9d0d-41ff-eb73-701cd3357e32",
        "colab": {
          "base_uri": "https://localhost:8080/",
          "height": 522
        }
      },
      "outputs": [
        {
          "output_type": "display_data",
          "data": {
            "text/plain": [
              "<Figure size 1000x600 with 2 Axes>"
            ],
            "image/png": "[encoded data removed]"
          },
          "metadata": {}
        }
      ],
      "source": [
        "params = create_solow_params()\n",
        "plot_trajectories(params)"
      ]
    },
    {
      "cell_type": "markdown",
      "id": "be9e80bf",
      "metadata": {
        "id": "be9e80bf"
      },
      "source": [
        "We can see that Newton’s method converges faster than successive approximation."
      ]
    },
    {
      "cell_type": "markdown",
      "id": "c9d58785",
      "metadata": {
        "id": "c9d58785"
      },
      "source": [
        "## Root-Finding in One Dimension\n",
        "\n",
        "In the previous section we computed fixed points.\n",
        "\n",
        "In fact Newton’s method is more commonly associated with the problem of\n",
        "finding zeros of functions.\n",
        "\n",
        "Let’s discuss this “root-finding” problem and then show how it is connected to\n",
        "the problem of finding fixed points."
      ]
    },
    {
      "cell_type": "markdown",
      "id": "d14e036a",
      "metadata": {
        "id": "d14e036a"
      },
      "source": [
        "### Newton’s Method for Zeros\n",
        "\n",
        "Let’s suppose we want to find an $ x $ such that $ f(x)=0 $ for some smooth\n",
        "function $ f $ mapping real numbers to real numbers.\n",
        "\n",
        "Suppose we have a guess $ x_0 $ and we want to update it to a new point $ x_1 $.\n",
        "\n",
        "As a first step, we take the first-order approximation of $ f $ around $ x_0 $:\n",
        "\n",
        "$$\n",
        "\\hat f(x) \\approx f\\left(x_0\\right)+f^{\\prime}\\left(x_0\\right)\\left(x-x_0\\right)\n",
        "$$\n",
        "\n",
        "Now we solve for the zero of $ \\hat f $.\n",
        "\n",
        "In particular, we set $ \\hat{f}(x_1) = 0 $ and solve for $ x_1 $ to get\n",
        "\n",
        "$$\n",
        "x_1 = x_0 - \\frac{ f(x_0) }{ f'(x_0) },\n",
        "\\quad x_0 \\text{ given}\n",
        "$$\n",
        "\n",
        "Generalizing the formula above, for one-dimensional zero-finding problems, Newton’s method iterates on\n",
        "\n",
        "\n",
        "<a id='equation-oned-newton'></a>\n",
        "$$\n",
        "x_{t+1} = x_t - \\frac{ f(x_t) }{ f'(x_t) },\n",
        "\\quad x_0 \\text{ given} \\tag{7.5}\n",
        "$$\n",
        "\n",
        "The following code implements the iteration [(7.5)](#equation-oned-newton)\n",
        "\n",
        "\n",
        "<a id='first-newton-attempt'></a>"
      ]
    },
    {
      "cell_type": "code",
      "execution_count": 16,
      "id": "dc12112b",
      "metadata": {
        "hide-output": false,
        "id": "dc12112b"
      },
      "outputs": [],
      "source": [
        "def newton(f, Df, x_0, tol=1e-7, max_iter=100_000):\n",
        "    x = x_0\n",
        "\n",
        "    # Implement the zero-finding formula\n",
        "    def q(x):\n",
        "        return x - f(x) / Df(x)\n",
        "\n",
        "    error = tol + 1\n",
        "    n = 0\n",
        "    while error > tol:\n",
        "        n += 1\n",
        "        if(n > max_iter):\n",
        "            raise Exception('Max iteration reached without convergence')\n",
        "        y = q(x)\n",
        "        error = np.abs(x - y)\n",
        "        x = y\n",
        "        print(f'iteration {n}, error = {error:.5f}')\n",
        "    return x"
      ]
    },
    {
      "cell_type": "markdown",
      "id": "d9368517",
      "metadata": {
        "id": "d9368517"
      },
      "source": [
        "Numerous libraries implement Newton’s method in one dimension, including\n",
        "SciPy, so the code is just for illustrative purposes.\n",
        "\n",
        "(That said, when we want to apply Newton’s method using techniques such as\n",
        "automatic differentiation or GPU acceleration, it will be helpful to know how\n",
        "to implement Newton’s method ourselves.)"
      ]
    },
    {
      "cell_type": "markdown",
      "id": "ee7a78d5",
      "metadata": {
        "id": "ee7a78d5"
      },
      "source": [
        "### Application to Finding Fixed Points\n",
        "\n",
        "Now consider again the Solow fixed-point calculation, where we solve for $ k $\n",
        "satisfying $ g(k) = k $.\n",
        "\n",
        "We can convert to this to a zero-finding problem by setting $ f(x) := g(x)-x $.\n",
        "\n",
        "Any zero of $ f $ is clearly a fixed point of $ g $.\n",
        "\n",
        "Let’s apply this idea to the Solow problem"
      ]
    },
    {
      "cell_type": "code",
      "execution_count": 17,
      "id": "3dc6a8b4",
      "metadata": {
        "hide-output": false,
        "id": "3dc6a8b4",
        "outputId": "d5227ce3-99c9-4089-ebf6-6d8ab10e0084",
        "colab": {
          "base_uri": "https://localhost:8080/"
        }
      },
      "outputs": [
        {
          "output_type": "stream",
          "name": "stdout",
          "text": [
            "iteration 1, error = 1.27209\n",
            "iteration 2, error = 0.28180\n",
            "iteration 3, error = 0.00561\n",
            "iteration 4, error = 0.00000\n",
            "iteration 5, error = 0.00000\n"
          ]
        }
      ],
      "source": [
        "params = create_solow_params()\n",
        "k_star_approx_newton = newton(f=lambda x: g(x, params) - x,\n",
        "                              Df=lambda x: Dg(x, params) - 1,\n",
        "                              x_0=0.8)"
      ]
    },
    {
      "cell_type": "code",
      "execution_count": 18,
      "id": "175deaf6",
      "metadata": {
        "hide-output": false,
        "id": "175deaf6",
        "outputId": "146418e6-1bed-46e3-c0e0-b5f43c262c25",
        "colab": {
          "base_uri": "https://localhost:8080/"
        }
      },
      "outputs": [
        {
          "output_type": "execute_result",
          "data": {
            "text/plain": [
              "1.7846741842265788"
            ]
          },
          "metadata": {},
          "execution_count": 18
        }
      ],
      "source": [
        "k_star_approx_newton"
      ]
    },
    {
      "cell_type": "markdown",
      "id": "aff6151a",
      "metadata": {
        "id": "aff6151a"
      },
      "source": [
        "The result confirms the descent we saw in the graphs above: a very accurate result is reached with only 5 iterations."
      ]
    },
    {
      "cell_type": "markdown",
      "id": "93322a66",
      "metadata": {
        "id": "93322a66"
      },
      "source": [
        "## Multivariate Newton’s Method\n",
        "\n",
        "In this section, we introduce a two-good problem, present a\n",
        "visualization of the problem, and solve for the equilibrium of the two-good market\n",
        "using both a zero finder in `SciPy` and Newton’s method.\n",
        "\n",
        "We then expand the idea to a larger market with 5,000 goods and compare the\n",
        "performance of the two methods again.\n",
        "\n",
        "We will see a significant performance gain when using Netwon’s method.\n",
        "\n",
        "\n",
        "<a id='two-goods-market'></a>"
      ]
    },
    {
      "cell_type": "markdown",
      "id": "ee87de56",
      "metadata": {
        "id": "ee87de56"
      },
      "source": [
        "### A Two Goods Market Equilibrium\n",
        "\n",
        "Let’s start by computing the market equilibrium of a two-good problem.\n",
        "\n",
        "We consider a market for two related products, good 0 and good 1, with\n",
        "price vector $ p = (p_0, p_1) $\n",
        "\n",
        "Supply of good $ i $ at price $ p $,\n",
        "\n",
        "$$\n",
        "q^s_i (p) = b_i \\sqrt{p_i}\n",
        "$$\n",
        "\n",
        "Demand of good $ i $ at price $ p $ is,\n",
        "\n",
        "$$\n",
        "q^d_i (p) = \\exp(-(a_{i0} p_0 + a_{i1} p_1)) + c_i\n",
        "$$\n",
        "\n",
        "Here $ c_i $, $ b_i $ and $ a_{ij} $ are parameters.\n",
        "\n",
        "For example, the two goods might be computer components that are typically used together, in which case they are complements. Hence demand depends on the price of both components.\n",
        "\n",
        "The excess demand function is,\n",
        "\n",
        "$$\n",
        "e_i(p) = q^d_i(p) - q^s_i(p), \\quad i = 0, 1\n",
        "$$\n",
        "\n",
        "An equilibrium price vector $ p^* $ satisfies $ e_i(p^*) = 0 $.\n",
        "\n",
        "We set\n",
        "\n",
        "$$\n",
        "A = \\begin{pmatrix}\n",
        "            a_{00} & a_{01} \\\\\n",
        "            a_{10} & a_{11}\n",
        "        \\end{pmatrix},\n",
        "            \\qquad\n",
        "    b = \\begin{pmatrix}\n",
        "            b_0 \\\\\n",
        "            b_1\n",
        "        \\end{pmatrix}\n",
        "    \\qquad \\text{and} \\qquad\n",
        "    c = \\begin{pmatrix}\n",
        "            c_0 \\\\\n",
        "            c_1\n",
        "        \\end{pmatrix}\n",
        "$$\n",
        "\n",
        "for this particular question."
      ]
    },
    {
      "cell_type": "markdown",
      "source": [
        "c是基础需求（价格再高也会有人买）\n",
        "\n",
        "商品1和0是互补品（比如CPU和GPU\n",
        "\n",
        "市场均衡时超额需求为 0。"
      ],
      "metadata": {
        "id": "Pu8HANHvFnrX"
      },
      "id": "Pu8HANHvFnrX"
    },
    {
      "cell_type": "markdown",
      "id": "ec827253",
      "metadata": {
        "id": "ec827253"
      },
      "source": [
        "#### A Graphical Exploration\n",
        "\n",
        "Since our problem is only two-dimensional, we can use graphical analysis to visualize and help understand the problem.\n",
        "\n",
        "Our first step is to define the excess demand function\n",
        "\n",
        "$$\n",
        "e(p) =\n",
        "    \\begin{pmatrix}\n",
        "    e_0(p) \\\\\n",
        "    e_1(p)\n",
        "    \\end{pmatrix}\n",
        "$$\n",
        "\n",
        "The function below calculates the excess demand for given parameters"
      ]
    },
    {
      "cell_type": "code",
      "execution_count": 19,
      "id": "263bf736",
      "metadata": {
        "hide-output": false,
        "id": "263bf736"
      },
      "outputs": [],
      "source": [
        "def e(p, A, b, c):\n",
        "    return np.exp(- A @ p) + c - b * np.sqrt(p)"
      ]
    },
    {
      "cell_type": "markdown",
      "id": "ac216ae9",
      "metadata": {
        "id": "ac216ae9"
      },
      "source": [
        "Our default parameter values will be\n",
        "\n",
        "$$\n",
        "A = \\begin{pmatrix}\n",
        "            0.5 & 0.4 \\\\\n",
        "            0.8 & 0.2\n",
        "        \\end{pmatrix},\n",
        "            \\qquad\n",
        "    b = \\begin{pmatrix}\n",
        "            1 \\\\\n",
        "            1\n",
        "        \\end{pmatrix}\n",
        "    \\qquad \\text{and} \\qquad\n",
        "    c = \\begin{pmatrix}\n",
        "            1 \\\\\n",
        "            1\n",
        "        \\end{pmatrix}\n",
        "$$"
      ]
    },
    {
      "cell_type": "code",
      "execution_count": 20,
      "id": "4fb5a236",
      "metadata": {
        "hide-output": false,
        "id": "4fb5a236"
      },
      "outputs": [],
      "source": [
        "A = np.array([\n",
        "    [0.5, 0.4],\n",
        "    [0.8, 0.2]\n",
        "])\n",
        "b = np.ones(2)\n",
        "c = np.ones(2)"
      ]
    },
    {
      "cell_type": "markdown",
      "id": "a2bd1f3b",
      "metadata": {
        "id": "a2bd1f3b"
      },
      "source": [
        "At a price level of $ p = (1, 0.5) $, the excess demand is"
      ]
    },
    {
      "cell_type": "code",
      "execution_count": 21,
      "id": "6604ed7b",
      "metadata": {
        "hide-output": false,
        "id": "6604ed7b",
        "outputId": "86c244c5-449a-4ab6-a742-dae4a0bf1884",
        "colab": {
          "base_uri": "https://localhost:8080/"
        }
      },
      "outputs": [
        {
          "output_type": "stream",
          "name": "stdout",
          "text": [
            "The excess demand for good 0 is 0.497 \n",
            "The excess demand for good 1 is 0.699\n"
          ]
        }
      ],
      "source": [
        "ex_demand = e((1.0, 0.5), A, b, c)\n",
        "\n",
        "print(f'The excess demand for good 0 is {ex_demand[0]:.3f} \\n'\n",
        "      f'The excess demand for good 1 is {ex_demand[1]:.3f}')"
      ]
    },
    {
      "cell_type": "markdown",
      "id": "527fad5e",
      "metadata": {
        "id": "527fad5e"
      },
      "source": [
        "Next we plot the two functions $ e_0 $ and $ e_1 $ on a grid of $ (p_0, p_1) $ values, using contour surfaces and lines.\n",
        "\n",
        "We will use the following function to build the contour plots"
      ]
    },
    {
      "cell_type": "code",
      "execution_count": 22,
      "id": "630c23dd",
      "metadata": {
        "hide-output": false,
        "id": "630c23dd"
      },
      "outputs": [],
      "source": [
        "def plot_excess_demand(ax, good=0, grid_size=100, grid_max=4, surface=True):\n",
        "\n",
        "    # Create a 100x100 grid\n",
        "    p_grid = np.linspace(0, grid_max, grid_size)\n",
        "    z = np.empty((100, 100))\n",
        "\n",
        "    for i, p_1 in enumerate(p_grid):\n",
        "        for j, p_2 in enumerate(p_grid):\n",
        "            z[i, j] = e((p_1, p_2), A, b, c)[good]\n",
        "\n",
        "    if surface:\n",
        "        cs1 = ax.contourf(p_grid, p_grid, z.T, alpha=0.5)\n",
        "        plt.colorbar(cs1, ax=ax, format=\"%.6f\")\n",
        "\n",
        "    ctr1 = ax.contour(p_grid, p_grid, z.T, levels=[0.0])\n",
        "    ax.set_xlabel(\"$p_0$\")\n",
        "    ax.set_ylabel(\"$p_1$\")\n",
        "    ax.set_title(f'Excess Demand for Good {good}')\n",
        "    plt.clabel(ctr1, inline=1, fontsize=13)"
      ]
    },
    {
      "cell_type": "markdown",
      "id": "69815b39",
      "metadata": {
        "id": "69815b39"
      },
      "source": [
        "Here’s our plot of $ e_0 $:"
      ]
    },
    {
      "cell_type": "code",
      "execution_count": 23,
      "id": "0c3bc685",
      "metadata": {
        "hide-output": false,
        "id": "0c3bc685",
        "outputId": "3c845bda-bd61-4665-dce5-e23324b19488",
        "colab": {
          "base_uri": "https://localhost:8080/",
          "height": 542
        }
      },
      "outputs": [
        {
          "output_type": "display_data",
          "data": {
            "text/plain": [
              "<Figure size 1000x570 with 2 Axes>"
            ],
            "image/png": "[encoded data removed]"
          },
          "metadata": {}
        }
      ],
      "source": [
        "fig, ax = plt.subplots()\n",
        "plot_excess_demand(ax, good=0)\n",
        "plt.show()"
      ]
    },
    {
      "cell_type": "markdown",
      "id": "80401178",
      "metadata": {
        "id": "80401178"
      },
      "source": [
        "Here’s our plot of $ e_1 $:"
      ]
    },
    {
      "cell_type": "code",
      "execution_count": 24,
      "id": "0d1c007b",
      "metadata": {
        "hide-output": false,
        "id": "0d1c007b",
        "outputId": "915b00b4-7306-415c-f817-163bb67e1523",
        "colab": {
          "base_uri": "https://localhost:8080/",
          "height": 542
        }
      },
      "outputs": [
        {
          "output_type": "display_data",
          "data": {
            "text/plain": [
              "<Figure size 1000x570 with 2 Axes>"
            ],
            "image/png": "[encoded data removed]"
          },
          "metadata": {}
        }
      ],
      "source": [
        "fig, ax = plt.subplots()\n",
        "plot_excess_demand(ax, good=1)\n",
        "plt.show()"
      ]
    },
    {
      "cell_type": "markdown",
      "id": "2f49e528",
      "metadata": {
        "id": "2f49e528"
      },
      "source": [
        "We see the black contour line of zero, which tells us when $ e_i(p)=0 $.\n",
        "\n",
        "For a price vector $ p $ such that $ e_i(p)=0 $ we know that good $ i $ is in equilibrium (demand equals supply).\n",
        "\n",
        "If these two contour lines cross at some price vector $ p^* $, then $ p^* $ is an equilibrium price vector."
      ]
    },
    {
      "cell_type": "code",
      "execution_count": 25,
      "id": "d48d73ec",
      "metadata": {
        "hide-output": false,
        "id": "d48d73ec",
        "outputId": "0ce17585-026a-4ba9-94f5-6ff113b2f7d9",
        "colab": {
          "base_uri": "https://localhost:8080/",
          "height": 542
        }
      },
      "outputs": [
        {
          "output_type": "display_data",
          "data": {
            "text/plain": [
              "<Figure size 1000x570 with 1 Axes>"
            ],
            "image/png": "[encoded data removed]"
          },
          "metadata": {}
        }
      ],
      "source": [
        "fig, ax = plt.subplots(figsize=(10, 5.7))\n",
        "for good in (0, 1):\n",
        "    plot_excess_demand(ax, good=good, surface=False)\n",
        "plt.show()"
      ]
    },
    {
      "cell_type": "markdown",
      "id": "1447c11c",
      "metadata": {
        "id": "1447c11c"
      },
      "source": [
        "It seems there is an equilibrium close to $ p = (1.6, 1.5) $."
      ]
    },
    {
      "cell_type": "markdown",
      "id": "876ef6dd",
      "metadata": {
        "id": "876ef6dd"
      },
      "source": [
        "#### Using a Multidimensional Root Finder\n",
        "\n",
        "To solve for $ p^* $ more precisely, we use a zero-finding algorithm from `scipy.optimize`.\n",
        "\n",
        "We supply $ p = (1, 1) $ as our initial guess."
      ]
    },
    {
      "cell_type": "code",
      "execution_count": 26,
      "id": "dbe3252e",
      "metadata": {
        "hide-output": false,
        "id": "dbe3252e"
      },
      "outputs": [],
      "source": [
        "init_p = np.ones(2)"
      ]
    },
    {
      "cell_type": "markdown",
      "id": "349e1d3d",
      "metadata": {
        "id": "349e1d3d"
      },
      "source": [
        "This uses the [modified Powell method](https://docs.scipy.org/doc/scipy/reference/optimize.root-hybr.html#optimize-root-hybr) to find the zero"
      ]
    },
    {
      "cell_type": "code",
      "execution_count": 27,
      "id": "b091403e",
      "metadata": {
        "hide-output": false,
        "id": "b091403e",
        "outputId": "2916d3a7-84bf-45a6-ff12-0b75e1fcd729",
        "colab": {
          "base_uri": "https://localhost:8080/"
        }
      },
      "outputs": [
        {
          "output_type": "stream",
          "name": "stdout",
          "text": [
            "CPU times: user 586 µs, sys: 0 ns, total: 586 µs\n",
            "Wall time: 577 µs\n"
          ]
        }
      ],
      "source": [
        "%%time\n",
        "solution = root(lambda p: e(p, A, b, c), init_p, method='hybr')"
      ]
    },
    {
      "cell_type": "markdown",
      "source": [
        "Hybrid Powell 方法的原理\n",
        "\n",
        "主要结合了两种方法：牛顿法（Newton’s Method）+信赖域方法（Trust Region Methods）(在 牛顿法失效或 Jacobian 变得奇异 时，使用信赖域策略（Trust Region）。)"
      ],
      "metadata": {
        "id": "3Jk00DOJIiiy"
      },
      "id": "3Jk00DOJIiiy"
    },
    {
      "cell_type": "markdown",
      "id": "d0d34ca5",
      "metadata": {
        "id": "d0d34ca5"
      },
      "source": [
        "Here’s the resulting value:"
      ]
    },
    {
      "cell_type": "code",
      "execution_count": 29,
      "id": "90119d1d",
      "metadata": {
        "hide-output": false,
        "id": "90119d1d",
        "outputId": "6ac75e60-08f9-4a36-ab8d-e48cea49a6d7",
        "colab": {
          "base_uri": "https://localhost:8080/"
        }
      },
      "outputs": [
        {
          "output_type": "execute_result",
          "data": {
            "text/plain": [
              "array([1.57080182, 1.46928838])"
            ]
          },
          "metadata": {},
          "execution_count": 29
        }
      ],
      "source": [
        "p = solution.x\n",
        "p"
      ]
    },
    {
      "cell_type": "markdown",
      "id": "6f84323e",
      "metadata": {
        "id": "6f84323e"
      },
      "source": [
        "This looks close to our guess from observing the figure. We can plug it back into $ e $ to test that $ e(p) \\approx 0 $:"
      ]
    },
    {
      "cell_type": "code",
      "execution_count": 30,
      "id": "9667451a",
      "metadata": {
        "hide-output": false,
        "id": "9667451a",
        "outputId": "3b7d63be-0cd9-4a12-fe78-1d33782bb445",
        "colab": {
          "base_uri": "https://localhost:8080/"
        }
      },
      "outputs": [
        {
          "output_type": "execute_result",
          "data": {
            "text/plain": [
              "2.0383694732117874e-13"
            ]
          },
          "metadata": {},
          "execution_count": 30
        }
      ],
      "source": [
        "np.max(np.abs(e(p, A, b, c)))"
      ]
    },
    {
      "cell_type": "markdown",
      "id": "0db0d9fb",
      "metadata": {
        "id": "0db0d9fb"
      },
      "source": [
        "This is indeed a very small error."
      ]
    },
    {
      "cell_type": "markdown",
      "id": "60be226d",
      "metadata": {
        "id": "60be226d"
      },
      "source": [
        "#### Adding Gradient Information\n",
        "\n",
        "In many cases, for zero-finding algorithms applied to smooth functions, supplying the [Jacobian](https://en.wikipedia.org/wiki/Jacobian_matrix_and_determinant) of the function leads to better convergence properties.\n",
        "\n",
        "Here we manually calculate the elements of the Jacobian\n",
        "\n",
        "$$\n",
        "J(p) =\n",
        "    \\begin{pmatrix}\n",
        "        \\frac{\\partial e_0}{\\partial p_0}(p) & \\frac{\\partial e_0}{\\partial p_1}(p) \\\\\n",
        "        \\frac{\\partial e_1}{\\partial p_0}(p) & \\frac{\\partial e_1}{\\partial p_1}(p)\n",
        "    \\end{pmatrix}\n",
        "$$"
      ]
    },
    {
      "cell_type": "code",
      "execution_count": 31,
      "id": "87c0044d",
      "metadata": {
        "hide-output": false,
        "id": "87c0044d"
      },
      "outputs": [],
      "source": [
        "def jacobian_e(p, A, b, c):\n",
        "    p_0, p_1 = p\n",
        "    a_00, a_01 = A[0, :]\n",
        "    a_10, a_11 = A[1, :]\n",
        "    j_00 = -a_00 * np.exp(-a_00 * p_0) - (b[0]/2) * p_0**(-1/2)\n",
        "    j_01 = -a_01 * np.exp(-a_01 * p_1)\n",
        "    j_10 = -a_10 * np.exp(-a_10 * p_0)\n",
        "    j_11 = -a_11 * np.exp(-a_11 * p_1) - (b[1]/2) * p_1**(-1/2)\n",
        "    J = [[j_00, j_01],\n",
        "         [j_10, j_11]]\n",
        "    return np.array(J)"
      ]
    },
    {
      "cell_type": "code",
      "execution_count": 32,
      "id": "181d9d16",
      "metadata": {
        "hide-output": false,
        "id": "181d9d16",
        "outputId": "fef0a576-14e2-4a70-b9d8-5f11fedea765",
        "colab": {
          "base_uri": "https://localhost:8080/"
        }
      },
      "outputs": [
        {
          "output_type": "stream",
          "name": "stdout",
          "text": [
            "CPU times: user 648 µs, sys: 0 ns, total: 648 µs\n",
            "Wall time: 606 µs\n"
          ]
        }
      ],
      "source": [
        "%%time\n",
        "solution = root(lambda p: e(p, A, b, c),\n",
        "                init_p,\n",
        "                jac=lambda p: jacobian_e(p, A, b, c),\n",
        "                method='hybr')"
      ]
    },
    {
      "cell_type": "markdown",
      "id": "470fda08",
      "metadata": {
        "id": "470fda08"
      },
      "source": [
        "Now the solution is even more accurate (although, in this low-dimensional problem, the difference is quite small):"
      ]
    },
    {
      "cell_type": "code",
      "execution_count": 33,
      "id": "e4ff07f9",
      "metadata": {
        "hide-output": false,
        "id": "e4ff07f9",
        "outputId": "bea8df11-9a65-4f3f-ef4e-93d0486bb03b",
        "colab": {
          "base_uri": "https://localhost:8080/"
        }
      },
      "outputs": [
        {
          "output_type": "execute_result",
          "data": {
            "text/plain": [
              "1.3322676295501878e-15"
            ]
          },
          "metadata": {},
          "execution_count": 33
        }
      ],
      "source": [
        "p = solution.x\n",
        "np.max(np.abs(e(p, A, b, c)))"
      ]
    },
    {
      "cell_type": "markdown",
      "id": "ccfd6029",
      "metadata": {
        "id": "ccfd6029"
      },
      "source": [
        "#### Using Newton’s Method\n",
        "\n",
        "Now let’s use Newton’s method to compute the equilibrium price using the multivariate version of Newton’s method\n",
        "\n",
        "\n",
        "<a id='equation-multi-newton'></a>\n",
        "$$\n",
        "p_{n+1} = p_n - J_e(p_n)^{-1} e(p_n) \\tag{7.6}\n",
        "$$\n",
        "\n",
        "This is a multivariate version of [(7.5)](#equation-oned-newton)\n",
        "\n",
        "(Here $ J_e(p_n) $ is the Jacobian of $ e $ evaluated at $ p_n $.)\n",
        "\n",
        "The iteration starts from some initial guess of the price vector $ p_0 $.\n",
        "\n",
        "Here, instead of coding Jacobian by hand, We use the `jacobian()` function in the `autograd` library to auto-differentiate and calculate the Jacobian.\n",
        "\n",
        "With only slight modification, we can generalize [our previous attempt](#first-newton-attempt) to multi-dimensional problems"
      ]
    },
    {
      "cell_type": "code",
      "execution_count": 34,
      "id": "a4b0e5f9",
      "metadata": {
        "hide-output": false,
        "id": "a4b0e5f9"
      },
      "outputs": [],
      "source": [
        "def newton(f, x_0, tol=1e-5, max_iter=10):\n",
        "    x = x_0\n",
        "    q = lambda x: x - np.linalg.solve(jacobian(f)(x), f(x))\n",
        "    error = tol + 1\n",
        "    n = 0\n",
        "    while error > tol:\n",
        "        n+=1\n",
        "        if(n > max_iter):\n",
        "            raise Exception('Max iteration reached without convergence')\n",
        "        y = q(x)\n",
        "        if(any(np.isnan(y))):\n",
        "            raise Exception('Solution not found with NaN generated')\n",
        "        error = np.linalg.norm(x - y)\n",
        "        x = y\n",
        "        print(f'iteration {n}, error = {error:.5f}')\n",
        "    print('\\n' + f'Result = {x} \\n')\n",
        "    return x"
      ]
    },
    {
      "cell_type": "markdown",
      "source": [
        "e(x)就是本来的f(x) 然后J-1是1/f'(x)\n",
        "\n",
        "np.linalg.solve(J, e) 是 NumPy 中 用于求解线性方程组 的一个高效方法。它在 数值计算 中 比直接计算逆矩阵（J-1）更稳定、更高效。\n",
        "- 用这个能避免计算J-1的值。\n",
        "- 相当于解出Jv=e中的v。"
      ],
      "metadata": {
        "id": "8n2pqRk7K0sx"
      },
      "id": "8n2pqRk7K0sx"
    },
    {
      "cell_type": "code",
      "execution_count": 35,
      "id": "070a61bf",
      "metadata": {
        "hide-output": false,
        "id": "070a61bf"
      },
      "outputs": [],
      "source": [
        "def e(p, A, b, c):\n",
        "    return np.exp(- np.dot(A, p)) + c - b * np.sqrt(p)"
      ]
    },
    {
      "cell_type": "markdown",
      "id": "ab112abc",
      "metadata": {
        "id": "ab112abc"
      },
      "source": [
        "We find the algorithm terminates in 4 steps"
      ]
    },
    {
      "cell_type": "code",
      "execution_count": 36,
      "id": "381466d5",
      "metadata": {
        "hide-output": false,
        "id": "381466d5",
        "outputId": "a77fd190-da2d-44df-b901-e819f0dce210",
        "colab": {
          "base_uri": "https://localhost:8080/"
        }
      },
      "outputs": [
        {
          "output_type": "stream",
          "name": "stdout",
          "text": [
            "iteration 1, error = 0.62515\n",
            "iteration 2, error = 0.11152\n",
            "iteration 3, error = 0.00258\n",
            "iteration 4, error = 0.00000\n",
            "\n",
            "Result = [1.57080182 1.46928838] \n",
            "\n",
            "CPU times: user 5.47 ms, sys: 30 µs, total: 5.5 ms\n",
            "Wall time: 7.23 ms\n"
          ]
        }
      ],
      "source": [
        "%%time\n",
        "p = newton(lambda p: e(p, A, b, c), init_p)"
      ]
    },
    {
      "cell_type": "code",
      "execution_count": 37,
      "id": "a5888f2f",
      "metadata": {
        "hide-output": false,
        "id": "a5888f2f",
        "outputId": "63c9807e-2bc8-4d53-dd99-4240db350927",
        "colab": {
          "base_uri": "https://localhost:8080/"
        }
      },
      "outputs": [
        {
          "output_type": "execute_result",
          "data": {
            "text/plain": [
              "1.461053500406706e-13"
            ]
          },
          "metadata": {},
          "execution_count": 37
        }
      ],
      "source": [
        "np.max(np.abs(e(p, A, b, c)))"
      ]
    },
    {
      "cell_type": "markdown",
      "id": "cf61f6f3",
      "metadata": {
        "id": "cf61f6f3"
      },
      "source": [
        "The result is very accurate.\n",
        "\n",
        "With the larger overhead, the speed is not better than the optimized `scipy` function."
      ]
    },
    {
      "cell_type": "markdown",
      "id": "4d7e7276",
      "metadata": {
        "id": "4d7e7276"
      },
      "source": [
        "### A High-Dimensional Problem\n",
        "\n",
        "Our next step is to investigate a large market with 3,000 goods.\n",
        "\n",
        "A JAX version of this section using GPU accelerated linear algebra and\n",
        "automatic differentiation is available [here](https://jax.quantecon.org/newtons_method.html#application)\n",
        "\n",
        "The excess demand function is essentially the same, but now the matrix $ A $ is $ 3000 \\times 3000 $ and the parameter vectors $ b $ and $ c $ are $ 3000 \\times 1 $."
      ]
    },
    {
      "cell_type": "code",
      "execution_count": 38,
      "id": "c3e45cda",
      "metadata": {
        "hide-output": false,
        "id": "c3e45cda"
      },
      "outputs": [],
      "source": [
        "dim = 3000\n",
        "np.random.seed(123)\n",
        "\n",
        "# Create a random matrix A and normalize the rows to sum to one\n",
        "A = np.random.rand(dim, dim)\n",
        "A = np.asarray(A)\n",
        "s = np.sum(A, axis=0)\n",
        "A = A / s\n",
        "\n",
        "# Set up b and c\n",
        "b = np.ones(dim)\n",
        "c = np.ones(dim)"
      ]
    },
    {
      "cell_type": "markdown",
      "id": "8f09634f",
      "metadata": {
        "id": "8f09634f"
      },
      "source": [
        "Here’s our initial condition"
      ]
    },
    {
      "cell_type": "code",
      "execution_count": 39,
      "id": "bc411304",
      "metadata": {
        "hide-output": false,
        "id": "bc411304"
      },
      "outputs": [],
      "source": [
        "init_p = np.ones(dim)"
      ]
    },
    {
      "cell_type": "code",
      "execution_count": 40,
      "id": "ec50a52e",
      "metadata": {
        "hide-output": false,
        "id": "ec50a52e",
        "outputId": "095e1495-cc23-4564-8c61-b79b65a6e742",
        "colab": {
          "base_uri": "https://localhost:8080/"
        }
      },
      "outputs": [
        {
          "output_type": "stream",
          "name": "stdout",
          "text": [
            "iteration 1, error = 23.22267\n",
            "iteration 2, error = 3.94538\n",
            "iteration 3, error = 0.08500\n",
            "iteration 4, error = 0.00004\n",
            "iteration 5, error = 0.00000\n",
            "\n",
            "Result = [1.50185286 1.49865815 1.50028285 ... 1.50875149 1.48724784 1.48577532] \n",
            "\n",
            "CPU times: user 4min 9s, sys: 22.7 s, total: 4min 31s\n",
            "Wall time: 2min 49s\n"
          ]
        }
      ],
      "source": [
        "%%time\n",
        "p = newton(lambda p: e(p, A, b, c), init_p)"
      ]
    },
    {
      "cell_type": "code",
      "execution_count": 41,
      "id": "6c0587a1",
      "metadata": {
        "hide-output": false,
        "id": "6c0587a1",
        "outputId": "f08404fb-7918-4636-e997-ddc71ec2cf4b",
        "colab": {
          "base_uri": "https://localhost:8080/"
        }
      },
      "outputs": [
        {
          "output_type": "execute_result",
          "data": {
            "text/plain": [
              "4.440892098500626e-16"
            ]
          },
          "metadata": {},
          "execution_count": 41
        }
      ],
      "source": [
        "np.max(np.abs(e(p, A, b, c)))"
      ]
    },
    {
      "cell_type": "markdown",
      "id": "d346603f",
      "metadata": {
        "id": "d346603f"
      },
      "source": [
        "With the same tolerance, we compare the runtime and accuracy of Newton’s method to SciPy’s `root` function"
      ]
    },
    {
      "cell_type": "code",
      "execution_count": 42,
      "id": "3486192a",
      "metadata": {
        "hide-output": false,
        "id": "3486192a",
        "outputId": "c0809440-6cd8-414c-c7a8-e3c5dee8909a",
        "colab": {
          "base_uri": "https://localhost:8080/"
        }
      },
      "outputs": [
        {
          "output_type": "stream",
          "name": "stdout",
          "text": [
            "CPU times: user 2min 21s, sys: 10.3 s, total: 2min 32s\n",
            "Wall time: 1min 52s\n"
          ]
        }
      ],
      "source": [
        "%%time\n",
        "solution = root(lambda p: e(p, A, b, c),\n",
        "                init_p,\n",
        "                jac=lambda p: jacobian(e)(p, A, b, c),\n",
        "                method='hybr',\n",
        "                tol=1e-5)"
      ]
    },
    {
      "cell_type": "code",
      "execution_count": 43,
      "id": "5c4cd82e",
      "metadata": {
        "hide-output": false,
        "id": "5c4cd82e",
        "outputId": "4f630d8c-adbd-49e0-a692-dec4b31cd911",
        "colab": {
          "base_uri": "https://localhost:8080/"
        }
      },
      "outputs": [
        {
          "output_type": "execute_result",
          "data": {
            "text/plain": [
              "8.295585953721485e-07"
            ]
          },
          "metadata": {},
          "execution_count": 43
        }
      ],
      "source": [
        "p = solution.x\n",
        "np.max(np.abs(e(p, A, b, c)))"
      ]
    },
    {
      "cell_type": "markdown",
      "id": "60b15d1a",
      "metadata": {
        "id": "60b15d1a"
      },
      "source": [
        "## Exercises"
      ]
    },
    {
      "cell_type": "markdown",
      "id": "5e0f7ff5",
      "metadata": {
        "id": "5e0f7ff5"
      },
      "source": [
        "## Exercise 7.1\n",
        "\n",
        "Consider a three-dimensional extension of the Solow fixed point problem with\n",
        "\n",
        "$$\n",
        "A = \\begin{pmatrix}\n",
        "            2 & 3 & 3 \\\\\n",
        "            2 & 4 & 2 \\\\\n",
        "            1 & 5 & 1 \\\\\n",
        "        \\end{pmatrix},\n",
        "            \\quad\n",
        "s = 0.2, \\quad α = 0.5, \\quad δ = 0.8\n",
        "$$\n",
        "\n",
        "As before the law of motion is\n",
        "\n",
        "$$\n",
        "k_{t+1} = g(k_t) \\quad \\text{where} \\quad\n",
        "    g(k) := sAk^\\alpha + (1-\\delta) k\n",
        "$$\n",
        "\n",
        "However $ k_t $ is now a $ 3 \\times 1 $ vector.\n",
        "\n",
        "Solve for the fixed point using Newton’s method with the following initial values:\n",
        "\n",
        "$$\n",
        "\\begin{aligned}\n",
        "    k1_{0} &= (1, 1, 1) \\\\\n",
        "    k2_{0} &= (3, 5, 5) \\\\\n",
        "    k3_{0} &= (50, 50, 50)\n",
        "\\end{aligned}\n",
        "$$\n",
        "\n",
        "- The computation of the fixed point is equivalent to computing $ k^* $ such that $ f(k^*) - k^* = 0 $.  \n",
        "- If you are unsure about your solution, you can start with the solved example:  \n",
        "\n",
        "\n",
        "$$\n",
        "A = \\begin{pmatrix}\n",
        "            2 & 0 & 0 \\\\\n",
        "            0 & 2 & 0 \\\\\n",
        "            0 & 0 & 2 \\\\\n",
        "        \\end{pmatrix}\n",
        "$$\n",
        "\n",
        "with $ s = 0.3 $, $ α = 0.3 $, and $ δ = 0.4 $ and starting value:\n",
        "\n",
        "$$\n",
        "k_0 = (1, 1, 1)\n",
        "$$\n",
        "\n",
        "The result should converge to the [analytical solution](#solved-k)."
      ]
    },
    {
      "cell_type": "code",
      "source": [
        "# 自己的\n",
        "# f'(x)\n",
        "def Dg(k, params):\n",
        "    A, s, α, δ = params\n",
        "    return α * A * s * k**(α-1) + (1 - δ)\n",
        "\n",
        "# f(x)\n",
        "def g(k, params):\n",
        "    A, s, α, δ = params\n",
        "    return A * s * k**α + (1 - δ) * k\n",
        "\n",
        "# q(x)\n",
        "def q(k, params):\n",
        "    return (g(k, params) - Dg(k, params) * k) / (1 - Dg(k, params))\n"
      ],
      "metadata": {
        "id": "X8FAjPqJL5SA"
      },
      "id": "X8FAjPqJL5SA",
      "execution_count": null,
      "outputs": []
    },
    {
      "cell_type": "markdown",
      "id": "d5aa14fa",
      "metadata": {
        "id": "d5aa14fa"
      },
      "source": [
        "## Solution to[ Exercise 7.1](https://python.quantecon.org/#newton_ex1)\n",
        "\n",
        "Let’s first define the parameters for this problem"
      ]
    },
    {
      "cell_type": "code",
      "execution_count": 44,
      "id": "fa77dc35",
      "metadata": {
        "hide-output": false,
        "id": "fa77dc35"
      },
      "outputs": [],
      "source": [
        "A = np.array([[2.0, 3.0, 3.0],\n",
        "              [2.0, 4.0, 2.0],\n",
        "              [1.0, 5.0, 1.0]])\n",
        "\n",
        "s = 0.2\n",
        "α = 0.5\n",
        "δ = 0.8\n",
        "\n",
        "initLs = [np.ones(3),\n",
        "          np.array([3.0, 5.0, 5.0]),\n",
        "          np.repeat(50.0, 3)]"
      ]
    },
    {
      "cell_type": "markdown",
      "id": "c71a80b3",
      "metadata": {
        "id": "c71a80b3"
      },
      "source": [
        "Then define the multivariate version of the formula for the [(7.1)](#equation-motion-law)"
      ]
    },
    {
      "cell_type": "code",
      "execution_count": 45,
      "id": "e82d17c8",
      "metadata": {
        "hide-output": false,
        "id": "e82d17c8"
      },
      "outputs": [],
      "source": [
        "def multivariate_solow(k, A=A, s=s, α=α, δ=δ):\n",
        "    return (s * np.dot(A, k**α) + (1 - δ) * k)"
      ]
    },
    {
      "cell_type": "markdown",
      "source": [
        "np.dot(A, k**α) 计算 矩阵与向量乘积\n",
        "整个相当于f(x)"
      ],
      "metadata": {
        "id": "74MUY_qEOcdN"
      },
      "id": "74MUY_qEOcdN"
    },
    {
      "cell_type": "markdown",
      "id": "8428ac47",
      "metadata": {
        "id": "8428ac47"
      },
      "source": [
        "Let’s run through each starting value and see the output"
      ]
    },
    {
      "cell_type": "code",
      "execution_count": 46,
      "id": "5fbdb30a",
      "metadata": {
        "hide-output": false,
        "id": "5fbdb30a",
        "outputId": "844a1a51-9f0e-4a97-d12a-af46fe37df5b",
        "colab": {
          "base_uri": "https://localhost:8080/"
        }
      },
      "outputs": [
        {
          "output_type": "stream",
          "name": "stdout",
          "text": [
            "Attempt 1: Starting value is [1. 1. 1.] \n",
            "\n",
            "iteration 1, error = 50.49630\n",
            "iteration 2, error = 41.10937\n",
            "iteration 3, error = 4.29413\n",
            "iteration 4, error = 0.38543\n",
            "iteration 5, error = 0.00544\n",
            "iteration 6, error = 0.00000\n",
            "\n",
            "Result = [3.84058108 3.87071771 3.41091933] \n",
            "\n",
            "CPU times: user 7.47 ms, sys: 963 µs, total: 8.44 ms\n",
            "Wall time: 8.05 ms\n",
            "----------------------------------------------------------------\n",
            "Attempt 2: Starting value is [3. 5. 5.] \n",
            "\n",
            "iteration 1, error = 2.07011\n",
            "iteration 2, error = 0.12642\n",
            "iteration 3, error = 0.00060\n",
            "iteration 4, error = 0.00000\n",
            "\n",
            "Result = [3.84058108 3.87071771 3.41091933] \n",
            "\n",
            "CPU times: user 4.07 ms, sys: 990 µs, total: 5.06 ms\n",
            "Wall time: 4.81 ms\n",
            "----------------------------------------------------------------\n",
            "Attempt 3: Starting value is [50. 50. 50.] \n",
            "\n",
            "iteration 1, error = 73.00943\n",
            "iteration 2, error = 6.49379\n",
            "iteration 3, error = 0.68070\n",
            "iteration 4, error = 0.01620\n",
            "iteration 5, error = 0.00001\n",
            "iteration 6, error = 0.00000\n",
            "\n",
            "Result = [3.84058108 3.87071771 3.41091933] \n",
            "\n",
            "CPU times: user 3.03 ms, sys: 2.97 ms, total: 6 ms\n",
            "Wall time: 5.62 ms\n",
            "----------------------------------------------------------------\n"
          ]
        }
      ],
      "source": [
        "attempt = 1\n",
        "for init in initLs:\n",
        "    print(f'Attempt {attempt}: Starting value is {init} \\n')\n",
        "    %time k = newton(lambda k: multivariate_solow(k) - k, \\\n",
        "                    init)\n",
        "    print('-'*64)\n",
        "    attempt += 1"
      ]
    },
    {
      "cell_type": "markdown",
      "id": "cb0fd0bb",
      "metadata": {
        "id": "cb0fd0bb"
      },
      "source": [
        "We find that the results are invariant to the starting values given the well-defined property of this question.\n",
        "\n",
        "But the number of iterations it takes to converge is dependent on the starting values.\n",
        "\n",
        "Let substitute the output back to the formulate to check our last result"
      ]
    },
    {
      "cell_type": "code",
      "execution_count": 47,
      "id": "bec23418",
      "metadata": {
        "hide-output": false,
        "id": "bec23418",
        "outputId": "a436008a-6a87-4dfd-9d64-b8d1410db7b3",
        "colab": {
          "base_uri": "https://localhost:8080/"
        }
      },
      "outputs": [
        {
          "output_type": "execute_result",
          "data": {
            "text/plain": [
              "array([-4.4408921e-16, -4.4408921e-16,  4.4408921e-16])"
            ]
          },
          "metadata": {},
          "execution_count": 47
        }
      ],
      "source": [
        "multivariate_solow(k) - k"
      ]
    },
    {
      "cell_type": "markdown",
      "id": "bd9ec88b",
      "metadata": {
        "id": "bd9ec88b"
      },
      "source": [
        "Note the error is very small.\n",
        "\n",
        "We can also test our results on the known solution"
      ]
    },
    {
      "cell_type": "code",
      "execution_count": 48,
      "id": "28dc69ad",
      "metadata": {
        "hide-output": false,
        "id": "28dc69ad",
        "outputId": "287b853b-5adc-451b-ce0f-a34b4d6b4e6f",
        "colab": {
          "base_uri": "https://localhost:8080/"
        }
      },
      "outputs": [
        {
          "output_type": "stream",
          "name": "stdout",
          "text": [
            "iteration 1, error = 1.57459\n",
            "iteration 2, error = 0.21345\n",
            "iteration 3, error = 0.00205\n",
            "iteration 4, error = 0.00000\n",
            "\n",
            "Result = [1.78467418 1.78467418 1.78467418] \n",
            "\n",
            "CPU times: user 4.28 ms, sys: 1.86 ms, total: 6.14 ms\n",
            "Wall time: 5.81 ms\n"
          ]
        }
      ],
      "source": [
        "A = np.array([[2.0, 0.0, 0.0],\n",
        "               [0.0, 2.0, 0.0],\n",
        "               [0.0, 0.0, 2.0]])\n",
        "\n",
        "s = 0.3\n",
        "α = 0.3\n",
        "δ = 0.4\n",
        "\n",
        "init = np.repeat(1.0, 3)\n",
        "\n",
        "\n",
        "%time k = newton(lambda k: multivariate_solow(k, A=A, s=s, α=α, δ=δ) - k, \\\n",
        "                 init)"
      ]
    },
    {
      "cell_type": "markdown",
      "id": "463f43a2",
      "metadata": {
        "id": "463f43a2"
      },
      "source": [
        "The result is very close to the ground truth but still slightly different."
      ]
    },
    {
      "cell_type": "code",
      "execution_count": 49,
      "id": "993838a3",
      "metadata": {
        "hide-output": false,
        "id": "993838a3",
        "outputId": "bc4a677c-944d-4f4a-abf9-75eae7f1b82a",
        "colab": {
          "base_uri": "https://localhost:8080/"
        }
      },
      "outputs": [
        {
          "output_type": "stream",
          "name": "stdout",
          "text": [
            "iteration 1, error = 1.57459\n",
            "iteration 2, error = 0.21345\n",
            "iteration 3, error = 0.00205\n",
            "iteration 4, error = 0.00000\n",
            "iteration 5, error = 0.00000\n",
            "\n",
            "Result = [1.78467418 1.78467418 1.78467418] \n",
            "\n",
            "CPU times: user 5.82 ms, sys: 0 ns, total: 5.82 ms\n",
            "Wall time: 6.59 ms\n"
          ]
        }
      ],
      "source": [
        "%time k = newton(lambda k: multivariate_solow(k, A=A, s=s, α=α, δ=δ) - k, \\\n",
        "                 init,\\\n",
        "                 tol=1e-7)"
      ]
    },
    {
      "cell_type": "markdown",
      "id": "34e870a7",
      "metadata": {
        "id": "34e870a7"
      },
      "source": [
        "We can see it steps towards a more accurate solution."
      ]
    },
    {
      "cell_type": "markdown",
      "id": "4f5d82af",
      "metadata": {
        "id": "4f5d82af"
      },
      "source": [
        "## Exercise 7.2\n",
        "\n",
        "In this exercise, let’s try different initial values and check how Newton’s method responds to different starting points.\n",
        "\n",
        "Let’s define a three-good problem with the following default values:\n",
        "\n",
        "$$\n",
        "A = \\begin{pmatrix}\n",
        "            0.2 & 0.1 & 0.7 \\\\\n",
        "            0.3 & 0.2 & 0.5 \\\\\n",
        "            0.1 & 0.8 & 0.1 \\\\\n",
        "        \\end{pmatrix},\n",
        "            \\qquad\n",
        "b = \\begin{pmatrix}\n",
        "            1 \\\\\n",
        "            1 \\\\\n",
        "            1\n",
        "        \\end{pmatrix}\n",
        "    \\qquad \\text{and} \\qquad\n",
        "c = \\begin{pmatrix}\n",
        "            1 \\\\\n",
        "            1 \\\\\n",
        "            1\n",
        "        \\end{pmatrix}\n",
        "$$\n",
        "\n",
        "For this exercise, use the following extreme price vectors as initial values:\n",
        "\n",
        "$$\n",
        "\\begin{aligned}\n",
        "    p1_{0} &= (5, 5, 5) \\\\\n",
        "    p2_{0} &= (1, 1, 1) \\\\\n",
        "    p3_{0} &= (4.5, 0.1, 4)\n",
        "\\end{aligned}\n",
        "$$\n",
        "\n",
        "Set the tolerance to $ 0.0 $ for more accurate output."
      ]
    },
    {
      "cell_type": "markdown",
      "id": "0458eb8a",
      "metadata": {
        "id": "0458eb8a"
      },
      "source": [
        "## Solution to[ Exercise 7.2](https://python.quantecon.org/#newton_ex2)\n",
        "\n",
        "Define parameters and initial values"
      ]
    },
    {
      "cell_type": "code",
      "execution_count": 50,
      "id": "cf5fd0c4",
      "metadata": {
        "hide-output": false,
        "id": "cf5fd0c4"
      },
      "outputs": [],
      "source": [
        "A = np.array([\n",
        "    [0.2, 0.1, 0.7],\n",
        "    [0.3, 0.2, 0.5],\n",
        "    [0.1, 0.8, 0.1]\n",
        "])\n",
        "\n",
        "b = np.array([1.0, 1.0, 1.0])\n",
        "c = np.array([1.0, 1.0, 1.0])\n",
        "\n",
        "initLs = [np.repeat(5.0, 3),\n",
        "          np.ones(3),\n",
        "          np.array([4.5, 0.1, 4.0])]"
      ]
    },
    {
      "cell_type": "markdown",
      "id": "a7c523c0",
      "metadata": {
        "id": "a7c523c0"
      },
      "source": [
        "Let’s run through each initial guess and check the output"
      ]
    },
    {
      "cell_type": "code",
      "execution_count": 51,
      "id": "c2a402ee",
      "metadata": {
        "hide-output": false,
        "id": "c2a402ee",
        "outputId": "5baf9dd7-e958-4e35-a296-48000ff358c3",
        "colab": {
          "base_uri": "https://localhost:8080/",
          "height": 938
        }
      },
      "outputs": [
        {
          "output_type": "stream",
          "name": "stdout",
          "text": [
            "Attempt 1: Starting value is [5. 5. 5.] \n",
            "\n",
            "iteration 1, error = 9.24381\n"
          ]
        },
        {
          "output_type": "stream",
          "name": "stderr",
          "text": [
            "/usr/local/lib/python3.11/dist-packages/autograd/tracer.py:48: RuntimeWarning: invalid value encountered in sqrt\n",
            "  return f_raw(*args, **kwargs)\n",
            "/usr/local/lib/python3.11/dist-packages/autograd/numpy/numpy_vjps.py:98: RuntimeWarning: invalid value encountered in power\n",
            "  defvjp(anp.sqrt,    lambda ans, x : lambda g: g * 0.5 * x**-0.5)\n"
          ]
        },
        {
          "output_type": "error",
          "ename": "Exception",
          "evalue": "Solution not found with NaN generated",
          "traceback": [
            "\u001b[0;31m---------------------------------------------------------------------------\u001b[0m",
            "\u001b[0;31mException\u001b[0m                                 Traceback (most recent call last)",
            "\u001b[0;32m<timed exec>\u001b[0m in \u001b[0;36m<module>\u001b[0;34m\u001b[0m\n",
            "\u001b[0;32m<ipython-input-34-b9d4285060a2>\u001b[0m in \u001b[0;36mnewton\u001b[0;34m(f, x_0, tol, max_iter)\u001b[0m\n\u001b[1;32m     10\u001b[0m         \u001b[0my\u001b[0m \u001b[0;34m=\u001b[0m \u001b[0mq\u001b[0m\u001b[0;34m(\u001b[0m\u001b[0mx\u001b[0m\u001b[0;34m)\u001b[0m\u001b[0;34m\u001b[0m\u001b[0;34m\u001b[0m\u001b[0m\n\u001b[1;32m     11\u001b[0m         \u001b[0;32mif\u001b[0m\u001b[0;34m(\u001b[0m\u001b[0many\u001b[0m\u001b[0;34m(\u001b[0m\u001b[0mnp\u001b[0m\u001b[0;34m.\u001b[0m\u001b[0misnan\u001b[0m\u001b[0;34m(\u001b[0m\u001b[0my\u001b[0m\u001b[0;34m)\u001b[0m\u001b[0;34m)\u001b[0m\u001b[0;34m)\u001b[0m\u001b[0;34m:\u001b[0m\u001b[0;34m\u001b[0m\u001b[0;34m\u001b[0m\u001b[0m\n\u001b[0;32m---> 12\u001b[0;31m             \u001b[0;32mraise\u001b[0m \u001b[0mException\u001b[0m\u001b[0;34m(\u001b[0m\u001b[0;34m'Solution not found with NaN generated'\u001b[0m\u001b[0;34m)\u001b[0m\u001b[0;34m\u001b[0m\u001b[0;34m\u001b[0m\u001b[0m\n\u001b[0m\u001b[1;32m     13\u001b[0m         \u001b[0merror\u001b[0m \u001b[0;34m=\u001b[0m \u001b[0mnp\u001b[0m\u001b[0;34m.\u001b[0m\u001b[0mlinalg\u001b[0m\u001b[0;34m.\u001b[0m\u001b[0mnorm\u001b[0m\u001b[0;34m(\u001b[0m\u001b[0mx\u001b[0m \u001b[0;34m-\u001b[0m \u001b[0my\u001b[0m\u001b[0;34m)\u001b[0m\u001b[0;34m\u001b[0m\u001b[0;34m\u001b[0m\u001b[0m\n\u001b[1;32m     14\u001b[0m         \u001b[0mx\u001b[0m \u001b[0;34m=\u001b[0m \u001b[0my\u001b[0m\u001b[0;34m\u001b[0m\u001b[0;34m\u001b[0m\u001b[0m\n",
            "\u001b[0;31mException\u001b[0m: Solution not found with NaN generated"
          ]
        },
        {
          "output_type": "stream",
          "name": "stdout",
          "text": [
            "----------------------------------------------------------------\n",
            "Attempt 2: Starting value is [1. 1. 1.] \n",
            "\n",
            "iteration 1, error = 0.73419\n",
            "iteration 2, error = 0.12472\n",
            "iteration 3, error = 0.00269\n",
            "iteration 4, error = 0.00000\n",
            "iteration 5, error = 0.00000\n",
            "iteration 6, error = 0.00000\n",
            "\n",
            "Result = [1.49744442 1.49744442 1.49744442] \n",
            "\n",
            "CPU times: user 5.71 ms, sys: 0 ns, total: 5.71 ms\n",
            "Wall time: 5.72 ms\n",
            "----------------------------------------------------------------\n",
            "Attempt 3: Starting value is [4.5 0.1 4. ] \n",
            "\n",
            "iteration 1, error = 4.89202\n",
            "iteration 2, error = 1.21206\n",
            "iteration 3, error = 0.69421\n",
            "iteration 4, error = 0.16895\n",
            "iteration 5, error = 0.00521\n",
            "iteration 6, error = 0.00000\n",
            "iteration 7, error = 0.00000\n",
            "iteration 8, error = 0.00000\n",
            "\n",
            "Result = [1.49744442 1.49744442 1.49744442] \n",
            "\n",
            "CPU times: user 3.91 ms, sys: 947 µs, total: 4.86 ms\n",
            "Wall time: 4.71 ms\n",
            "----------------------------------------------------------------\n"
          ]
        }
      ],
      "source": [
        "attempt = 1\n",
        "for init in initLs:\n",
        "    print(f'Attempt {attempt}: Starting value is {init} \\n')\n",
        "    %time p = newton(lambda p: e(p, A, b, c), \\\n",
        "                init, \\\n",
        "                tol=1e-15, \\\n",
        "                max_iter=15)\n",
        "    print('-'*64)\n",
        "    attempt += 1"
      ]
    },
    {
      "cell_type": "markdown",
      "id": "dbb88914",
      "metadata": {
        "id": "dbb88914"
      },
      "source": [
        "We can find that Newton’s method may fail for some starting values.\n",
        "\n",
        "Sometimes it may take a few initial guesses to achieve convergence.\n",
        "\n",
        "Substitute the result back to the formula to check our result"
      ]
    },
    {
      "cell_type": "code",
      "execution_count": 52,
      "id": "1fb7db42",
      "metadata": {
        "hide-output": false,
        "id": "1fb7db42",
        "outputId": "277a7a0f-77ef-49e8-b061-58e5472516c6",
        "colab": {
          "base_uri": "https://localhost:8080/"
        }
      },
      "outputs": [
        {
          "output_type": "execute_result",
          "data": {
            "text/plain": [
              "array([-2.22044605e-16,  0.00000000e+00, -2.22044605e-16])"
            ]
          },
          "metadata": {},
          "execution_count": 52
        }
      ],
      "source": [
        "e(p, A, b, c)"
      ]
    },
    {
      "cell_type": "markdown",
      "id": "05510d0f",
      "metadata": {
        "id": "05510d0f"
      },
      "source": [
        "We can see the result is very accurate."
      ]
    }
  ],
  "metadata": {
    "date": 1736552530.0086584,
    "filename": "newton_method.md",
    "kernelspec": {
      "display_name": "Python",
      "language": "python3",
      "name": "python3"
    },
    "title": "Using Newton’s Method to Solve Economic Models",
    "colab": {
      "provenance": [],
      "toc_visible": true
    }
  },
  "nbformat": 4,
  "nbformat_minor": 5
}
