{
  "cells": [
    {
      "cell_type": "markdown",
      "id": "411b699d",
      "metadata": {
        "id": "411b699d"
      },
      "source": [
        "\n",
        "<a id='mc'></a>\n",
        "<div id=\"qe-notebook-header\" align=\"right\" style=\"text-align:right;\">\n",
        "        <a href=\"https://quantecon.org/\" title=\"quantecon.org\">\n",
        "                <img style=\"width:250px;display:inline;\" width=\"250px\" src=\"https://assets.quantecon.org/img/qe-menubar-logo.svg\" alt=\"QuantEcon\">\n",
        "        </a>\n",
        "</div>"
      ]
    },
    {
      "cell_type": "markdown",
      "id": "8ac557a7",
      "metadata": {
        "id": "8ac557a7"
      },
      "source": [
        "# Finite Markov Chains"
      ]
    },
    {
      "cell_type": "markdown",
      "id": "ca866466",
      "metadata": {
        "id": "ca866466"
      },
      "source": [
        "## Contents\n",
        "\n",
        "- [Finite Markov Chains](#Finite-Markov-Chains)  \n",
        "  - [Overview](#Overview)  \n",
        "  - [Definitions](#Definitions)  \n",
        "  - [Simulation](#Simulation)  \n",
        "  - [Marginal Distributions](#Marginal-Distributions)  \n",
        "  - [Irreducibility and Aperiodicity](#Irreducibility-and-Aperiodicity)  \n",
        "  - [Stationary Distributions](#Stationary-Distributions)  \n",
        "  - [Ergodicity](#Ergodicity)  \n",
        "  - [Computing Expectations](#Computing-Expectations)  \n",
        "  - [Exercises](#Exercises)  "
      ]
    },
    {
      "cell_type": "markdown",
      "id": "3215946b",
      "metadata": {
        "id": "3215946b"
      },
      "source": [
        "In addition to what’s in Anaconda, this lecture will need the following libraries:"
      ]
    },
    {
      "cell_type": "code",
      "execution_count": 2,
      "id": "b7792a3b",
      "metadata": {
        "hide-output": false,
        "id": "b7792a3b",
        "outputId": "dafe1791-7014-4361-ebb8-1e6a86d7641c",
        "colab": {
          "base_uri": "https://localhost:8080/"
        }
      },
      "outputs": [
        {
          "output_type": "stream",
          "name": "stdout",
          "text": [
            "Collecting quantecon\n",
            "  Downloading quantecon-0.8.0-py3-none-any.whl.metadata (5.2 kB)\n",
            "Requirement already satisfied: numba>=0.49.0 in /usr/local/lib/python3.11/dist-packages (from quantecon) (0.60.0)\n",
            "Requirement already satisfied: numpy>=1.17.0 in /usr/local/lib/python3.11/dist-packages (from quantecon) (1.26.4)\n",
            "Requirement already satisfied: requests in /usr/local/lib/python3.11/dist-packages (from quantecon) (2.32.3)\n",
            "Requirement already satisfied: scipy>=1.5.0 in /usr/local/lib/python3.11/dist-packages (from quantecon) (1.13.1)\n",
            "Requirement already satisfied: sympy in /usr/local/lib/python3.11/dist-packages (from quantecon) (1.13.1)\n",
            "Requirement already satisfied: llvmlite<0.44,>=0.43.0dev0 in /usr/local/lib/python3.11/dist-packages (from numba>=0.49.0->quantecon) (0.43.0)\n",
            "Requirement already satisfied: charset-normalizer<4,>=2 in /usr/local/lib/python3.11/dist-packages (from requests->quantecon) (3.4.1)\n",
            "Requirement already satisfied: idna<4,>=2.5 in /usr/local/lib/python3.11/dist-packages (from requests->quantecon) (3.10)\n",
            "Requirement already satisfied: urllib3<3,>=1.21.1 in /usr/local/lib/python3.11/dist-packages (from requests->quantecon) (2.3.0)\n",
            "Requirement already satisfied: certifi>=2017.4.17 in /usr/local/lib/python3.11/dist-packages (from requests->quantecon) (2025.1.31)\n",
            "Requirement already satisfied: mpmath<1.4,>=1.1.0 in /usr/local/lib/python3.11/dist-packages (from sympy->quantecon) (1.3.0)\n",
            "Downloading quantecon-0.8.0-py3-none-any.whl (322 kB)\n",
            "\u001b[2K   \u001b[90m━━━━━━━━━━━━━━━━━━━━━━━━━━━━━━━━━━━━━━━━\u001b[0m \u001b[32m322.7/322.7 kB\u001b[0m \u001b[31m4.9 MB/s\u001b[0m eta \u001b[36m0:00:00\u001b[0m\n",
            "\u001b[?25hInstalling collected packages: quantecon\n",
            "Successfully installed quantecon-0.8.0\n"
          ]
        }
      ],
      "source": [
        "!pip install quantecon"
      ]
    },
    {
      "cell_type": "markdown",
      "id": "dfa3e441",
      "metadata": {
        "id": "dfa3e441"
      },
      "source": [
        "## Overview\n",
        "\n",
        "Markov chains are one of the most useful classes of stochastic processes, being\n",
        "\n",
        "- simple, flexible and supported by many elegant theoretical results  \n",
        "- valuable for building intuition about random dynamic models  \n",
        "- central to quantitative modeling in their own right  \n",
        "\n",
        "\n",
        "You will find them in many of the workhorse models of economics and finance.\n",
        "\n",
        "In this lecture, we review some of the theory of Markov chains.\n",
        "\n",
        "We will also introduce some of the high-quality routines for working with Markov chains available in [QuantEcon.py](https://quantecon.org/quantecon-py/).\n",
        "\n",
        "Prerequisite knowledge is basic probability and linear algebra.\n",
        "\n",
        "Let’s start with some standard imports:"
      ]
    },
    {
      "cell_type": "code",
      "execution_count": 3,
      "id": "58c4c711",
      "metadata": {
        "hide-output": false,
        "id": "58c4c711"
      },
      "outputs": [],
      "source": [
        "import matplotlib.pyplot as plt\n",
        "plt.rcParams[\"figure.figsize\"] = (11, 5)  #set default figure size\n",
        "import quantecon as qe\n",
        "import numpy as np\n",
        "from mpl_toolkits.mplot3d import Axes3D"
      ]
    },
    {
      "cell_type": "markdown",
      "id": "1a26883a",
      "metadata": {
        "id": "1a26883a"
      },
      "source": [
        "## Definitions\n",
        "\n",
        "The following concepts are fundamental.\n",
        "\n",
        "\n",
        "<a id='finite-dp-stoch-mat'></a>"
      ]
    },
    {
      "cell_type": "markdown",
      "id": "da1b5874",
      "metadata": {
        "id": "da1b5874"
      },
      "source": [
        "### Stochastic Matrices\n",
        "\n",
        "\n",
        "<a id='index-2'></a>\n",
        "A **stochastic matrix** (or **Markov matrix**)  is an $ n \\times n $ square matrix $ P $\n",
        "such that\n",
        "\n",
        "1. each element of $ P $ is nonnegative, and  \n",
        "1. each row of $ P $ sums to one  \n",
        "\n",
        "\n",
        "Each row of $ P $ can be regarded as a probability mass function over $ n $ possible outcomes.\n",
        "\n",
        "It is too not difficult to check <sup><a href=#pm id=pm-link>[1]</a></sup> that if $ P $ is a stochastic matrix, then so is the $ k $-th power $ P^k $ for all $ k \\in \\mathbb N $."
      ]
    },
    {
      "cell_type": "markdown",
      "id": "188f4e9f",
      "metadata": {
        "id": "188f4e9f"
      },
      "source": [
        "### Markov Chains\n",
        "\n",
        "\n",
        "<a id='index-4'></a>\n",
        "There is a close connection between stochastic matrices and Markov chains.\n",
        "\n",
        "To begin, let $ S $ be a finite set with $ n $ elements $ \\{x_1, \\ldots, x_n\\} $.\n",
        "\n",
        "The set $ S $ is called the **state space** and $ x_1, \\ldots, x_n $ are the **state values**.\n",
        "\n",
        "A **Markov chain** $ \\{X_t\\} $ on $ S $ is a sequence of random variables on $ S $ that have the **Markov property**.\n",
        "\n",
        "This means that, for any date $ t $ and any state $ y \\in S $,\n",
        "\n",
        "\n",
        "<a id='equation-fin-markov-mp'></a>\n",
        "$$\n",
        "\\mathbb P \\{ X_{t+1} = y  \\,|\\, X_t \\}\n",
        "= \\mathbb P \\{ X_{t+1}  = y \\,|\\, X_t, X_{t-1}, \\ldots \\} \\tag{19.1}\n",
        "$$\n",
        "\n",
        "In other words, knowing the current state is enough to know probabilities for future states.\n",
        "\n",
        "In particular, the dynamics of a Markov chain are fully determined by the set of values\n",
        "\n",
        "\n",
        "<a id='equation-mpp'></a>\n",
        "$$\n",
        "P(x, y) := \\mathbb P \\{ X_{t+1} = y \\,|\\, X_t = x \\}\n",
        "\\qquad (x, y \\in S) \\tag{19.2}\n",
        "$$\n",
        "\n",
        "By construction,\n",
        "\n",
        "- $ P(x, y) $ is the probability of going from $ x $ to $ y $ in one unit of time (one step)  (转移概率（Transition Probability)\n",
        "- $ P(x, \\cdot) $ is the conditional distribution of $ X_{t+1} $ given $ X_t = x $  \n",
        "\n",
        "\n",
        "We can view $ P $ as a stochastic matrix where\n",
        "\n",
        "$$\n",
        "P_{ij} = P(x_i, x_j)\n",
        "\\qquad 1 \\leq i, j \\leq n\n",
        "$$\n",
        "\n",
        "Going the other way, if we take a stochastic matrix $ P $, we can generate a Markov\n",
        "chain $ \\{X_t\\} $ as follows:\n",
        "\n",
        "- draw $ X_0 $ from a marginal distribution $ \\psi $  \n",
        "- for each $ t = 0, 1, \\ldots $, draw $ X_{t+1} $ from $ P(X_t,\\cdot) $  \n",
        "\n",
        "\n",
        "By construction, the resulting process satisfies [(19.2)](#equation-mpp).\n",
        "\n",
        "\n",
        "<a id='mc-eg1'></a>"
      ]
    },
    {
      "cell_type": "markdown",
      "id": "f2730762",
      "metadata": {
        "id": "f2730762"
      },
      "source": [
        "### Example 1\n",
        "\n",
        "Consider a worker who, at any given time $ t $, is either unemployed (state 0) or employed (state 1).\n",
        "\n",
        "Suppose that, over a one month period,\n",
        "\n",
        "1. An unemployed worker finds a job with probability $ \\alpha \\in (0, 1) $.  \n",
        "1. An employed worker loses her job and becomes unemployed with probability $ \\beta \\in (0, 1) $.  \n",
        "\n",
        "\n",
        "In terms of a Markov model, we have\n",
        "\n",
        "- $ S = \\{ 0, 1\\} $  \n",
        "- $ P(0, 1) = \\alpha $ and $ P(1, 0) = \\beta $  \n",
        "\n",
        "\n",
        "We can write out the transition probabilities in matrix form as\n",
        "\n",
        "\n",
        "<a id='equation-p-unempemp'></a>\n",
        "$$\n",
        "P\n",
        "= \\left(\n",
        "\\begin{array}{cc}\n",
        "    1 - \\alpha & \\alpha \\\\\n",
        "    \\beta & 1 - \\beta\n",
        "\\end{array}\n",
        "  \\right) \\tag{19.3}\n",
        "$$\n",
        "\n",
        "Once we have the values $ \\alpha $ and $ \\beta $, we can address a range of questions, such as\n",
        "\n",
        "- What is the average duration of unemployment?  \n",
        "- Over the long-run, what fraction of time does a worker find herself unemployed?  \n",
        "- Conditional on employment, what is the probability of becoming unemployed at least once over the next 12 months?  \n",
        "\n",
        "\n",
        "We’ll cover such applications below.\n",
        "\n",
        "\n",
        "<a id='mc-eg2'></a>"
      ]
    },
    {
      "cell_type": "markdown",
      "id": "286037fa",
      "metadata": {
        "id": "286037fa"
      },
      "source": [
        "### Example 2\n",
        "\n",
        "From  US unemployment data, Hamilton [[Hamilton, 2005](https://python.quantecon.org/zreferences.html#id168)] estimated the stochastic matrix\n",
        "\n",
        "$$\n",
        "P =\n",
        "\\left(\n",
        "  \\begin{array}{ccc}\n",
        "     0.971 & 0.029 & 0 \\\\\n",
        "     0.145 & 0.778 & 0.077 \\\\\n",
        "     0 & 0.508 & 0.492\n",
        "  \\end{array}\n",
        "\\right)\n",
        "$$\n",
        "\n",
        "where\n",
        "\n",
        "- the frequency is monthly  \n",
        "- the first state represents “normal growth”  \n",
        "- the second state represents “mild recession”  \n",
        "- the third state represents “severe recession”  \n",
        "\n",
        "\n",
        "For example, the matrix tells us that when the state is normal growth, the state will again be normal growth next month with probability 0.97.\n",
        "\n",
        "In general, large values on the main diagonal indicate persistence in the process $ \\{ X_t \\} $.\n",
        "\n",
        "This Markov process can also be represented as a directed graph, with edges labeled by transition probabilities\n",
        "\n",
        "![https://python.quantecon.org/_static/lecture_specific/finite_markov/hamilton_graph.png](https://python.quantecon.org/_static/lecture_specific/finite_markov/hamilton_graph.png)\n",
        "\n",
        "  \n",
        "Here “ng” is normal growth, “mr” is mild recession, etc."
      ]
    },
    {
      "cell_type": "markdown",
      "id": "481809fb",
      "metadata": {
        "id": "481809fb"
      },
      "source": [
        "## Simulation\n",
        "\n",
        "\n",
        "<a id='index-5'></a>\n",
        "One natural way to answer questions about Markov chains is to simulate them.\n",
        "\n",
        "(To approximate the probability of event $ E $, we can simulate many times and count the fraction of times that $ E $ occurs).\n",
        "\n",
        "Nice functionality for simulating Markov chains exists in [QuantEcon.py](http://quantecon.org/quantecon-py).\n",
        "\n",
        "- Efficient, bundled with lots of other useful routines for handling Markov chains.  \n",
        "\n",
        "\n",
        "However, it’s also a good exercise to roll our own routines — let’s do that first and then come back to the methods in [QuantEcon.py](http://quantecon.org/quantecon-py).\n",
        "\n",
        "In these exercises, we’ll take the state space to be $ S = 0,\\ldots, n-1 $."
      ]
    },
    {
      "cell_type": "markdown",
      "id": "44cfbc8a",
      "metadata": {
        "id": "44cfbc8a"
      },
      "source": [
        "### Rolling Our Own\n",
        "\n",
        "To simulate a Markov chain, we need its stochastic matrix $ P $ and a marginal probability distribution $ \\psi $  from which to  draw a realization of $ X_0 $.\n",
        "\n",
        "The Markov chain is then constructed as discussed above.  To repeat:\n",
        "\n",
        "1. At time $ t=0 $, draw a realization of  $ X_0 $  from $ \\psi $.  \n",
        "1. At each subsequent time $ t $, draw a realization of the new state $ X_{t+1} $ from $ P(X_t, \\cdot) $.  \n",
        "\n",
        "\n",
        "To implement this simulation procedure, we need a method for generating draws from a discrete distribution.\n",
        "\n",
        "For this task, we’ll use `random.draw` from [QuantEcon](http://quantecon.org/quantecon-py), which works as follows:"
      ]
    },
    {
      "cell_type": "code",
      "execution_count": 4,
      "id": "9216177d",
      "metadata": {
        "hide-output": false,
        "id": "9216177d",
        "outputId": "29c929c4-d594-4492-8842-b82fff076ca2",
        "colab": {
          "base_uri": "https://localhost:8080/"
        }
      },
      "outputs": [
        {
          "output_type": "execute_result",
          "data": {
            "text/plain": [
              "array([1, 1, 0, 1, 0])"
            ]
          },
          "metadata": {},
          "execution_count": 4
        }
      ],
      "source": [
        "ψ = (0.3, 0.7)           # probabilities over {0, 1}\n",
        "cdf = np.cumsum(ψ)       # convert into cummulative distribution\n",
        "qe.random.draw(cdf, 5)   # generate 5 independent draws from ψ"
      ]
    },
    {
      "cell_type": "markdown",
      "id": "4683005b",
      "metadata": {
        "id": "4683005b"
      },
      "source": [
        "We’ll write our code as a function that accepts the following three arguments\n",
        "\n",
        "- A stochastic matrix `P`  \n",
        "- An initial state `init`  \n",
        "- A positive integer `sample_size` representing the length of the time series the function should return  "
      ]
    },
    {
      "cell_type": "code",
      "execution_count": 5,
      "id": "0979516a",
      "metadata": {
        "hide-output": false,
        "id": "0979516a"
      },
      "outputs": [],
      "source": [
        "def mc_sample_path(P, ψ_0=None, sample_size=1_000):\n",
        "\n",
        "    # set up\n",
        "    P = np.asarray(P) #确保 P 被转换为 NumPy 数组，以便进行高效矩阵运算。\n",
        "    X = np.empty(sample_size, dtype=int)\n",
        "\n",
        "    # Convert each row of P into a cdf\n",
        "    n = len(P) # 获取状态的数量（P 是 n×n 矩阵）。\n",
        "    P_dist = [np.cumsum(P[i, :]) for i in range(n)]\n",
        "      # P[i, :] 取出 第 i 行（表示从状态 i 迁移到所有其他状态的概率）。\n",
        "      # np.cumsum(P[i, :]) 计算累积概率分布（CDF），用于从离散分布中抽样。\n",
        "      # 这一步将每个状态的转移概率转换为累积分布，方便后续进行随机抽样。\n",
        "    # draw initial state, defaulting to 0\n",
        "\n",
        "    if ψ_0 is not None:\n",
        "        X_0 = qe.random.draw(np.cumsum(ψ_0))\n",
        "          # np.cumsum(ψ_0): 计算 ψ_0 的累积概率分布（CDF）。\n",
        "          # qe.random.draw(np.cumsum(ψ_0)): 从该分布中抽取初始状态。\n",
        "          # e.g,: np.cumsum([0.3, 0.7]) = [0.3, 1.0]\n",
        "    else:\n",
        "        X_0 = 0\n",
        "\n",
        "    # simulate\n",
        "    X[0] = X_0\n",
        "    for t in range(sample_size - 1):\n",
        "        X[t+1] = qe.random.draw(P_dist[X[t]])\n",
        "          # qe.random.draw(P_dist[X[t]]): 根据当前状态 X[t] 的转移概率，从 P_dist[X[t]] 采样，决定下一个状态 X[t+1]。\n",
        "    return X"
      ]
    },
    {
      "cell_type": "markdown",
      "id": "edf9725d",
      "metadata": {
        "id": "edf9725d"
      },
      "source": [
        "Let’s see how it works using the small matrix"
      ]
    },
    {
      "cell_type": "code",
      "execution_count": 7,
      "id": "bf1b2725",
      "metadata": {
        "hide-output": false,
        "id": "bf1b2725"
      },
      "outputs": [],
      "source": [
        "P = [[0.4, 0.6],\n",
        "     [0.2, 0.8]]"
      ]
    },
    {
      "cell_type": "markdown",
      "id": "0f10abdc",
      "metadata": {
        "id": "0f10abdc"
      },
      "source": [
        "As we’ll see later, for a long series drawn from `P`, the fraction of the sample that takes value 0 will be about 0.25.\n",
        "\n",
        "Moreover, this is true, regardless of the initial distribution from which\n",
        "$ X_0 $ is drawn.\n",
        "\n",
        "The following code illustrates this"
      ]
    },
    {
      "cell_type": "code",
      "execution_count": 8,
      "id": "fbd98d37",
      "metadata": {
        "hide-output": false,
        "id": "fbd98d37",
        "outputId": "2f6f2c31-57c5-4c9a-9da9-4d109bae7061",
        "colab": {
          "base_uri": "https://localhost:8080/"
        }
      },
      "outputs": [
        {
          "output_type": "execute_result",
          "data": {
            "text/plain": [
              "0.25037"
            ]
          },
          "metadata": {},
          "execution_count": 8
        }
      ],
      "source": [
        "X = mc_sample_path(P, ψ_0=[0.1, 0.9], sample_size=100_000)\n",
        "np.mean(X == 0)"
      ]
    },
    {
      "cell_type": "markdown",
      "id": "0b168604",
      "metadata": {
        "id": "0b168604"
      },
      "source": [
        "You can try changing the initial distribution to confirm that the output is\n",
        "always close to 0.25, at least for the `P` matrix above."
      ]
    },
    {
      "cell_type": "markdown",
      "source": [
        "ψ_0的作用是在初始时刻随机选择状态，而不是固定从某个状态开始。\n",
        "所以选什么都行"
      ],
      "metadata": {
        "id": "oyXHOC-bLDVp"
      },
      "id": "oyXHOC-bLDVp"
    },
    {
      "cell_type": "markdown",
      "id": "54d9f387",
      "metadata": {
        "id": "54d9f387"
      },
      "source": [
        "### Using QuantEcon’s Routines\n",
        "\n",
        "As discussed above, [QuantEcon.py](http://quantecon.org/quantecon-py) has routines for handling Markov chains, including simulation.\n",
        "\n",
        "Here’s an illustration using the same P as the preceding example"
      ]
    },
    {
      "cell_type": "code",
      "execution_count": 9,
      "id": "7bcc262a",
      "metadata": {
        "hide-output": false,
        "id": "7bcc262a",
        "outputId": "5e71a299-bb84-4a96-a6e1-281ad25f57e0",
        "colab": {
          "base_uri": "https://localhost:8080/"
        }
      },
      "outputs": [
        {
          "output_type": "execute_result",
          "data": {
            "text/plain": [
              "0.249194"
            ]
          },
          "metadata": {},
          "execution_count": 9
        }
      ],
      "source": [
        "from quantecon import MarkovChain\n",
        "\n",
        "mc = qe.MarkovChain(P)\n",
        "X = mc.simulate(ts_length=1_000_000)\n",
        "np.mean(X == 0)"
      ]
    },
    {
      "cell_type": "markdown",
      "id": "e2b54829",
      "metadata": {
        "id": "e2b54829"
      },
      "source": [
        "The [QuantEcon.py](http://quantecon.org/quantecon-py) routine is [JIT compiled](https://python-programming.quantecon.org/numba.html#numba-link) and much faster."
      ]
    },
    {
      "cell_type": "code",
      "execution_count": 9,
      "id": "1e752b24",
      "metadata": {
        "hide-output": false,
        "id": "1e752b24",
        "outputId": "433bf129-a723-4794-e901-19a747a56363",
        "colab": {
          "base_uri": "https://localhost:8080/"
        }
      },
      "outputs": [
        {
          "output_type": "stream",
          "name": "stdout",
          "text": [
            "CPU times: user 1.01 s, sys: 0 ns, total: 1.01 s\n",
            "Wall time: 1.01 s\n"
          ]
        },
        {
          "output_type": "execute_result",
          "data": {
            "text/plain": [
              "array([0, 1, 1, ..., 1, 1, 1])"
            ]
          },
          "metadata": {},
          "execution_count": 9
        }
      ],
      "source": [
        "%time mc_sample_path(P, sample_size=1_000_000) # Our homemade code version"
      ]
    },
    {
      "cell_type": "code",
      "execution_count": 10,
      "id": "07fbb4e4",
      "metadata": {
        "hide-output": false,
        "id": "07fbb4e4",
        "outputId": "d6b8a29e-5072-4462-ca25-2bd55622806b",
        "colab": {
          "base_uri": "https://localhost:8080/"
        }
      },
      "outputs": [
        {
          "output_type": "stream",
          "name": "stdout",
          "text": [
            "CPU times: user 14.9 ms, sys: 0 ns, total: 14.9 ms\n",
            "Wall time: 14.9 ms\n"
          ]
        },
        {
          "output_type": "execute_result",
          "data": {
            "text/plain": [
              "array([0, 1, 1, ..., 0, 0, 0])"
            ]
          },
          "metadata": {},
          "execution_count": 10
        }
      ],
      "source": [
        "%time mc.simulate(ts_length=1_000_000) # qe code version"
      ]
    },
    {
      "cell_type": "markdown",
      "id": "7a07a397",
      "metadata": {
        "id": "7a07a397"
      },
      "source": [
        "#### Adding State Values and Initial Conditions\n",
        "\n",
        "If we wish to, we can provide a specification of state values to `MarkovChain`.\n",
        "\n",
        "These state values can be integers, floats, or even strings.\n",
        "\n",
        "The following code illustrates"
      ]
    },
    {
      "cell_type": "markdown",
      "source": [
        "这是用那个自带的qe搞得"
      ],
      "metadata": {
        "id": "rpD3WXkWNDm8"
      },
      "id": "rpD3WXkWNDm8"
    },
    {
      "cell_type": "code",
      "execution_count": 10,
      "id": "e57afefa",
      "metadata": {
        "hide-output": false,
        "id": "e57afefa",
        "outputId": "740601b2-831f-4599-d749-d3bd57700fc1",
        "colab": {
          "base_uri": "https://localhost:8080/"
        }
      },
      "outputs": [
        {
          "output_type": "execute_result",
          "data": {
            "text/plain": [
              "array(['employed', 'employed', 'employed', 'employed'], dtype='<U10')"
            ]
          },
          "metadata": {},
          "execution_count": 10
        }
      ],
      "source": [
        "mc = qe.MarkovChain(P, state_values=('unemployed', 'employed'))\n",
        "mc.simulate(ts_length=4, init='employed')"
      ]
    },
    {
      "cell_type": "code",
      "execution_count": 11,
      "id": "30cbc016",
      "metadata": {
        "hide-output": false,
        "id": "30cbc016",
        "outputId": "255cbe97-1bc4-41f4-8243-fdc4c4fba9e7",
        "colab": {
          "base_uri": "https://localhost:8080/"
        }
      },
      "outputs": [
        {
          "output_type": "execute_result",
          "data": {
            "text/plain": [
              "array(['unemployed', 'employed', 'employed', 'employed'], dtype='<U10')"
            ]
          },
          "metadata": {},
          "execution_count": 11
        }
      ],
      "source": [
        "mc.simulate(ts_length=4, init='unemployed')"
      ]
    },
    {
      "cell_type": "code",
      "execution_count": 12,
      "id": "50249a60",
      "metadata": {
        "hide-output": false,
        "id": "50249a60",
        "outputId": "49366d10-24c3-4929-821e-73d9634eab32",
        "colab": {
          "base_uri": "https://localhost:8080/"
        }
      },
      "outputs": [
        {
          "output_type": "execute_result",
          "data": {
            "text/plain": [
              "array(['unemployed', 'unemployed', 'employed', 'employed'], dtype='<U10')"
            ]
          },
          "metadata": {},
          "execution_count": 12
        }
      ],
      "source": [
        "mc.simulate(ts_length=4)  # Start at randomly chosen initial state"
      ]
    },
    {
      "cell_type": "markdown",
      "id": "73c03b5c",
      "metadata": {
        "id": "73c03b5c"
      },
      "source": [
        "If we want to see indices rather than state values as outputs as  we can use"
      ]
    },
    {
      "cell_type": "code",
      "execution_count": 13,
      "id": "7476d325",
      "metadata": {
        "hide-output": false,
        "id": "7476d325",
        "outputId": "5a48769f-19d9-4d28-ae66-8028eea75e55",
        "colab": {
          "base_uri": "https://localhost:8080/"
        }
      },
      "outputs": [
        {
          "output_type": "execute_result",
          "data": {
            "text/plain": [
              "array([0, 0, 1, 1])"
            ]
          },
          "metadata": {},
          "execution_count": 13
        }
      ],
      "source": [
        "mc.simulate_indices(ts_length=4)"
      ]
    },
    {
      "cell_type": "markdown",
      "id": "91295b41",
      "metadata": {
        "id": "91295b41"
      },
      "source": [
        "\n",
        "<a id='mc-md'></a>"
      ]
    },
    {
      "cell_type": "markdown",
      "id": "f4977ed5",
      "metadata": {
        "id": "f4977ed5"
      },
      "source": [
        "## Marginal Distributions\n",
        "\n",
        "\n",
        "<a id='index-7'></a>\n",
        "Suppose that\n",
        "\n",
        "1. $ \\{X_t\\} $ is a Markov chain with stochastic matrix $ P $  \n",
        "1. the marginal distribution of $ X_t $ is known to be $ \\psi_t $  \n",
        "\n",
        "\n",
        "What then is the marginal distribution of $ X_{t+1} $, or, more generally, of $ X_{t+m} $?\n",
        "\n",
        "To answer this, we let $ \\psi_t $ be the marginal distribution of $ X_t $ for $ t = 0, 1, 2, \\ldots $.\n",
        "\n",
        "Our first aim is to find $ \\psi_{t + 1} $ given $ \\psi_t $ and $ P $.\n",
        "\n",
        "To begin, pick any $ y  \\in S $.\n",
        "\n",
        "Using the [law of total probability](https://en.wikipedia.org/wiki/Law_of_total_probability), we can decompose the probability that $ X_{t+1} = y $ as follows:\n",
        "\n",
        "$$\n",
        "\\mathbb P \\{X_{t+1} = y \\}\n",
        "   = \\sum_{x \\in S} \\mathbb P \\{ X_{t+1} = y \\, | \\, X_t = x \\}\n",
        "               \\cdot \\mathbb P \\{ X_t = x \\}\n",
        "$$\n",
        "\n",
        "In words, to get the probability of being at $ y $ tomorrow, we account for\n",
        "all  ways this can happen and sum their probabilities.\n",
        "\n",
        "Rewriting this statement in terms of  marginal and conditional probabilities gives\n",
        "\n",
        "$$\n",
        "\\psi_{t+1}(y) = \\sum_{x \\in S} P(x,y) \\psi_t(x)\n",
        "$$\n",
        "\n",
        "There are $ n $ such equations, one for each $ y \\in S $.\n",
        "\n",
        "If we think of $ \\psi_{t+1} $ and $ \\psi_t $ as *row vectors*, these $ n $ equations are summarized by the matrix expression\n",
        "\n",
        "\n",
        "<a id='equation-fin-mc-fr'></a>\n",
        "$$\n",
        "\\psi_{t+1} = \\psi_t P \\tag{19.4}\n",
        "$$\n",
        "\n",
        "Thus, to move a marginal distribution forward one unit of time, we postmultiply by $ P $.\n",
        "\n",
        "By postmultiplying $ m $ times, we move a marginal distribution forward $ m $ steps into the future.\n",
        "\n",
        "Hence, iterating on [(19.4)](#equation-fin-mc-fr), the expression $ \\psi_{t+m} = \\psi_t P^m $ is also valid — here $ P^m $ is the $ m $-th power of $ P $.\n",
        "\n",
        "As a special case, we see that if $ \\psi_0 $ is the initial distribution from\n",
        "which $ X_0 $ is drawn, then $ \\psi_0 P^m $ is the distribution of\n",
        "$ X_m $.\n",
        "\n",
        "This is very important, so let’s repeat it\n",
        "\n",
        "\n",
        "<a id='equation-mdfmc'></a>\n",
        "$$\n",
        "X_0 \\sim \\psi_0 \\quad \\implies \\quad X_m \\sim \\psi_0 P^m \\tag{19.5}\n",
        "$$\n",
        "\n",
        "and, more generally,\n",
        "\n",
        "\n",
        "<a id='equation-mdfmc2'></a>\n",
        "$$\n",
        "X_t \\sim \\psi_t \\quad \\implies \\quad X_{t+m} \\sim \\psi_t P^m \\tag{19.6}\n",
        "$$\n",
        "\n",
        "\n",
        "<a id='finite-mc-mstp'></a>"
      ]
    },
    {
      "cell_type": "markdown",
      "id": "3332b214",
      "metadata": {
        "id": "3332b214"
      },
      "source": [
        "### Multiple Step Transition Probabilities\n",
        "\n",
        "We know that the probability of transitioning from $ x $ to $ y $ in\n",
        "one step is $ P(x,y) $.\n",
        "\n",
        "It turns out that the probability of transitioning from $ x $ to $ y $ in\n",
        "$ m $ steps is $ P^m(x,y) $, the $ (x,y) $-th element of the\n",
        "$ m $-th power of $ P $.\n",
        "\n",
        "To see why, consider again [(19.6)](#equation-mdfmc2), but now with a $ \\psi_t $ that puts all probability on state $ x $ so that the transition probabilities are\n",
        "\n",
        "- 1 in the $ x $-th position and zero elsewhere  \n",
        "\n",
        "\n",
        "Inserting this into [(19.6)](#equation-mdfmc2), we see that, conditional on $ X_t = x $, the distribution of $ X_{t+m} $ is the $ x $-th row of $ P^m $.\n",
        "\n",
        "In particular\n",
        "\n",
        "$$\n",
        "\\mathbb P \\{X_{t+m} = y \\,|\\, X_t = x \\} = P^m(x, y) = (x, y) \\text{-th element of } P^m\n",
        "$$"
      ]
    },
    {
      "cell_type": "markdown",
      "source": [
        "如果Xt =x, then最后Pm(x,y)就会对应到pm的第x行"
      ],
      "metadata": {
        "id": "iGu6BK6OQ6uB"
      },
      "id": "iGu6BK6OQ6uB"
    },
    {
      "cell_type": "markdown",
      "id": "a729b81d",
      "metadata": {
        "id": "a729b81d"
      },
      "source": [
        "### Example: Probability of Recession\n",
        "\n",
        "\n",
        "<a id='index-8'></a>\n",
        "Recall the stochastic matrix $ P $ for recession and growth [considered above](#mc-eg2).\n",
        "\n",
        "Suppose that the current state is unknown — perhaps statistics are available only  at the *end* of the current month.\n",
        "\n",
        "We guess that the probability that the economy is in state $ x $ is $ \\psi(x) $.\n",
        "\n",
        "The probability of being in recession (either mild or severe) in 6 months time is given by the inner product\n",
        "\n",
        "$$\n",
        "\\psi P^6\n",
        "\\cdot\n",
        "\\left(\n",
        "  \\begin{array}{c}\n",
        "     0 \\\\\n",
        "     1 \\\\\n",
        "     1\n",
        "  \\end{array}\n",
        "\\right)\n",
        "$$\n",
        "\n",
        "\n",
        "<a id='mc-eg1-1'></a>"
      ]
    },
    {
      "cell_type": "markdown",
      "id": "2d510551",
      "metadata": {
        "id": "2d510551"
      },
      "source": [
        "### Example 2: Cross-Sectional Distributions\n",
        "\n",
        "\n",
        "<a id='index-9'></a>\n",
        "The marginal distributions we have been studying can be viewed either as\n",
        "probabilities or as cross-sectional frequencies that a Law of Large Numbers leads us to anticipate for  large samples.\n",
        "\n",
        "To illustrate, recall our model of employment/unemployment dynamics for a given worker [discussed above](#mc-eg1).\n",
        "\n",
        "Consider a large population of workers, each of whose lifetime experience is described by the specified dynamics, with each worker’s\n",
        "outcomes being realizations of processes that are statistically independent of all other workers’ processes.\n",
        "\n",
        "Let $ \\psi $ be the current *cross-sectional* distribution over $ \\{ 0, 1 \\} $.\n",
        "\n",
        "The cross-sectional distribution records fractions of workers employed and unemployed at a given moment.\n",
        "\n",
        "- For example, $ \\psi(0) $ is the unemployment rate.  \n",
        "\n",
        "\n",
        "What will the cross-sectional distribution be in 10 periods hence?\n",
        "\n",
        "The answer is $ \\psi P^{10} $, where $ P $ is the stochastic matrix in\n",
        "[(19.3)](#equation-p-unempemp).\n",
        "\n",
        "This is because each worker’s state evolves according to $ P $, so\n",
        "$ \\psi P^{10} $ is a marginal distibution  for a single randomly selected\n",
        "worker.\n",
        "\n",
        "But when the sample is large, outcomes and probabilities are roughly equal (by an application of the Law\n",
        "of Large Numbers).\n",
        "\n",
        "So for a very large (tending to infinite) population,\n",
        "$ \\psi P^{10} $ also represents  fractions of workers in\n",
        "each state.\n",
        "\n",
        "This is exactly the cross-sectional distribution."
      ]
    },
    {
      "cell_type": "markdown",
      "source": [
        "马尔可夫链的边际分布不仅可以被解释为单个个体在不同时间的概率分布，还可以被解释为在某个固定时间点多个个体的状态比例。\n",
        "大数定律（Law of Large Numbers） 使得在大样本下，概率分布和实际观察到的状态比例几乎相等。\n",
        "- 时间角度（Time-Based View）：在这个视角下，ψt表示一个特定个体在不同时间处于某个状态的概率。\n",
        "- 截面角度（Cross-Sectional View）：在这个视角下，ψt表示在时间t 时，整个群体中处于某个状态的比例。\n"
      ],
      "metadata": {
        "id": "D63LhmAaRfo7"
      },
      "id": "D63LhmAaRfo7"
    },
    {
      "cell_type": "markdown",
      "id": "30d7e640",
      "metadata": {
        "id": "30d7e640"
      },
      "source": [
        "## Irreducibility and Aperiodicity\n",
        "\n",
        "\n",
        "<a id='index-11'></a>\n",
        "Irreducibility and aperiodicity are central concepts of modern Markov chain theory.\n",
        "\n",
        "Let’s see what they’re about."
      ]
    },
    {
      "cell_type": "markdown",
      "id": "4dd8e533",
      "metadata": {
        "id": "4dd8e533"
      },
      "source": [
        "### Irreducibility\n",
        "\n",
        "Let $ P $ be a fixed stochastic matrix.\n",
        "\n",
        "Two states $ x $ and $ y $ are said to **communicate** with each other if\n",
        "there exist positive integers $ j $ and $ k $ such that\n",
        "\n",
        "$$\n",
        "P^j(x, y) > 0\n",
        "\\quad \\text{and} \\quad\n",
        "P^k(y, x) > 0\n",
        "$$\n",
        "\n",
        "In view of our discussion [above](#finite-mc-mstp), this means precisely\n",
        "that\n",
        "\n",
        "- state $ x $ can eventually be reached  from state $ y $, and  \n",
        "- state $ y $ can eventually  be reached from state $ x $  \n",
        "\n",
        "\n",
        "The stochastic matrix $ P $ is called **irreducible** if all states\n",
        "communicate; that is, if $ x $ and $ y $ communicate for all\n",
        "$ (x, y) $ in $ S \\times S $.\n",
        "\n",
        "For example, consider the following transition probabilities for wealth of a fictitious set of\n",
        "households\n",
        "\n",
        "![https://python.quantecon.org/_static/lecture_specific/finite_markov/mc_irreducibility1.png](https://python.quantecon.org/_static/lecture_specific/finite_markov/mc_irreducibility1.png)\n",
        "\n",
        "  \n",
        "We can translate this into a stochastic matrix, putting zeros where\n",
        "there’s no edge between nodes\n",
        "\n",
        "$$\n",
        "P :=\n",
        "\\left(\n",
        "  \\begin{array}{ccc}\n",
        "     0.9 & 0.1 & 0 \\\\\n",
        "     0.4 & 0.4 & 0.2 \\\\\n",
        "     0.1 & 0.1 & 0.8\n",
        "  \\end{array}\n",
        "\\right)\n",
        "$$\n",
        "\n",
        "It’s clear from the graph that this stochastic matrix is irreducible: we can  eventually\n",
        "reach any state from any other state.\n",
        "\n",
        "We can also test this using [QuantEcon.py](http://quantecon.org/quantecon-py)’s MarkovChain class"
      ]
    },
    {
      "cell_type": "markdown",
      "source": [
        "如果所有状态都是连通的，即对任意两个状态 x,y，它们都可以在有限步内互相到达，则称马尔可夫链是不可约的（irreducible）。"
      ],
      "metadata": {
        "id": "jimErXZLSqbC"
      },
      "id": "jimErXZLSqbC"
    },
    {
      "cell_type": "code",
      "execution_count": 14,
      "id": "35afa5b0",
      "metadata": {
        "hide-output": false,
        "id": "35afa5b0",
        "outputId": "ddc4e503-b8d5-448c-cffe-9cdcf3b714f7",
        "colab": {
          "base_uri": "https://localhost:8080/"
        }
      },
      "outputs": [
        {
          "output_type": "execute_result",
          "data": {
            "text/plain": [
              "True"
            ]
          },
          "metadata": {},
          "execution_count": 14
        }
      ],
      "source": [
        "P = [[0.9, 0.1, 0.0],\n",
        "     [0.4, 0.4, 0.2],\n",
        "     [0.1, 0.1, 0.8]]\n",
        "\n",
        "mc = qe.MarkovChain(P, ('poor', 'middle', 'rich'))\n",
        "mc.is_irreducible"
      ]
    },
    {
      "cell_type": "markdown",
      "id": "b95152a3",
      "metadata": {
        "id": "b95152a3"
      },
      "source": [
        "Here’s a more pessimistic scenario in which  poor people remain poor forever\n",
        "\n",
        "![https://python.quantecon.org/_static/lecture_specific/finite_markov/mc_irreducibility2.png](https://python.quantecon.org/_static/lecture_specific/finite_markov/mc_irreducibility2.png)\n",
        "\n",
        "  \n",
        "This stochastic matrix is not irreducible, since, for example, rich is not accessible from poor.\n",
        "\n",
        "Let’s confirm this"
      ]
    },
    {
      "cell_type": "code",
      "execution_count": 15,
      "id": "43feee81",
      "metadata": {
        "hide-output": false,
        "id": "43feee81",
        "outputId": "7e160bcb-90d7-4c4a-e5d4-69698b018f73",
        "colab": {
          "base_uri": "https://localhost:8080/"
        }
      },
      "outputs": [
        {
          "output_type": "execute_result",
          "data": {
            "text/plain": [
              "False"
            ]
          },
          "metadata": {},
          "execution_count": 15
        }
      ],
      "source": [
        "P = [[1.0, 0.0, 0.0],\n",
        "     [0.1, 0.8, 0.1],\n",
        "     [0.0, 0.2, 0.8]]\n",
        "\n",
        "mc = qe.MarkovChain(P, ('poor', 'middle', 'rich'))\n",
        "mc.is_irreducible"
      ]
    },
    {
      "cell_type": "markdown",
      "id": "ff35a0a8",
      "metadata": {
        "id": "ff35a0a8"
      },
      "source": [
        "We can also determine the “communication classes”"
      ]
    },
    {
      "cell_type": "code",
      "execution_count": 16,
      "id": "38c08f85",
      "metadata": {
        "hide-output": false,
        "id": "38c08f85",
        "outputId": "fa91a8af-2c46-40d5-9ec6-cb3bb38cfbb0",
        "colab": {
          "base_uri": "https://localhost:8080/"
        }
      },
      "outputs": [
        {
          "output_type": "execute_result",
          "data": {
            "text/plain": [
              "[array(['poor'], dtype='<U6'), array(['middle', 'rich'], dtype='<U6')]"
            ]
          },
          "metadata": {},
          "execution_count": 16
        }
      ],
      "source": [
        "mc.communication_classes"
      ]
    },
    {
      "cell_type": "markdown",
      "id": "fef9b771",
      "metadata": {
        "id": "fef9b771"
      },
      "source": [
        "It might be clear to you already that irreducibility is going to be important in terms of long run outcomes.\n",
        "\n",
        "For example, poverty is a life sentence in the second graph but not the first.\n",
        "\n",
        "We’ll come back to this a bit later."
      ]
    },
    {
      "cell_type": "markdown",
      "id": "18baf3b9",
      "metadata": {
        "id": "18baf3b9"
      },
      "source": [
        "### Aperiodicity\n",
        "\n",
        "Loosely speaking, a Markov chain is called **periodic** if it cycles in a predictable way, and **aperiodic** otherwise.\n",
        "\n",
        "Here’s a trivial example with three states\n",
        "\n",
        "![https://python.quantecon.org/_static/lecture_specific/finite_markov/mc_aperiodicity1.png](https://python.quantecon.org/_static/lecture_specific/finite_markov/mc_aperiodicity1.png)\n",
        "\n",
        "  \n",
        "The chain cycles with period 3:"
      ]
    },
    {
      "cell_type": "code",
      "execution_count": 17,
      "id": "b7f5ce56",
      "metadata": {
        "hide-output": false,
        "id": "b7f5ce56",
        "outputId": "c7b02d20-6c19-49c0-b288-50c750f78d24",
        "colab": {
          "base_uri": "https://localhost:8080/"
        }
      },
      "outputs": [
        {
          "output_type": "execute_result",
          "data": {
            "text/plain": [
              "3"
            ]
          },
          "metadata": {},
          "execution_count": 17
        }
      ],
      "source": [
        "P = [[0, 1, 0],\n",
        "     [0, 0, 1],\n",
        "     [1, 0, 0]]\n",
        "\n",
        "mc = qe.MarkovChain(P)\n",
        "mc.period"
      ]
    },
    {
      "cell_type": "markdown",
      "source": [
        "周期就是从x回到x的数"
      ],
      "metadata": {
        "id": "rymkj_ZzTmdP"
      },
      "id": "rymkj_ZzTmdP"
    },
    {
      "cell_type": "markdown",
      "id": "7221e0b1",
      "metadata": {
        "id": "7221e0b1"
      },
      "source": [
        "More formally, the **period** of a state $ x $ is the largest common divisor\n",
        "of a set of integers\n",
        "\n",
        "$$\n",
        "D(x) := \\{j \\geq 1 : P^j(x, x) > 0\\}\n",
        "$$\n",
        "\n",
        "In the last example, $ D(x) = \\{3, 6, 9, \\ldots\\} $ for every state $ x $, so the period is 3.\n",
        "\n",
        "A stochastic matrix is called **aperiodic** if the period of every state is 1, and **periodic** otherwise.\n",
        "\n",
        "For example, the stochastic matrix associated with the transition probabilities below is periodic because, for example, state $ a $ has period 2\n",
        "\n",
        "![https://python.quantecon.org/_static/lecture_specific/finite_markov/mc_aperiodicity2.png](https://python.quantecon.org/_static/lecture_specific/finite_markov/mc_aperiodicity2.png)\n",
        "\n",
        "  \n",
        "We can confirm that the stochastic matrix is periodic with the following code"
      ]
    },
    {
      "cell_type": "markdown",
      "source": [
        "状态a 只能在偶数步数回到自身（周期 2）。\n",
        "\n",
        "1）a to b to a\n",
        "\n",
        "2） a to b to c to...\n",
        "\n",
        "总之不可能一步到a，也不可能奇数"
      ],
      "metadata": {
        "id": "JSEyyDTtU-yv"
      },
      "id": "JSEyyDTtU-yv"
    },
    {
      "cell_type": "code",
      "execution_count": 18,
      "id": "7ae899db",
      "metadata": {
        "hide-output": false,
        "id": "7ae899db",
        "outputId": "84d66e17-94f6-4a08-943c-84b02d501ebe",
        "colab": {
          "base_uri": "https://localhost:8080/"
        }
      },
      "outputs": [
        {
          "output_type": "execute_result",
          "data": {
            "text/plain": [
              "2"
            ]
          },
          "metadata": {},
          "execution_count": 18
        }
      ],
      "source": [
        "P = [[0.0, 1.0, 0.0, 0.0],\n",
        "     [0.5, 0.0, 0.5, 0.0],\n",
        "     [0.0, 0.5, 0.0, 0.5],\n",
        "     [0.0, 0.0, 1.0, 0.0]]\n",
        "\n",
        "mc = qe.MarkovChain(P)\n",
        "mc.period"
      ]
    },
    {
      "cell_type": "code",
      "execution_count": 19,
      "id": "ca71ab9d",
      "metadata": {
        "hide-output": false,
        "id": "ca71ab9d",
        "outputId": "83391fd2-7396-4557-e401-bdb4b5e69227",
        "colab": {
          "base_uri": "https://localhost:8080/"
        }
      },
      "outputs": [
        {
          "output_type": "execute_result",
          "data": {
            "text/plain": [
              "False"
            ]
          },
          "metadata": {},
          "execution_count": 19
        }
      ],
      "source": [
        "mc.is_aperiodic"
      ]
    },
    {
      "cell_type": "markdown",
      "id": "c8b28362",
      "metadata": {
        "id": "c8b28362"
      },
      "source": [
        "## Stationary Distributions\n",
        "\n",
        "\n",
        "<a id='index-13'></a>\n",
        "As seen in [(19.4)](#equation-fin-mc-fr), we can shift a marginal distribution forward one unit of time via postmultiplication by $ P $.\n",
        "\n",
        "Some distributions are invariant under this updating process — for example,"
      ]
    },
    {
      "cell_type": "code",
      "execution_count": 20,
      "id": "bc326c10",
      "metadata": {
        "hide-output": false,
        "id": "bc326c10",
        "outputId": "eb794cc3-5932-4b9c-c3df-d4cd33dc4730",
        "colab": {
          "base_uri": "https://localhost:8080/"
        }
      },
      "outputs": [
        {
          "output_type": "execute_result",
          "data": {
            "text/plain": [
              "array([0.25, 0.75])"
            ]
          },
          "metadata": {},
          "execution_count": 20
        }
      ],
      "source": [
        "P = np.array([[0.4, 0.6],\n",
        "              [0.2, 0.8]])\n",
        "ψ = (0.25, 0.75)\n",
        "ψ @ P"
      ]
    },
    {
      "cell_type": "markdown",
      "id": "1592ecec",
      "metadata": {
        "id": "1592ecec"
      },
      "source": [
        "Such distributions are called **stationary** or **invariant**.\n",
        "\n",
        "\n",
        "<a id='mc-stat-dd'></a>\n",
        "Formally, a marginal distribution $ \\psi^* $ on $ S $ is called **stationary** for $ P $ if $ \\psi^* = \\psi^* P $.\n",
        "\n",
        "(This is the same notion of stationarity that we learned about in the\n",
        "[lecture on AR(1) processes](https://intro.quantecon.org/ar1_processes.html) applied to a different setting.)\n",
        "\n",
        "From this equality, we immediately get $ \\psi^* = \\psi^* P^t $ for all $ t $.\n",
        "\n",
        "This tells us an important fact: If the distribution of $ X_0 $ is a stationary distribution, then $ X_t $ will have this same distribution for all $ t $.\n",
        "\n",
        "Hence stationary distributions have a natural interpretation as **stochastic steady states** — we’ll discuss this more soon.\n",
        "\n",
        "Mathematically, a stationary distribution is a fixed point of $ P $ when $ P $ is thought of as the map $ \\psi \\mapsto \\psi P $ from (row) vectors to (row) vectors.\n",
        "\n",
        "**Theorem.** Every stochastic matrix $ P $ has at least one stationary distribution.\n",
        "\n",
        "(We are assuming here that the state space $ S $ is finite; if not more assumptions are required)\n",
        "\n",
        "For proof of this result, you can apply [Brouwer’s fixed point theorem](https://en.wikipedia.org/wiki/Brouwer_fixed-point_theorem), or see [EDTC](https://johnstachurski.net/edtc.html), theorem 4.3.5.\n",
        "\n",
        "There can be many stationary distributions corresponding to a given stochastic matrix $ P $.\n",
        "\n",
        "- For example, if $ P $ is the identity matrix, then all marginal distributions are stationary.  \n",
        "\n",
        "\n",
        "To get uniqueness an invariant distribution, the transition matrix $ P $ must have the property that no nontrivial subsets of\n",
        "the state space are **infinitely persistent**.\n",
        "\n",
        "A subset of the state space is infinitely persistent if other parts of the\n",
        "state space cannot be accessed from it.\n",
        "\n",
        "Thus, infinite persistence of a non-trivial subset is the opposite of irreducibility.\n",
        "\n",
        "This gives some intuition for the following fundamental theorem.\n",
        "\n",
        "\n",
        "<a id='mc-conv-thm'></a>\n",
        "**Theorem.** If $ P $ is both aperiodic and irreducible, then\n",
        "\n",
        "1. $ P $ has exactly one stationary distribution $ \\psi^* $.  \n",
        "1. For any initial marginal distribution $ \\psi_0 $, we have $ \\| \\psi_0 P^t - \\psi^* \\| \\to 0 $ as $ t \\to \\infty $.  \n",
        "\n",
        "\n",
        "For a proof, see, for example, theorem 5.2 of [[Häggström, 2002](https://python.quantecon.org/zreferences.html#id136)].\n",
        "\n",
        "(Note that part 1 of the theorem only requires  irreducibility, whereas part 2\n",
        "requires both irreducibility and aperiodicity)\n",
        "\n",
        "A stochastic matrix that satisfies the conditions of the theorem is sometimes called **uniformly ergodic**.\n",
        "\n",
        "A sufficient condition for aperiodicity and irreducibility is that every element of $ P $ is strictly positive.\n",
        "\n",
        "- Try to convince yourself of this.  "
      ]
    },
    {
      "cell_type": "markdown",
      "source": [
        "如果一个马尔可夫链是 不可约（irreducible） 且 非周期（aperiodic），那么无论初始状态如何，随着 t→∞，马尔可夫链的状态分布都会收敛到唯一的平稳分布 ψ ∗\n",
        " 。"
      ],
      "metadata": {
        "id": "BHWoL6kS2hX5"
      },
      "id": "BHWoL6kS2hX5"
    },
    {
      "cell_type": "markdown",
      "source": [
        "**1. 平稳分布的唯一性**\n",
        "\n",
        "一般来说，一个马尔可夫链可能有多个平稳分布。例如：\n",
        "\n",
        "- 如果转移矩阵P 是单位矩阵（即 P=I），那么任意初始分布都是平稳分布，因为状态不会变化。\n",
        "- 如果 P 由多个不连通的状态组成（即可约的情况），那么每个连通子集都有自己的平稳分布，导致多个可能的平稳分布。\n",
        "\n",
        "**2. 无限持久性（Infinite Persistence）**\n",
        "\n",
        "文中提到无限持久性（infinitely persistent）：\n",
        "\n",
        "- 如果某个状态子集不能被访问（即有些状态永远不会被访问到），那么这个子集就是无限持久的。\n",
        "- 但是，不可约性（irreducibility）意味着不存在这样的孤立子集，所有状态最终都可以被访问。\n",
        "\n",
        "直观理解：\n",
        "- 不可约性确保系统不会卡在某些状态子集里，而是可以到达所有状态，从而保证平稳分布的唯一性。\n",
        "\n",
        "**3. 充分条件：一致遍历性（Uniform Ergodicity）**\n",
        "\n",
        "如果转移矩阵 P 满足：\n",
        "所有元素 Pij>0（即从任何状态到任何状态都有非零概率），那么它一定是不可约且非周期的。\n",
        "\n",
        "这种特殊情况称为一致遍历性（Uniform Ergodicity），即：\n",
        "无论初始状态如何，系统的分布都会以指数速率收敛到唯一的平稳分布。（意思是收敛速度更快）\n",
        "- 遍历性（Ergodicity）只是告诉你“足够长时间后，你会忘记起点”。\n",
        "- 一致遍历性（Uniform Ergodicity）告诉你“在可预见的短时间内，你会快速忘记起点”。"
      ],
      "metadata": {
        "id": "kdktzgR07fV8"
      },
      "id": "kdktzgR07fV8"
    },
    {
      "cell_type": "markdown",
      "id": "1842ffda",
      "metadata": {
        "id": "1842ffda"
      },
      "source": [
        "### Example\n",
        "\n",
        "Recall our model of the employment/unemployment dynamics of a particular worker [discussed above](#mc-eg1).\n",
        "\n",
        "Assuming $ \\alpha \\in (0,1) $ and $ \\beta \\in (0,1) $, the uniform ergodicity condition is satisfied.\n",
        "\n",
        "Let $ \\psi^* = (p, 1-p) $ be the stationary distribution, so that $ p $ corresponds to unemployment (state 0).\n",
        "\n",
        "Using $ \\psi^* = \\psi^* P $ and a bit of algebra yields\n",
        "\n",
        "$$\n",
        "p = \\frac{\\beta}{\\alpha + \\beta}\n",
        "$$\n",
        "\n",
        "This is, in some sense, a steady state probability of unemployment — more about the  interpretation of this below.\n",
        "\n",
        "Not surprisingly it tends to zero as $ \\beta \\to 0 $, and to one as $ \\alpha \\to 0 $."
      ]
    },
    {
      "cell_type": "markdown",
      "source": [
        "#### **解释：失业/就业动态模型的平稳分布计算**\n",
        "本例使用马尔可夫链建模 **某个工人的失业/就业状态**，并计算**平稳失业概率**。\n",
        "\n",
        "---\n",
        "\n",
        "## **1. 模型设定**\n",
        "假设工人可以处于两种状态：\n",
        "- **状态 0（Unemployment, 失业）**\n",
        "- **状态 1（Employment, 就业）**\n",
        "\n",
        "假设工人在每个时间段都有一定概率转换状态：\n",
        "1. An unemployed worker finds a job with probability $ \\alpha \\in (0, 1) $.  \n",
        "1. An employed worker loses her job and becomes unemployed with probability $ \\beta \\in (0, 1) $.  \n",
        "\n",
        "因此，我们可以定义 **状态转移矩阵**：\n",
        "<a id='equation-p-unempemp'></a>\n",
        "$$\n",
        "P\n",
        "= \\left(\n",
        "\\begin{array}{cc}\n",
        "    1 - \\alpha & \\alpha \\\\\n",
        "    \\beta & 1 - \\beta\n",
        "\\end{array}\n",
        "  \\right) \\tag{19.3}\n",
        "$$\n",
        "\n",
        "\n",
        "---\n",
        "## **2. 平稳分布计算**\n",
        "$$\n",
        "P\n",
        "= \\begin{bmatrix}\n",
        "    1 - \\alpha & \\alpha \\\\\n",
        "    \\beta & 1 - \\beta\n",
        "\\end{bmatrix}\n",
        "$$\n",
        "\n",
        "平稳分布 \\( \\psi^* = (p, 1 - p) \\) 满足：\n",
        "$$\n",
        "\\psi^* P = \\psi^*\n",
        "$$\n",
        "即：\n",
        "$$\n",
        "(p, 1 - p) \\times\n",
        "\\begin{bmatrix}\n",
        "    1 - \\alpha & \\alpha \\\\\n",
        "    \\beta & 1 - \\beta\n",
        "\\end{bmatrix}\n",
        "=\n",
        "(p, 1 - p)\n",
        "$$\n",
        "\n",
        "展开矩阵运算：\n",
        "$$\n",
        "p(1 - \\alpha) + (1 - p) \\beta = p\n",
        "$$\n",
        "\n",
        "$$\n",
        "p \\alpha + (1 - p)(1 - \\beta) = 1 - p\n",
        "$$\n",
        "\n",
        "由于两行方程是等价的（因为概率总和为 1），我们只需要解第一行方程：\n",
        "$$\n",
        "p(1 - \\alpha) + \\beta - p\\beta = p\n",
        "$$\n",
        "\n",
        "整理：\n",
        "$$\n",
        "p(1 - \\alpha - \\beta) = -\\beta\n",
        "$$\n",
        "\n",
        "$$\n",
        "p = \\frac{\\beta}{\\alpha + \\beta}\n",
        "$$\n",
        "\n",
        "失业的平稳概率（长期失业率）：\n",
        "$$\n",
        "p = \\frac{\\beta}{\\alpha + \\beta}\n",
        "$$\n",
        "\n",
        "就业的平稳概率（长期就业率）：\n",
        "$$\n",
        "1 - p = \\frac{\\alpha}{\\alpha + \\beta}\n",
        "$$\n",
        "\n",
        "如果 \\( \\beta \\to 0 \\)（就业的人不会失业），那么 \\( p \\to 0 \\)（长期来看，几乎所有人都会就业）。\n",
        "\n",
        "如果 \\( \\alpha \\to 0 \\)（失业的人完全找不到工作），那么 \\( p \\to 1 \\)（长期来看，几乎所有人都会就失业。\n",
        "\n"
      ],
      "metadata": {
        "id": "5lXNb81A-Hpv"
      },
      "id": "5lXNb81A-Hpv"
    },
    {
      "cell_type": "markdown",
      "id": "6117f411",
      "metadata": {
        "id": "6117f411"
      },
      "source": [
        "### Calculating Stationary Distributions\n",
        "\n",
        "\n",
        "<a id='index-14'></a>\n",
        "As discussed above, a particular Markov matrix $ P $ can have many stationary distributions.\n",
        "\n",
        "That is, there can be many row vectors $ \\psi $ such that $ \\psi = \\psi P $.\n",
        "\n",
        "In fact if $ P $ has two distinct stationary distributions $ \\psi_1,\n",
        "\\psi_2 $ then it has infinitely many, since in this case, as you can verify,  for any $ \\lambda \\in [0, 1] $\n",
        "\n",
        "$$\n",
        "\\psi_3 := \\lambda \\psi_1 + (1 - \\lambda) \\psi_2\n",
        "$$\n",
        "\n",
        "is a stationary distribution for $ P $.\n",
        "\n",
        "If we restrict attention to the case in which only one stationary distribution exists, one way to  finding it is to solve the system\n",
        "\n",
        "\n",
        "<a id='equation-eq-eqpsifixed'></a>\n",
        "$$\n",
        "\\psi (I_n - P) = 0 \\tag{19.7}\n",
        "$$\n",
        "\n",
        "for $ \\psi $, where $ I_n $ is the $ n \\times n $ identity.\n",
        "\n",
        "But the zero vector solves system [(19.7)](#equation-eq-eqpsifixed),  so we must proceed cautiously.\n",
        "- 但是，这个方程组的解可能包括 零向量（trivial solution），而平稳分布必须是一个概率分布（所有分量非负且和为 1）。因此，我们需要进一步限制解的范围。\n",
        "\n",
        "We want to impose the restriction that $ \\psi $ is  a probability distribution.\n",
        "\n",
        "There are various ways to do this.\n",
        "\n",
        "One option is to regard solving system [(19.7)](#equation-eq-eqpsifixed)  as an eigenvector problem: a vector\n",
        "$ \\psi $ such that $ \\psi = \\psi P $ is a left eigenvector associated\n",
        "with the unit eigenvalue $ \\lambda = 1 $.\n",
        "\n",
        "A stable and sophisticated algorithm specialized for stochastic matrices is implemented in [QuantEcon.py](http://quantecon.org/quantecon-py).\n",
        "\n",
        "This is the one we recommend:"
      ]
    },
    {
      "cell_type": "code",
      "execution_count": 5,
      "id": "1eb31ccb",
      "metadata": {
        "hide-output": false,
        "id": "1eb31ccb",
        "outputId": "d1cf4de4-f9f3-49ac-acde-92813f2fe5d6",
        "colab": {
          "base_uri": "https://localhost:8080/"
        }
      },
      "outputs": [
        {
          "output_type": "execute_result",
          "data": {
            "text/plain": [
              "array([[0.25, 0.75]])"
            ]
          },
          "metadata": {},
          "execution_count": 5
        }
      ],
      "source": [
        "P = [[0.4, 0.6],\n",
        "     [0.2, 0.8]]\n",
        "\n",
        "mc = qe.MarkovChain(P)\n",
        "mc.stationary_distributions  # Show all stationary distributions"
      ]
    },
    {
      "cell_type": "markdown",
      "source": [
        "#### **解释特征值+MC怎么算**\n",
        "## 什么是特征值和特征向量？\n",
        "\n",
        "特征值（Eigenvalue）和特征向量（Eigenvector）是线性代数中的重要概念，常用于描述矩阵的行为。在马尔可夫链中，它们帮助我们找到**平稳分布**。\n",
        "\n",
        "---\n",
        "\n",
        "## 1. 直观理解特征值和特征向量\n",
        "\n",
        "如果你有一个矩阵 \\( A \\)，那么**特征向量** \\( x \\) 是这样的一类向量：\n",
        "\n",
        "$$\n",
        "A x = \\lambda x\n",
        "$$\n",
        "\n",
        "- 这里，\\( \\lambda \\) 是一个**特征值（Eigenvalue）**。\n",
        "- 也就是说，乘以矩阵 \\( A \\) 之后，**特征向量 \\( x \\) 只是被缩放了 \\( \\lambda \\) 倍，而方向保持不变**。\n",
        "\n",
        "### 举个简单的例子\n",
        "\n",
        "假设：\n",
        "\n",
        "$$\n",
        "A =\n",
        "\\begin{bmatrix}\n",
        "2 & 0 \\\\\n",
        "0 & 3\n",
        "\\end{bmatrix}\n",
        "$$\n",
        "\n",
        "如果我们选取向量：\n",
        "\n",
        "$$\n",
        "x =\n",
        "\\begin{bmatrix}\n",
        "1 \\\\\n",
        "0\n",
        "\\end{bmatrix}\n",
        "$$\n",
        "\n",
        "那么：\n",
        "\n",
        "$$\n",
        "A x =\n",
        "\\begin{bmatrix}\n",
        "2 & 0 \\\\\n",
        "0 & 3\n",
        "\\end{bmatrix}\n",
        "\\begin{bmatrix}\n",
        "1 \\\\\n",
        "0\n",
        "\\end{bmatrix}\n",
        "=\n",
        "\\begin{bmatrix}\n",
        "2 \\\\\n",
        "0\n",
        "\\end{bmatrix}\n",
        "= 2x\n",
        "$$\n",
        "\n",
        "这里，\\( x \\) 只是被**放大了 2 倍**，方向没有变，所以它是矩阵 \\( A \\) 的一个特征向量，对应的特征值是 \\( \\lambda = 2 \\)。\n",
        "\n",
        "类似地，另一个特征向量：\n",
        "\n",
        "$$\n",
        "y =\n",
        "\\begin{bmatrix}\n",
        "0 \\\\\n",
        "1\n",
        "\\end{bmatrix}\n",
        "$$\n",
        "\n",
        "满足：\n",
        "\n",
        "$$\n",
        "A y =\n",
        "\\begin{bmatrix}\n",
        "2 & 0 \\\\\n",
        "0 & 3\n",
        "\\end{bmatrix}\n",
        "\\begin{bmatrix}\n",
        "0 \\\\\n",
        "1\n",
        "\\end{bmatrix}\n",
        "=\n",
        "\\begin{bmatrix}\n",
        "0 \\\\\n",
        "3\n",
        "\\end{bmatrix}\n",
        "= 3y\n",
        "$$\n",
        "\n",
        "这里，\\( y \\) 只是被放大了 3 倍，对应的特征值是 \\( \\lambda = 3 \\)。\n",
        "\n",
        "---\n",
        "\n",
        "## 2. 在马尔可夫链中的应用\n",
        "\n",
        "在马尔可夫链中，我们的转移矩阵 \\( P \\) 满足：\n",
        "\n",
        "$$\n",
        "\\psi P = \\psi\n",
        "$$\n",
        "\n",
        "换一种写法：\n",
        "\n",
        "$$\n",
        "\\psi P = \\psi \\cdot 1\n",
        "$$\n",
        "\n",
        "这意味着：\n",
        "- **\\( \\psi \\) 是矩阵 \\( P \\) 的特征向量**。\n",
        "- **对应的特征值是 \\( \\lambda = 1 \\)**。\n",
        "\n",
        "换句话说，**平稳分布是转移矩阵 \\( P \\) 的特征值 \\( 1 \\) 对应的特征向量**。\n",
        "\n",
        "---\n",
        "\n",
        "## 3. 为什么特征值是 1？\n",
        "\n",
        "马尔可夫转移矩阵 \\( P \\) 的特点：\n",
        "- **每一行的和为 1**（因为它描述的是概率）。\n",
        "- 这保证了 \\( P \\) 至少有一个特征值 \\( \\lambda = 1 \\)。\n",
        "- 该特征值对应的特征向量就是**平稳分布**，它描述的是长期状态概率。\n",
        "\n",
        "换句话说：\n",
        "- 任何初始分布 \\( \\psi_0 \\) 经过多步转移后都会收敛到平稳分布 \\( \\psi^* \\)：\n",
        "  \n",
        "  $$\n",
        "  \\psi_0 P^t \\to \\psi^*\n",
        "  $$\n",
        "\n",
        "- 这个 \\( \\psi^* \\) 就是满足 \\( \\psi^* P = \\psi^* \\) 的特征向量。\n",
        "\n",
        "---\n",
        "\n",
        "## 4. 例子\n",
        "\n",
        "### 假设有一个简单的马尔可夫链\n",
        "\n",
        "假设我们有如下转移矩阵：\n",
        "\n",
        "$$\n",
        "P =\n",
        "\\begin{bmatrix}\n",
        "0.7 & 0.3 \\\\\n",
        "0.4 & 0.6\n",
        "\\end{bmatrix}\n",
        "$$\n",
        "\n",
        "我们要求平稳分布 \\( \\psi = (p_1, p_2) \\)，使得：\n",
        "\n",
        "$$\n",
        "\\psi P = \\psi\n",
        "$$\n",
        "\n",
        "展开计算：\n",
        "\n",
        "$$\n",
        "(p_1, p_2) \\times\n",
        "\\begin{bmatrix}\n",
        "0.7 & 0.3 \\\\\n",
        "0.4 & 0.6\n",
        "\\end{bmatrix}\n",
        "=\n",
        "(p_1, p_2)\n",
        "$$\n",
        "\n",
        "得到方程：\n",
        "\n",
        "$$\n",
        "p_1 (0.7) + p_2 (0.4) = p_1\n",
        "$$\n",
        "\n",
        "$$\n",
        "p_1 (0.3) + p_2 (0.6) = p_2\n",
        "$$\n",
        "\n",
        "解出：\n",
        "\n",
        "$$\n",
        "p_1 = \\frac{4}{7}, \\quad p_2 = \\frac{3}{7}\n",
        "$$\n",
        "\n",
        "### 归一化\n",
        "\n",
        "由于平稳分布要求**所有分量之和为 1**：\n",
        "\n",
        "$$\n",
        "p_1 + p_2 = 1\n",
        "$$\n",
        "\n",
        "这里已经满足：\n",
        "\n",
        "$$\n",
        "\\frac{4}{7} + \\frac{3}{7} = 1\n",
        "$$\n",
        "\n",
        "所以最终的平稳分布是：\n",
        "\n",
        "$$\n",
        "\\psi^* = \\left( \\frac{4}{7}, \\frac{3}{7} \\right)\n",
        "$$\n",
        "\n",
        "---\n",
        "\n",
        "## 5. 结论\n",
        "\n",
        "- **特征值 \\( \\lambda \\) 是矩阵的缩放因子，特征向量是不会改变方向的向量**。\n",
        "- **在马尔可夫链中，平稳分布就是转移矩阵 \\( P \\) 对应的特征值 \\( \\lambda = 1 \\) 的特征向量**。\n",
        "- **求解方法：**\n",
        "  1. 求解方程 \\( \\psi P = \\psi \\)（或者 \\( (P - I) \\psi = 0 \\)）。\n",
        "  2. 归一化，使得 \\( \\sum_i \\psi_i = 1 \\)。\n",
        "\n",
        "如果你有进一步的问题，欢迎继续讨论！ 😊\n"
      ],
      "metadata": {
        "id": "GenLH3ndDmDl"
      },
      "id": "GenLH3ndDmDl"
    },
    {
      "cell_type": "markdown",
      "id": "b3cf0a83",
      "metadata": {
        "id": "b3cf0a83"
      },
      "source": [
        "### Convergence to Stationarity\n",
        "\n",
        "\n",
        "<a id='index-15'></a>\n",
        "Part 2 of the Markov chain convergence theorem [stated above](#mc-conv-thm) tells us that the marginal distribution of $ X_t $ converges to the stationary distribution regardless of where we begin.\n",
        "\n",
        "This adds considerable authority to our interpretation of $ \\psi^* $ as a stochastic steady state.\n",
        "\n",
        "The convergence in the theorem is illustrated in the next figure"
      ]
    },
    {
      "cell_type": "code",
      "execution_count": 6,
      "id": "98f83d9b",
      "metadata": {
        "hide-output": false,
        "id": "98f83d9b",
        "outputId": "96c31f46-0a32-4e50-da53-392314af9d01",
        "colab": {
          "base_uri": "https://localhost:8080/",
          "height": 499
        }
      },
      "outputs": [
        {
          "output_type": "display_data",
          "data": {
            "text/plain": [
              "<Figure size 800x600 with 1 Axes>"
            ],
            "image/png": "[encoded data removed]"
          },
          "metadata": {}
        }
      ],
      "source": [
        "P = ((0.971, 0.029, 0.000),\n",
        "     (0.145, 0.778, 0.077),\n",
        "     (0.000, 0.508, 0.492))\n",
        "P = np.array(P)\n",
        "\n",
        "ψ = (0.0, 0.2, 0.8)        # Initial condition\n",
        "\n",
        "fig = plt.figure(figsize=(8, 6))\n",
        "ax = fig.add_subplot(111, projection='3d') #创建一个 3D 坐标轴。\n",
        "\n",
        "ax.set(xlim=(0, 1), ylim=(0, 1), zlim=(0, 1),\n",
        "       xticks=(0.25, 0.5, 0.75),\n",
        "       yticks=(0.25, 0.5, 0.75),\n",
        "       zticks=(0.25, 0.5, 0.75))\n",
        "\n",
        "x_vals, y_vals, z_vals = [], [], []\n",
        "for t in range(20):\n",
        "    x_vals.append(ψ[0])\n",
        "    y_vals.append(ψ[1])\n",
        "    z_vals.append(ψ[2])\n",
        "    ψ = ψ @ P\n",
        "\n",
        "# 这里的 ψ = ψ @ P 表示每次左乘转移矩阵 P，即：计算 下一步的概率分布。更新 ψ 的值。\n",
        "\n",
        "ax.scatter(x_vals, y_vals, z_vals, c='r', s=60)\n",
        "ax.view_init(30, 210)\n",
        "\n",
        "mc = qe.MarkovChain(P)\n",
        "ψ_star = mc.stationary_distributions[0]\n",
        "ax.scatter(ψ_star[0], ψ_star[1], ψ_star[2], c='k', s=60)\n",
        "\n",
        "plt.show()"
      ]
    },
    {
      "cell_type": "markdown",
      "id": "51687d62",
      "metadata": {
        "id": "51687d62"
      },
      "source": [
        "Here\n",
        "\n",
        "- $ P $ is the stochastic matrix for recession and growth [considered above](#mc-eg2).  \n",
        "- The highest red dot is an arbitrarily chosen initial marginal probability distribution  $ \\psi $, represented as a vector in $ \\mathbb R^3 $.  \n",
        "- The other red dots are the marginal distributions $ \\psi P^t $ for $ t = 1, 2, \\ldots $.  \n",
        "- The black dot is $ \\psi^* $.  \n",
        "\n",
        "\n",
        "You might like to try experimenting with different initial conditions.\n",
        "\n",
        "\n",
        "<a id='ergodicity'></a>"
      ]
    },
    {
      "cell_type": "markdown",
      "id": "266df24e",
      "metadata": {
        "id": "266df24e"
      },
      "source": [
        "## Ergodicity\n",
        "\n",
        "\n",
        "<a id='index-17'></a>\n",
        "Under irreducibility, yet another important result obtains: for all $ x \\in S $,\n",
        "\n",
        "\n",
        "<a id='equation-llnfmc0'></a>\n",
        "$$\n",
        "\\frac{1}{m} \\sum_{t = 1}^m \\mathbf{1}\\{X_t = x\\}  \\to \\psi^*(x)\n",
        "    \\quad \\text{as } m \\to \\infty \\tag{19.8}\n",
        "$$\n",
        "\n",
        "Here\n",
        "\n",
        "- $ \\mathbf{1}\\{X_t = x\\} = 1 $ if $ X_t = x $ and zero otherwise  \n",
        "- convergence is with probability one  \n",
        "- the result does not depend on the marginal distribution  of $ X_0 $  \n",
        "\n",
        "\n",
        "The result tells us that the fraction of time the chain spends at state $ x $ converges to $ \\psi^*(x) $ as time goes to infinity.\n",
        "\n",
        "\n",
        "<a id='new-interp-sd'></a>\n",
        "This gives us another way to interpret the stationary distribution — provided that the convergence result in [(19.8)](#equation-llnfmc0) is valid.\n",
        "\n",
        "The convergence asserted in [(19.8)](#equation-llnfmc0) is a special case of a law of large numbers result for Markov chains — see [EDTC](http://johnstachurski.net/edtc.html), section 4.3.4 for some additional information.\n",
        "\n",
        "\n",
        "<a id='mc-eg1-2'></a>"
      ]
    },
    {
      "cell_type": "markdown",
      "source": [
        "意思就是长期来看，状态的时间比例就是平稳分布的概率"
      ],
      "metadata": {
        "id": "vofBP5IEHeBR"
      },
      "id": "vofBP5IEHeBR"
    },
    {
      "cell_type": "markdown",
      "id": "0191ed64",
      "metadata": {
        "id": "0191ed64"
      },
      "source": [
        "### Example\n",
        "\n",
        "Recall our cross-sectional interpretation of the employment/unemployment model [discussed above](#mc-eg1-1).\n",
        "\n",
        "Assume that $ \\alpha \\in (0,1) $ and $ \\beta \\in (0,1) $, so that irreducibility and aperiodicity both hold.\n",
        "\n",
        "We saw that the stationary distribution is $ (p, 1-p) $, where\n",
        "\n",
        "$$\n",
        "p = \\frac{\\beta}{\\alpha + \\beta}\n",
        "$$\n",
        "\n",
        "In the cross-sectional interpretation, this is the fraction of people unemployed.\n",
        "\n",
        "In view of our latest (ergodicity) result, it is also **the fraction of tim**e that a single worker can expect to spend unemployed.\n",
        "\n",
        "Thus, in the long-run, cross-sectional averages for a population and time-series averages for a given person coincide.\n",
        "\n",
        "This is one aspect of the concept  of ergodicity.\n",
        "\n",
        "\n",
        "<a id='finite-mc-expec'></a>"
      ]
    },
    {
      "cell_type": "markdown",
      "id": "fa864c7f",
      "metadata": {
        "id": "fa864c7f"
      },
      "source": [
        "## Computing Expectations\n",
        "\n",
        "\n",
        "<a id='index-18'></a>\n",
        "We sometimes want to  compute mathematical  expectations of functions of $ X_t $ of the form\n",
        "\n",
        "\n",
        "<a id='equation-mc-une'></a>\n",
        "$$\n",
        "\\mathbb E [ h(X_t) ] \\tag{19.9}\n",
        "$$\n",
        "\n",
        "and conditional expectations such as\n",
        "\n",
        "\n",
        "<a id='equation-mc-cce'></a>\n",
        "$$\n",
        "\\mathbb E [ h(X_{t + k})  \\mid X_t = x] \\tag{19.10}\n",
        "$$\n",
        "\n",
        "where\n",
        "\n",
        "- $ \\{X_t\\} $ is a Markov chain generated by $ n \\times n $ stochastic matrix $ P $  \n",
        "- $ h $ is a given function, which, in terms of matrix\n",
        "  algebra, we’ll think of as the column vector  \n",
        "\n",
        "\n",
        "$$\n",
        "h\n",
        "= \\left(\n",
        "\\begin{array}{c}\n",
        "    h(x_1) \\\\\n",
        "    \\vdots \\\\\n",
        "    h(x_n)\n",
        "\\end{array}\n",
        "  \\right)\n",
        "$$\n",
        "\n",
        "Computing the unconditional expectation [(19.9)](#equation-mc-une) is easy.\n",
        "\n",
        "We just sum over the marginal  distribution  of $ X_t $ to get\n",
        "\n",
        "$$\n",
        "\\mathbb E [ h(X_t) ]\n",
        "= \\sum_{x \\in S} (\\psi P^t)(x) h(x)\n",
        "$$\n",
        "\n",
        "Here $ \\psi $ is the distribution of $ X_0 $.\n",
        "\n",
        "Since $ \\psi $ and hence $ \\psi P^t $ are row vectors, we can also\n",
        "write this as\n",
        "\n",
        "$$\n",
        "\\mathbb E [ h(X_t) ]\n",
        "=  \\psi P^t h\n",
        "$$\n",
        "\n",
        "For the conditional expectation [(19.10)](#equation-mc-cce), we need to sum over\n",
        "the conditional distribution of $ X_{t + k} $ given $ X_t = x $.\n",
        "\n",
        "We already know that this is $ P^k(x, \\cdot) $, so\n",
        "\n",
        "\n",
        "<a id='equation-mc-cce2'></a>\n",
        "$$\n",
        "\\mathbb E [ h(X_{t + k})  \\mid X_t = x]\n",
        "= (P^k h)(x) \\tag{19.11}\n",
        "$$\n",
        "\n",
        "The vector $ P^k h $ stores the conditional expectation $ \\mathbb E [ h(X_{t + k})  \\mid X_t = x] $ over all $ x $."
      ]
    },
    {
      "cell_type": "markdown",
      "id": "47501949",
      "metadata": {
        "id": "47501949"
      },
      "source": [
        "### Iterated Expectations\n",
        "\n",
        "The **law of iterated expectations** states that\n",
        "\n",
        "$$\n",
        "\\mathbb E \\left[ \\mathbb E [ h(X_{t + k})  \\mid X_t = x] \\right] = \\mathbb E [  h(X_{t + k}) ]\n",
        "$$\n",
        "\n",
        "where the outer $ \\mathbb E $ on the left side is an unconditional distribution taken with respect to the marginal distribution  $ \\psi_t $ of $ X_t $\n",
        "(again see equation [(19.6)](#equation-mdfmc2)).\n",
        "\n",
        "To verify the law of iterated expectations, use  equation [(19.11)](#equation-mc-cce2) to substitute $ (P^k h)(x) $ for $ E [ h(X_{t + k})  \\mid X_t = x] $, write\n",
        "\n",
        "$$\n",
        "\\mathbb E \\left[ \\mathbb E [ h(X_{t + k})  \\mid X_t = x] \\right] = \\psi_t P^k h,\n",
        "$$\n",
        "\n",
        "and note $ \\psi_t P^k h = \\psi_{t+k} h = \\mathbb E [  h(X_{t + k}) ] $."
      ]
    },
    {
      "cell_type": "markdown",
      "id": "a25a549f",
      "metadata": {
        "id": "a25a549f"
      },
      "source": [
        "### Expectations of Geometric Sums\n",
        "\n",
        "Sometimes we want to compute the mathematical expectation of a geometric sum, such as\n",
        "$ \\sum_t \\beta^t h(X_t) $.\n",
        "\n",
        "In view of the preceding discussion, this is\n",
        "\n",
        "$$\n",
        "\\mathbb{E} [\n",
        "        \\sum_{j=0}^\\infty \\beta^j h(X_{t+j}) \\mid X_t = x\n",
        "    \\Bigr]\n",
        "= [(I - \\beta P)^{-1} h](x)\n",
        "$$\n",
        "\n",
        "where\n",
        "\n",
        "$$\n",
        "(I - \\beta P)^{-1}  = I + \\beta P + \\beta^2 P^2 + \\cdots\n",
        "$$\n",
        "\n",
        "Premultiplication by $ (I - \\beta P)^{-1} $ amounts to “applying the **resolvent operator**”."
      ]
    },
    {
      "cell_type": "markdown",
      "source": [
        "如果我们有一个折现因子 𝛽，我们可以用解析算子 直接计算整个未来的期望收益。"
      ],
      "metadata": {
        "id": "chzRBxteP_e_"
      },
      "id": "chzRBxteP_e_"
    },
    {
      "cell_type": "markdown",
      "id": "c2b757c8",
      "metadata": {
        "id": "c2b757c8"
      },
      "source": [
        "## Exercises"
      ]
    },
    {
      "cell_type": "markdown",
      "id": "52ad1d70",
      "metadata": {
        "id": "52ad1d70"
      },
      "source": [
        "## Exercise 19.1\n",
        "\n",
        "According to the discussion [above](#mc-eg1-2), if a worker’s employment dynamics obey the stochastic matrix\n",
        "\n",
        "$$\n",
        "P\n",
        "= \\left(\n",
        "\\begin{array}{cc}\n",
        "    1 - \\alpha & \\alpha \\\\\n",
        "    \\beta & 1 - \\beta\n",
        "\\end{array}\n",
        "  \\right)\n",
        "$$\n",
        "\n",
        "with $ \\alpha \\in (0,1) $ and $ \\beta \\in (0,1) $, then, in the long-run, the fraction\n",
        "of time spent unemployed will be\n",
        "\n",
        "$$\n",
        "p := \\frac{\\beta}{\\alpha + \\beta}\n",
        "$$\n",
        "\n",
        "In other words, if $ \\{X_t\\} $ represents the Markov chain for\n",
        "employment, then $ \\bar X_m \\to p $ as $ m \\to \\infty $, where\n",
        "\n",
        "$$\n",
        "\\bar X_m := \\frac{1}{m} \\sum_{t = 1}^m \\mathbf{1}\\{X_t = 0\\}\n",
        "$$\n",
        "\n",
        "This exercise asks you to illustrate convergence by computing\n",
        "$ \\bar X_m $ for large $ m $ and checking that\n",
        "it is close to $ p $.\n",
        "\n",
        "You will see that this statement is true regardless of the choice of initial\n",
        "condition or the values of $ \\alpha, \\beta $, provided both lie in\n",
        "$ (0, 1) $."
      ]
    },
    {
      "cell_type": "markdown",
      "id": "d53738e7",
      "metadata": {
        "id": "d53738e7"
      },
      "source": [
        "## Solution to[ Exercise 19.1](https://python.quantecon.org/#fm_ex1)\n",
        "\n",
        "We will address this exercise graphically.\n",
        "\n",
        "The plots show the time series of $ \\bar X_m - p $ for two initial\n",
        "conditions.\n",
        "\n",
        "As $ m $ gets large, both series converge to zero."
      ]
    },
    {
      "cell_type": "code",
      "execution_count": 8,
      "id": "2a206563",
      "metadata": {
        "hide-output": false,
        "id": "2a206563",
        "outputId": "87edd3b1-b664-4afc-ab80-c2b7de2f2f9f",
        "colab": {
          "base_uri": "https://localhost:8080/",
          "height": 522
        }
      },
      "outputs": [
        {
          "output_type": "display_data",
          "data": {
            "text/plain": [
              "<Figure size 900x600 with 1 Axes>"
            ],
            "image/png": "[encoded data removed]"
          },
          "metadata": {}
        }
      ],
      "source": [
        "α = β = 0.1\n",
        "N = 10000\n",
        "p = β / (α + β)\n",
        "\n",
        "P = ((1 - α,       α),               # Careful: P and p are distinct\n",
        "     (    β,   1 - β))\n",
        "mc = qe.MarkovChain(P)\n",
        "\n",
        "fig, ax = plt.subplots(figsize=(9, 6))\n",
        "ax.set_ylim(-0.25, 0.25)\n",
        "ax.grid()\n",
        "ax.hlines(0, 0, N, lw=2, alpha=0.6)   # Horizonal line at zero\n",
        "\n",
        "for x0, col in ((0, 'blue'), (1, 'green')):\n",
        "    # Generate time series for worker that starts at x0\n",
        "    X = mc.simulate(N, init=x0)\n",
        "    # Compute fraction of time spent unemployed, for each n\n",
        "    X_bar = (X == 0).cumsum() / (1 + np.arange(N, dtype=float))\n",
        "    # Plot\n",
        "    ax.fill_between(range(N), np.zeros(N), X_bar - p, color=col, alpha=0.1)\n",
        "    ax.plot(X_bar - p, color=col, label=f'$X_0 = \\, {x0} $')\n",
        "    # Overlay in black--make lines clearer\n",
        "    ax.plot(X_bar - p, 'k-', alpha=0.6)\n",
        "\n",
        "ax.legend(loc='upper right')\n",
        "plt.show()\n",
        "\n",
        "# 纵轴是到0.5之间的偏差"
      ]
    },
    {
      "cell_type": "markdown",
      "id": "b05c6c50",
      "metadata": {
        "id": "b05c6c50"
      },
      "source": [
        "## Exercise 19.2\n",
        "\n",
        "A topic of interest for economics and many other disciplines is *ranking*.\n",
        "\n",
        "Let’s now consider one of the most practical and important ranking problems\n",
        "— the rank assigned to web pages by search engines.\n",
        "\n",
        "(Although the problem is motivated from outside of economics, there is in fact a deep connection between search ranking systems and prices in certain competitive equilibria — see [[Du *et al.*, 2013](https://python.quantecon.org/zreferences.html#id160)].)\n",
        "\n",
        "To understand the issue, consider the set of results returned by a query to a web search engine.\n",
        "\n",
        "For the user, it is desirable to\n",
        "\n",
        "1. receive a large set of accurate matches  \n",
        "1. have the matches returned in order, where the order corresponds to some measure of “importance”  \n",
        "\n",
        "\n",
        "Ranking according to a measure of importance is the problem we now consider.\n",
        "\n",
        "The methodology developed to solve this problem by Google founders Larry Page and Sergey Brin\n",
        "is known as [PageRank](https://en.wikipedia.org/wiki/PageRank).\n",
        "\n",
        "To illustrate the idea, consider the following diagram\n",
        "\n",
        "![https://python.quantecon.org/_static/lecture_specific/finite_markov/web_graph.png](https://python.quantecon.org/_static/lecture_specific/finite_markov/web_graph.png)\n",
        "\n",
        "  \n",
        "Imagine that this is a miniature version of the WWW, with\n",
        "\n",
        "- each node representing a web page  \n",
        "- each arrow representing the existence of a link from one page to another  \n",
        "\n",
        "\n",
        "Now let’s think about which pages are likely to be important, in the sense of being valuable to a search engine user.\n",
        "\n",
        "One possible criterion for the importance of a page is the number of inbound links — an indication of popularity.\n",
        "\n",
        "By this measure, `m` and `j` are the most important pages, with 5 inbound links each.\n",
        "\n",
        "However, what if the pages linking to `m`, say, are not themselves important?\n",
        "\n",
        "Thinking this way, it seems appropriate to weight the inbound nodes by relative importance.\n",
        "\n",
        "The PageRank algorithm does precisely this.\n",
        "\n",
        "A slightly simplified presentation that captures the basic idea is as follows.\n",
        "\n",
        "Letting $ j $ be (the integer index of) a typical page and $ r_j $ be its ranking, we set\n",
        "\n",
        "$$\n",
        "r_j = \\sum_{i \\in L_j} \\frac{r_i}{\\ell_i}\n",
        "$$\n",
        "\n",
        "where\n",
        "\n",
        "- $ \\ell_i $ is the total number of outbound links from $ i $  \n",
        "- $ L_j $ is the set of all pages $ i $ such that $ i $ has a link to $ j $  \n",
        "\n",
        "\n",
        "This is a measure of the number of inbound links, weighted by their own ranking (and normalized by $ 1 / \\ell_i $).\n",
        "\n",
        "There is, however, another interpretation, and it brings us back to Markov chains.\n",
        "\n",
        "Let $ P $ be the matrix given by $ P(i, j) = \\mathbf 1\\{i \\to j\\} / \\ell_i $ where $ \\mathbf 1\\{i \\to j\\} = 1 $ if $ i $ has a link to $ j $ and zero otherwise.\n",
        "\n",
        "The matrix $ P $ is a stochastic matrix provided that each page has at least one link.\n",
        "\n",
        "With this definition of $ P $ we have\n",
        "\n",
        "$$\n",
        "r_j\n",
        "= \\sum_{i \\in L_j} \\frac{r_i}{\\ell_i}\n",
        "= \\sum_{\\text{all } i} \\mathbf 1\\{i \\to j\\} \\frac{r_i}{\\ell_i}\n",
        "= \\sum_{\\text{all } i} P(i, j) r_i\n",
        "$$\n",
        "\n",
        "Writing $ r $ for the row vector of rankings, this becomes $ r = r P $.\n",
        "\n",
        "Hence $ r $ is the stationary distribution of the stochastic matrix $ P $.\n",
        "\n",
        "Let’s think of $ P(i, j) $ as the probability of “moving” from page $ i $ to page $ j $.\n",
        "\n",
        "The value $ P(i, j) $ has the interpretation\n",
        "\n",
        "- $ P(i, j) = 1/k $ if $ i $ has $ k $ outbound links and $ j $ is one of them  \n",
        "- $ P(i, j) = 0 $ if $ i $ has no direct link to $ j $  \n",
        "\n",
        "\n",
        "Thus, motion from page to page is that of a web surfer who moves from one page to another by randomly clicking on one of the links on that page.\n",
        "\n",
        "Here “random” means that each link is selected with equal probability.\n",
        "\n",
        "Since $ r $ is the stationary distribution of $ P $, assuming that the uniform ergodicity condition is valid, we [can interpret](#new-interp-sd) $ r_j $ as the fraction of time that a (very persistent) random surfer spends at page $ j $.\n",
        "\n",
        "Your exercise is to apply this ranking algorithm to the graph pictured above\n",
        "and return the list of pages ordered by rank.\n",
        "\n",
        "There is a total of 14 nodes (i.e., web pages), the first named `a` and the last named `n`.\n",
        "\n",
        "A typical line from the file has the form"
      ]
    },
    {
      "cell_type": "markdown",
      "id": "abf804b1",
      "metadata": {
        "hide-output": false,
        "id": "abf804b1"
      },
      "source": [
        "```text\n",
        "d -> h;\n",
        "```\n"
      ]
    },
    {
      "cell_type": "markdown",
      "id": "b4bb4797",
      "metadata": {
        "id": "b4bb4797"
      },
      "source": [
        "This should be interpreted as meaning that there exists a link from `d` to `h`.\n",
        "\n",
        "The data for this graph is shown below, and read into a file called `web_graph_data.txt` when the cell is executed."
      ]
    },
    {
      "cell_type": "code",
      "execution_count": 9,
      "id": "bd994c69",
      "metadata": {
        "hide-output": false,
        "id": "bd994c69",
        "outputId": "74dede33-fd29-4059-e554-440a8acbcb48",
        "colab": {
          "base_uri": "https://localhost:8080/"
        }
      },
      "outputs": [
        {
          "output_type": "stream",
          "name": "stdout",
          "text": [
            "Writing web_graph_data.txt\n"
          ]
        }
      ],
      "source": [
        "%%file web_graph_data.txt\n",
        "a -> d;\n",
        "a -> f;\n",
        "b -> j;\n",
        "b -> k;\n",
        "b -> m;\n",
        "c -> c;\n",
        "c -> g;\n",
        "c -> j;\n",
        "c -> m;\n",
        "d -> f;\n",
        "d -> h;\n",
        "d -> k;\n",
        "e -> d;\n",
        "e -> h;\n",
        "e -> l;\n",
        "f -> a;\n",
        "f -> b;\n",
        "f -> j;\n",
        "f -> l;\n",
        "g -> b;\n",
        "g -> j;\n",
        "h -> d;\n",
        "h -> g;\n",
        "h -> l;\n",
        "h -> m;\n",
        "i -> g;\n",
        "i -> h;\n",
        "i -> n;\n",
        "j -> e;\n",
        "j -> i;\n",
        "j -> k;\n",
        "k -> n;\n",
        "l -> m;\n",
        "m -> g;\n",
        "n -> c;\n",
        "n -> j;\n",
        "n -> m;"
      ]
    },
    {
      "cell_type": "markdown",
      "id": "5aaf1619",
      "metadata": {
        "id": "5aaf1619"
      },
      "source": [
        "To parse this file and extract the relevant information, you can use [regular expressions](https://docs.python.org/3/library/re.html).\n",
        "\n",
        "The following code snippet provides a hint as to how you can go about this"
      ]
    },
    {
      "cell_type": "code",
      "execution_count": 10,
      "id": "39854d14",
      "metadata": {
        "hide-output": false,
        "id": "39854d14",
        "outputId": "f5b26228-10c2-495e-999f-a53ec142a30e",
        "colab": {
          "base_uri": "https://localhost:8080/"
        }
      },
      "outputs": [
        {
          "output_type": "execute_result",
          "data": {
            "text/plain": [
              "['x', 'y', 'z']"
            ]
          },
          "metadata": {},
          "execution_count": 10
        }
      ],
      "source": [
        "import re\n",
        "re.findall('\\w', 'x +++ y ****** z')  # \\w matches alphanumerics"
      ]
    },
    {
      "cell_type": "code",
      "execution_count": 11,
      "id": "f52998c7",
      "metadata": {
        "hide-output": false,
        "id": "f52998c7",
        "outputId": "13a540a8-cc46-45b4-c0be-99c09d28be83",
        "colab": {
          "base_uri": "https://localhost:8080/"
        }
      },
      "outputs": [
        {
          "output_type": "execute_result",
          "data": {
            "text/plain": [
              "['a', 'b', 'c']"
            ]
          },
          "metadata": {},
          "execution_count": 11
        }
      ],
      "source": [
        "re.findall('\\w', 'a ^^ b &&& $$ c')"
      ]
    },
    {
      "cell_type": "markdown",
      "id": "d58a16aa",
      "metadata": {
        "id": "d58a16aa"
      },
      "source": [
        "When you solve for the ranking, you will find that the highest ranked node is in fact `g`, while the lowest is `a`."
      ]
    },
    {
      "cell_type": "markdown",
      "id": "8c5371be",
      "metadata": {
        "id": "8c5371be"
      },
      "source": [
        "## Solution to[ Exercise 19.2](https://python.quantecon.org/#fm_ex2)\n",
        "\n",
        "Here is one solution:"
      ]
    },
    {
      "cell_type": "code",
      "execution_count": 13,
      "id": "0aaba67e",
      "metadata": {
        "hide-output": false,
        "id": "0aaba67e",
        "outputId": "8c35c16b-d207-41c3-b030-5d627b7e03a1",
        "colab": {
          "base_uri": "https://localhost:8080/"
        }
      },
      "outputs": [
        {
          "output_type": "stream",
          "name": "stdout",
          "text": [
            "Rankings\n",
            " ***\n",
            "g: 0.1607\n",
            "j: 0.1594\n",
            "m: 0.1195\n",
            "n: 0.1088\n",
            "k: 0.09106\n",
            "b: 0.08326\n",
            "e: 0.05312\n",
            "i: 0.05312\n",
            "c: 0.04834\n",
            "h: 0.0456\n",
            "l: 0.03202\n",
            "d: 0.03056\n",
            "f: 0.01164\n",
            "a: 0.002911\n"
          ]
        }
      ],
      "source": [
        "\"\"\"\n",
        "Return list of pages, ordered by rank\n",
        "\"\"\"\n",
        "import re\n",
        "from operator import itemgetter\n",
        "\n",
        "infile = 'web_graph_data.txt'\n",
        "alphabet = 'abcdefghijklmnopqrstuvwxyz'\n",
        "\n",
        "n = 14 # Total number of web pages (nodes)\n",
        "\n",
        "# Create a matrix Q indicating existence of links\n",
        "#  * Q[i, j] = 1 if there is a link from i to j\n",
        "#  * Q[i, j] = 0 otherwise\n",
        "Q = np.zeros((n, n), dtype=int)\n",
        "with open(infile) as f:\n",
        "    edges = f.readlines()\n",
        "for edge in edges:\n",
        "    from_node, to_node = re.findall('\\w', edge)\n",
        "    i, j = alphabet.index(from_node), alphabet.index(to_node)\n",
        "    Q[i, j] = 1\n",
        "# Create the corresponding Markov matrix P\n",
        "P = np.empty((n, n))\n",
        "for i in range(n):\n",
        "    P[i, :] = Q[i, :] / Q[i, :].sum()\n",
        "mc = qe.MarkovChain(P)\n",
        "\n",
        "# Compute the stationary distribution r\n",
        "r = mc.stationary_distributions[0]\n",
        "ranked_pages = {alphabet[i] : r[i] for i in range(n)}\n",
        "# Print solution, sorted from highest to lowest rank\n",
        "print('Rankings\\n ***')\n",
        "for name, rank in sorted(ranked_pages.items(), key=itemgetter(1), reverse=1):\n",
        "    print(f'{name}: {rank:.4}')"
      ]
    },
    {
      "cell_type": "markdown",
      "id": "d7315460",
      "metadata": {
        "id": "d7315460"
      },
      "source": [
        "## Exercise 19.3\n",
        "\n",
        "In numerical work, it is sometimes convenient to replace a continuous model with a discrete one.\n",
        "\n",
        "In particular, Markov chains are routinely generated as discrete approximations to AR(1) processes of the form\n",
        "\n",
        "$$\n",
        "y_{t+1} = \\rho y_t + u_{t+1}\n",
        "$$\n",
        "\n",
        "Here $ {u_t} $ is assumed to be IID and $ N(0, \\sigma_u^2) $.\n",
        "\n",
        "The variance of the stationary probability distribution of $ \\{ y_t \\} $ is\n",
        "\n",
        "$$\n",
        "\\sigma_y^2 := \\frac{\\sigma_u^2}{1-\\rho^2}\n",
        "$$\n",
        "\n",
        "Tauchen’s method [[Tauchen, 1986](https://python.quantecon.org/zreferences.html#id225)] is the most common method for approximating this continuous state process with a finite state Markov chain.\n",
        "\n",
        "A routine for this already exists in [QuantEcon.py](http://quantecon.org/quantecon-py) but let’s write our own version as an exercise.\n",
        "\n",
        "As a first step, we choose\n",
        "\n",
        "- $ n $, the number of states for the discrete approximation  \n",
        "- $ m $, an integer that parameterizes the width of the state space  \n",
        "\n",
        "\n",
        "Next, we create a state space $ \\{x_0, \\ldots, x_{n-1}\\} \\subset \\mathbb R $\n",
        "and a stochastic $ n \\times n $ matrix $ P $ such that\n",
        "\n",
        "- $ x_0 = - m \\, \\sigma_y $  \n",
        "- $ x_{n-1} = m \\, \\sigma_y $  \n",
        "- $ x_{i+1} = x_i + s $ where $ s = (x_{n-1} - x_0) / (n - 1) $  \n",
        "\n",
        "\n",
        "Let $ F $ be the cumulative distribution function of the normal distribution $ N(0, \\sigma_u^2) $.\n",
        "\n",
        "The values $ P(x_i, x_j) $ are computed to approximate the AR(1) process — omitting the derivation, the rules are as follows:\n",
        "\n",
        "1. If $ j = 0 $, then set  \n",
        "  $$\n",
        "  P(x_i, x_j) = P(x_i, x_0) = F(x_0-\\rho x_i + s/2)\n",
        "  $$\n",
        "1. If $ j = n-1 $, then set  \n",
        "  $$\n",
        "  P(x_i, x_j) = P(x_i, x_{n-1}) = 1 - F(x_{n-1} - \\rho x_i - s/2)\n",
        "  $$\n",
        "1. Otherwise, set  \n",
        "  $$\n",
        "  P(x_i, x_j) = F(x_j - \\rho x_i + s/2) - F(x_j - \\rho x_i - s/2)\n",
        "  $$\n",
        "\n",
        "\n",
        "The exercise is to write a function `approx_markov(rho, sigma_u, m=3, n=7)` that returns\n",
        "$ \\{x_0, \\ldots, x_{n-1}\\} \\subset \\mathbb R $ and $ n \\times n $ matrix\n",
        "$ P $ as described above.\n",
        "\n",
        "- Even better, write a function that returns an instance of [QuantEcon.py’s](http://quantecon.org/quantecon-py) MarkovChain class.  "
      ]
    },
    {
      "cell_type": "markdown",
      "source": [
        "Tauchen’s method： 用有限状态马尔可夫链近似连续状态的AR(1)过程，使得离散模型的行为尽可能接近原始连续过程。"
      ],
      "metadata": {
        "id": "w-FUam5IVKhX"
      },
      "id": "w-FUam5IVKhX"
    },
    {
      "cell_type": "markdown",
      "source": [
        "这个不会"
      ],
      "metadata": {
        "id": "Tswr6M9DT83v"
      },
      "id": "Tswr6M9DT83v"
    },
    {
      "cell_type": "markdown",
      "source": [
        "## **Tauchen’s Method 详解**\n",
        "Tauchen（1986）的方法是**离散化连续时间AR(1)过程**的标准方法，广泛用于经济学、金融建模和动态随机一般均衡（DSGE）模型中。\n",
        "\n",
        "其核心目标是：\n",
        "> **用有限状态马尔可夫链近似连续状态的AR(1)过程，使得离散模型的行为尽可能接近原始连续过程。**\n",
        "\n",
        "---\n",
        "\n",
        "## **1. 为什么要用 Tauchen 方法？**\n",
        "在实际应用中，很多经济变量（如 GDP、消费、资产回报率等）被建模为连续状态的AR(1)过程：\n",
        "$$\n",
        "y_{t+1} = \\rho y_t + u_{t+1}, \\quad u_t \\sim N(0, \\sigma_u^2)\n",
        "$$\n",
        "但是，计算机只能处理**有限离散状态**，因此我们需要找到一个**离散状态马尔可夫链**，使得其行为能近似原始的连续状态过程。\n",
        "\n",
        "Tauchen 方法正是这样一种**数值近似方法**，它构造了：\n",
        "- **离散状态空间** \\( \\{x_0, \\dots, x_{n-1}\\} \\) 来表示 \\( y_t \\)\n",
        "- **马尔可夫转移矩阵** \\( P \\)，使得离散化的马尔可夫过程尽可能保留原始过程的统计特性\n",
        "\n",
        "---\n",
        "\n",
        "## **2. Tauchen 方法的步骤**\n",
        "Tauchen 方法的关键步骤如下：\n",
        "\n",
        "### **(1) 计算状态空间 \\( x_i \\)**\n",
        "首先，我们离散化连续变量 \\( y_t \\)，使其取离散状态 \\( x_0, \\dots, x_{n-1} \\)。具体方法是：\n",
        "$$\n",
        "x_0 = -m \\sigma_y, \\quad x_{n-1} = m \\sigma_y\n",
        "$$\n",
        "其中：\n",
        "- $$ \\sigma_y^2 = \\frac{\\sigma_u^2}{1 - \\rho^2} $$ 是原始AR(1)过程的长期方差\n",
        "- \\( m \\) 是一个**扩展因子**，通常取 \\( m = 3 \\)，确保离散状态的范围足够大\n",
        "- 状态之间的间隔 \\( s \\) 定义为：\n",
        "$$\n",
        "s = \\frac{x_{n-1} - x_0}{n - 1}\n",
        "$$\n",
        "- 中间状态点按等间距构造：\n",
        "$$\n",
        "x_{i+1} = x_i + s\n",
        "$$\n",
        "\n",
        "**直觉**：\n",
        "- 这一步的目的是创建一个**离散的状态空间**，其范围覆盖了大部分可能的 \\( y_t \\) 取值。\n",
        "\n",
        "---\n",
        "\n",
        "### **(2) 计算转移概率矩阵 \\( P(x_i, x_j) \\)**\n",
        "转移概率 \\( P(x_i, x_j) \\) 近似原始AR(1)过程的条件分布：\n",
        "$$\n",
        "y_{t+1} \\sim N(\\rho x_i, \\sigma_u^2)\n",
        "$$\n",
        "其中：\n",
        "- \\( y_{t+1} \\) 的均值为 \\( \\rho x_i \\)\n",
        "- \\( y_{t+1} \\) 的方差为 \\( \\sigma_u^2 \\)\n",
        "\n",
        "**转移概率的计算方式**：\n",
        "1. **左端点（最小状态） \\( x_0 \\) 的概率：**\n",
        "   $$\n",
        "   P(x_i, x_0) = F(x_0 - \\rho x_i + s/2)\n",
        "   $$\n",
        "   这里，\\( F(x) \\) 是标准正态累积分布函数（CDF），表示 \\( y_{t+1} \\) 落在区间 \\( (-\\infty, x_0 + s/2] \\) 的概率。\n",
        "\n",
        "2. **右端点（最大状态） \\( x_{n-1} \\) 的概率：**\n",
        "   $$\n",
        "   P(x_i, x_{n-1}) = 1 - F(x_{n-1} - \\rho x_i - s/2)\n",
        "   $$\n",
        "   表示 \\( y_{t+1} \\) 落在 \\( [x_{n-1} - s/2, \\infty) \\) 的概率。\n",
        "\n",
        "3. **中间状态的概率：**\n",
        "   $$\n",
        "   P(x_i, x_j) = F(x_j - \\rho x_i + s/2) - F(x_j - \\rho x_i - s/2)\n",
        "   $$\n",
        "   表示 \\( y_{t+1} \\) 落在 \\( [x_j - s/2, x_j + s/2] \\) 的概率。\n",
        "\n",
        "**直觉**：\n",
        "- 这一步的目的是计算每个状态 \\( x_i \\) 迁移到其他状态 \\( x_j \\) 的概率，使得该马尔可夫链可以逼近连续AR(1)过程。\n",
        "\n",
        "---\n",
        "\n",
        "## **3. 结果的意义**\n",
        "Tauchen 方法的最终输出是：\n",
        "- **状态空间** \\( \\{x_0, x_1, \\dots, x_{n-1}\\} \\)\n",
        "- **马尔可夫转移矩阵** \\( P \\)\n",
        "\n",
        "这意味着：\n",
        "- 任何连续时间AR(1)过程，都可以用 Tauchen 方法离散化为**有限状态的马尔可夫过程**。\n",
        "- 这为 DSGE 模型、数值求解、经济动态模拟等提供了标准工具。\n",
        "- 由于 \\( P \\) 是一个马尔可夫转移矩阵，我们可以进一步计算：\n",
        "  - **平稳分布**（长期概率分布）\n",
        "  - **时间序列模拟**\n",
        "  - **政策分析（如货币政策影响）**\n",
        "\n",
        "---\n",
        "\n",
        "## **4. 为什么这样构造 \\( P \\)？**\n",
        "我们需要保证：\n",
        "- 近似的**离散马尔可夫过程**与**连续AR(1)过程**的统计性质一致。\n",
        "- 状态间的转移概率保持AR(1)的**自相关特性**。\n",
        "- **总概率和为 1**（行和为 1，满足马尔可夫性质）。\n",
        "- 用累积分布函数 \\( F(x) \\) 确保**正态分布特性**。\n",
        "\n",
        "**总结：**\n",
        "- Tauchen 方法通过将连续变量映射到离散状态，并计算马尔可夫转移概率，保证了离散模型对连续模型的逼近。\n",
        "- 这种方法在经济学、金融学中被广泛用于动态建模，尤其是在**动态随机一般均衡（DSGE）模型**和**资产定价**中。\n",
        "- 它为数值计算提供了一种**标准化的数值近似方法**，便于用计算机模拟经济过程。\n"
      ],
      "metadata": {
        "id": "aV6j7MDiWolJ"
      },
      "id": "aV6j7MDiWolJ"
    },
    {
      "cell_type": "markdown",
      "id": "307b4c1a",
      "metadata": {
        "id": "307b4c1a"
      },
      "source": [
        "## Solution to[ Exercise 19.3](https://python.quantecon.org/#fm_ex3)\n",
        "\n",
        "A solution from the [QuantEcon.py](http://quantecon.org/quantecon-py) library\n",
        "can be found [here](https://github.com/QuantEcon/QuantEcon.py/blob/master/quantecon/markov/approximation.py).\n",
        "\n",
        "<p><a id=pm href=#pm-link><strong>[1]</strong></a> Hint: First show that if $ P $ and $ Q $ are stochastic matrices then so is their product — to check the row sums, try post multiplying by a column vector of ones.  Finally, argue that $ P^n $ is a stochastic matrix using induction."
      ]
    }
  ],
  "metadata": {
    "date": 1736552527.2498493,
    "filename": "finite_markov.md",
    "kernelspec": {
      "display_name": "Python",
      "language": "python3",
      "name": "python3"
    },
    "title": "Finite Markov Chains",
    "colab": {
      "provenance": [],
      "toc_visible": true
    }
  },
  "nbformat": 4,
  "nbformat_minor": 5
}