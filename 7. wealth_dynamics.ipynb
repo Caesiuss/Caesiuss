{
  "cells": [
    {
      "cell_type": "markdown",
      "id": "9b20fcca",
      "metadata": {
        "id": "9b20fcca"
      },
      "source": [
        "# Wealth Distribution Dynamics"
      ]
    },
    {
      "cell_type": "markdown",
      "id": "68603243",
      "metadata": {
        "id": "68603243"
      },
      "source": [
        "# GPU\n",
        "\n",
        "This lecture was built using a machine with JAX installed and access to a GPU.\n",
        "\n",
        "To run this lecture on [Google Colab](https://colab.research.google.com/), click on the “play” icon top right, select Colab, and set the runtime environment to include a GPU.\n",
        "\n",
        "To run this lecture on your own machine, you need to install [Google JAX](https://github.com/google/jax).\n",
        "\n",
        "In this lecture we examine wealth dynamics in large cross-section of agents who\n",
        "are subject to both\n",
        "\n",
        "- idiosyncratic shocks, which affect labor income and returns, and  \n",
        "- an aggregate shock, which also impacts on labor income and returns  \n",
        "\n",
        "\n",
        "In most macroeconomic models savings and consumption are determined by optimization.\n",
        "\n",
        "Here savings and consumption behavior is taken as given – you can plug in your\n",
        "favorite model to obtain savings behavior and then analyze distribution dynamics\n",
        "using the techniques described below.\n",
        "\n",
        "One of our interests will be how different aspects of wealth dynamics – such\n",
        "as labor income and the rate of return on investments – **feed into measures of\n",
        "inequality**, such as the Gini coefficient.\n",
        "\n",
        "In addition to JAX and Anaconda, this lecture will need the following libraries:"
      ]
    },
    {
      "cell_type": "code",
      "execution_count": 3,
      "id": "1231fa8a",
      "metadata": {
        "hide-output": false,
        "id": "1231fa8a",
        "outputId": "591fd542-01ae-4d5d-fc57-9b0a9f55c9ce",
        "colab": {
          "base_uri": "https://localhost:8080/"
        }
      },
      "outputs": [
        {
          "output_type": "stream",
          "name": "stdout",
          "text": [
            "Collecting quantecon\n",
            "  Downloading quantecon-0.8.0-py3-none-any.whl.metadata (5.2 kB)\n",
            "Requirement already satisfied: numba>=0.49.0 in /usr/local/lib/python3.11/dist-packages (from quantecon) (0.60.0)\n",
            "Requirement already satisfied: numpy>=1.17.0 in /usr/local/lib/python3.11/dist-packages (from quantecon) (2.0.2)\n",
            "Requirement already satisfied: requests in /usr/local/lib/python3.11/dist-packages (from quantecon) (2.32.3)\n",
            "Requirement already satisfied: scipy>=1.5.0 in /usr/local/lib/python3.11/dist-packages (from quantecon) (1.14.1)\n",
            "Requirement already satisfied: sympy in /usr/local/lib/python3.11/dist-packages (from quantecon) (1.13.1)\n",
            "Requirement already satisfied: llvmlite<0.44,>=0.43.0dev0 in /usr/local/lib/python3.11/dist-packages (from numba>=0.49.0->quantecon) (0.43.0)\n",
            "Requirement already satisfied: charset-normalizer<4,>=2 in /usr/local/lib/python3.11/dist-packages (from requests->quantecon) (3.4.1)\n",
            "Requirement already satisfied: idna<4,>=2.5 in /usr/local/lib/python3.11/dist-packages (from requests->quantecon) (3.10)\n",
            "Requirement already satisfied: urllib3<3,>=1.21.1 in /usr/local/lib/python3.11/dist-packages (from requests->quantecon) (2.3.0)\n",
            "Requirement already satisfied: certifi>=2017.4.17 in /usr/local/lib/python3.11/dist-packages (from requests->quantecon) (2025.1.31)\n",
            "Requirement already satisfied: mpmath<1.4,>=1.1.0 in /usr/local/lib/python3.11/dist-packages (from sympy->quantecon) (1.3.0)\n",
            "Downloading quantecon-0.8.0-py3-none-any.whl (322 kB)\n",
            "\u001b[2K   \u001b[90m━━━━━━━━━━━━━━━━━━━━━━━━━━━━━━━━━━━━━━━━\u001b[0m \u001b[32m322.7/322.7 kB\u001b[0m \u001b[31m6.8 MB/s\u001b[0m eta \u001b[36m0:00:00\u001b[0m\n",
            "\u001b[?25hInstalling collected packages: quantecon\n",
            "Successfully installed quantecon-0.8.0\n"
          ]
        }
      ],
      "source": [
        "!pip install quantecon"
      ]
    },
    {
      "cell_type": "markdown",
      "id": "aee1c0d2",
      "metadata": {
        "id": "aee1c0d2"
      },
      "source": [
        "We will use the following imports:"
      ]
    },
    {
      "cell_type": "code",
      "execution_count": 4,
      "id": "f3366378",
      "metadata": {
        "hide-output": false,
        "id": "f3366378"
      },
      "outputs": [],
      "source": [
        "import numba\n",
        "import pandas as pd\n",
        "import numpy as np\n",
        "import matplotlib.pyplot as plt\n",
        "import quantecon as qe\n",
        "import jax\n",
        "import jax.numpy as jnp\n",
        "from time import time"
      ]
    },
    {
      "cell_type": "markdown",
      "id": "63797945",
      "metadata": {
        "id": "63797945"
      },
      "source": [
        "Let’s check the GPU we are running"
      ]
    },
    {
      "cell_type": "code",
      "execution_count": 5,
      "id": "cf2c53b9",
      "metadata": {
        "hide-output": false,
        "id": "cf2c53b9",
        "outputId": "3e97ac5f-71e4-4680-8767-4b71aa87f80d",
        "colab": {
          "base_uri": "https://localhost:8080/"
        }
      },
      "outputs": [
        {
          "output_type": "stream",
          "name": "stdout",
          "text": [
            "Mon Mar 31 10:34:21 2025       \n",
            "+-----------------------------------------------------------------------------------------+\n",
            "| NVIDIA-SMI 550.54.15              Driver Version: 550.54.15      CUDA Version: 12.4     |\n",
            "|-----------------------------------------+------------------------+----------------------+\n",
            "| GPU  Name                 Persistence-M | Bus-Id          Disp.A | Volatile Uncorr. ECC |\n",
            "| Fan  Temp   Perf          Pwr:Usage/Cap |           Memory-Usage | GPU-Util  Compute M. |\n",
            "|                                         |                        |               MIG M. |\n",
            "|=========================================+========================+======================|\n",
            "|   0  Tesla T4                       Off |   00000000:00:04.0 Off |                    0 |\n",
            "| N/A   51C    P8             10W /   70W |       0MiB /  15360MiB |      0%      Default |\n",
            "|                                         |                        |                  N/A |\n",
            "+-----------------------------------------+------------------------+----------------------+\n",
            "                                                                                         \n",
            "+-----------------------------------------------------------------------------------------+\n",
            "| Processes:                                                                              |\n",
            "|  GPU   GI   CI        PID   Type   Process name                              GPU Memory |\n",
            "|        ID   ID                                                               Usage      |\n",
            "|=========================================================================================|\n",
            "|  No running processes found                                                             |\n",
            "+-----------------------------------------------------------------------------------------+\n"
          ]
        }
      ],
      "source": [
        "!nvidia-smi"
      ]
    },
    {
      "cell_type": "markdown",
      "id": "7a97835a",
      "metadata": {
        "id": "7a97835a"
      },
      "source": [
        "## Wealth dynamics\n",
        "\n",
        "Wealth evolves as follows:\n",
        "\n",
        "$$\n",
        "w_{t+1} = (1 + r_{t+1}) s(w_t) + y_{t+1}\n",
        "$$\n",
        "\n",
        "Here\n",
        "\n",
        "- $ w_t $ is wealth at time $ t $ for a given household,  \n",
        "- $ r_t $ is the rate of return of financial assets,  \n",
        "- $ y_t $ is labor income and  \n",
        "- $ s(w_t) $ is savings (current wealth minus current consumption)  \n",
        "\n",
        "\n",
        "There is an aggregate state process\n",
        "\n",
        "$$\n",
        "z_{t+1} = a z_t + b + \\sigma_z \\epsilon_{t+1}\n",
        "$$\n",
        "\n",
        "that affects the interest rate and labor income.\n",
        "\n",
        "- z_t:影响利率和劳动收入的宏观状态变量\n",
        "- a：状态自回归系数，控制z_t 的持久性\n",
        "- b：常数项，决定 zt的长期平均水平\n",
        "- $ \\sigma_z \\epsilon_{t+1}$ ：随机冲击项，\n",
        "$ \\epsilon_{t+1}$为标准正态分布的独立同分布（IID）随机变量\n",
        "\n",
        "这是AR1 process.\n",
        "\n",
        "\n",
        "\n",
        "In particular, the gross interest rates obey\n",
        "\n",
        "$$\n",
        "R_t := 1 + r_t = c_r \\exp(z_t) + \\exp(\\mu_r + \\sigma_r \\xi_t)\n",
        "$$\n",
        "\n",
        "\n",
        "while\n",
        "\n",
        "$$\n",
        "y_t = c_y \\exp(z_t) + \\exp(\\mu_y + \\sigma_y \\zeta_t)\n",
        "$$\n",
        "\n",
        "The tuple $ \\{ (\\epsilon_t, \\xi_t, \\zeta_t) \\} $ is IID and standard normal in $ \\mathbb R^3 $.\n",
        "\n",
        "(Each household receives their own idiosyncratic shocks.)\n",
        "\n",
        "\n",
        "\n",
        "- $c_r \\exp(z_t)$：由宏观状态 zt驱动的利率部分\n",
        "\n",
        "- $\\exp(\\mu_r + \\sigma_r \\xi_t)$：包含随机冲击\n",
        "$\\xi_t$的 idiosyncratic 部分\n",
        "\n",
        "- $\\xi_t$：标准正态分布的独立同分布随机变量\n",
        "\n",
        "\n",
        "Regarding the savings function $ s $, our default model will be\n",
        "\n",
        "\n",
        "<a id='equation-sav-ah'></a>\n",
        "$$\n",
        "s(w) = s_0 w \\cdot \\mathbb 1\\{w \\geq \\hat w\\} \\tag{7.1}\n",
        "$$\n",
        "\n",
        "where $ s_0 $ is a positive constant.\n",
        "\n",
        "Thus,\n",
        "\n",
        "- for $ w < \\hat w $, the household saves nothing, while  \n",
        "- for $ w \\geq \\bar w $, the household saves a fraction $ s_0 $ of their wealth.  "
      ]
    },
    {
      "cell_type": "markdown",
      "id": "0438b885",
      "metadata": {
        "id": "0438b885"
      },
      "source": [
        "## Implementation"
      ]
    },
    {
      "cell_type": "markdown",
      "id": "fa259432",
      "metadata": {
        "id": "fa259432"
      },
      "source": [
        "### Numba implementation\n",
        "\n",
        "Here’s a function that collects parameters and useful constants"
      ]
    },
    {
      "cell_type": "code",
      "execution_count": 12,
      "id": "f7a2a9ef",
      "metadata": {
        "hide-output": false,
        "id": "f7a2a9ef"
      },
      "outputs": [],
      "source": [
        "def create_wealth_model(w_hat=1.0,   # Savings parameter\n",
        "                        s_0=0.75,    # Savings parameter\n",
        "                        c_y=1.0,     # Labor income parameter\n",
        "                        μ_y=1.0,     # Labor income parameter\n",
        "                        σ_y=0.2,     # Labor income parameter\n",
        "                        c_r=0.05,    # Rate of return parameter\n",
        "                        μ_r=0.1,     # Rate of return parameter\n",
        "                        σ_r=0.5,     # Rate of return parameter\n",
        "                        a=0.5,       # Aggregate shock parameter\n",
        "                        b=0.0,       # Aggregate shock parameter\n",
        "                        σ_z=0.1):    # Aggregate shock parameter\n",
        "    \"\"\"\n",
        "    Create a wealth model with given parameters.\n",
        "\n",
        "    Return a tuple model = (household_params, aggregate_params), where\n",
        "    household_params collects household information and aggregate_params\n",
        "    collects information relevant to the aggregate shock process.\n",
        "\n",
        "    \"\"\"\n",
        "    # Mean and variance of z process\n",
        "    z_mean = b / (1 - a)\n",
        "    z_var = σ_z**2 / (1 - a**2)\n",
        "    exp_z_mean = np.exp(z_mean + z_var / 2)\n",
        "    # Mean of R and y processes\n",
        "    R_mean = c_r * exp_z_mean + np.exp(μ_r + σ_r**2 / 2)\n",
        "    y_mean = c_y * exp_z_mean + np.exp(μ_y + σ_y**2 / 2)\n",
        "    # Test stability condition ensuring wealth does not diverge\n",
        "    # to infinity.\n",
        "      # 为了防止财富无限增长，必须保证储蓄和利率的复合效应<1\n",
        "    α = R_mean * s_0\n",
        "    if α >= 1:\n",
        "        raise ValueError(\"Stability condition failed.\")\n",
        "    # Pack values into tuples and return them\n",
        "    household_params = (w_hat, s_0, c_y, μ_y, σ_y, c_r, μ_r, σ_r, y_mean)\n",
        "    aggregate_params = (a, b, σ_z, z_mean, z_var)\n",
        "    model = household_params, aggregate_params\n",
        "    return model"
      ]
    },
    {
      "cell_type": "markdown",
      "id": "fdf4bf79",
      "metadata": {
        "id": "fdf4bf79"
      },
      "source": [
        "Here’s a function that generates the aggregate state process"
      ]
    },
    {
      "cell_type": "code",
      "execution_count": 7,
      "id": "3b36b142",
      "metadata": {
        "hide-output": false,
        "id": "3b36b142"
      },
      "outputs": [],
      "source": [
        "@numba.jit\n",
        "def generate_aggregate_state_sequence(aggregate_params, length=100):\n",
        "    a, b, σ_z, z_mean, z_var = aggregate_params\n",
        "    z = np.empty(length+1) #创建一个大小为 length+1 的空数组（长度比 length 多 1，用于存储初始状态）\n",
        "    z[0] = z_mean   # Initialize at z_mean\n",
        "    for t in range(length):\n",
        "        z[t+1] = a * z[t] + b + σ_z * np.random.randn()\n",
        "    return z\n",
        "    # 返回 z：长度为 length + 1 的序列，包含从 z0到zlength的宏观状态。"
      ]
    },
    {
      "cell_type": "markdown",
      "id": "65dbad22",
      "metadata": {
        "id": "65dbad22"
      },
      "source": [
        "Here’s a function that updates household wealth by one period, taking the\n",
        "current value of the aggregate shock"
      ]
    },
    {
      "cell_type": "code",
      "execution_count": 8,
      "id": "5f6a7926",
      "metadata": {
        "hide-output": false,
        "id": "5f6a7926"
      },
      "outputs": [],
      "source": [
        "@numba.jit\n",
        "def update_wealth(household_params, w, z):\n",
        "    \"\"\"\n",
        "    Generate w_{t+1} given w_t and z_{t+1}.\n",
        "    \"\"\"\n",
        "    # Unpack\n",
        "    w_hat, s_0, c_y, μ_y, σ_y, c_r, μ_r, σ_r, y_mean = household_params\n",
        "    # Update wealth\n",
        "    y = c_y * np.exp(z) + np.exp(μ_y + σ_y * np.random.randn())\n",
        "    wp = y\n",
        "    if w >= w_hat:\n",
        "        R = c_r * np.exp(z) + np.exp(μ_r + σ_r * np.random.randn())\n",
        "        wp += R * s_0 * w\n",
        "    return wp"
      ]
    },
    {
      "cell_type": "markdown",
      "id": "1ff48f0f",
      "metadata": {
        "id": "1ff48f0f"
      },
      "source": [
        "Here’s a function to simulate the time series of wealth for an individual household"
      ]
    },
    {
      "cell_type": "code",
      "execution_count": 9,
      "id": "f0b2e3fc",
      "metadata": {
        "hide-output": false,
        "id": "f0b2e3fc"
      },
      "outputs": [],
      "source": [
        "@numba.jit\n",
        "def wealth_time_series(model, w_0, sim_length):\n",
        "    \"\"\"\n",
        "    Generate a single time series of length sim_length for wealth given initial\n",
        "    value w_0.  The function generates its own aggregate shock sequence.\n",
        "\n",
        "    \"\"\"\n",
        "    # Unpack\n",
        "    household_params, aggregate_params = model\n",
        "    a, b, σ_z, z_mean, z_var = aggregate_params\n",
        "    # Initialize and update\n",
        "    z = generate_aggregate_state_sequence(aggregate_params,\n",
        "                                          length=sim_length)\n",
        "    w = np.empty(sim_length)\n",
        "    w[0] = w_0\n",
        "    for t in range(sim_length-1):\n",
        "        w[t+1] = update_wealth(household_params, w[t], z[t+1])\n",
        "    return w"
      ]
    },
    {
      "cell_type": "markdown",
      "id": "05bd08a6",
      "metadata": {
        "id": "05bd08a6"
      },
      "source": [
        "Let’s look at the wealth dynamics of an individual household"
      ]
    },
    {
      "cell_type": "code",
      "execution_count": 10,
      "id": "3cbe2cc4",
      "metadata": {
        "hide-output": false,
        "id": "3cbe2cc4"
      },
      "outputs": [],
      "source": [
        "model = create_wealth_model()\n",
        "household_params, aggregate_params = model\n",
        "w_hat, s_0, c_y, μ_y, σ_y, c_r, μ_r, σ_r, y_mean = household_params\n",
        "a, b, σ_z, z_mean, z_var = aggregate_params\n",
        "ts_length = 200\n",
        "w = wealth_time_series(model, y_mean, ts_length)"
      ]
    },
    {
      "cell_type": "code",
      "execution_count": 11,
      "id": "ead4867d",
      "metadata": {
        "hide-output": false,
        "id": "ead4867d",
        "outputId": "9a1cedb9-f933-40b9-9da6-3b686ba3b34f",
        "colab": {
          "base_uri": "https://localhost:8080/",
          "height": 430
        }
      },
      "outputs": [
        {
          "output_type": "display_data",
          "data": {
            "text/plain": [
              "<Figure size 640x480 with 1 Axes>"
            ],
            "image/png": "[encoded data removed]"
          },
          "metadata": {}
        }
      ],
      "source": [
        "fig, ax = plt.subplots()\n",
        "ax.plot(w)\n",
        "plt.show()"
      ]
    },
    {
      "cell_type": "markdown",
      "id": "5ad7a0fc",
      "metadata": {
        "id": "5ad7a0fc"
      },
      "source": [
        "Notice the large spikes in wealth over time.\n",
        "\n",
        "Such spikes are related to heavy tails in the wealth distribution, which we\n",
        "discuss below.\n",
        "\n",
        "Here’s a function to simulate a cross section of households forward in time.\n",
        "\n",
        "Note the use of parallelization to speed up computation."
      ]
    },
    {
      "cell_type": "code",
      "execution_count": 13,
      "id": "20a82690",
      "metadata": {
        "hide-output": false,
        "id": "20a82690"
      },
      "outputs": [],
      "source": [
        "@numba.jit(parallel=True)\n",
        "def update_cross_section(model, w_distribution, z_sequence):\n",
        "    \"\"\"\n",
        "    Shifts a cross-section of households forward in time（刚才是单个的，现在是distribution）\n",
        "\n",
        "    Takes\n",
        "\n",
        "        * a current distribution of wealth values as w_distribution and\n",
        "        * an aggregate shock sequence z_sequence\n",
        "\n",
        "    and updates each w_t in w_distribution to w_{t+j}, where\n",
        "    j = len(z_sequence).\n",
        "\n",
        "    Returns the new distribution.\n",
        "\n",
        "    \"\"\"\n",
        "    # Unpack\n",
        "    household_params, aggregate_params = model\n",
        "\n",
        "    num_households = len(w_distribution)\n",
        "    new_distribution = np.empty_like(w_distribution)\n",
        "    z = z_sequence\n",
        "\n",
        "    # Update each household\n",
        "    for i in numba.prange(num_households):\n",
        "        w = w_distribution[i]\n",
        "        for t in range(sim_length):\n",
        "            w = update_wealth(household_params, w, z[t])\n",
        "        new_distribution[i] = w\n",
        "    return new_distribution"
      ]
    },
    {
      "cell_type": "markdown",
      "id": "b003428b",
      "metadata": {
        "id": "b003428b"
      },
      "source": [
        "Parallelization works in the function above because the time path of each\n",
        "household can be calculated independently once the path for the aggregate state\n",
        "is known.\n",
        "\n",
        "Let’s see how long it takes to shift a large cross-section of households forward\n",
        "200 periods"
      ]
    },
    {
      "cell_type": "code",
      "execution_count": 14,
      "id": "a408f86f",
      "metadata": {
        "hide-output": false,
        "id": "a408f86f",
        "outputId": "5fea9629-89c6-4039-d640-e6bc7499c0c5",
        "colab": {
          "base_uri": "https://localhost:8080/"
        }
      },
      "outputs": [
        {
          "output_type": "stream",
          "name": "stdout",
          "text": [
            "Generating cross-section using Numba\n",
            "Generated cross-section in 195.59301352500916 seconds.\n",
            "\n"
          ]
        }
      ],
      "source": [
        "sim_length = 200\n",
        "num_households = 10_000_000\n",
        "ψ_0 = np.full(num_households, y_mean)  # Initial distribution\n",
        "z_sequence = generate_aggregate_state_sequence(aggregate_params,\n",
        "                                               length=sim_length)\n",
        "print(\"Generating cross-section using Numba\")\n",
        "start = time()\n",
        "ψ_star = update_cross_section(model, ψ_0, z_sequence)\n",
        "numba_with_compile = time() - start\n",
        "print(f\"Generated cross-section in {numba_with_compile} seconds.\\n\")"
      ]
    },
    {
      "cell_type": "markdown",
      "id": "f699ee9f",
      "metadata": {
        "id": "f699ee9f"
      },
      "source": [
        "We run it again to eliminate compile time."
      ]
    },
    {
      "cell_type": "code",
      "execution_count": 16,
      "id": "b425cddc",
      "metadata": {
        "hide-output": false,
        "id": "b425cddc",
        "outputId": "22755aea-d6a3-4bbb-c324-8b2a846cf940",
        "colab": {
          "base_uri": "https://localhost:8080/"
        }
      },
      "outputs": [
        {
          "output_type": "stream",
          "name": "stdout",
          "text": [
            "Generated cross-section in 199.288188457489 seconds.\n",
            "\n"
          ]
        }
      ],
      "source": [
        "start = time()\n",
        "ψ_star = update_cross_section(model, ψ_0, z_sequence)\n",
        "numba_without_compile = time() - start\n",
        "print(f\"Generated cross-section in {numba_without_compile} seconds.\\n\")"
      ]
    },
    {
      "cell_type": "markdown",
      "id": "70ebbed7",
      "metadata": {
        "id": "70ebbed7"
      },
      "source": [
        "### JAX implementation\n",
        "\n",
        "Let’s redo some of the preceding calculations using JAX and see how execution\n",
        "speed compares"
      ]
    },
    {
      "cell_type": "code",
      "execution_count": 15,
      "id": "a76ce5a9",
      "metadata": {
        "hide-output": false,
        "id": "a76ce5a9"
      },
      "outputs": [],
      "source": [
        "def update_cross_section_jax(model, w_distribution, z_sequence, key):\n",
        "    \"\"\"\n",
        "    Shifts a cross-section of households forward in time\n",
        "\n",
        "    Takes\n",
        "\n",
        "        * a current distribution of wealth values as w_distribution and\n",
        "        * an aggregate shock sequence z_sequence\n",
        "\n",
        "    and updates each w_t in w_distribution to w_{t+j}, where\n",
        "    j = len(z_sequence).\n",
        "\n",
        "    Returns the new distribution.\n",
        "\n",
        "    \"\"\"\n",
        "    # Unpack, simplify names\n",
        "    household_params, aggregate_params = model\n",
        "    w_hat, s_0, c_y, μ_y, σ_y, c_r, μ_r, σ_r, y_mean = household_params\n",
        "    w = w_distribution\n",
        "    n = len(w)\n",
        "\n",
        "    # Update wealth\n",
        "    # 批量更新： w 在每个时间点被矢量化更新，无需逐个家庭循环。\n",
        "    for t, z in enumerate(z_sequence):\n",
        "        U = jax.random.normal(key, (2, n))\n",
        "        y = c_y * jnp.exp(z) + jnp.exp(μ_y + σ_y * U[0, :])\n",
        "        R = c_r * jnp.exp(z) + jnp.exp(μ_r + σ_r * U[1, :])\n",
        "        w = y + jnp.where(w < w_hat, 0.0, R * s_0 * w)\n",
        "        key, subkey = jax.random.split(key)\n",
        "\n",
        "    return w"
      ]
    },
    {
      "cell_type": "markdown",
      "id": "28f6d631",
      "metadata": {
        "id": "28f6d631"
      },
      "source": [
        "Let’s see how long it takes to shift the cross-section of households forward\n",
        "using JAX"
      ]
    },
    {
      "cell_type": "code",
      "execution_count": 17,
      "id": "fd5d717e",
      "metadata": {
        "hide-output": false,
        "id": "fd5d717e"
      },
      "outputs": [],
      "source": [
        "sim_length = 200\n",
        "num_households = 10_000_000\n",
        "ψ_0 = jnp.full(num_households, y_mean)  # Initial distribution\n",
        "z_sequence = generate_aggregate_state_sequence(aggregate_params,\n",
        "                                               length=sim_length)\n",
        "z_sequence = jnp.array(z_sequence)"
      ]
    },
    {
      "cell_type": "code",
      "execution_count": 18,
      "id": "1b10c827",
      "metadata": {
        "hide-output": false,
        "id": "1b10c827",
        "outputId": "4042e971-57fe-4968-9bba-4212025ba0c5",
        "colab": {
          "base_uri": "https://localhost:8080/"
        }
      },
      "outputs": [
        {
          "output_type": "stream",
          "name": "stdout",
          "text": [
            "Generating cross-section using JAX\n",
            "Generated cross-section in 3.242628574371338 seconds.\n",
            "\n"
          ]
        }
      ],
      "source": [
        "print(\"Generating cross-section using JAX\")\n",
        "key = jax.random.PRNGKey(1234)\n",
        "start = time()\n",
        "ψ_star = update_cross_section_jax(model, ψ_0, z_sequence, key).block_until_ready()\n",
        "jax_with_compile = time() - start\n",
        "print(f\"Generated cross-section in {jax_with_compile} seconds.\\n\")"
      ]
    },
    {
      "cell_type": "code",
      "execution_count": 19,
      "id": "c3a6862d",
      "metadata": {
        "hide-output": false,
        "id": "c3a6862d",
        "outputId": "cff158ed-5e60-4b7c-92a1-8cbd0d5322d7",
        "colab": {
          "base_uri": "https://localhost:8080/"
        }
      },
      "outputs": [
        {
          "output_type": "stream",
          "name": "stdout",
          "text": [
            "Repeating without compile time.\n",
            "Generated cross-section in 1.3332555294036865 seconds\n"
          ]
        }
      ],
      "source": [
        "print(\"Repeating without compile time.\")\n",
        "key = jax.random.PRNGKey(1234)\n",
        "start = time()\n",
        "ψ_star = update_cross_section_jax(model, ψ_0, z_sequence, key).block_until_ready()\n",
        "jax_without_compile = time() - start\n",
        "print(f\"Generated cross-section in {jax_without_compile} seconds\")"
      ]
    },
    {
      "cell_type": "markdown",
      "id": "721bfeb1",
      "metadata": {
        "id": "721bfeb1"
      },
      "source": [
        "And let’s see how long it takes if we compile the loop."
      ]
    },
    {
      "cell_type": "code",
      "execution_count": 20,
      "id": "47df24ac",
      "metadata": {
        "hide-output": false,
        "id": "47df24ac"
      },
      "outputs": [],
      "source": [
        "def update_cross_section_jax_compiled(model,\n",
        "                                      w_distribution,\n",
        "                                      w_size,\n",
        "                                      z_sequence,\n",
        "                                      key):\n",
        "    \"\"\"\n",
        "    Shifts a cross-section of households forward in time\n",
        "\n",
        "    Takes\n",
        "\n",
        "        * a current distribution of wealth values as w_distribution and\n",
        "        * an aggregate shock sequence z_sequence\n",
        "\n",
        "    and updates each w_t in w_distribution to w_{t+j}, where\n",
        "    j = len(z_sequence).\n",
        "\n",
        "    Returns the new distribution.\n",
        "\n",
        "    \"\"\"\n",
        "    # Unpack, simplify names\n",
        "    household_params, aggregate_params = model\n",
        "    w_hat, s_0, c_y, μ_y, σ_y, c_r, μ_r, σ_r, y_mean = household_params\n",
        "    w = w_distribution\n",
        "    n = len(w)\n",
        "    z = z_sequence\n",
        "    sim_length = len(z)\n",
        "\n",
        "    def body_function(t, state):\n",
        "        key, w = state\n",
        "        key, subkey = jax.random.split(key)\n",
        "        U = jax.random.normal(subkey, (2, n))\n",
        "        y = c_y * jnp.exp(z[t]) + jnp.exp(μ_y + σ_y * U[0, :])\n",
        "        R = c_r * jnp.exp(z[t]) + jnp.exp(μ_r + σ_r * U[1, :])\n",
        "        w = y + jnp.where(w < w_hat, 0.0, R * s_0 * w)\n",
        "        return key, w\n",
        "\n",
        "    key, w = jax.lax.fori_loop(0, sim_length, body_function, (key, w))\n",
        "    return w\n",
        "\n",
        "    # fori_loop 是 JAX 提供的 高效循环控制函数，相当于 标准的 Python for 循环 的 JAX 版本。"
      ]
    },
    {
      "cell_type": "code",
      "execution_count": 21,
      "id": "ecbe59fe",
      "metadata": {
        "hide-output": false,
        "id": "ecbe59fe"
      },
      "outputs": [],
      "source": [
        "update_cross_section_jax_compiled = jax.jit(\n",
        "        update_cross_section_jax_compiled, static_argnums=(2,)\n",
        ")"
      ]
    },
    {
      "cell_type": "code",
      "execution_count": 22,
      "id": "a802e9cb",
      "metadata": {
        "hide-output": false,
        "id": "a802e9cb",
        "outputId": "41b0c0c0-fa6a-44b1-cc40-ca9a783d0952",
        "colab": {
          "base_uri": "https://localhost:8080/"
        }
      },
      "outputs": [
        {
          "output_type": "stream",
          "name": "stdout",
          "text": [
            "Generating cross-section using JAX with compiled loop\n",
            "Generated cross-section in 1.028059720993042 seconds.\n",
            "\n"
          ]
        }
      ],
      "source": [
        "print(\"Generating cross-section using JAX with compiled loop\")\n",
        "key = jax.random.PRNGKey(1234)\n",
        "start = time()\n",
        "ψ_star = update_cross_section_jax_compiled(\n",
        "        model, ψ_0, num_households, z_sequence, key\n",
        ").block_until_ready()\n",
        "jax_fori_with_compile = time() - start\n",
        "print(f\"Generated cross-section in {jax_fori_with_compile} seconds.\\n\")"
      ]
    },
    {
      "cell_type": "code",
      "execution_count": 23,
      "id": "73232396",
      "metadata": {
        "hide-output": false,
        "id": "73232396",
        "outputId": "8f197aae-f9ed-4de7-ce05-137491896fb7",
        "colab": {
          "base_uri": "https://localhost:8080/"
        }
      },
      "outputs": [
        {
          "output_type": "stream",
          "name": "stdout",
          "text": [
            "Repeating without compile time\n",
            "Generated cross-section in 0.2552485466003418 seconds\n"
          ]
        }
      ],
      "source": [
        "print(\"Repeating without compile time\")\n",
        "key = jax.random.PRNGKey(1234)\n",
        "start = time()\n",
        "ψ_star = update_cross_section_jax_compiled(\n",
        "        model, ψ_0, num_households, z_sequence, key\n",
        ").block_until_ready()\n",
        "jax_fori_without_compile = time() - start\n",
        "print(f\"Generated cross-section in {jax_fori_without_compile} seconds\")"
      ]
    },
    {
      "cell_type": "code",
      "execution_count": 24,
      "id": "58c867bf",
      "metadata": {
        "hide-output": false,
        "id": "58c867bf",
        "outputId": "09537c94-c556-4d57-970a-2bed8e441003",
        "colab": {
          "base_uri": "https://localhost:8080/"
        }
      },
      "outputs": [
        {
          "output_type": "stream",
          "name": "stdout",
          "text": [
            "JAX is 780.7613 times faster.\n",
            "\n"
          ]
        }
      ],
      "source": [
        "print(f\"JAX is {numba_without_compile/jax_fori_without_compile:.4f} times faster.\\n\")"
      ]
    },
    {
      "cell_type": "markdown",
      "id": "9e594e90",
      "metadata": {
        "id": "9e594e90"
      },
      "source": [
        "### Pareto tails\n",
        "\n",
        "In most countries, the cross-sectional distribution of wealth exhibits a Pareto\n",
        "tail (power law).\n",
        "\n",
        "Let’s see if our model can replicate this stylized fact by running a simulation\n",
        "that generates a cross-section of wealth and generating a suitable rank-size plot.\n",
        "\n",
        "We will use the function `rank_size` from `quantecon` library.\n",
        "\n",
        "In the limit, data that obeys a power law generates a straight line."
      ]
    },
    {
      "cell_type": "code",
      "execution_count": 25,
      "id": "7bb3c965",
      "metadata": {
        "hide-output": false,
        "id": "7bb3c965",
        "outputId": "a3bbddea-8fb1-4593-d77e-bbb47b6b50d8",
        "colab": {
          "base_uri": "https://localhost:8080/",
          "height": 454
        }
      },
      "outputs": [
        {
          "output_type": "display_data",
          "data": {
            "text/plain": [
              "<Figure size 640x480 with 1 Axes>"
            ],
            "image/png": "[encoded data removed]"
          },
          "metadata": {}
        }
      ],
      "source": [
        "model = create_wealth_model()\n",
        "key = jax.random.PRNGKey(1234)\n",
        "ψ_star = update_cross_section_jax_compiled(\n",
        "        model, ψ_0, num_households, z_sequence, key\n",
        ")\n",
        "fig, ax = plt.subplots()\n",
        "\n",
        "rank_data, size_data = qe.rank_size(ψ_star, c=0.001)\n",
        "ax.loglog(rank_data, size_data, 'o', markersize=3.0, alpha=0.5)\n",
        "ax.set_xlabel(\"log rank\")\n",
        "ax.set_ylabel(\"log size\")\n",
        "\n",
        "plt.show()"
      ]
    },
    {
      "cell_type": "markdown",
      "id": "dd409632",
      "metadata": {
        "id": "dd409632"
      },
      "source": [
        "### Lorenz curves and Gini coefficients\n",
        "\n",
        "To study the impact of parameters on inequality, we examine Lorenz curves\n",
        "and the Gini coefficients at different parameters.\n",
        "\n",
        "QuantEcon provides functions to compute Lorenz curves and Gini coefficients that are accelerated using Numba.\n",
        "\n",
        "Here we provide JAX-based functions that do the same job and are faster for large data sets on parallel hardware."
      ]
    },
    {
      "cell_type": "markdown",
      "id": "1e0295d0",
      "metadata": {
        "id": "1e0295d0"
      },
      "source": [
        "#### Lorenz curve\n",
        "\n",
        "Recall that, for sorted data $ w_1, \\ldots, w_n $, the Lorenz curve\n",
        "generates data points $ (x_i, y_i)_{i=0}^n $  according to\n",
        "\n",
        "$$\n",
        "x_0 = y_0 = 0\n",
        "    \\qquad \\text{and, for } i \\geq 1, \\quad\n",
        "    x_i = \\frac{i}{n},\n",
        "    \\qquad\n",
        "    y_i =\n",
        "       \\frac{\\sum_{j \\leq i} w_j}{\\sum_{j \\leq n} w_j}\n",
        "$$\n",
        "\n",
        "- xi表示前\n",
        "i 个家庭（或个体）在总人口中的比例。\n",
        "- yi表示前\n",
        "i 个家庭所拥有的财富或收入占总财富或收入的比例。\n",
        "\n"
      ]
    },
    {
      "cell_type": "code",
      "execution_count": 26,
      "id": "da5ddfb2",
      "metadata": {
        "hide-output": false,
        "id": "da5ddfb2"
      },
      "outputs": [],
      "source": [
        "# w：一个长度为 n 的 财富或收入数组。\n",
        "\n",
        "# w_size：静态参数，通常是 数据的大小信息，但在实际函数中 没有直接使用。\n",
        "\n",
        "\n",
        "\n",
        "def _lorenz_curve_jax(w, w_size):\n",
        "    n = w.shape[0] # w的长度\n",
        "    w = jnp.sort(w)\n",
        "    x = jnp.arange(n + 1) / n # jnp.arange(n + 1) 生成从 0 到n 的整数数组\n",
        "    s = jnp.concatenate((jnp.zeros(1), jnp.cumsum(w)))\n",
        "      # jnp.concatenate()： 将多个数组 拼接 在一起，形成一个新的数组。\n",
        "      # jnp.zeros(1)： 生成一个长度为 1 的 零数组。\n",
        "      # jnp.cumsum()： 计算数组 w 的 累积和。\n",
        "    y = s / s[n]\n",
        "      # si/s(总和)，也就是s的最后一个\n",
        "    return x, y\n",
        "      # 返回 x 和 y，表示 人口累计比例 和 财富或收入的累计比例。\n",
        "\n",
        "lorenz_curve_jax = jax.jit(_lorenz_curve_jax, static_argnums=(1,))\n",
        "\n",
        "# static_argnums=(1,)：w_size 是一个 静态参数，在编译时不会改变。\n",
        "# 将 w_size 设为静态参数可以 优化计算速度，因为 JAX 会提前编译并缓存函数。\n",
        "\n"
      ]
    },
    {
      "cell_type": "markdown",
      "id": "8d217e44",
      "metadata": {
        "id": "8d217e44"
      },
      "source": [
        "Let’s test"
      ]
    },
    {
      "cell_type": "code",
      "execution_count": 27,
      "id": "14821fc2",
      "metadata": {
        "hide-output": false,
        "id": "14821fc2"
      },
      "outputs": [],
      "source": [
        "sim_length = 200\n",
        "num_households = 1_000_000\n",
        "ψ_0 = jnp.full(num_households, y_mean)  # Initial distribution\n",
        "z_sequence = generate_aggregate_state_sequence(aggregate_params,\n",
        "                                               length=sim_length)\n",
        "z_sequence = jnp.array(z_sequence)"
      ]
    },
    {
      "cell_type": "code",
      "execution_count": 28,
      "id": "a604d2f3",
      "metadata": {
        "hide-output": false,
        "id": "a604d2f3"
      },
      "outputs": [],
      "source": [
        "key = jax.random.PRNGKey(1234)\n",
        "ψ_star = update_cross_section_jax_compiled(\n",
        "        model, ψ_0, num_households, z_sequence, key\n",
        ")"
      ]
    },
    {
      "cell_type": "code",
      "execution_count": 29,
      "id": "8adbdbab",
      "metadata": {
        "hide-output": false,
        "id": "8adbdbab",
        "outputId": "8cb7639a-1ab9-4628-d474-406e9729f408",
        "colab": {
          "base_uri": "https://localhost:8080/"
        }
      },
      "outputs": [
        {
          "output_type": "stream",
          "name": "stdout",
          "text": [
            "CPU times: user 231 ms, sys: 7.96 ms, total: 239 ms\n",
            "Wall time: 329 ms\n"
          ]
        }
      ],
      "source": [
        "%time _ = lorenz_curve_jax(ψ_star, num_households)"
      ]
    },
    {
      "cell_type": "code",
      "execution_count": 30,
      "id": "16e147c8",
      "metadata": {
        "hide-output": false,
        "id": "16e147c8",
        "outputId": "4ae1aba8-bb22-49c6-f502-1ec44a0c9047",
        "colab": {
          "base_uri": "https://localhost:8080/"
        }
      },
      "outputs": [
        {
          "output_type": "stream",
          "name": "stdout",
          "text": [
            "CPU times: user 307 µs, sys: 997 µs, total: 1.3 ms\n",
            "Wall time: 783 µs\n"
          ]
        }
      ],
      "source": [
        "# Now time it without compile time\n",
        "%time x, y = lorenz_curve_jax(ψ_star, num_households)"
      ]
    },
    {
      "cell_type": "code",
      "execution_count": 31,
      "id": "72d4350f",
      "metadata": {
        "hide-output": false,
        "id": "72d4350f",
        "outputId": "e5334ad9-6169-4a32-c172-38c7ef7b4f1d",
        "colab": {
          "base_uri": "https://localhost:8080/",
          "height": 430
        }
      },
      "outputs": [
        {
          "output_type": "display_data",
          "data": {
            "text/plain": [
              "<Figure size 640x480 with 1 Axes>"
            ],
            "image/png": "[encoded data removed]"
          },
          "metadata": {}
        }
      ],
      "source": [
        "fig, ax = plt.subplots()\n",
        "ax.plot(x, y, label=\"Lorenz curve at defaults\")\n",
        "ax.plot(x, x, 'k-', lw=1)\n",
        "ax.legend()\n",
        "plt.show()"
      ]
    },
    {
      "cell_type": "markdown",
      "id": "47e59865",
      "metadata": {
        "id": "47e59865"
      },
      "source": [
        "#### Gini Coefficient\n",
        "\n",
        "Recall that, for sorted data $ w_1, \\ldots, w_n $, the Gini coefficient takes the form\n",
        "\n",
        "\n",
        "<a id='equation-eq-gini'></a>\n",
        "$$\n",
        "G :=\n",
        "\\frac\n",
        "    {\\sum_{i=1}^n \\sum_{j = 1}^n |w_j - w_i|}\n",
        "    {2n\\sum_{i=1}^n w_i}. \\tag{7.2}\n",
        "$$\n",
        "\n",
        "Here’s a function that computes the Gini coefficient using vectorization."
      ]
    },
    {
      "cell_type": "code",
      "execution_count": 32,
      "id": "626d1113",
      "metadata": {
        "hide-output": false,
        "id": "626d1113"
      },
      "outputs": [],
      "source": [
        "def _gini_jax(w, w_size):\n",
        "    w_1 = jnp.reshape(w, (w_size, 1)) # w_1：将 w 变成一个 列向量，形状为(w_size, 1)\n",
        "    w_2 = jnp.reshape(w, (1, w_size))\n",
        "    g_sum = jnp.sum(jnp.abs(w_1 - w_2)) # jnp.abs(w_1 - w_2) 生成一个 (w_size, w_size)的矩阵，其中每个元素是 abs(w_1 - w_2)\n",
        "    return g_sum / (2 * w_size * jnp.sum(w))\n",
        "\n",
        "gini_jax = jax.jit(_gini_jax, static_argnums=(1,))\n",
        "# static_argnums=(1,) 指定 w_size 为 静态参数："
      ]
    },
    {
      "cell_type": "code",
      "execution_count": 33,
      "id": "886e285b",
      "metadata": {
        "hide-output": false,
        "id": "886e285b",
        "outputId": "3e6ef7eb-faac-48db-8235-c6e12b4fc1c7",
        "colab": {
          "base_uri": "https://localhost:8080/"
        }
      },
      "outputs": [
        {
          "output_type": "stream",
          "name": "stdout",
          "text": [
            "CPU times: user 151 ms, sys: 7.94 ms, total: 159 ms\n",
            "Wall time: 7.84 s\n"
          ]
        }
      ],
      "source": [
        "%time gini = gini_jax(ψ_star, num_households).block_until_ready()"
      ]
    },
    {
      "cell_type": "code",
      "execution_count": 34,
      "id": "ba4de7df",
      "metadata": {
        "hide-output": false,
        "id": "ba4de7df",
        "outputId": "a8d0a68c-bde3-4a16-fa49-7354d79ac173",
        "colab": {
          "base_uri": "https://localhost:8080/"
        }
      },
      "outputs": [
        {
          "output_type": "stream",
          "name": "stdout",
          "text": [
            "CPU times: user 21.2 ms, sys: 4.95 ms, total: 26.1 ms\n",
            "Wall time: 7.64 s\n"
          ]
        }
      ],
      "source": [
        "# Now time it without compilation\n",
        "%time gini = gini_jax(ψ_star, num_households).block_until_ready()"
      ]
    },
    {
      "cell_type": "code",
      "execution_count": 35,
      "id": "4f565d83",
      "metadata": {
        "hide-output": false,
        "id": "4f565d83",
        "outputId": "70679f0e-70d1-4611-8fb8-67797d7cee5a",
        "colab": {
          "base_uri": "https://localhost:8080/"
        }
      },
      "outputs": [
        {
          "output_type": "execute_result",
          "data": {
            "text/plain": [
              "Array(0.7683847, dtype=float32)"
            ]
          },
          "metadata": {},
          "execution_count": 35
        }
      ],
      "source": [
        "gini"
      ]
    },
    {
      "cell_type": "markdown",
      "id": "e4d0e07d",
      "metadata": {
        "id": "e4d0e07d"
      },
      "source": [
        "## Exercises"
      ]
    },
    {
      "cell_type": "markdown",
      "id": "dfd7197b",
      "metadata": {
        "id": "dfd7197b"
      },
      "source": [
        "## Exercise 7.1\n",
        "\n",
        "In this exercise, write an alternative version of `gini_jax` that uses `vmap` instead of reshaping and broadcasting.\n",
        "\n",
        "Test with the same array to see if you can obtain the same output"
      ]
    },
    {
      "cell_type": "markdown",
      "id": "a2c07dde",
      "metadata": {
        "id": "a2c07dde"
      },
      "source": [
        "## Solution to[ Exercise 7.1](https://jax.quantecon.org/#wd_ex1)\n",
        "\n",
        "Here’s one solution:"
      ]
    },
    {
      "cell_type": "code",
      "execution_count": null,
      "id": "8e083a2b",
      "metadata": {
        "hide-output": false,
        "id": "8e083a2b"
      },
      "outputs": [],
      "source": [
        "@jax.jit\n",
        "def gini_jax_vmap(w):\n",
        "\n",
        "    def _inner_sum(x):\n",
        "        return jnp.sum(jnp.abs(x - w))\n",
        "\n",
        "    inner_sum = jax.vmap(_inner_sum)\n",
        "\n",
        "    full_sum = jnp.sum(inner_sum(w))\n",
        "    return full_sum / (2 * len(w) * jnp.sum(w))"
      ]
    },
    {
      "cell_type": "code",
      "execution_count": null,
      "id": "cbf18133",
      "metadata": {
        "hide-output": false,
        "id": "cbf18133"
      },
      "outputs": [],
      "source": [
        "%time gini = gini_jax_vmap(ψ_star).block_until_ready()"
      ]
    },
    {
      "cell_type": "code",
      "execution_count": null,
      "id": "c4311d42",
      "metadata": {
        "hide-output": false,
        "id": "c4311d42"
      },
      "outputs": [],
      "source": [
        "# Now time it without compile time\n",
        "%time gini = gini_jax_vmap(ψ_star).block_until_ready()"
      ]
    },
    {
      "cell_type": "code",
      "execution_count": null,
      "id": "6d795294",
      "metadata": {
        "hide-output": false,
        "id": "6d795294"
      },
      "outputs": [],
      "source": [
        "gini"
      ]
    },
    {
      "cell_type": "markdown",
      "source": [
        "jax.vmap 是 JAX 提供的 矢量化映射函数，用于将一个标量操作应用到数组的每个元素上。\n",
        "\n",
        "\n",
        "等价于在 for 循环中对数组的每个元素执行相同的函数，但 效率更高。\n",
        "\n",
        "jax.vmap(fun, in_axes=0, out_axes=0)\n",
        "\n",
        "- fun：要进行映射的函数。\n",
        "\n",
        "- in_axes：指定输入数据的轴。\n",
        "\n",
        "- out_axes：指定输出数据的轴。\n",
        "\n",
        "vmap ： 将一个函数 矢量化，并应用到输入数组的每个元素。\n",
        "\n",
        "等价于：\n",
        "```python\n",
        "results = []\n",
        "for x in w:\n",
        "    results.append(_inner_sum(x))\n",
        "```"
      ],
      "metadata": {
        "id": "rUG-tynlCVKo"
      },
      "id": "rUG-tynlCVKo"
    },
    {
      "cell_type": "markdown",
      "source": [
        "### ✅ **6. `vmap` 的深度解析**\n",
        "\n",
        "---\n",
        "\n",
        "#### 📌 **(1) `vmap` 的矩阵化原理**\n",
        "\n",
        "- `jax.vmap` 的基本思想是 **矩阵广播**。  \n",
        "- `vmap` 的 **矢量化映射** 通过 **将标量函数 `fun` 应用于数组的每个元素** 来实现：  \n",
        "\n",
        "$$\n",
        "\\text{vmap}(f)(x) = \\begin{pmatrix}\n",
        "f(x_1) \\\\\n",
        "f(x_2) \\\\\n",
        "\\vdots \\\\\n",
        "f(x_n)\n",
        "\\end{pmatrix}\n",
        "$$\n",
        "\n",
        "---\n",
        "\n",
        "#### 📌 **(2) `vmap` 的具体工作方式**\n",
        "\n",
        "- 通过 `vmap` 映射 `_inner_sum(x)` 到 `w` 的每个元素：  \n",
        "\n",
        "```python\n",
        "inner_sum = jax.vmap(_inner_sum)\n",
        "result = inner_sum(w)\n",
        "```\n",
        "\n",
        "`inner_sum(w)` 等效于：\n",
        "\n",
        "$$\n",
        "\\text{inner\\_sum}(w) = \\begin{pmatrix}\n",
        "\\sum_{j=1}^{n} |w_1 - w_j| \\\\\n",
        "\\sum_{j=1}^{n} |w_2 - w_j| \\\\\n",
        "\\vdots \\\\\n",
        "\\sum_{j=1}^{n} |w_n - w_j|\n",
        "\\end{pmatrix}\n",
        "$$\n",
        "\n",
        "\n",
        "\n",
        "- `inner_sum(w)` 计算了 **`w` 中每个元素** 与 `w` 中 **所有元素** 之间的绝对差之和。\n",
        "- 结果是一个长度为 `n` 的 **向量**，每个元素对应一个 `w_i` 的累积差距。"
      ],
      "metadata": {
        "id": "UCxwEM2IDUwC"
      },
      "id": "UCxwEM2IDUwC"
    },
    {
      "cell_type": "markdown",
      "id": "ba2032af",
      "metadata": {
        "id": "ba2032af"
      },
      "source": [
        "## Exercise 7.2\n",
        "\n",
        "In this exercise we investigate how the parameters determining the rate of return on assets and labor income shape inequality.\n",
        "\n",
        "In doing so we recall that\n",
        "\n",
        "$$\n",
        "R_t := 1 + r_t = c_r \\exp(z_t) + \\exp(\\mu_r + \\sigma_r \\xi_t)\n",
        "$$\n",
        "\n",
        "while\n",
        "\n",
        "$$\n",
        "y_t = c_y \\exp(z_t) + \\exp(\\mu_y + \\sigma_y \\zeta_t)\n",
        "$$\n",
        "\n",
        "Investigate how the Lorenz curves and the Gini coefficient associated with the wealth distribution change as **return to savings varies**.\n",
        "\n",
        "In particular, plot Lorenz curves for the following three different values of $ \\mu_r $"
      ]
    },
    {
      "cell_type": "code",
      "execution_count": 36,
      "id": "2d44753a",
      "metadata": {
        "hide-output": false,
        "id": "2d44753a"
      },
      "outputs": [],
      "source": [
        "μ_r_vals = (0.0, 0.025, 0.05)"
      ]
    },
    {
      "cell_type": "markdown",
      "id": "bc53da81",
      "metadata": {
        "id": "bc53da81"
      },
      "source": [
        "Use the following as your initial cross-sectional distribution"
      ]
    },
    {
      "cell_type": "code",
      "execution_count": 37,
      "id": "014e2753",
      "metadata": {
        "hide-output": false,
        "id": "014e2753"
      },
      "outputs": [],
      "source": [
        "num_households = 1_000_000\n",
        "ψ_0 = jnp.full(num_households, y_mean)  # Initial distribution"
      ]
    },
    {
      "cell_type": "markdown",
      "id": "df466df8",
      "metadata": {
        "id": "df466df8"
      },
      "source": [
        "Once you have done that, plot the Gini coefficients as well.\n",
        "\n",
        "Do the outcomes match your intuition?"
      ]
    },
    {
      "cell_type": "markdown",
      "id": "84d992fb",
      "metadata": {
        "id": "84d992fb"
      },
      "source": [
        "## Solution to[ Exercise 7.2](https://jax.quantecon.org/#wd_ex2)\n",
        "\n",
        "Here is one solution"
      ]
    },
    {
      "cell_type": "code",
      "execution_count": 38,
      "id": "b94ea0be",
      "metadata": {
        "hide-output": false,
        "id": "b94ea0be",
        "outputId": "8dbda844-5104-4362-8247-b86189c3475c",
        "colab": {
          "base_uri": "https://localhost:8080/",
          "height": 430
        }
      },
      "outputs": [
        {
          "output_type": "display_data",
          "data": {
            "text/plain": [
              "<Figure size 640x480 with 1 Axes>"
            ],
            "image/png": "[encoded data removed]"
          },
          "metadata": {}
        }
      ],
      "source": [
        "key = jax.random.PRNGKey(1234)\n",
        "fig, ax = plt.subplots()\n",
        "gini_vals = []\n",
        "for μ_r in μ_r_vals:\n",
        "    model = create_wealth_model(μ_r=μ_r)\n",
        "    ψ_star = update_cross_section_jax_compiled(\n",
        "            model, ψ_0, num_households, z_sequence, key\n",
        "    )\n",
        "    x, y = lorenz_curve_jax(ψ_star, num_households)\n",
        "    g = gini_jax(ψ_star, num_households)\n",
        "    ax.plot(x, y, label=f'$\\psi^*$ at $\\mu_r = {μ_r:0.2}$')\n",
        "    gini_vals.append(g)\n",
        "ax.plot(x, y, label='equality')\n",
        "ax.legend(loc=\"upper left\")\n",
        "plt.show()"
      ]
    },
    {
      "cell_type": "markdown",
      "id": "ddc25ab8",
      "metadata": {
        "id": "ddc25ab8"
      },
      "source": [
        "The Lorenz curve shifts downwards as returns on financial income rise, indicating a rise in inequality.\n",
        "\n",
        "Now let’s check the Gini coefficient"
      ]
    },
    {
      "cell_type": "code",
      "execution_count": 39,
      "id": "287740f7",
      "metadata": {
        "hide-output": false,
        "id": "287740f7",
        "outputId": "c073ad50-e377-49c0-890f-c5e1b8fa96c6",
        "colab": {
          "base_uri": "https://localhost:8080/",
          "height": 452
        }
      },
      "outputs": [
        {
          "output_type": "display_data",
          "data": {
            "text/plain": [
              "<Figure size 640x480 with 1 Axes>"
            ],
            "image/png": "[encoded data removed]"
          },
          "metadata": {}
        }
      ],
      "source": [
        "fig, ax = plt.subplots()\n",
        "ax.plot(μ_r_vals, gini_vals, label='Gini coefficient')\n",
        "ax.set_xlabel(\"$\\mu_r$\")\n",
        "ax.legend()\n",
        "plt.show()"
      ]
    },
    {
      "cell_type": "markdown",
      "id": "1e06fad5",
      "metadata": {
        "id": "1e06fad5"
      },
      "source": [
        "As expected, inequality increases as returns on financial income rise."
      ]
    },
    {
      "cell_type": "markdown",
      "id": "7fbf66ad",
      "metadata": {
        "id": "7fbf66ad"
      },
      "source": [
        "## Exercise 7.3\n",
        "\n",
        "Now investigate what happens when we change the volatility term $ \\sigma_r $ in financial returns.\n",
        "\n",
        "Use the same initial condition as before and the sequence"
      ]
    },
    {
      "cell_type": "code",
      "execution_count": 40,
      "id": "3f9ed56f",
      "metadata": {
        "hide-output": false,
        "id": "3f9ed56f"
      },
      "outputs": [],
      "source": [
        "σ_r_vals = (0.35, 0.45, 0.52)"
      ]
    },
    {
      "cell_type": "markdown",
      "id": "e490b7fd",
      "metadata": {
        "id": "e490b7fd"
      },
      "source": [
        "To isolate the role of volatility, set $ \\mu_r = - \\sigma_r^2 / 2 $ at each $ \\sigma_r $.\n",
        "\n",
        "(This holds the variance of the idiosyncratic term $ \\exp(\\mu_r + \\sigma_r \\zeta) $ constant.)"
      ]
    },
    {
      "cell_type": "markdown",
      "id": "740538fa",
      "metadata": {
        "id": "740538fa"
      },
      "source": [
        "## Solution to[ Exercise 7.3](https://jax.quantecon.org/#wd_ex3)\n",
        "\n",
        "Here’s one solution"
      ]
    },
    {
      "cell_type": "code",
      "execution_count": 41,
      "id": "72eba93a",
      "metadata": {
        "hide-output": false,
        "id": "72eba93a",
        "outputId": "a75b597c-b25c-4027-b65f-85d66f23026f",
        "colab": {
          "base_uri": "https://localhost:8080/",
          "height": 430
        }
      },
      "outputs": [
        {
          "output_type": "display_data",
          "data": {
            "text/plain": [
              "<Figure size 640x480 with 1 Axes>"
            ],
            "image/png": "[encoded data removed]"
          },
          "metadata": {}
        }
      ],
      "source": [
        "key = jax.random.PRNGKey(1234)\n",
        "fig, ax = plt.subplots()\n",
        "\n",
        "gini_vals = []\n",
        "for σ_r in σ_r_vals:\n",
        "    model = create_wealth_model(σ_r=σ_r, μ_r=(-σ_r**2/2))\n",
        "    ψ_star = update_cross_section_jax_compiled(\n",
        "            model, ψ_0, num_households, z_sequence, key\n",
        "    )\n",
        "    x, y = lorenz_curve_jax(ψ_star, num_households)\n",
        "    g = gini_jax(ψ_star, num_households)\n",
        "    ax.plot(x, y, label=f'$\\psi^*$ at $\\sigma_r = {σ_r:0.2}$')\n",
        "    gini_vals.append(g)\n",
        "ax.plot(x, y, label='equality')\n",
        "ax.legend(loc=\"upper left\")\n",
        "plt.show()"
      ]
    },
    {
      "cell_type": "code",
      "execution_count": 42,
      "id": "424cec77",
      "metadata": {
        "hide-output": false,
        "id": "424cec77",
        "outputId": "4d06973d-0919-40c2-9201-436a4c880761",
        "colab": {
          "base_uri": "https://localhost:8080/",
          "height": 450
        }
      },
      "outputs": [
        {
          "output_type": "display_data",
          "data": {
            "text/plain": [
              "<Figure size 640x480 with 1 Axes>"
            ],
            "image/png": "[encoded data removed]"
          },
          "metadata": {}
        }
      ],
      "source": [
        "fig, ax = plt.subplots()\n",
        "ax.plot(σ_r_vals, gini_vals, label='Gini coefficient')\n",
        "ax.set_xlabel(\"$\\sigma_r$\")\n",
        "ax.legend()\n",
        "plt.show()"
      ]
    },
    {
      "cell_type": "markdown",
      "id": "0f649257",
      "metadata": {
        "id": "0f649257"
      },
      "source": [
        "## Exercise 7.4\n",
        "\n",
        "In this exercise, examine which has more impact on inequality:\n",
        "\n",
        "- a 5% rise in volatility of the rate of return,  \n",
        "- or a 5% rise in volatility of labor income.  \n",
        "\n",
        "\n",
        "Test this by\n",
        "\n",
        "1. Shifting $ \\sigma_r $ up 5% from the baseline and plotting the Lorenz curve  \n",
        "1. Shifting $ \\sigma_y $ up 5% from the baseline and plotting the Lorenz curve  \n",
        "\n",
        "\n",
        "Plot both on the same figure and examine the result."
      ]
    },
    {
      "cell_type": "markdown",
      "id": "5474e284",
      "metadata": {
        "id": "5474e284"
      },
      "source": [
        "## Solution to[ Exercise 7.4](https://jax.quantecon.org/#wd_ex4)\n",
        "\n",
        "Here’s one solution.\n",
        "\n",
        "It shows that increasing volatility in financial income has a greater effect"
      ]
    },
    {
      "cell_type": "code",
      "execution_count": 43,
      "id": "c068d038",
      "metadata": {
        "hide-output": false,
        "id": "c068d038",
        "outputId": "8833dcb6-c8bc-45cf-872e-6ebc21352b64",
        "colab": {
          "base_uri": "https://localhost:8080/",
          "height": 430
        }
      },
      "outputs": [
        {
          "output_type": "display_data",
          "data": {
            "text/plain": [
              "<Figure size 640x480 with 1 Axes>"
            ],
            "image/png": "[encoded data removed]"
          },
          "metadata": {}
        }
      ],
      "source": [
        "model = create_wealth_model()\n",
        "household_params, aggregate_params = model\n",
        "w_hat, s_0, c_y, μ_y, σ_y, c_r, μ_r, σ_r, y_mean = household_params\n",
        "σ_r_default = σ_r\n",
        "σ_y_default = σ_y\n",
        "\n",
        "ψ_star = update_cross_section_jax_compiled(\n",
        "            model, ψ_0, num_households, z_sequence, key\n",
        ")\n",
        "x_default, y_default = lorenz_curve_jax(ψ_star, num_households)\n",
        "\n",
        "model = create_wealth_model(σ_r=(1.05 * σ_r_default))\n",
        "ψ_star = update_cross_section_jax_compiled(\n",
        "            model, ψ_0, num_households, z_sequence, key\n",
        ")\n",
        "x_financial, y_financial = lorenz_curve_jax(ψ_star, num_households)\n",
        "\n",
        "model = create_wealth_model(σ_y=(1.05 * σ_y_default))\n",
        "ψ_star = update_cross_section_jax_compiled(\n",
        "            model, ψ_0, num_households, z_sequence, key\n",
        ")\n",
        "x_labor, y_labor = lorenz_curve_jax(ψ_star, num_households)\n",
        "\n",
        "fig, ax = plt.subplots()\n",
        "ax.plot(x_default, x_default, 'k-', lw=1, label='equality')\n",
        "ax.plot(x_financial, y_financial, label=r'higher $\\sigma_r$')\n",
        "ax.plot(x_labor, y_labor, label=r'higher $\\sigma_y$')\n",
        "ax.legend()\n",
        "plt.show()"
      ]
    }
  ],
  "metadata": {
    "date": 1741992967.7372258,
    "filename": "wealth_dynamics.md",
    "kernelspec": {
      "display_name": "Python 3",
      "name": "python3"
    },
    "title": "Wealth Distribution Dynamics",
    "colab": {
      "provenance": [],
      "toc_visible": true,
      "gpuType": "T4"
    },
    "accelerator": "GPU"
  },
  "nbformat": 4,
  "nbformat_minor": 5
}