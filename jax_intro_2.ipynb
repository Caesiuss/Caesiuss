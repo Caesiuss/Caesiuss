{
  "cells": [
    {
      "cell_type": "markdown",
      "id": "18e24c04",
      "metadata": {
        "id": "18e24c04"
      },
      "source": [
        "# An Introduction to JAX"
      ]
    },
    {
      "cell_type": "markdown",
      "id": "8775d121",
      "metadata": {
        "id": "8775d121"
      },
      "source": [
        "# GPU\n",
        "\n",
        "This lecture was built using a machine with JAX installed and access to a GPU.\n",
        "\n",
        "To run this lecture on [Google Colab](https://colab.research.google.com/), click on the “play” icon top right, select Colab, and set the runtime environment to include a GPU.\n",
        "\n",
        "To run this lecture on your own machine, you need to install [Google JAX](https://github.com/google/jax).\n",
        "\n",
        "This lecture provides a short introduction to [Google JAX](https://github.com/google/jax).\n",
        "\n",
        "Let’s see if we have an active GPU:"
      ]
    },
    {
      "cell_type": "code",
      "execution_count": 3,
      "id": "027744a9",
      "metadata": {
        "hide-output": false,
        "colab": {
          "base_uri": "https://localhost:8080/"
        },
        "id": "027744a9",
        "outputId": "0fa3195f-2281-40e9-bef9-eee299051f53"
      },
      "outputs": [
        {
          "output_type": "stream",
          "name": "stdout",
          "text": [
            "Mon Mar  3 12:21:45 2025       \n",
            "+-----------------------------------------------------------------------------------------+\n",
            "| NVIDIA-SMI 550.54.15              Driver Version: 550.54.15      CUDA Version: 12.4     |\n",
            "|-----------------------------------------+------------------------+----------------------+\n",
            "| GPU  Name                 Persistence-M | Bus-Id          Disp.A | Volatile Uncorr. ECC |\n",
            "| Fan  Temp   Perf          Pwr:Usage/Cap |           Memory-Usage | GPU-Util  Compute M. |\n",
            "|                                         |                        |               MIG M. |\n",
            "|=========================================+========================+======================|\n",
            "|   0  Tesla T4                       Off |   00000000:00:04.0 Off |                    0 |\n",
            "| N/A   43C    P8              9W /   70W |       0MiB /  15360MiB |      0%      Default |\n",
            "|                                         |                        |                  N/A |\n",
            "+-----------------------------------------+------------------------+----------------------+\n",
            "                                                                                         \n",
            "+-----------------------------------------------------------------------------------------+\n",
            "| Processes:                                                                              |\n",
            "|  GPU   GI   CI        PID   Type   Process name                              GPU Memory |\n",
            "|        ID   ID                                                               Usage      |\n",
            "|=========================================================================================|\n",
            "|  No running processes found                                                             |\n",
            "+-----------------------------------------------------------------------------------------+\n"
          ]
        }
      ],
      "source": [
        "!nvidia-smi"
      ]
    },
    {
      "cell_type": "markdown",
      "id": "001b2b63",
      "metadata": {
        "id": "001b2b63"
      },
      "source": [
        "## JAX as a NumPy Replacement\n",
        "\n",
        "One way to use JAX is as a plug-in NumPy replacement. Let’s look at the\n",
        "similarities and differences."
      ]
    },
    {
      "cell_type": "markdown",
      "id": "87ecb5bf",
      "metadata": {
        "id": "87ecb5bf"
      },
      "source": [
        "### Similarities\n",
        "\n",
        "The following import is standard, replacing `import numpy as np`:"
      ]
    },
    {
      "cell_type": "code",
      "execution_count": 4,
      "id": "577bacfc",
      "metadata": {
        "hide-output": false,
        "id": "577bacfc"
      },
      "outputs": [],
      "source": [
        "import jax\n",
        "import jax.numpy as jnp"
      ]
    },
    {
      "cell_type": "markdown",
      "id": "190a1444",
      "metadata": {
        "id": "190a1444"
      },
      "source": [
        "Now we can use `jnp` in place of `np` for the usual array operations:"
      ]
    },
    {
      "cell_type": "code",
      "execution_count": null,
      "id": "721bfbca",
      "metadata": {
        "hide-output": false,
        "id": "721bfbca"
      },
      "outputs": [],
      "source": [
        "a = jnp.asarray((1.0, 3.2, -1.5))"
      ]
    },
    {
      "cell_type": "code",
      "execution_count": null,
      "id": "3f56cd9d",
      "metadata": {
        "hide-output": false,
        "id": "3f56cd9d"
      },
      "outputs": [],
      "source": [
        "print(a)"
      ]
    },
    {
      "cell_type": "code",
      "execution_count": null,
      "id": "c74ce72a",
      "metadata": {
        "hide-output": false,
        "id": "c74ce72a"
      },
      "outputs": [],
      "source": [
        "print(jnp.sum(a))"
      ]
    },
    {
      "cell_type": "code",
      "execution_count": null,
      "id": "212843a6",
      "metadata": {
        "hide-output": false,
        "id": "212843a6"
      },
      "outputs": [],
      "source": [
        "print(jnp.mean(a))"
      ]
    },
    {
      "cell_type": "code",
      "execution_count": null,
      "id": "bf84021c",
      "metadata": {
        "hide-output": false,
        "id": "bf84021c"
      },
      "outputs": [],
      "source": [
        "print(jnp.dot(a, a))"
      ]
    },
    {
      "cell_type": "markdown",
      "id": "e9d5670d",
      "metadata": {
        "id": "e9d5670d"
      },
      "source": [
        "However, the array object `a` is not a NumPy array:"
      ]
    },
    {
      "cell_type": "code",
      "execution_count": null,
      "id": "762035df",
      "metadata": {
        "hide-output": false,
        "id": "762035df"
      },
      "outputs": [],
      "source": [
        "a"
      ]
    },
    {
      "cell_type": "code",
      "execution_count": null,
      "id": "f44a06f9",
      "metadata": {
        "hide-output": false,
        "id": "f44a06f9"
      },
      "outputs": [],
      "source": [
        "type(a)"
      ]
    },
    {
      "cell_type": "markdown",
      "id": "4568b443",
      "metadata": {
        "id": "4568b443"
      },
      "source": [
        "Even scalar-valued maps on arrays return JAX arrays."
      ]
    },
    {
      "cell_type": "code",
      "execution_count": null,
      "id": "8675608b",
      "metadata": {
        "hide-output": false,
        "id": "8675608b"
      },
      "outputs": [],
      "source": [
        "jnp.sum(a)"
      ]
    },
    {
      "cell_type": "markdown",
      "id": "95ab294d",
      "metadata": {
        "id": "95ab294d"
      },
      "source": [
        "JAX arrays are also called “device arrays,” where term “device” refers to a\n",
        "hardware accelerator (GPU or TPU).\n",
        "\n",
        "(In the terminology of GPUs, the “host” is the machine that launches GPU operations, while the “device” is the GPU itself.)\n",
        "\n",
        "Operations on higher dimensional arrays are also similar to NumPy:"
      ]
    },
    {
      "cell_type": "code",
      "execution_count": null,
      "id": "000b7f88",
      "metadata": {
        "hide-output": false,
        "id": "000b7f88"
      },
      "outputs": [],
      "source": [
        "A = jnp.ones((2, 2))\n",
        "B = jnp.identity(2)\n",
        "A @ B"
      ]
    },
    {
      "cell_type": "code",
      "execution_count": null,
      "id": "d3c7d637",
      "metadata": {
        "hide-output": false,
        "id": "d3c7d637"
      },
      "outputs": [],
      "source": [
        "from jax.numpy import linalg"
      ]
    },
    {
      "cell_type": "code",
      "execution_count": null,
      "id": "dfa411f0",
      "metadata": {
        "hide-output": false,
        "id": "dfa411f0"
      },
      "outputs": [],
      "source": [
        "linalg.inv(B)   # Inverse of identity is identity"
      ]
    },
    {
      "cell_type": "code",
      "execution_count": null,
      "id": "989394f1",
      "metadata": {
        "hide-output": false,
        "id": "989394f1"
      },
      "outputs": [],
      "source": [
        "linalg.eigh(B)  # Computes eigenvalues and eigenvectors"
      ]
    },
    {
      "cell_type": "markdown",
      "id": "a9c9577d",
      "metadata": {
        "id": "a9c9577d"
      },
      "source": [
        "### Differences\n",
        "\n",
        "One difference between NumPy and JAX is that JAX currently uses 32 bit floats by default.\n",
        "\n",
        "This is standard for GPU computing and can lead to significant speed gains with small loss of precision.\n",
        "\n",
        "However, for some calculations precision matters.  In these cases 64 bit floats can be enforced via the command"
      ]
    },
    {
      "cell_type": "code",
      "execution_count": null,
      "id": "2ccaf3dc",
      "metadata": {
        "hide-output": false,
        "id": "2ccaf3dc"
      },
      "outputs": [],
      "source": [
        "jax.config.update(\"jax_enable_x64\", True)"
      ]
    },
    {
      "cell_type": "markdown",
      "id": "d30c22ca",
      "metadata": {
        "id": "d30c22ca"
      },
      "source": [
        "Let’s check this works:"
      ]
    },
    {
      "cell_type": "code",
      "execution_count": null,
      "id": "815c0125",
      "metadata": {
        "hide-output": false,
        "id": "815c0125"
      },
      "outputs": [],
      "source": [
        "jnp.ones(3)"
      ]
    },
    {
      "cell_type": "markdown",
      "id": "ce5c023e",
      "metadata": {
        "id": "ce5c023e"
      },
      "source": [
        "As a NumPy replacement, a more significant difference is that arrays are treated as **immutable**.\n",
        "\n",
        "For example, with NumPy we can write"
      ]
    },
    {
      "cell_type": "code",
      "execution_count": 17,
      "id": "96ed67fa",
      "metadata": {
        "hide-output": false,
        "colab": {
          "base_uri": "https://localhost:8080/"
        },
        "id": "96ed67fa",
        "outputId": "91e824bd-025c-44e1-ab97-af569d8deffa"
      },
      "outputs": [
        {
          "output_type": "execute_result",
          "data": {
            "text/plain": [
              "array([0. , 0.5, 1. ])"
            ]
          },
          "metadata": {},
          "execution_count": 17
        }
      ],
      "source": [
        "import numpy as np\n",
        "a = np.linspace(0, 1, 3)\n",
        "a"
      ]
    },
    {
      "cell_type": "markdown",
      "id": "db097109",
      "metadata": {
        "id": "db097109"
      },
      "source": [
        "and then mutate the data in memory:"
      ]
    },
    {
      "cell_type": "code",
      "execution_count": null,
      "id": "ea8cfee1",
      "metadata": {
        "hide-output": false,
        "id": "ea8cfee1"
      },
      "outputs": [],
      "source": [
        "a[0] = 1\n",
        "a"
      ]
    },
    {
      "cell_type": "markdown",
      "id": "f1b094e3",
      "metadata": {
        "id": "f1b094e3"
      },
      "source": [
        "In JAX this fails:"
      ]
    },
    {
      "cell_type": "code",
      "execution_count": null,
      "id": "8f4ef5ea",
      "metadata": {
        "hide-output": false,
        "id": "8f4ef5ea"
      },
      "outputs": [],
      "source": [
        "a = jnp.linspace(0, 1, 3)\n",
        "a"
      ]
    },
    {
      "cell_type": "code",
      "execution_count": null,
      "id": "77a6f3c5",
      "metadata": {
        "hide-output": false,
        "id": "77a6f3c5"
      },
      "outputs": [],
      "source": [
        "a[0] = 1"
      ]
    },
    {
      "cell_type": "markdown",
      "id": "4418e3a2",
      "metadata": {
        "id": "4418e3a2"
      },
      "source": [
        "In line with immutability, JAX does not support inplace operations:"
      ]
    },
    {
      "cell_type": "code",
      "execution_count": null,
      "id": "4aa7b533",
      "metadata": {
        "hide-output": false,
        "id": "4aa7b533"
      },
      "outputs": [],
      "source": [
        "a = np.array((2, 1))\n",
        "a.sort()\n",
        "a"
      ]
    },
    {
      "cell_type": "code",
      "execution_count": null,
      "id": "1f469ba2",
      "metadata": {
        "hide-output": false,
        "id": "1f469ba2"
      },
      "outputs": [],
      "source": [
        "a = jnp.array((2, 1))\n",
        "a_new = a.sort()\n",
        "a, a_new"
      ]
    },
    {
      "cell_type": "markdown",
      "id": "29e38f44",
      "metadata": {
        "id": "29e38f44"
      },
      "source": [
        "The designers of JAX chose to make arrays immutable because JAX uses a\n",
        "functional programming style.  More on this below.\n",
        "\n",
        "Note that, while mutation is discouraged, it is in fact possible with `at`, as in"
      ]
    },
    {
      "cell_type": "code",
      "execution_count": null,
      "id": "480aaee6",
      "metadata": {
        "hide-output": false,
        "id": "480aaee6"
      },
      "outputs": [],
      "source": [
        "a = jnp.linspace(0, 1, 3)\n",
        "id(a)"
      ]
    },
    {
      "cell_type": "code",
      "execution_count": null,
      "id": "b5851609",
      "metadata": {
        "hide-output": false,
        "id": "b5851609"
      },
      "outputs": [],
      "source": [
        "a"
      ]
    },
    {
      "cell_type": "code",
      "execution_count": null,
      "id": "176e8f72",
      "metadata": {
        "hide-output": false,
        "id": "176e8f72"
      },
      "outputs": [],
      "source": [
        "a.at[0].set(1)"
      ]
    },
    {
      "cell_type": "markdown",
      "id": "1e4934bf",
      "metadata": {
        "id": "1e4934bf"
      },
      "source": [
        "We can check that the array is mutated by verifying its identity is unchanged:"
      ]
    },
    {
      "cell_type": "code",
      "execution_count": null,
      "id": "83191c3b",
      "metadata": {
        "hide-output": false,
        "id": "83191c3b"
      },
      "outputs": [],
      "source": [
        "id(a)"
      ]
    },
    {
      "cell_type": "markdown",
      "id": "baaa48a3",
      "metadata": {
        "id": "baaa48a3"
      },
      "source": [
        "## Random Numbers\n",
        "\n",
        "Random numbers are also a bit different in JAX, relative to NumPy.  Typically, in JAX, the state of the random number generator needs to be controlled explicitly."
      ]
    },
    {
      "cell_type": "code",
      "execution_count": null,
      "id": "0d705e80",
      "metadata": {
        "hide-output": false,
        "id": "0d705e80"
      },
      "outputs": [],
      "source": [
        "import jax.random as random"
      ]
    },
    {
      "cell_type": "markdown",
      "id": "096e3be7",
      "metadata": {
        "id": "096e3be7"
      },
      "source": [
        "First we produce a key, which seeds the random number generator."
      ]
    },
    {
      "cell_type": "code",
      "execution_count": null,
      "id": "f54d3e77",
      "metadata": {
        "hide-output": false,
        "id": "f54d3e77"
      },
      "outputs": [],
      "source": [
        "key = random.PRNGKey(1)"
      ]
    },
    {
      "cell_type": "code",
      "execution_count": null,
      "id": "d0d8f1d8",
      "metadata": {
        "hide-output": false,
        "id": "d0d8f1d8"
      },
      "outputs": [],
      "source": [
        "type(key)"
      ]
    },
    {
      "cell_type": "code",
      "execution_count": null,
      "id": "ed3eabf0",
      "metadata": {
        "hide-output": false,
        "id": "ed3eabf0"
      },
      "outputs": [],
      "source": [
        "print(key)"
      ]
    },
    {
      "cell_type": "markdown",
      "id": "212ab45c",
      "metadata": {
        "id": "212ab45c"
      },
      "source": [
        "Now we can use the key to generate some random numbers:"
      ]
    },
    {
      "cell_type": "code",
      "execution_count": null,
      "id": "fdf2ed0f",
      "metadata": {
        "hide-output": false,
        "id": "fdf2ed0f"
      },
      "outputs": [],
      "source": [
        "x = random.normal(key, (3, 3))\n",
        "x"
      ]
    },
    {
      "cell_type": "markdown",
      "id": "a0b5bddb",
      "metadata": {
        "id": "a0b5bddb"
      },
      "source": [
        "If we use the same key again, we initialize at the same seed, so the random numbers are the same:"
      ]
    },
    {
      "cell_type": "code",
      "execution_count": null,
      "id": "1ede427d",
      "metadata": {
        "hide-output": false,
        "id": "1ede427d"
      },
      "outputs": [],
      "source": [
        "random.normal(key, (3, 3))"
      ]
    },
    {
      "cell_type": "markdown",
      "id": "b7eed012",
      "metadata": {
        "id": "b7eed012"
      },
      "source": [
        "To produce a (quasi-) independent draw, best practice is to “split” the existing key:"
      ]
    },
    {
      "cell_type": "code",
      "execution_count": null,
      "id": "03fe2ed5",
      "metadata": {
        "hide-output": false,
        "id": "03fe2ed5"
      },
      "outputs": [],
      "source": [
        "key, subkey = random.split(key)"
      ]
    },
    {
      "cell_type": "code",
      "execution_count": null,
      "id": "570d9c7f",
      "metadata": {
        "hide-output": false,
        "id": "570d9c7f"
      },
      "outputs": [],
      "source": [
        "random.normal(key, (3, 3))"
      ]
    },
    {
      "cell_type": "code",
      "execution_count": null,
      "id": "7637f0a5",
      "metadata": {
        "hide-output": false,
        "id": "7637f0a5"
      },
      "outputs": [],
      "source": [
        "random.normal(subkey, (3, 3))"
      ]
    },
    {
      "cell_type": "markdown",
      "id": "db90e831",
      "metadata": {
        "id": "db90e831"
      },
      "source": [
        "The function below produces `k` (quasi-) independent random `n x n` matrices using this procedure."
      ]
    },
    {
      "cell_type": "code",
      "execution_count": null,
      "id": "b6c113f7",
      "metadata": {
        "hide-output": false,
        "id": "b6c113f7"
      },
      "outputs": [],
      "source": [
        "def gen_random_matrices(key, n, k):\n",
        "    matrices = []\n",
        "    for _ in range(k):\n",
        "        key, subkey = random.split(key)\n",
        "        matrices.append(random.uniform(subkey, (n, n)))\n",
        "    return matrices"
      ]
    },
    {
      "cell_type": "code",
      "execution_count": null,
      "id": "6f4e08d6",
      "metadata": {
        "hide-output": false,
        "id": "6f4e08d6"
      },
      "outputs": [],
      "source": [
        "matrices = gen_random_matrices(key, 2, 2)\n",
        "for A in matrices:\n",
        "    print(A)"
      ]
    },
    {
      "cell_type": "markdown",
      "id": "e2969547",
      "metadata": {
        "id": "e2969547"
      },
      "source": [
        "One point to remember is that JAX expects tuples to describe array shapes, even for flat arrays.  Hence, to get a one-dimensional array of normal random draws we use `(len, )` for the shape, as in"
      ]
    },
    {
      "cell_type": "code",
      "execution_count": null,
      "id": "4a1a057f",
      "metadata": {
        "hide-output": false,
        "id": "4a1a057f"
      },
      "outputs": [],
      "source": [
        "random.normal(key, (5, ))"
      ]
    },
    {
      "cell_type": "markdown",
      "id": "6f692ecc",
      "metadata": {
        "id": "6f692ecc"
      },
      "source": [
        "## JIT compilation\n",
        "\n",
        "The JAX just-in-time (JIT) compiler accelerates logic within functions by fusing linear\n",
        "algebra operations into a single optimized kernel that the host can\n",
        "launch on the GPU / TPU (or CPU if no accelerator is detected)."
      ]
    },
    {
      "cell_type": "markdown",
      "id": "68e7a4ab",
      "metadata": {
        "id": "68e7a4ab"
      },
      "source": [
        "### A first example\n",
        "\n",
        "To see the JIT compiler in action, consider the following function."
      ]
    },
    {
      "cell_type": "code",
      "execution_count": 3,
      "id": "433092fb",
      "metadata": {
        "hide-output": false,
        "id": "433092fb"
      },
      "outputs": [],
      "source": [
        "def f(x):\n",
        "    a = 3*x + jnp.sin(x) + jnp.cos(x**2) - jnp.cos(2*x) - x**2 * 0.4 * x**1.5\n",
        "    return jnp.sum(a)"
      ]
    },
    {
      "cell_type": "markdown",
      "id": "883432e8",
      "metadata": {
        "id": "883432e8"
      },
      "source": [
        "Let’s build an array to call the function on."
      ]
    },
    {
      "cell_type": "code",
      "execution_count": 4,
      "id": "fec36bfa",
      "metadata": {
        "hide-output": false,
        "id": "fec36bfa"
      },
      "outputs": [],
      "source": [
        "n = 50_000_000\n",
        "x = jnp.ones(n)"
      ]
    },
    {
      "cell_type": "markdown",
      "id": "9727938e",
      "metadata": {
        "id": "9727938e"
      },
      "source": [
        "How long does the function take to execute?"
      ]
    },
    {
      "cell_type": "code",
      "execution_count": 5,
      "id": "c99c45de",
      "metadata": {
        "hide-output": false,
        "colab": {
          "base_uri": "https://localhost:8080/"
        },
        "id": "c99c45de",
        "outputId": "a41a715a-30c5-49bb-92b2-9cbdbb4eac50"
      },
      "outputs": [
        {
          "output_type": "stream",
          "name": "stdout",
          "text": [
            "CPU times: user 223 ms, sys: 10.5 ms, total: 234 ms\n",
            "Wall time: 418 ms\n"
          ]
        },
        {
          "output_type": "execute_result",
          "data": {
            "text/plain": [
              "Array(2.198959e+08, dtype=float32)"
            ]
          },
          "metadata": {},
          "execution_count": 5
        }
      ],
      "source": [
        "%time f(x).block_until_ready()"
      ]
    },
    {
      "cell_type": "markdown",
      "id": "f9938910",
      "metadata": {
        "id": "f9938910"
      },
      "source": [
        ">**Note**\n",
        ">\n",
        ">Here, in order to measure actual speed, we use the `block_until_ready()` method\n",
        "to hold the interpreter until the results of the computation are returned from\n",
        "the device. This is necessary because JAX uses asynchronous dispatch, which\n",
        "allows the Python interpreter to run ahead of GPU computations.\n",
        "\n",
        "The code doesn’t run as fast as we might hope, given that it’s running on a GPU.\n",
        "\n",
        "But if we run it a second time it becomes much faster:"
      ]
    },
    {
      "cell_type": "code",
      "execution_count": 6,
      "id": "23395691",
      "metadata": {
        "hide-output": false,
        "colab": {
          "base_uri": "https://localhost:8080/"
        },
        "id": "23395691",
        "outputId": "dfa60af9-781d-4fe1-d0e9-98a63801084a"
      },
      "outputs": [
        {
          "output_type": "stream",
          "name": "stdout",
          "text": [
            "CPU times: user 3.86 ms, sys: 961 µs, total: 4.83 ms\n",
            "Wall time: 28.9 ms\n"
          ]
        },
        {
          "output_type": "execute_result",
          "data": {
            "text/plain": [
              "Array(2.198959e+08, dtype=float32)"
            ]
          },
          "metadata": {},
          "execution_count": 6
        }
      ],
      "source": [
        "%time f(x).block_until_ready()"
      ]
    },
    {
      "cell_type": "markdown",
      "source": [
        "异步计算：\n",
        "JAX 默认使用 异步计算，即 Python 解释器可以在 GPU 计算还未完成时继续执行下一步代码。\n",
        "block_until_ready() 使 Python 解释器等待 GPU 计算完全结束，然后测量时间，否则测量结果会不准确。\n"
      ],
      "metadata": {
        "id": "A9tpCOUo7duU"
      },
      "id": "A9tpCOUo7duU"
    },
    {
      "cell_type": "markdown",
      "id": "be7eac0d",
      "metadata": {
        "id": "be7eac0d"
      },
      "source": [
        "This is because the built in functions like `jnp.cos` are JIT compiled and the\n",
        "first run includes compile time.\n",
        "\n",
        "Why would JAX want to JIT-compile built in functions like `jnp.cos` instead of\n",
        "just providing pre-compiled versions, like NumPy?\n",
        "\n",
        "The reason is that the JIT compiler can specialize on the *size* of the array\n",
        "being used, which is helpful for parallelization.\n",
        "\n",
        "For example, in running the code above, the JIT compiler produced a version of `jnp.cos` that is\n",
        "specialized to floating point arrays of size `n = 50_000_000`.\n",
        "\n",
        "We can check this by calling `f` with a new array of different size."
      ]
    },
    {
      "cell_type": "code",
      "execution_count": 7,
      "id": "86215fb4",
      "metadata": {
        "hide-output": false,
        "id": "86215fb4"
      },
      "outputs": [],
      "source": [
        "m = 50_000_001\n",
        "y = jnp.ones(m)"
      ]
    },
    {
      "cell_type": "code",
      "execution_count": 8,
      "id": "608662b0",
      "metadata": {
        "hide-output": false,
        "colab": {
          "base_uri": "https://localhost:8080/"
        },
        "id": "608662b0",
        "outputId": "54b6fdfa-f7be-4ee3-e18c-ec939396229b"
      },
      "outputs": [
        {
          "output_type": "stream",
          "name": "stdout",
          "text": [
            "CPU times: user 199 ms, sys: 17.8 ms, total: 216 ms\n",
            "Wall time: 363 ms\n"
          ]
        },
        {
          "output_type": "execute_result",
          "data": {
            "text/plain": [
              "Array(2.1989597e+08, dtype=float32)"
            ]
          },
          "metadata": {},
          "execution_count": 8
        }
      ],
      "source": [
        "%time f(y).block_until_ready()"
      ]
    },
    {
      "cell_type": "markdown",
      "id": "b8299d9a",
      "metadata": {
        "id": "b8299d9a"
      },
      "source": [
        "Notice that the execution time increases, because now new versions of\n",
        "the built-ins like `jnp.cos` are being compiled, specialized to the new array\n",
        "size.\n",
        "\n",
        "If we run again, the code is dispatched to the correct compiled version and we\n",
        "get faster execution."
      ]
    },
    {
      "cell_type": "code",
      "execution_count": 9,
      "id": "9bf77add",
      "metadata": {
        "hide-output": false,
        "colab": {
          "base_uri": "https://localhost:8080/"
        },
        "id": "9bf77add",
        "outputId": "056e7f0f-cfd0-4aaf-960f-a381171da2d3"
      },
      "outputs": [
        {
          "output_type": "stream",
          "name": "stdout",
          "text": [
            "CPU times: user 4.78 ms, sys: 198 µs, total: 4.97 ms\n",
            "Wall time: 29.2 ms\n"
          ]
        },
        {
          "output_type": "execute_result",
          "data": {
            "text/plain": [
              "Array(2.1989597e+08, dtype=float32)"
            ]
          },
          "metadata": {},
          "execution_count": 9
        }
      ],
      "source": [
        "%time f(y).block_until_ready()"
      ]
    },
    {
      "cell_type": "markdown",
      "id": "1cef5bb6",
      "metadata": {
        "id": "1cef5bb6"
      },
      "source": [
        "The compiled versions for the previous array size are still available in memory\n",
        "too, and the following call is dispatched to the correct compiled code."
      ]
    },
    {
      "cell_type": "code",
      "execution_count": 10,
      "id": "536c4a7c",
      "metadata": {
        "hide-output": false,
        "colab": {
          "base_uri": "https://localhost:8080/"
        },
        "id": "536c4a7c",
        "outputId": "ea2b2e68-2f5a-49ac-eb11-0930a01e18f6"
      },
      "outputs": [
        {
          "output_type": "stream",
          "name": "stdout",
          "text": [
            "CPU times: user 3.96 ms, sys: 984 µs, total: 4.95 ms\n",
            "Wall time: 28.9 ms\n"
          ]
        },
        {
          "output_type": "execute_result",
          "data": {
            "text/plain": [
              "Array(2.198959e+08, dtype=float32)"
            ]
          },
          "metadata": {},
          "execution_count": 10
        }
      ],
      "source": [
        "%time f(x).block_until_ready()"
      ]
    },
    {
      "cell_type": "markdown",
      "id": "34fa6094",
      "metadata": {
        "id": "34fa6094"
      },
      "source": [
        "### Compiling the outer function\n",
        "\n",
        "We can do even better if we manually JIT-compile the outer function."
      ]
    },
    {
      "cell_type": "code",
      "execution_count": 11,
      "id": "ead87f3f",
      "metadata": {
        "hide-output": false,
        "id": "ead87f3f"
      },
      "outputs": [],
      "source": [
        "f_jit = jax.jit(f)   # target for JIT compilation"
      ]
    },
    {
      "cell_type": "markdown",
      "source": [
        "这里 jax.jit(f) 会将函数 f 进行 JIT 编译，并返回一个新的函数 f_jit。\n",
        "f_jit 现在是一个 JIT 加速的版本，执行时会比普通的 f(x) 运行得更快。"
      ],
      "metadata": {
        "id": "QWYLB_q28USb"
      },
      "id": "QWYLB_q28USb"
    },
    {
      "cell_type": "markdown",
      "id": "edca1595",
      "metadata": {
        "id": "edca1595"
      },
      "source": [
        "Let’s run once to compile it:"
      ]
    },
    {
      "cell_type": "code",
      "execution_count": 12,
      "id": "899d3fb4",
      "metadata": {
        "hide-output": false,
        "colab": {
          "base_uri": "https://localhost:8080/"
        },
        "id": "899d3fb4",
        "outputId": "ff47946f-147d-440d-db30-266a3775c020"
      },
      "outputs": [
        {
          "output_type": "execute_result",
          "data": {
            "text/plain": [
              "Array(2.198959e+08, dtype=float32)"
            ]
          },
          "metadata": {},
          "execution_count": 12
        }
      ],
      "source": [
        "f_jit(x)"
      ]
    },
    {
      "cell_type": "markdown",
      "source": [
        "第一次调用 f_jit(x) 时，JAX 会编译函数 f 并缓存优化结果。\n",
        "后续调用 只会运行编译后的代码，而不会再次编译，速度大幅提升。"
      ],
      "metadata": {
        "id": "Q3d6yS0d8fP2"
      },
      "id": "Q3d6yS0d8fP2"
    },
    {
      "cell_type": "markdown",
      "id": "93771a50",
      "metadata": {
        "id": "93771a50"
      },
      "source": [
        "And now let’s time it."
      ]
    },
    {
      "cell_type": "code",
      "execution_count": 13,
      "id": "45aa93fb",
      "metadata": {
        "hide-output": false,
        "colab": {
          "base_uri": "https://localhost:8080/"
        },
        "id": "45aa93fb",
        "outputId": "b31a61e3-8887-44a0-8a27-97fcf419864a"
      },
      "outputs": [
        {
          "output_type": "stream",
          "name": "stdout",
          "text": [
            "CPU times: user 629 µs, sys: 680 µs, total: 1.31 ms\n",
            "Wall time: 7.35 ms\n"
          ]
        },
        {
          "output_type": "execute_result",
          "data": {
            "text/plain": [
              "Array(2.198959e+08, dtype=float32)"
            ]
          },
          "metadata": {},
          "execution_count": 13
        }
      ],
      "source": [
        "%time f_jit(x).block_until_ready()"
      ]
    },
    {
      "cell_type": "markdown",
      "id": "48c4105d",
      "metadata": {
        "id": "48c4105d"
      },
      "source": [
        "Note the speed gain.\n",
        "\n",
        "This is because the array operations are fused and no intermediate arrays are created.\n",
        "\n",
        "Incidentally, a more common syntax when targetting a function for the JIT\n",
        "compiler is"
      ]
    },
    {
      "cell_type": "code",
      "execution_count": 2,
      "id": "9aa8c2af",
      "metadata": {
        "hide-output": false,
        "colab": {
          "base_uri": "https://localhost:8080/",
          "height": 199
        },
        "id": "9aa8c2af",
        "outputId": "f94324bc-372a-4a30-e606-d75cf06ee5dd"
      },
      "outputs": [
        {
          "output_type": "error",
          "ename": "NameError",
          "evalue": "name 'jax' is not defined",
          "traceback": [
            "\u001b[0;31m---------------------------------------------------------------------------\u001b[0m",
            "\u001b[0;31mNameError\u001b[0m                                 Traceback (most recent call last)",
            "\u001b[0;32m<ipython-input-2-c6c311c29067>\u001b[0m in \u001b[0;36m<cell line: 0>\u001b[0;34m()\u001b[0m\n\u001b[0;32m----> 1\u001b[0;31m \u001b[0;34m@\u001b[0m\u001b[0mjax\u001b[0m\u001b[0;34m.\u001b[0m\u001b[0mjit\u001b[0m\u001b[0;34m\u001b[0m\u001b[0;34m\u001b[0m\u001b[0m\n\u001b[0m\u001b[1;32m      2\u001b[0m \u001b[0;32mdef\u001b[0m \u001b[0mf\u001b[0m\u001b[0;34m(\u001b[0m\u001b[0mx\u001b[0m\u001b[0;34m)\u001b[0m\u001b[0;34m:\u001b[0m\u001b[0;34m\u001b[0m\u001b[0;34m\u001b[0m\u001b[0m\n\u001b[1;32m      3\u001b[0m     \u001b[0ma\u001b[0m \u001b[0;34m=\u001b[0m \u001b[0;36m3\u001b[0m\u001b[0;34m*\u001b[0m\u001b[0mx\u001b[0m \u001b[0;34m+\u001b[0m \u001b[0mjnp\u001b[0m\u001b[0;34m.\u001b[0m\u001b[0msin\u001b[0m\u001b[0;34m(\u001b[0m\u001b[0mx\u001b[0m\u001b[0;34m)\u001b[0m \u001b[0;34m+\u001b[0m \u001b[0mjnp\u001b[0m\u001b[0;34m.\u001b[0m\u001b[0mcos\u001b[0m\u001b[0;34m(\u001b[0m\u001b[0mx\u001b[0m\u001b[0;34m**\u001b[0m\u001b[0;36m2\u001b[0m\u001b[0;34m)\u001b[0m \u001b[0;34m-\u001b[0m \u001b[0mjnp\u001b[0m\u001b[0;34m.\u001b[0m\u001b[0mcos\u001b[0m\u001b[0;34m(\u001b[0m\u001b[0;36m2\u001b[0m\u001b[0;34m*\u001b[0m\u001b[0mx\u001b[0m\u001b[0;34m)\u001b[0m \u001b[0;34m-\u001b[0m \u001b[0mx\u001b[0m\u001b[0;34m**\u001b[0m\u001b[0;36m2\u001b[0m \u001b[0;34m*\u001b[0m \u001b[0;36m0.4\u001b[0m \u001b[0;34m*\u001b[0m \u001b[0mx\u001b[0m\u001b[0;34m**\u001b[0m\u001b[0;36m1.5\u001b[0m\u001b[0;34m\u001b[0m\u001b[0;34m\u001b[0m\u001b[0m\n\u001b[1;32m      4\u001b[0m     \u001b[0;32mreturn\u001b[0m \u001b[0mjnp\u001b[0m\u001b[0;34m.\u001b[0m\u001b[0msum\u001b[0m\u001b[0;34m(\u001b[0m\u001b[0ma\u001b[0m\u001b[0;34m)\u001b[0m\u001b[0;34m\u001b[0m\u001b[0;34m\u001b[0m\u001b[0m\n",
            "\u001b[0;31mNameError\u001b[0m: name 'jax' is not defined"
          ]
        }
      ],
      "source": [
        "@jax.jit\n",
        "def f(x):\n",
        "    a = 3*x + jnp.sin(x) + jnp.cos(x**2) - jnp.cos(2*x) - x**2 * 0.4 * x**1.5\n",
        "    return jnp.sum(a)"
      ]
    },
    {
      "cell_type": "markdown",
      "id": "9386decd",
      "metadata": {
        "id": "9386decd"
      },
      "source": [
        "## Functional Programming\n",
        "\n",
        "From JAX’s documentation:\n",
        "\n",
        "*When walking about the countryside of Italy, the people will not hesitate to tell you that JAX has “una anima di pura programmazione funzionale”.*\n",
        "\n",
        "In other words, JAX assumes a functional programming style.\n",
        "\n",
        "The major implication is that JAX functions should be pure.\n",
        "\n",
        "A pure function will always return the same result if invoked with the same inputs.\n",
        "\n",
        "In particular, a pure function has\n",
        "\n",
        "- no dependence on global variables and  \n",
        "- no side effects  \n",
        "\n",
        "\n",
        "JAX will not usually throw errors when compiling impure functions but execution becomes unpredictable.\n",
        "\n",
        "Here’s an illustration of this fact, using global variables:"
      ]
    },
    {
      "cell_type": "code",
      "execution_count": 5,
      "id": "37e51dc8",
      "metadata": {
        "hide-output": false,
        "id": "37e51dc8"
      },
      "outputs": [],
      "source": [
        "a = 1  # global\n",
        "\n",
        "@jax.jit\n",
        "def f(x):\n",
        "    return a + x"
      ]
    },
    {
      "cell_type": "code",
      "execution_count": 6,
      "id": "11680742",
      "metadata": {
        "hide-output": false,
        "id": "11680742"
      },
      "outputs": [],
      "source": [
        "x = jnp.ones(2)"
      ]
    },
    {
      "cell_type": "code",
      "execution_count": 7,
      "id": "558ab306",
      "metadata": {
        "hide-output": false,
        "colab": {
          "base_uri": "https://localhost:8080/"
        },
        "id": "558ab306",
        "outputId": "2a8449dd-e0be-4542-df0e-bd86f5a2d42e"
      },
      "outputs": [
        {
          "output_type": "execute_result",
          "data": {
            "text/plain": [
              "Array([2., 2.], dtype=float32)"
            ]
          },
          "metadata": {},
          "execution_count": 7
        }
      ],
      "source": [
        "f(x)"
      ]
    },
    {
      "cell_type": "markdown",
      "id": "7f5498ff",
      "metadata": {
        "id": "7f5498ff"
      },
      "source": [
        "In the code above, the global value `a=1` is fused into the jitted function.\n",
        "\n",
        "Even if we change `a`, the output of `f` will not be affected — as long as the same compiled version is called."
      ]
    },
    {
      "cell_type": "code",
      "execution_count": 8,
      "id": "d993478d",
      "metadata": {
        "hide-output": false,
        "id": "d993478d"
      },
      "outputs": [],
      "source": [
        "a = 42"
      ]
    },
    {
      "cell_type": "code",
      "execution_count": 9,
      "id": "3764313a",
      "metadata": {
        "hide-output": false,
        "colab": {
          "base_uri": "https://localhost:8080/"
        },
        "id": "3764313a",
        "outputId": "15cd7f73-220c-4058-d528-7f13c73fbf05"
      },
      "outputs": [
        {
          "output_type": "execute_result",
          "data": {
            "text/plain": [
              "Array([2., 2.], dtype=float32)"
            ]
          },
          "metadata": {},
          "execution_count": 9
        }
      ],
      "source": [
        "f(x)"
      ]
    },
    {
      "cell_type": "markdown",
      "id": "2582b1e9",
      "metadata": {
        "id": "2582b1e9"
      },
      "source": [
        "Changing the dimension of the input triggers a fresh compilation of the function, at which time the change in the value of `a` takes effect:"
      ]
    },
    {
      "cell_type": "code",
      "execution_count": 10,
      "id": "615447e8",
      "metadata": {
        "hide-output": false,
        "id": "615447e8"
      },
      "outputs": [],
      "source": [
        "x = jnp.ones(3)"
      ]
    },
    {
      "cell_type": "code",
      "execution_count": 11,
      "id": "cf238e66",
      "metadata": {
        "hide-output": false,
        "colab": {
          "base_uri": "https://localhost:8080/"
        },
        "id": "cf238e66",
        "outputId": "b57b80e0-c3ca-4c26-de90-125888650ff9"
      },
      "outputs": [
        {
          "output_type": "execute_result",
          "data": {
            "text/plain": [
              "Array([43., 43., 43.], dtype=float32)"
            ]
          },
          "metadata": {},
          "execution_count": 11
        }
      ],
      "source": [
        "f(x)"
      ]
    },
    {
      "cell_type": "markdown",
      "id": "090fcca9",
      "metadata": {
        "id": "090fcca9"
      },
      "source": [
        "Moral of the story: write pure functions when using JAX!"
      ]
    },
    {
      "cell_type": "markdown",
      "id": "1dacda17",
      "metadata": {
        "id": "1dacda17"
      },
      "source": [
        "## Gradients\n",
        "\n",
        "JAX can use automatic differentiation to compute gradients.\n",
        "\n",
        "This can be extremely useful for optimization and solving nonlinear systems.\n",
        "\n",
        "We will see significant applications later in this lecture series.\n",
        "\n",
        "For now, here’s a very simple illustration involving the function"
      ]
    },
    {
      "cell_type": "code",
      "execution_count": 12,
      "id": "b0bc0280",
      "metadata": {
        "hide-output": false,
        "id": "b0bc0280"
      },
      "outputs": [],
      "source": [
        "def f(x):\n",
        "    return (x**2) / 2"
      ]
    },
    {
      "cell_type": "markdown",
      "id": "33f11e9f",
      "metadata": {
        "id": "33f11e9f"
      },
      "source": [
        "Let’s take the derivative:"
      ]
    },
    {
      "cell_type": "code",
      "execution_count": 13,
      "id": "73a77c40",
      "metadata": {
        "hide-output": false,
        "id": "73a77c40"
      },
      "outputs": [],
      "source": [
        "f_prime = jax.grad(f)"
      ]
    },
    {
      "cell_type": "code",
      "execution_count": 14,
      "id": "4d59d57a",
      "metadata": {
        "hide-output": false,
        "colab": {
          "base_uri": "https://localhost:8080/"
        },
        "id": "4d59d57a",
        "outputId": "cc4d33ba-b206-4566-9b8e-8f2652c3366e"
      },
      "outputs": [
        {
          "output_type": "execute_result",
          "data": {
            "text/plain": [
              "Array(10., dtype=float32, weak_type=True)"
            ]
          },
          "metadata": {},
          "execution_count": 14
        }
      ],
      "source": [
        "f_prime(10.0)"
      ]
    },
    {
      "cell_type": "markdown",
      "id": "be4e8a8c",
      "metadata": {
        "id": "be4e8a8c"
      },
      "source": [
        "Let’s plot the function and derivative, noting that $ f'(x) = x $."
      ]
    },
    {
      "cell_type": "code",
      "execution_count": 15,
      "id": "dd50b368",
      "metadata": {
        "hide-output": false,
        "colab": {
          "base_uri": "https://localhost:8080/",
          "height": 430
        },
        "id": "dd50b368",
        "outputId": "55fa8291-14f4-4505-9526-ed5a9965b172"
      },
      "outputs": [
        {
          "output_type": "display_data",
          "data": {
            "text/plain": [
              "<Figure size 640x480 with 1 Axes>"
            ],
            "image/png": "[encoded data removed]"
          },
          "metadata": {}
        }
      ],
      "source": [
        "import matplotlib.pyplot as plt\n",
        "\n",
        "fig, ax = plt.subplots()\n",
        "x_grid = jnp.linspace(-4, 4, 200)\n",
        "ax.plot(x_grid, f(x_grid), label=\"$f$\")\n",
        "ax.plot(x_grid, [f_prime(x) for x in x_grid], label=\"$f'$\")\n",
        "ax.legend(loc='upper center')\n",
        "plt.show()"
      ]
    },
    {
      "cell_type": "markdown",
      "id": "f660acd7",
      "metadata": {
        "id": "f660acd7"
      },
      "source": [
        "We defer further exploration of automatic differentiation with JAX until [Adventures with Autodiff](https://jax.quantecon.org/autodiff.html)."
      ]
    },
    {
      "cell_type": "markdown",
      "id": "763b450d",
      "metadata": {
        "id": "763b450d"
      },
      "source": [
        "## Writing vectorized code\n",
        "\n",
        "Writing fast JAX code requires shifting repetitive tasks from loops to array processing operations, so that the JAX compiler can easily understand the whole operation and generate more efficient machine code.\n",
        "\n",
        "This procedure is called **vectorization** or **array programming**, and will be familiar to anyone who has used NumPy or MATLAB.\n",
        "\n",
        "In most ways, vectorization is the same in JAX as it is in NumPy.\n",
        "\n",
        "But there are also some differences, which we highlight here.\n",
        "\n",
        "As a running example, consider the function\n",
        "\n",
        "$$\n",
        "f(x,y) = \\frac{\\cos(x^2 + y^2)}{1 + x^2 + y^2}\n",
        "$$\n",
        "\n",
        "Suppose that we want to evaluate this function on a square grid of $ x $ and $ y $ points and then plot it.\n",
        "\n",
        "To clarify, here is the slow `for` loop version."
      ]
    },
    {
      "cell_type": "code",
      "execution_count": 18,
      "id": "fb641606",
      "metadata": {
        "hide-output": false,
        "id": "fb641606"
      },
      "outputs": [],
      "source": [
        "@jax.jit\n",
        "def f(x, y):\n",
        "    return jnp.cos(x**2 + y**2) / (1 + x**2 + y**2)\n",
        "\n",
        "n = 80\n",
        "x = jnp.linspace(-2, 2, n)\n",
        "y = x\n",
        "\n",
        "z_loops = np.empty((n, n))"
      ]
    },
    {
      "cell_type": "code",
      "execution_count": 19,
      "id": "e6cb5298",
      "metadata": {
        "hide-output": false,
        "colab": {
          "base_uri": "https://localhost:8080/"
        },
        "id": "e6cb5298",
        "outputId": "89b7342f-45d4-40b3-e7a8-c5255401f672"
      },
      "outputs": [
        {
          "output_type": "stream",
          "name": "stdout",
          "text": [
            "CPU times: user 7.7 s, sys: 2.18 s, total: 9.88 s\n",
            "Wall time: 7.93 s\n"
          ]
        }
      ],
      "source": [
        "%%time\n",
        "for i in range(n):\n",
        "    for j in range(n):\n",
        "        z_loops[i, j] = f(x[i], y[j])"
      ]
    },
    {
      "cell_type": "markdown",
      "source": [
        "这段代码使用 双重 for 循环 计算 f(x, y)，每次计算 单个数值对 (x[i], y[j])。\n",
        "计算量 = 80 × 80 = 6400 次函数调用，即便 f 被 JIT 编译，仍然很慢。"
      ],
      "metadata": {
        "id": "nGxUWoA2AK5Y"
      },
      "id": "nGxUWoA2AK5Y"
    },
    {
      "cell_type": "markdown",
      "id": "4fda4dc0",
      "metadata": {
        "id": "4fda4dc0"
      },
      "source": [
        "Even for this very small grid, the run time is extremely slow.\n",
        "\n",
        "(Notice that we used a NumPy array for `z_loops` because we wanted to write to it.)\n",
        "\n",
        "OK, so how can we do the same operation in vectorized form?\n",
        "\n",
        "If you are new to vectorization, you might guess that we can simply write"
      ]
    },
    {
      "cell_type": "code",
      "execution_count": 20,
      "id": "ad806db0",
      "metadata": {
        "hide-output": false,
        "id": "ad806db0"
      },
      "outputs": [],
      "source": [
        "z_bad = f(x, y)"
      ]
    },
    {
      "cell_type": "markdown",
      "id": "da8f3667",
      "metadata": {
        "id": "da8f3667"
      },
      "source": [
        "But this gives us the wrong result because JAX doesn’t understand the nested for loop."
      ]
    },
    {
      "cell_type": "code",
      "execution_count": 21,
      "id": "8a245bc7",
      "metadata": {
        "hide-output": false,
        "colab": {
          "base_uri": "https://localhost:8080/"
        },
        "id": "8a245bc7",
        "outputId": "c54460b0-0208-4836-9f93-5575f7f6c0a5"
      },
      "outputs": [
        {
          "output_type": "execute_result",
          "data": {
            "text/plain": [
              "(80,)"
            ]
          },
          "metadata": {},
          "execution_count": 21
        }
      ],
      "source": [
        "z_bad.shape"
      ]
    },
    {
      "cell_type": "markdown",
      "id": "b012edc0",
      "metadata": {
        "id": "b012edc0"
      },
      "source": [
        "Here is what we actually wanted:"
      ]
    },
    {
      "cell_type": "code",
      "execution_count": 22,
      "id": "2ffd4b65",
      "metadata": {
        "hide-output": false,
        "colab": {
          "base_uri": "https://localhost:8080/"
        },
        "id": "2ffd4b65",
        "outputId": "8558d4b2-cb39-4417-a421-3e50dabaf8f9"
      },
      "outputs": [
        {
          "output_type": "execute_result",
          "data": {
            "text/plain": [
              "(80, 80)"
            ]
          },
          "metadata": {},
          "execution_count": 22
        }
      ],
      "source": [
        "z_loops.shape"
      ]
    },
    {
      "cell_type": "markdown",
      "id": "1ba0419f",
      "metadata": {
        "id": "1ba0419f"
      },
      "source": [
        "To get the right shape and the correct nested for loop calculation, we can use a `meshgrid` operation designed for this purpose:"
      ]
    },
    {
      "cell_type": "code",
      "execution_count": 23,
      "id": "50d0856f",
      "metadata": {
        "hide-output": false,
        "id": "50d0856f"
      },
      "outputs": [],
      "source": [
        "x_mesh, y_mesh = jnp.meshgrid(x, y)"
      ]
    },
    {
      "cell_type": "markdown",
      "source": [
        "mesh 在英文中的意思是 网格，在编程中，它通常表示 规则排列的点（坐标网格），用于计算二维或三维空间中的函数值。\n",
        "\n",
        "jnp.meshgrid(x, y) 创建二维网格：\n",
        "x_mesh 是 x 复制到 80×80 维数组的行方向版本。\n",
        "y_mesh 是 y 复制到 80×80 维数组的列方向版本。\n",
        "这样 x_mesh[i, j] 和 y_mesh[i, j] 代表了二维网格上的所有 (x, y) 组合。"
      ],
      "metadata": {
        "id": "i1_8IuhUBR-j"
      },
      "id": "i1_8IuhUBR-j"
    },
    {
      "cell_type": "markdown",
      "id": "531ea7cf",
      "metadata": {
        "id": "531ea7cf"
      },
      "source": [
        "Now we get what we want and the execution time is very fast."
      ]
    },
    {
      "cell_type": "code",
      "execution_count": 24,
      "id": "aef7bac3",
      "metadata": {
        "hide-output": false,
        "colab": {
          "base_uri": "https://localhost:8080/"
        },
        "id": "aef7bac3",
        "outputId": "a0fd9b56-17db-4edf-e290-53b453b6ff87"
      },
      "outputs": [
        {
          "output_type": "stream",
          "name": "stdout",
          "text": [
            "CPU times: user 43.3 ms, sys: 1.22 ms, total: 44.6 ms\n",
            "Wall time: 64.9 ms\n"
          ]
        }
      ],
      "source": [
        "%%time\n",
        "z_mesh = f(x_mesh, y_mesh).block_until_ready()"
      ]
    },
    {
      "cell_type": "markdown",
      "id": "2e8051b1",
      "metadata": {
        "id": "2e8051b1"
      },
      "source": [
        "Let’s run again to eliminate compile time."
      ]
    },
    {
      "cell_type": "code",
      "execution_count": 25,
      "id": "a2c82cba",
      "metadata": {
        "hide-output": false,
        "colab": {
          "base_uri": "https://localhost:8080/"
        },
        "id": "a2c82cba",
        "outputId": "9c14f633-eff7-4e51-f671-44ff5d94db6d"
      },
      "outputs": [
        {
          "output_type": "stream",
          "name": "stdout",
          "text": [
            "CPU times: user 905 µs, sys: 0 ns, total: 905 µs\n",
            "Wall time: 588 µs\n"
          ]
        }
      ],
      "source": [
        "%%time\n",
        "z_mesh = f(x_mesh, y_mesh).block_until_ready()"
      ]
    },
    {
      "cell_type": "markdown",
      "id": "06358b25",
      "metadata": {
        "id": "06358b25"
      },
      "source": [
        "Let’s confirm that we got the right answer."
      ]
    },
    {
      "cell_type": "code",
      "execution_count": 26,
      "id": "00adefe3",
      "metadata": {
        "hide-output": false,
        "colab": {
          "base_uri": "https://localhost:8080/"
        },
        "id": "00adefe3",
        "outputId": "e03e29b9-8537-444c-ab05-cf461d904e5a"
      },
      "outputs": [
        {
          "output_type": "execute_result",
          "data": {
            "text/plain": [
              "Array(True, dtype=bool)"
            ]
          },
          "metadata": {},
          "execution_count": 26
        }
      ],
      "source": [
        "jnp.allclose(z_mesh, z_loops)"
      ]
    },
    {
      "cell_type": "markdown",
      "id": "b5b50471",
      "metadata": {
        "id": "b5b50471"
      },
      "source": [
        "Now we can set up a serious grid and run the same calculation (on the larger grid) in a short amount of time."
      ]
    },
    {
      "cell_type": "code",
      "execution_count": 27,
      "id": "e037a871",
      "metadata": {
        "hide-output": false,
        "id": "e037a871"
      },
      "outputs": [],
      "source": [
        "n = 6000\n",
        "x = jnp.linspace(-2, 2, n)\n",
        "y = x\n",
        "x_mesh, y_mesh = jnp.meshgrid(x, y)"
      ]
    },
    {
      "cell_type": "code",
      "execution_count": 28,
      "id": "02030563",
      "metadata": {
        "hide-output": false,
        "colab": {
          "base_uri": "https://localhost:8080/"
        },
        "id": "02030563",
        "outputId": "122a577c-479d-4bcc-b973-13e095aade60"
      },
      "outputs": [
        {
          "output_type": "stream",
          "name": "stdout",
          "text": [
            "CPU times: user 42.2 ms, sys: 881 µs, total: 43 ms\n",
            "Wall time: 43.1 ms\n"
          ]
        }
      ],
      "source": [
        "%%time\n",
        "z_mesh = f(x_mesh, y_mesh).block_until_ready()"
      ]
    },
    {
      "cell_type": "markdown",
      "source": [
        " Wall Time（墙上时间）\n",
        "Wall Time（挂钟时间）指的是从代码开始执行到结束所经历的真实时间，包括：\n",
        "代码运行的时间\n",
        "等待时间（比如 I/O 操作、网络请求、数据传输）\n",
        "并行计算（如果计算在多个 CPU/GPU 核心上并行运行）\n",
        "\n",
        " CPU Time（CPU 计算时间）\n",
        "CPU Time 是 CPU 真实执行计算所花费的时间，不包括等待时间或并行计算带来的优化。\n",
        "在 多线程 或 GPU 加速 的情况下，CPU Time 可能小于 Wall Time，因为计算可能分配到多个核心或 GPU 进行并行处理。"
      ],
      "metadata": {
        "id": "UfBwUNMJCobo"
      },
      "id": "UfBwUNMJCobo"
    },
    {
      "cell_type": "markdown",
      "id": "fb7c89bf",
      "metadata": {
        "id": "fb7c89bf"
      },
      "source": [
        "Let’s run again to get rid of compile time."
      ]
    },
    {
      "cell_type": "code",
      "execution_count": 29,
      "id": "45135240",
      "metadata": {
        "hide-output": false,
        "colab": {
          "base_uri": "https://localhost:8080/"
        },
        "id": "45135240",
        "outputId": "c5af472a-2d41-4d3f-dccb-d80ceb1293c5"
      },
      "outputs": [
        {
          "output_type": "stream",
          "name": "stdout",
          "text": [
            "CPU times: user 487 µs, sys: 754 µs, total: 1.24 ms\n",
            "Wall time: 2.06 ms\n"
          ]
        }
      ],
      "source": [
        "%%time\n",
        "z_mesh = f(x_mesh, y_mesh).block_until_ready()"
      ]
    },
    {
      "cell_type": "markdown",
      "id": "d735cd54",
      "metadata": {
        "id": "d735cd54"
      },
      "source": [
        "But there is one problem here: the mesh grids use a lot of memory."
      ]
    },
    {
      "cell_type": "code",
      "execution_count": 30,
      "id": "db8dc471",
      "metadata": {
        "hide-output": false,
        "colab": {
          "base_uri": "https://localhost:8080/"
        },
        "id": "db8dc471",
        "outputId": "cdcf862c-af37-4b44-a471-e9f88cceb327"
      },
      "outputs": [
        {
          "output_type": "execute_result",
          "data": {
            "text/plain": [
              "288000000"
            ]
          },
          "metadata": {},
          "execution_count": 30
        }
      ],
      "source": [
        "x_mesh.nbytes + y_mesh.nbytes"
      ]
    },
    {
      "cell_type": "markdown",
      "source": [
        "meshgrid 生成 两个 6000×6000 的矩阵：\n",
        "\n",
        "x_mesh.shape = (6000, 6000)\n",
        "\n",
        "y_mesh.shape = (6000, 6000)\n",
        "\n",
        "假设数据类型为 float32（每个数占 4 字节）：\n",
        "\n",
        "6000 × 6000 × 4 bytes = 144,000,000 bytes（144MB）\n",
        "\n",
        "x_mesh + y_mesh = 144MB + 144MB = 288MB"
      ],
      "metadata": {
        "id": "jwvWFWTkC1qz"
      },
      "id": "jwvWFWTkC1qz"
    },
    {
      "cell_type": "markdown",
      "id": "a28cea35",
      "metadata": {
        "id": "a28cea35"
      },
      "source": [
        "By comparison, the flat array `x` is just"
      ]
    },
    {
      "cell_type": "code",
      "execution_count": 31,
      "id": "a7eb7d41",
      "metadata": {
        "hide-output": false,
        "colab": {
          "base_uri": "https://localhost:8080/"
        },
        "id": "a7eb7d41",
        "outputId": "9ac37a79-c0ab-4225-a8d5-f8e6aebad75b"
      },
      "outputs": [
        {
          "output_type": "execute_result",
          "data": {
            "text/plain": [
              "24000"
            ]
          },
          "metadata": {},
          "execution_count": 31
        }
      ],
      "source": [
        "x.nbytes  # and y is just a pointer to x"
      ]
    },
    {
      "cell_type": "markdown",
      "id": "3f32dfcb",
      "metadata": {
        "id": "3f32dfcb"
      },
      "source": [
        "This extra memory usage can be a big problem in actual research calculations.\n",
        "\n",
        "So let’s try a different approach using [jax.vmap](https://jax.readthedocs.io/en/latest/_autosummary/jax.vmap.html)\n",
        "\n",
        "First we vectorize `f` in `y`."
      ]
    },
    {
      "cell_type": "code",
      "execution_count": 33,
      "id": "a20f1233",
      "metadata": {
        "hide-output": false,
        "id": "a20f1233"
      },
      "outputs": [],
      "source": [
        "f_vec_y = jax.vmap(f, in_axes=(None, 0))"
      ]
    },
    {
      "cell_type": "markdown",
      "source": [
        "jax.vmap() 自动向量化函数 f，避免使用 for 循环。\n",
        "\n",
        "in_axes=(None, 0) 的意思：\n",
        "\n",
        "None → x 保持不变（作为标量）。\n",
        "0 → y 变成一个向量（遍历 y 数组）。\n",
        "\n",
        "效果：现在 f_vec_y(x, y) 可以一次性计算所有 y 值，而 x 仍然是一个单个数。"
      ],
      "metadata": {
        "id": "1zpZjTPKDRSx"
      },
      "id": "1zpZjTPKDRSx"
    },
    {
      "cell_type": "markdown",
      "id": "48e94b0b",
      "metadata": {
        "id": "48e94b0b"
      },
      "source": [
        "In the line above, `(None, 0)` indicates that we are vectorizing in the second argument, which is `y`.\n",
        "\n",
        "Next, we vectorize in the first argument, which is `x`."
      ]
    },
    {
      "cell_type": "code",
      "execution_count": 34,
      "id": "0c3738c6",
      "metadata": {
        "hide-output": false,
        "id": "0c3738c6"
      },
      "outputs": [],
      "source": [
        "f_vec = jax.vmap(f_vec_y, in_axes=(0, None))"
      ]
    },
    {
      "cell_type": "markdown",
      "id": "e73e5c73",
      "metadata": {
        "id": "e73e5c73"
      },
      "source": [
        "With this construction, we can now call the function $ f $ on flat (low memory) arrays."
      ]
    },
    {
      "cell_type": "code",
      "execution_count": 35,
      "id": "1ce1fa0f",
      "metadata": {
        "hide-output": false,
        "colab": {
          "base_uri": "https://localhost:8080/"
        },
        "id": "1ce1fa0f",
        "outputId": "096e6e09-dabe-43dd-d6b7-e0f74fa2aabe"
      },
      "outputs": [
        {
          "output_type": "stream",
          "name": "stdout",
          "text": [
            "CPU times: user 44.5 ms, sys: 1.84 ms, total: 46.3 ms\n",
            "Wall time: 66.9 ms\n"
          ]
        }
      ],
      "source": [
        "%%time\n",
        "z_vmap = f_vec(x, y).block_until_ready()"
      ]
    },
    {
      "cell_type": "markdown",
      "id": "94fd15ec",
      "metadata": {
        "id": "94fd15ec"
      },
      "source": [
        "We run it again to eliminate compile time."
      ]
    },
    {
      "cell_type": "code",
      "execution_count": 36,
      "id": "0192f1ab",
      "metadata": {
        "hide-output": false,
        "colab": {
          "base_uri": "https://localhost:8080/"
        },
        "id": "0192f1ab",
        "outputId": "88b3b0b7-26e8-4e55-a956-47b456e14da9"
      },
      "outputs": [
        {
          "output_type": "stream",
          "name": "stdout",
          "text": [
            "CPU times: user 2.03 ms, sys: 0 ns, total: 2.03 ms\n",
            "Wall time: 2.88 ms\n"
          ]
        }
      ],
      "source": [
        "%%time\n",
        "z_vmap = f_vec(x, y).block_until_ready()"
      ]
    },
    {
      "cell_type": "markdown",
      "id": "29a9abe2",
      "metadata": {
        "id": "29a9abe2"
      },
      "source": [
        "The execution time is essentially the same as the mesh operation but we are using much less memory.\n",
        "\n",
        "And we produce the correct answer:"
      ]
    },
    {
      "cell_type": "code",
      "execution_count": 37,
      "id": "93d45bb8",
      "metadata": {
        "hide-output": false,
        "colab": {
          "base_uri": "https://localhost:8080/"
        },
        "id": "93d45bb8",
        "outputId": "df3ffd80-6a63-4154-dd6b-725137be8c11"
      },
      "outputs": [
        {
          "output_type": "execute_result",
          "data": {
            "text/plain": [
              "Array(True, dtype=bool)"
            ]
          },
          "metadata": {},
          "execution_count": 37
        }
      ],
      "source": [
        "jnp.allclose(z_vmap, z_mesh)"
      ]
    },
    {
      "cell_type": "markdown",
      "source": [
        "z_mesh 是 meshgrid 方法计算的结果。\n",
        "z_vmap 是 vmap\n",
        "\n",
        "jnp.allclose() 检查两者是否几乎相等（允许小误差）。\n",
        "如果返回 True，说明 jax.vmap() 计算的结果与 meshgrid 一致。"
      ],
      "metadata": {
        "id": "ZfggsY7uD820"
      },
      "id": "ZfggsY7uD820"
    },
    {
      "cell_type": "markdown",
      "id": "1d522703",
      "metadata": {
        "id": "1d522703"
      },
      "source": [
        "## Exercises"
      ]
    },
    {
      "cell_type": "markdown",
      "id": "a93a05e2",
      "metadata": {
        "id": "a93a05e2"
      },
      "source": [
        "## Exercise 2.1\n",
        "\n",
        "In the Exercise section of [a lecture on Numba and parallelization](https://python-programming.quantecon.org/parallelization.html), we used Monte Carlo to price a European call option.\n",
        "\n",
        "The code was accelerated by Numba-based multithreading.\n",
        "\n",
        "Try writing a version of this operation for JAX, using all the same\n",
        "parameters.\n",
        "\n",
        "If you are running your code on a GPU, you should be able to achieve\n",
        "significantly faster execution."
      ]
    },
    {
      "cell_type": "markdown",
      "source": [
        "## **欧式看涨期权（European Call Option）定价原理**\n",
        "\n",
        "你可以把 **期权（Option）** 理解为一种 **金融合约**，它赋予持有者在 **未来特定时间** 以 **固定价格** 购买某资产的权利（但不是义务）。\n",
        "\n",
        "---\n",
        "\n",
        "## **1. 欧式看涨期权的基本规则**\n",
        "\n",
        "- 持有者在**到期日 \\(T\\)** 时，**有权以固定价格 \\(K\\) 购买** 标的资产（如股票）。\n",
        "- **收益取决于** 到期时 **资产价格 \\( S_T \\)** 和 **执行价 \\( K \\)** 的对比：\n",
        "  - **如果 \\( S_T > K \\)**：买方可以低价买入股票，然后立即在市场上卖出，获得 **收益 \\( S_T - K \\)**。\n",
        "  - **如果 \\( S_T \\leq K \\)**：买方不会行权，期权变为 **零价值**。\n",
        "  \n",
        "因此，**期权的价值（到期日的支付）是**：\n",
        "\n",
        "\\[\n",
        "\\max(S_T - K, 0)\n",
        "\\]\n",
        "\n",
        "例如：\n",
        "- \\( S_T = 120, K = 100 \\) → 期权价值 \\( 120 - 100 = 20 \\)\n",
        "- \\( S_T = 90, K = 100 \\) → 期权价值 \\( 0 \\)（因买入价高于市场价）\n",
        "\n",
        "---\n",
        "\n",
        "## **2. 期权的定价公式**\n",
        "\n",
        "我们需要知道这个期权 **今天** 的价值 \\( V_0 \\)，但问题是：\n",
        "1. **未来的资产价格 \\( S_T \\) 是不确定的**，因为股票价格是随机变化的。\n",
        "2. **期权的价值是未来的不确定收益，我们需要计算它的“合理”价格。**\n",
        "\n",
        "根据金融定价理论：\n",
        "\n",
        "$$\n",
        "P = \\beta^n \\mathbb E \\max\\{ S_n - K, 0 \\}\n",
        "$$\n",
        "\n",
        "其中：\n",
        "- \\( \\mathbb{E}[\\cdot] \\) 表示对 **未来资产价格 \\( S_T \\) 进行期望计算**（即考虑各种可能的市场情况）。\n",
        "- \\( \\beta^n \\) 是 **折现因子**，因为未来的钱比今天的价值低（比如 1 年后的 100 块钱 < 今天的 100 块钱）。\n",
        "- 这个期望 \\( \\mathbb{E}[\\max(S_T - K, 0)] \\) **是核心**，我们要计算它的值。\n",
        "\n",
        "---\n",
        "\n",
        "## **3. 为什么可以用蒙特卡洛方法？**\n",
        "\n",
        "现实中，股票价格的变化是随机的，我们无法准确预测 **未来的 \\( S_T \\)**，所以 **用蒙特卡洛模拟大量可能的未来价格**，然后计算它们的平均值！\n",
        "\n",
        "具体步骤：\n",
        "\n",
        "1. **用数学模型模拟资产价格**：\n",
        "   - 设定初始价格 \\( S_0 \\)。\n",
        "   - 让价格 **随机变化**，模拟 **n=20** 天后的价格 \\( S_T \\)。\n",
        "   - 进行 **1000 万次模拟**，得到 **1000 万个不同的 \\( S_T \\)**。\n",
        "\n",
        "2. **计算每次模拟的期权收益**：\n",
        "   - 如果 \\( S_T > K \\)，收益是 \\( S_T - K \\)。\n",
        "   - 如果 \\( S_T \\leq K \\)，收益是 0。\n",
        "\n",
        "3. **求所有模拟的期望值**：\n",
        "   - 计算所有收益的 **平均值**。\n",
        "   - **折现回今天的价值**（因为未来的钱要打折）。\n",
        "$$\n",
        "V_0 = \\beta^n \\times \\frac{1}{M} \\sum_{i=1}^{M} \\max(S_{T,i} - K, 0)\n",
        "$$\n",
        "\n",
        "---\n",
        "\n",
        "## **4. 代码如何实现？**\n",
        "\n",
        "### **(1) 资产价格的模拟**\n",
        "```python\n",
        "s = np.log(S0)  # 取对数价格\n",
        "h = h0  # 初始波动率\n",
        "\n",
        "# 逐步模拟价格路径\n",
        "for t in range(n):\n",
        "    s = s + μ + np.exp(h) * randn()\n",
        "    h = ρ * h + ν * randn()\n",
        "```\n",
        "这部分代码模拟 **从 \\( S_0 \\) 变化到 \\( S_T \\)** 的 20 个时间步：\n",
        "- `randn()` 生成正态分布随机数，让价格 **随机波动**。\n",
        "- `exp(h) * randn()` 让价格变化幅度 **受波动率 h 影响**（类似市场的波动性）。\n",
        "- `ρ * h + ν * randn()` 让波动率 `h` 也发生随机变化（符合现实市场）。\n",
        "\n",
        "最终，我们得到了 **某次模拟下的 \\( S_T \\)**。\n",
        "\n",
        "---\n",
        "\n",
        "### **(2) 计算期权价值**\n",
        "```python\n",
        "current_sum += np.maximum(np.exp(s) - K, 0)\n",
        "```\n",
        "- **计算 \\( S_T = e^s \\)**（对数变换回原值）。\n",
        "- **计算看涨期权的收益**：如果 \\( S_T > K \\)，收益是 \\( S_T - K \\)；否则是 0。\n",
        "\n",
        "---\n",
        "\n",
        "### **(3) 计算期权的理论价格**\n",
        "```python\n",
        "return β**n * current_sum / M\n",
        "```\n",
        "- **求所有模拟结果的平均值**（相当于 \\( \\mathbb{E}[\\max(S_T - K, 0)] \\)）。\n",
        "- **乘以折现因子 \\( \\beta^n \\)**，得到今天的价格 \\( V_0 \\)。\n",
        "\n",
        "---\n",
        "\n",
        "## **5. 为什么并行计算可以加速？**\n",
        "\n",
        "- 每条模拟路径 **是完全独立的**，它们之间没有任何关联。\n",
        "- `prange(M)` 让 CPU 并行计算多个路径，比如 4 核 CPU 可以 **并行计算 4 组路径**，减少计算时间。\n",
        "\n",
        "---\n",
        "\n",
        "## **6. 关键总结**\n",
        " **蒙特卡洛方法** 通过模拟 **大量未来可能的资产价格**，然后计算期权收益的期望值。\n",
        "**资产价格是随机的**，所以不能用确定性方法，而是用随机模拟。\n",
        "**并行计算加速**：\n",
        "   - 每条路径**独立计算**，适合 `prange` 并行处理。\n",
        "   - `@njit(parallel=True)` 让 `Numba` 自动分配多个 CPU 线程，提高计算速度。\n",
        "**现实应用**：\n",
        "   - 这种方法用于 **计算衍生品定价**，比如股票期权、外汇期权等。\n",
        "   - 适用于 **市场模拟、风险管理、资产配置** 等金融工程应用。\n",
        "\n"
      ],
      "metadata": {
        "id": "aJ-gcz-xIjki"
      },
      "id": "aJ-gcz-xIjki"
    },
    {
      "cell_type": "markdown",
      "id": "273d56b9",
      "metadata": {
        "id": "273d56b9"
      },
      "source": [
        "## Solution to[ Exercise 2.1](https://jax.quantecon.org/#jax_intro_ex2)\n",
        "\n",
        "Here is one solution:"
      ]
    },
    {
      "cell_type": "code",
      "execution_count": 38,
      "id": "0703ecfb",
      "metadata": {
        "hide-output": false,
        "id": "0703ecfb"
      },
      "outputs": [],
      "source": [
        "M = 10_000_000\n",
        "\n",
        "n, β, K = 20, 0.99, 100\n",
        "μ, ρ, ν, S0, h0 = 0.0001, 0.1, 0.001, 10, 0\n",
        "\n",
        "@jax.jit\n",
        "def compute_call_price_jax(β=β,\n",
        "                           μ=μ,\n",
        "                           S0=S0,\n",
        "                           h0=h0,\n",
        "                           K=K,\n",
        "                           n=n,\n",
        "                           ρ=ρ,\n",
        "                           ν=ν,\n",
        "                           M=M,\n",
        "                           key=jax.random.PRNGKey(1)):\n",
        "\n",
        "    s = jnp.full(M, np.log(S0))\n",
        "    h = jnp.full(M, h0)\n",
        "    for t in range(n):\n",
        "        key, subkey = jax.random.split(key)\n",
        "        Z = jax.random.normal(subkey, (2, M))\n",
        "        s = s + μ + jnp.exp(h) * Z[0, :]\n",
        "        h = ρ * h + ν * Z[1, :]\n",
        "    expectation = jnp.mean(jnp.maximum(jnp.exp(s) - K, 0))\n",
        "\n",
        "    return β**n * expectation"
      ]
    },
    {
      "cell_type": "markdown",
      "source": [
        "s = jnp.full(M, np.log(S0))：\n",
        "s 是 对数价格路径（用 log(S0) 作为起始值）。\n",
        "M=10_000_000，表示同时模拟 1000 万条价格路径。\n",
        "\n",
        "h = jnp.full(M, h0)：\n",
        "h 是 波动率路径（从 h0=0 开始）。\n",
        "\n",
        "这个 for 循环 模拟了 n=20 天后的资产价格。\n",
        "\n",
        "jax.random.split(key) 生成新的随机种子，保证每次模拟的随机性。\n",
        "\n",
        "Z = jax.random.normal(subkey, (2, M))：\n",
        "生成两个标准正态分布的随机变量：\n",
        "\n",
        "- Z[0, :] 影响价格st\n",
        "\n",
        "- Z[1, :] 影响波动率ht"
      ],
      "metadata": {
        "id": "SEX5zyroKhQ9"
      },
      "id": "SEX5zyroKhQ9"
    },
    {
      "cell_type": "markdown",
      "id": "ec0b1cee",
      "metadata": {
        "id": "ec0b1cee"
      },
      "source": [
        "Let’s run it once to compile it:"
      ]
    },
    {
      "cell_type": "code",
      "execution_count": null,
      "id": "0f145479",
      "metadata": {
        "hide-output": false,
        "id": "0f145479"
      },
      "outputs": [],
      "source": [
        "%%time\n",
        "compute_call_price_jax().block_until_ready()"
      ]
    },
    {
      "cell_type": "markdown",
      "id": "57662dd9",
      "metadata": {
        "id": "57662dd9"
      },
      "source": [
        "And now let’s time it:"
      ]
    },
    {
      "cell_type": "code",
      "execution_count": null,
      "id": "fb3c3e41",
      "metadata": {
        "hide-output": false,
        "id": "fb3c3e41"
      },
      "outputs": [],
      "source": [
        "%%time\n",
        "compute_call_price_jax().block_until_ready()"
      ]
    },
    {
      "cell_type": "code",
      "source": [
        "原本不用jax的代码：\n",
        "from numpy.random import randn\n",
        "M = 10_000_000\n",
        "\n",
        "n, β, K = 20, 0.99, 100\n",
        "μ, ρ, ν, S0, h0 = 0.0001, 0.1, 0.001, 10, 0\n",
        "\n",
        "@njit(parallel=True)\n",
        "def compute_call_price_parallel(β=β,\n",
        "                                μ=μ,\n",
        "                                S0=S0,\n",
        "                                h0=h0,\n",
        "                                K=K,\n",
        "                                n=n,\n",
        "                                ρ=ρ,\n",
        "                                ν=ν,\n",
        "                                M=M):\n",
        "    current_sum = 0.0\n",
        "    # For each sample path\n",
        "    for m in prange(M):\n",
        "        s = np.log(S0)\n",
        "        h = h0\n",
        "        # Simulate forward in time\n",
        "        for t in range(n):\n",
        "            s = s + μ + np.exp(h) * randn()\n",
        "            h = ρ * h + ν * randn()\n",
        "        # And add the value max{S_n - K, 0} to current_sum\n",
        "        current_sum += np.maximum(np.exp(s) - K, 0)\n",
        "\n",
        "    return β**n * current_sum / M"
      ],
      "metadata": {
        "id": "d9qSLyRhMa-a"
      },
      "id": "d9qSLyRhMa-a",
      "execution_count": null,
      "outputs": []
    },
    {
      "cell_type": "markdown",
      "source": [
        "# **JAX vs Numba：蒙特卡洛期权定价的实现对比**\n",
        "\n",
        "这两段代码都用于 **蒙特卡洛方法（Monte Carlo Method）** 计算 **欧式看涨期权（European Call Option）的价格**，但它们采用了 **不同的并行计算方法**，分别是 **JAX（支持 GPU/TPU 加速）** 和 **Numba（支持 CPU 多线程并行）**。\n",
        "\n",
        "---\n",
        "\n",
        "## **1. 主要区别**\n",
        "| **特性** | **JAX 版本** | **Numba 版本** |\n",
        "|----------|-------------|--------------|\n",
        "| **并行计算方式** | 使用 **JAX** 和 **XLA** 进行 **GPU/TPU 加速** | 使用 **Numba（@njit(parallel=True)）** 进行 **CPU 多线程计算** |\n",
        "| **随机数生成** | `jax.random` 生成伪随机数，确保并行计算的一致性 | `numpy.random.randn()` 生成标准正态分布随机数 |\n",
        "| **循环结构** | `for` 循环仍然存在，但依赖 `jax.jit` 进行优化 | `prange()` 让 NumPy 代码 **在 CPU 上并行执行** |\n",
        "| **自动求导** | JAX 可以用于 **梯度计算**，如果需要 | Numba 不支持自动求导 |\n",
        "| **矩阵运算** | `jnp`（JAX 数组）可以利用 GPU/TPU | `numpy`（NumPy 数组）只能使用 CPU |\n",
        "\n",
        "---\n",
        "\n",
        "## **2. 代码解析**\n",
        "### **(1) 期权定价公式**\n",
        "欧式看涨期权的价值由以下公式计算：\n",
        "\n",
        "$$\n",
        "C = e^{-\\beta n} \\mathbb{E} \\left[ \\max(S_n - K, 0) \\right]\n",
        "$$\n",
        "\n",
        "其中：\n",
        "- \\( \\beta \\) 是贴现因子\n",
        "- \\( n \\) 是期权到期时间\n",
        "- \\( K \\) 是行权价\n",
        "- \\( S_n \\) 是到期时的资产价格\n",
        "- \\( \\mathbb{E} \\) 代表期望\n",
        "\n",
        "在 JAX 和 Numba 版本中，我们都使用 **蒙特卡洛模拟** 来估计这个期望值。\n",
        "\n",
        "---\n",
        "\n",
        "### **(2) 资产价格模拟**\n",
        "资产价格的随机过程为：\n",
        "\n",
        "$$\n",
        "s_{t+1} = s_t + \\mu + e^{h_t} Z_{t,1}\n",
        "$$\n",
        "\n",
        "$$\n",
        "h_{t+1} = \\rho h_t + \\nu Z_{t,2}\n",
        "$$\n",
        "\n",
        "其中：\n",
        "- \\( s_t = \\log S_t \\) 是资产对数价格\n",
        "- \\( h_t \\) 是波动率因子\n",
        "- \\( Z_{t,1}, Z_{t,2} \\sim N(0,1) \\) 是标准正态分布的随机数\n",
        "- \\( \\mu, \\rho, \\nu \\) 是模型参数\n",
        "\n"
      ],
      "metadata": {
        "id": "yAcXk7yhNhQ2"
      },
      "id": "yAcXk7yhNhQ2"
    }
  ],
  "metadata": {
    "date": 1732064317.8440175,
    "filename": "jax_intro.md",
    "kernelspec": {
      "display_name": "Python 3",
      "name": "python3"
    },
    "title": "An Introduction to JAX",
    "colab": {
      "provenance": [],
      "toc_visible": true,
      "gpuType": "T4"
    },
    "accelerator": "GPU"
  },
  "nbformat": 4,
  "nbformat_minor": 5
}